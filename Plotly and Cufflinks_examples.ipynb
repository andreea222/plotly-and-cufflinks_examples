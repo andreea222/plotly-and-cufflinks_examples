{
 "cells": [
  {
   "cell_type": "markdown",
   "metadata": {},
   "source": [
    "Plotly is a library that allows you to create interactive plots that you can use in dashboards or websites (you can save them as html files or static images).\n",
    "\n",
    "## Installation\n",
    "\n",
    "In order for this all to work, you'll need to install plotly and cufflinks to call plots directly off of a pandas dataframe. These libraries are not currently available through **conda** but are available through **pip**. Install the libraries at your command line/terminal using:\n",
    "\n",
    "    pip install plotly\n",
    "    pip install cufflinks\n",
    "\n",
    "** NOTE: Make sure you only have one installation of Python on your computer when you do this, otherwise the installation may not work. **\n",
    "\n",
    "## Imports and Set-up"
   ]
  },
  {
   "cell_type": "code",
   "execution_count": 1,
   "metadata": {},
   "outputs": [],
   "source": [
    "import pandas as pd\n",
    "import numpy as np\n",
    "%matplotlib inline"
   ]
  },
  {
   "cell_type": "code",
   "execution_count": 2,
   "metadata": {},
   "outputs": [
    {
     "name": "stdout",
     "output_type": "stream",
     "text": [
      "4.3.0\n"
     ]
    }
   ],
   "source": [
    "from plotly import __version__\n",
    "from plotly.offline import download_plotlyjs, init_notebook_mode, plot, iplot\n",
    "\n",
    "print(__version__) # requires version >= 1.9.0"
   ]
  },
  {
   "cell_type": "code",
   "execution_count": 3,
   "metadata": {},
   "outputs": [],
   "source": [
    "import cufflinks as cf"
   ]
  },
  {
   "cell_type": "code",
   "execution_count": 4,
   "metadata": {},
   "outputs": [
    {
     "data": {
      "text/html": [
       "        <script type=\"text/javascript\">\n",
       "        window.PlotlyConfig = {MathJaxConfig: 'local'};\n",
       "        if (window.MathJax) {MathJax.Hub.Config({SVG: {font: \"STIX-Web\"}});}\n",
       "        if (typeof require !== 'undefined') {\n",
       "        require.undef(\"plotly\");\n",
       "        requirejs.config({\n",
       "            paths: {\n",
       "                'plotly': ['https://cdn.plot.ly/plotly-latest.min']\n",
       "            }\n",
       "        });\n",
       "        require(['plotly'], function(Plotly) {\n",
       "            window._Plotly = Plotly;\n",
       "        });\n",
       "        }\n",
       "        </script>\n",
       "        "
      ]
     },
     "metadata": {},
     "output_type": "display_data"
    }
   ],
   "source": [
    "# For Notebooks\n",
    "init_notebook_mode(connected=True)"
   ]
  },
  {
   "cell_type": "code",
   "execution_count": 5,
   "metadata": {},
   "outputs": [
    {
     "data": {
      "text/html": [
       "        <script type=\"text/javascript\">\n",
       "        window.PlotlyConfig = {MathJaxConfig: 'local'};\n",
       "        if (window.MathJax) {MathJax.Hub.Config({SVG: {font: \"STIX-Web\"}});}\n",
       "        if (typeof require !== 'undefined') {\n",
       "        require.undef(\"plotly\");\n",
       "        requirejs.config({\n",
       "            paths: {\n",
       "                'plotly': ['https://cdn.plot.ly/plotly-latest.min']\n",
       "            }\n",
       "        });\n",
       "        require(['plotly'], function(Plotly) {\n",
       "            window._Plotly = Plotly;\n",
       "        });\n",
       "        }\n",
       "        </script>\n",
       "        "
      ]
     },
     "metadata": {},
     "output_type": "display_data"
    }
   ],
   "source": [
    "# For offline use\n",
    "cf.go_offline()"
   ]
  },
  {
   "cell_type": "markdown",
   "metadata": {},
   "source": [
    "### Fake Data"
   ]
  },
  {
   "cell_type": "code",
   "execution_count": 6,
   "metadata": {},
   "outputs": [],
   "source": [
    "df = pd.DataFrame(np.random.randn(100,4),columns='A B C D'.split())"
   ]
  },
  {
   "cell_type": "code",
   "execution_count": 7,
   "metadata": {},
   "outputs": [
    {
     "data": {
      "text/html": [
       "<div>\n",
       "<style scoped>\n",
       "    .dataframe tbody tr th:only-of-type {\n",
       "        vertical-align: middle;\n",
       "    }\n",
       "\n",
       "    .dataframe tbody tr th {\n",
       "        vertical-align: top;\n",
       "    }\n",
       "\n",
       "    .dataframe thead th {\n",
       "        text-align: right;\n",
       "    }\n",
       "</style>\n",
       "<table border=\"1\" class=\"dataframe\">\n",
       "  <thead>\n",
       "    <tr style=\"text-align: right;\">\n",
       "      <th></th>\n",
       "      <th>A</th>\n",
       "      <th>B</th>\n",
       "      <th>C</th>\n",
       "      <th>D</th>\n",
       "    </tr>\n",
       "  </thead>\n",
       "  <tbody>\n",
       "    <tr>\n",
       "      <td>0</td>\n",
       "      <td>-1.184037</td>\n",
       "      <td>0.774857</td>\n",
       "      <td>-0.130751</td>\n",
       "      <td>-0.310923</td>\n",
       "    </tr>\n",
       "    <tr>\n",
       "      <td>1</td>\n",
       "      <td>-1.838113</td>\n",
       "      <td>-0.849106</td>\n",
       "      <td>-1.976635</td>\n",
       "      <td>-0.044358</td>\n",
       "    </tr>\n",
       "    <tr>\n",
       "      <td>2</td>\n",
       "      <td>-0.727728</td>\n",
       "      <td>0.691461</td>\n",
       "      <td>2.359391</td>\n",
       "      <td>1.771635</td>\n",
       "    </tr>\n",
       "    <tr>\n",
       "      <td>3</td>\n",
       "      <td>-0.028971</td>\n",
       "      <td>1.175288</td>\n",
       "      <td>0.332485</td>\n",
       "      <td>-1.049368</td>\n",
       "    </tr>\n",
       "    <tr>\n",
       "      <td>4</td>\n",
       "      <td>0.825450</td>\n",
       "      <td>0.416274</td>\n",
       "      <td>1.931913</td>\n",
       "      <td>-1.066590</td>\n",
       "    </tr>\n",
       "  </tbody>\n",
       "</table>\n",
       "</div>"
      ],
      "text/plain": [
       "          A         B         C         D\n",
       "0 -1.184037  0.774857 -0.130751 -0.310923\n",
       "1 -1.838113 -0.849106 -1.976635 -0.044358\n",
       "2 -0.727728  0.691461  2.359391  1.771635\n",
       "3 -0.028971  1.175288  0.332485 -1.049368\n",
       "4  0.825450  0.416274  1.931913 -1.066590"
      ]
     },
     "execution_count": 7,
     "metadata": {},
     "output_type": "execute_result"
    }
   ],
   "source": [
    "df.head()"
   ]
  },
  {
   "cell_type": "code",
   "execution_count": 8,
   "metadata": {},
   "outputs": [],
   "source": [
    "df2 = pd.DataFrame({'Category':['A','B','C'],'Values':[32,43,50]})"
   ]
  },
  {
   "cell_type": "code",
   "execution_count": 9,
   "metadata": {},
   "outputs": [
    {
     "data": {
      "text/html": [
       "<div>\n",
       "<style scoped>\n",
       "    .dataframe tbody tr th:only-of-type {\n",
       "        vertical-align: middle;\n",
       "    }\n",
       "\n",
       "    .dataframe tbody tr th {\n",
       "        vertical-align: top;\n",
       "    }\n",
       "\n",
       "    .dataframe thead th {\n",
       "        text-align: right;\n",
       "    }\n",
       "</style>\n",
       "<table border=\"1\" class=\"dataframe\">\n",
       "  <thead>\n",
       "    <tr style=\"text-align: right;\">\n",
       "      <th></th>\n",
       "      <th>Category</th>\n",
       "      <th>Values</th>\n",
       "    </tr>\n",
       "  </thead>\n",
       "  <tbody>\n",
       "    <tr>\n",
       "      <td>0</td>\n",
       "      <td>A</td>\n",
       "      <td>32</td>\n",
       "    </tr>\n",
       "    <tr>\n",
       "      <td>1</td>\n",
       "      <td>B</td>\n",
       "      <td>43</td>\n",
       "    </tr>\n",
       "    <tr>\n",
       "      <td>2</td>\n",
       "      <td>C</td>\n",
       "      <td>50</td>\n",
       "    </tr>\n",
       "  </tbody>\n",
       "</table>\n",
       "</div>"
      ],
      "text/plain": [
       "  Category  Values\n",
       "0        A      32\n",
       "1        B      43\n",
       "2        C      50"
      ]
     },
     "execution_count": 9,
     "metadata": {},
     "output_type": "execute_result"
    }
   ],
   "source": [
    "df2.head()"
   ]
  },
  {
   "cell_type": "markdown",
   "metadata": {},
   "source": [
    "## Using Cufflinks and iplot()\n",
    "\n",
    "* scatter\n",
    "* bar\n",
    "* box\n",
    "* spread\n",
    "* ratio\n",
    "* heatmap\n",
    "* surface\n",
    "* histogram\n",
    "* bubble"
   ]
  },
  {
   "cell_type": "markdown",
   "metadata": {},
   "source": [
    "## Scatter"
   ]
  },
  {
   "cell_type": "code",
   "execution_count": 10,
   "metadata": {},
   "outputs": [
    {
     "data": {
      "application/vnd.plotly.v1+json": {
       "config": {
        "linkText": "Export to plot.ly",
        "plotlyServerURL": "https://plot.ly",
        "showLink": true
       },
       "data": [
        {
         "line": {
          "color": "rgba(255, 153, 51, 1.0)",
          "dash": "solid",
          "shape": "linear",
          "width": 1.3
         },
         "marker": {
          "size": 10,
          "symbol": "circle"
         },
         "mode": "markers",
         "name": "B",
         "text": "",
         "type": "scatter",
         "x": [
          -1.1840365621651945,
          -1.8381134858425232,
          -0.7277279334148866,
          -0.028971296517589097,
          0.825450382839014,
          -0.5614608633274173,
          -0.6603089317004062,
          1.6725527210902709,
          -0.2968938241848866,
          -0.7455791661784459,
          -0.9725191265715754,
          -0.17464149117399802,
          0.04597974569488585,
          -0.902823009779421,
          0.6600421623207664,
          -0.1373628365003551,
          -0.19933540675238912,
          2.232844506603289,
          -0.5866449656845658,
          -0.44827422430998215,
          -0.8126261620742526,
          0.3152056930303498,
          -1.5326742515335599,
          -1.3136876285306804,
          0.7465963870088331,
          1.3642850738121695,
          0.6227848343777126,
          0.9740940144969882,
          -0.03274610543656052,
          -0.23648932796707953,
          -0.5207684786746272,
          0.8150690070383287,
          0.8675613689644536,
          0.4620135634840239,
          -0.7926717247669486,
          0.049196575117251874,
          -1.0081977206190973,
          -0.19006178333019064,
          0.16938736014080316,
          1.6216816922631585,
          0.48642387377101337,
          0.6425010555936774,
          -1.63468048016266,
          -1.0470236308252987,
          0.3242329374347403,
          0.0943239920247155,
          0.3577150372212665,
          0.9236731892573657,
          1.6110323640649022,
          -0.042561925631995866,
          -0.43485544242184443,
          -0.8494618434253626,
          -0.8286206654583846,
          0.5324068271400587,
          0.44911904243558154,
          -0.37408960381593065,
          2.286830918685426,
          0.8056634189729108,
          0.611806492535484,
          1.3483873907369872,
          0.8586206478746982,
          -1.864926079553018,
          0.5198523571964471,
          -0.5137922851909704,
          -0.14859213220638998,
          -0.8434697432455353,
          -0.43125185207336814,
          0.32798193925352487,
          -0.9610454413972249,
          0.46050655291944365,
          -0.722804354638819,
          -1.245109552366151,
          -0.10064611244150451,
          0.8032841842806812,
          -1.1676378568872408,
          -2.512415133958864,
          -2.036925165214611,
          0.4414699595223629,
          -2.1978416072993685,
          0.3433106234260381,
          -0.2886576812286424,
          0.3427460539289989,
          0.5997642732764263,
          2.110771985511631,
          -0.6557430487299993,
          -1.172584879204941,
          0.5906194577721403,
          0.4863798984476543,
          -0.5647382607184777,
          -1.636502180160153,
          1.1318533611412398,
          0.346456706099411,
          -0.5009745761701883,
          1.2237802234261634,
          0.7943402042622165,
          0.46825175886511367,
          0.30669243561811416,
          0.6219140841086478,
          -1.5046859448603147,
          -0.5373240621441666
         ],
         "y": [
          0.7748574018350498,
          -0.8491056720735701,
          0.6914611085875526,
          1.1752875372815135,
          0.4162742573571235,
          -0.6952221903678409,
          0.7908201017015961,
          -0.39968184016567027,
          -0.4226151861377561,
          -0.16105722437957612,
          -0.9753539757949506,
          0.5977643273494854,
          -0.8888430599435827,
          0.4494305636804583,
          0.20609210531358196,
          -0.49022300526966706,
          -1.1886750583700814,
          0.2385127198502449,
          1.05249011826461,
          0.4034854022152594,
          -0.0479351953311653,
          0.5285875801575323,
          -0.8975425504391127,
          -0.9332949613409988,
          0.7145846867253706,
          -1.2754180312058925,
          -0.33935108820751164,
          -0.34572951265255847,
          0.8402196474654661,
          1.8579077941247726,
          -0.10545501116095234,
          -0.43029645225787383,
          -1.471009145551944,
          0.018313033612988895,
          0.05863378120340704,
          -0.7481251383861267,
          1.2739284752793545,
          -1.2688830632305381,
          0.04863904155004324,
          0.6590964872389021,
          1.6738927361115674,
          1.1447265427849844,
          0.26804703844199823,
          0.6146962222473003,
          0.8815348744267175,
          0.4152753764475723,
          -1.3748803282110544,
          -0.8555156955454922,
          1.0716946029249914,
          -0.18854674519334236,
          1.6767333881177955,
          0.3250252134387557,
          1.752760184188171,
          0.8348678395347147,
          -0.030014862454295552,
          1.3650079773832526,
          0.5128929565450878,
          0.1773698200047356,
          -0.4971404989716503,
          0.21478254702547728,
          -0.7480145706490767,
          0.5397806554794098,
          -0.5270300252772776,
          0.25976914331856615,
          -0.34787617938088616,
          -1.441248767668745,
          -1.5978719846155973,
          1.8760190283758935,
          2.058786169419131,
          0.04416637128786382,
          -0.11990218115432498,
          -0.32346234697218584,
          0.7587833672465661,
          0.1764232013077506,
          2.3271774971821166,
          -0.025870405639904837,
          -0.29898147778189804,
          0.45503789748310974,
          -0.3557650151783652,
          -0.3476159607705035,
          0.05314676086246436,
          -1.2068805594060426,
          -1.218095609914161,
          -0.605536020423741,
          -0.5639854925951856,
          0.5292292854352497,
          0.5224444059168056,
          -0.34012701139348117,
          0.3409887608709333,
          0.3034569426427565,
          0.02050058661276885,
          0.06559131836346563,
          0.16276827346155767,
          -1.7289045833130687,
          -1.2926726553484278,
          0.3706707209524533,
          -1.1632329413595424,
          -0.8424734722469165,
          -1.3825350305370303,
          0.557764978680726
         ]
        }
       ],
       "layout": {
        "legend": {
         "bgcolor": "#F5F6F9",
         "font": {
          "color": "#4D5663"
         }
        },
        "paper_bgcolor": "#F5F6F9",
        "plot_bgcolor": "#F5F6F9",
        "template": {
         "data": {
          "bar": [
           {
            "error_x": {
             "color": "#2a3f5f"
            },
            "error_y": {
             "color": "#2a3f5f"
            },
            "marker": {
             "line": {
              "color": "#E5ECF6",
              "width": 0.5
             }
            },
            "type": "bar"
           }
          ],
          "barpolar": [
           {
            "marker": {
             "line": {
              "color": "#E5ECF6",
              "width": 0.5
             }
            },
            "type": "barpolar"
           }
          ],
          "carpet": [
           {
            "aaxis": {
             "endlinecolor": "#2a3f5f",
             "gridcolor": "white",
             "linecolor": "white",
             "minorgridcolor": "white",
             "startlinecolor": "#2a3f5f"
            },
            "baxis": {
             "endlinecolor": "#2a3f5f",
             "gridcolor": "white",
             "linecolor": "white",
             "minorgridcolor": "white",
             "startlinecolor": "#2a3f5f"
            },
            "type": "carpet"
           }
          ],
          "choropleth": [
           {
            "colorbar": {
             "outlinewidth": 0,
             "ticks": ""
            },
            "type": "choropleth"
           }
          ],
          "contour": [
           {
            "colorbar": {
             "outlinewidth": 0,
             "ticks": ""
            },
            "colorscale": [
             [
              0,
              "#0d0887"
             ],
             [
              0.1111111111111111,
              "#46039f"
             ],
             [
              0.2222222222222222,
              "#7201a8"
             ],
             [
              0.3333333333333333,
              "#9c179e"
             ],
             [
              0.4444444444444444,
              "#bd3786"
             ],
             [
              0.5555555555555556,
              "#d8576b"
             ],
             [
              0.6666666666666666,
              "#ed7953"
             ],
             [
              0.7777777777777778,
              "#fb9f3a"
             ],
             [
              0.8888888888888888,
              "#fdca26"
             ],
             [
              1,
              "#f0f921"
             ]
            ],
            "type": "contour"
           }
          ],
          "contourcarpet": [
           {
            "colorbar": {
             "outlinewidth": 0,
             "ticks": ""
            },
            "type": "contourcarpet"
           }
          ],
          "heatmap": [
           {
            "colorbar": {
             "outlinewidth": 0,
             "ticks": ""
            },
            "colorscale": [
             [
              0,
              "#0d0887"
             ],
             [
              0.1111111111111111,
              "#46039f"
             ],
             [
              0.2222222222222222,
              "#7201a8"
             ],
             [
              0.3333333333333333,
              "#9c179e"
             ],
             [
              0.4444444444444444,
              "#bd3786"
             ],
             [
              0.5555555555555556,
              "#d8576b"
             ],
             [
              0.6666666666666666,
              "#ed7953"
             ],
             [
              0.7777777777777778,
              "#fb9f3a"
             ],
             [
              0.8888888888888888,
              "#fdca26"
             ],
             [
              1,
              "#f0f921"
             ]
            ],
            "type": "heatmap"
           }
          ],
          "heatmapgl": [
           {
            "colorbar": {
             "outlinewidth": 0,
             "ticks": ""
            },
            "colorscale": [
             [
              0,
              "#0d0887"
             ],
             [
              0.1111111111111111,
              "#46039f"
             ],
             [
              0.2222222222222222,
              "#7201a8"
             ],
             [
              0.3333333333333333,
              "#9c179e"
             ],
             [
              0.4444444444444444,
              "#bd3786"
             ],
             [
              0.5555555555555556,
              "#d8576b"
             ],
             [
              0.6666666666666666,
              "#ed7953"
             ],
             [
              0.7777777777777778,
              "#fb9f3a"
             ],
             [
              0.8888888888888888,
              "#fdca26"
             ],
             [
              1,
              "#f0f921"
             ]
            ],
            "type": "heatmapgl"
           }
          ],
          "histogram": [
           {
            "marker": {
             "colorbar": {
              "outlinewidth": 0,
              "ticks": ""
             }
            },
            "type": "histogram"
           }
          ],
          "histogram2d": [
           {
            "colorbar": {
             "outlinewidth": 0,
             "ticks": ""
            },
            "colorscale": [
             [
              0,
              "#0d0887"
             ],
             [
              0.1111111111111111,
              "#46039f"
             ],
             [
              0.2222222222222222,
              "#7201a8"
             ],
             [
              0.3333333333333333,
              "#9c179e"
             ],
             [
              0.4444444444444444,
              "#bd3786"
             ],
             [
              0.5555555555555556,
              "#d8576b"
             ],
             [
              0.6666666666666666,
              "#ed7953"
             ],
             [
              0.7777777777777778,
              "#fb9f3a"
             ],
             [
              0.8888888888888888,
              "#fdca26"
             ],
             [
              1,
              "#f0f921"
             ]
            ],
            "type": "histogram2d"
           }
          ],
          "histogram2dcontour": [
           {
            "colorbar": {
             "outlinewidth": 0,
             "ticks": ""
            },
            "colorscale": [
             [
              0,
              "#0d0887"
             ],
             [
              0.1111111111111111,
              "#46039f"
             ],
             [
              0.2222222222222222,
              "#7201a8"
             ],
             [
              0.3333333333333333,
              "#9c179e"
             ],
             [
              0.4444444444444444,
              "#bd3786"
             ],
             [
              0.5555555555555556,
              "#d8576b"
             ],
             [
              0.6666666666666666,
              "#ed7953"
             ],
             [
              0.7777777777777778,
              "#fb9f3a"
             ],
             [
              0.8888888888888888,
              "#fdca26"
             ],
             [
              1,
              "#f0f921"
             ]
            ],
            "type": "histogram2dcontour"
           }
          ],
          "mesh3d": [
           {
            "colorbar": {
             "outlinewidth": 0,
             "ticks": ""
            },
            "type": "mesh3d"
           }
          ],
          "parcoords": [
           {
            "line": {
             "colorbar": {
              "outlinewidth": 0,
              "ticks": ""
             }
            },
            "type": "parcoords"
           }
          ],
          "pie": [
           {
            "automargin": true,
            "type": "pie"
           }
          ],
          "scatter": [
           {
            "marker": {
             "colorbar": {
              "outlinewidth": 0,
              "ticks": ""
             }
            },
            "type": "scatter"
           }
          ],
          "scatter3d": [
           {
            "line": {
             "colorbar": {
              "outlinewidth": 0,
              "ticks": ""
             }
            },
            "marker": {
             "colorbar": {
              "outlinewidth": 0,
              "ticks": ""
             }
            },
            "type": "scatter3d"
           }
          ],
          "scattercarpet": [
           {
            "marker": {
             "colorbar": {
              "outlinewidth": 0,
              "ticks": ""
             }
            },
            "type": "scattercarpet"
           }
          ],
          "scattergeo": [
           {
            "marker": {
             "colorbar": {
              "outlinewidth": 0,
              "ticks": ""
             }
            },
            "type": "scattergeo"
           }
          ],
          "scattergl": [
           {
            "marker": {
             "colorbar": {
              "outlinewidth": 0,
              "ticks": ""
             }
            },
            "type": "scattergl"
           }
          ],
          "scattermapbox": [
           {
            "marker": {
             "colorbar": {
              "outlinewidth": 0,
              "ticks": ""
             }
            },
            "type": "scattermapbox"
           }
          ],
          "scatterpolar": [
           {
            "marker": {
             "colorbar": {
              "outlinewidth": 0,
              "ticks": ""
             }
            },
            "type": "scatterpolar"
           }
          ],
          "scatterpolargl": [
           {
            "marker": {
             "colorbar": {
              "outlinewidth": 0,
              "ticks": ""
             }
            },
            "type": "scatterpolargl"
           }
          ],
          "scatterternary": [
           {
            "marker": {
             "colorbar": {
              "outlinewidth": 0,
              "ticks": ""
             }
            },
            "type": "scatterternary"
           }
          ],
          "surface": [
           {
            "colorbar": {
             "outlinewidth": 0,
             "ticks": ""
            },
            "colorscale": [
             [
              0,
              "#0d0887"
             ],
             [
              0.1111111111111111,
              "#46039f"
             ],
             [
              0.2222222222222222,
              "#7201a8"
             ],
             [
              0.3333333333333333,
              "#9c179e"
             ],
             [
              0.4444444444444444,
              "#bd3786"
             ],
             [
              0.5555555555555556,
              "#d8576b"
             ],
             [
              0.6666666666666666,
              "#ed7953"
             ],
             [
              0.7777777777777778,
              "#fb9f3a"
             ],
             [
              0.8888888888888888,
              "#fdca26"
             ],
             [
              1,
              "#f0f921"
             ]
            ],
            "type": "surface"
           }
          ],
          "table": [
           {
            "cells": {
             "fill": {
              "color": "#EBF0F8"
             },
             "line": {
              "color": "white"
             }
            },
            "header": {
             "fill": {
              "color": "#C8D4E3"
             },
             "line": {
              "color": "white"
             }
            },
            "type": "table"
           }
          ]
         },
         "layout": {
          "annotationdefaults": {
           "arrowcolor": "#2a3f5f",
           "arrowhead": 0,
           "arrowwidth": 1
          },
          "coloraxis": {
           "colorbar": {
            "outlinewidth": 0,
            "ticks": ""
           }
          },
          "colorscale": {
           "diverging": [
            [
             0,
             "#8e0152"
            ],
            [
             0.1,
             "#c51b7d"
            ],
            [
             0.2,
             "#de77ae"
            ],
            [
             0.3,
             "#f1b6da"
            ],
            [
             0.4,
             "#fde0ef"
            ],
            [
             0.5,
             "#f7f7f7"
            ],
            [
             0.6,
             "#e6f5d0"
            ],
            [
             0.7,
             "#b8e186"
            ],
            [
             0.8,
             "#7fbc41"
            ],
            [
             0.9,
             "#4d9221"
            ],
            [
             1,
             "#276419"
            ]
           ],
           "sequential": [
            [
             0,
             "#0d0887"
            ],
            [
             0.1111111111111111,
             "#46039f"
            ],
            [
             0.2222222222222222,
             "#7201a8"
            ],
            [
             0.3333333333333333,
             "#9c179e"
            ],
            [
             0.4444444444444444,
             "#bd3786"
            ],
            [
             0.5555555555555556,
             "#d8576b"
            ],
            [
             0.6666666666666666,
             "#ed7953"
            ],
            [
             0.7777777777777778,
             "#fb9f3a"
            ],
            [
             0.8888888888888888,
             "#fdca26"
            ],
            [
             1,
             "#f0f921"
            ]
           ],
           "sequentialminus": [
            [
             0,
             "#0d0887"
            ],
            [
             0.1111111111111111,
             "#46039f"
            ],
            [
             0.2222222222222222,
             "#7201a8"
            ],
            [
             0.3333333333333333,
             "#9c179e"
            ],
            [
             0.4444444444444444,
             "#bd3786"
            ],
            [
             0.5555555555555556,
             "#d8576b"
            ],
            [
             0.6666666666666666,
             "#ed7953"
            ],
            [
             0.7777777777777778,
             "#fb9f3a"
            ],
            [
             0.8888888888888888,
             "#fdca26"
            ],
            [
             1,
             "#f0f921"
            ]
           ]
          },
          "colorway": [
           "#636efa",
           "#EF553B",
           "#00cc96",
           "#ab63fa",
           "#FFA15A",
           "#19d3f3",
           "#FF6692",
           "#B6E880",
           "#FF97FF",
           "#FECB52"
          ],
          "font": {
           "color": "#2a3f5f"
          },
          "geo": {
           "bgcolor": "white",
           "lakecolor": "white",
           "landcolor": "#E5ECF6",
           "showlakes": true,
           "showland": true,
           "subunitcolor": "white"
          },
          "hoverlabel": {
           "align": "left"
          },
          "hovermode": "closest",
          "mapbox": {
           "style": "light"
          },
          "paper_bgcolor": "white",
          "plot_bgcolor": "#E5ECF6",
          "polar": {
           "angularaxis": {
            "gridcolor": "white",
            "linecolor": "white",
            "ticks": ""
           },
           "bgcolor": "#E5ECF6",
           "radialaxis": {
            "gridcolor": "white",
            "linecolor": "white",
            "ticks": ""
           }
          },
          "scene": {
           "xaxis": {
            "backgroundcolor": "#E5ECF6",
            "gridcolor": "white",
            "gridwidth": 2,
            "linecolor": "white",
            "showbackground": true,
            "ticks": "",
            "zerolinecolor": "white"
           },
           "yaxis": {
            "backgroundcolor": "#E5ECF6",
            "gridcolor": "white",
            "gridwidth": 2,
            "linecolor": "white",
            "showbackground": true,
            "ticks": "",
            "zerolinecolor": "white"
           },
           "zaxis": {
            "backgroundcolor": "#E5ECF6",
            "gridcolor": "white",
            "gridwidth": 2,
            "linecolor": "white",
            "showbackground": true,
            "ticks": "",
            "zerolinecolor": "white"
           }
          },
          "shapedefaults": {
           "line": {
            "color": "#2a3f5f"
           }
          },
          "ternary": {
           "aaxis": {
            "gridcolor": "white",
            "linecolor": "white",
            "ticks": ""
           },
           "baxis": {
            "gridcolor": "white",
            "linecolor": "white",
            "ticks": ""
           },
           "bgcolor": "#E5ECF6",
           "caxis": {
            "gridcolor": "white",
            "linecolor": "white",
            "ticks": ""
           }
          },
          "title": {
           "x": 0.05
          },
          "xaxis": {
           "automargin": true,
           "gridcolor": "white",
           "linecolor": "white",
           "ticks": "",
           "title": {
            "standoff": 15
           },
           "zerolinecolor": "white",
           "zerolinewidth": 2
          },
          "yaxis": {
           "automargin": true,
           "gridcolor": "white",
           "linecolor": "white",
           "ticks": "",
           "title": {
            "standoff": 15
           },
           "zerolinecolor": "white",
           "zerolinewidth": 2
          }
         }
        },
        "title": {
         "font": {
          "color": "#4D5663"
         }
        },
        "xaxis": {
         "gridcolor": "#E1E5ED",
         "showgrid": true,
         "tickfont": {
          "color": "#4D5663"
         },
         "title": {
          "font": {
           "color": "#4D5663"
          },
          "text": ""
         },
         "zerolinecolor": "#E1E5ED"
        },
        "yaxis": {
         "gridcolor": "#E1E5ED",
         "showgrid": true,
         "tickfont": {
          "color": "#4D5663"
         },
         "title": {
          "font": {
           "color": "#4D5663"
          },
          "text": ""
         },
         "zerolinecolor": "#E1E5ED"
        }
       }
      },
      "text/html": [
       "<div>\n",
       "        \n",
       "        \n",
       "            <div id=\"6ca25b31-0c49-4fbe-a0f3-0ec059b596b6\" class=\"plotly-graph-div\" style=\"height:525px; width:100%;\"></div>\n",
       "            <script type=\"text/javascript\">\n",
       "                require([\"plotly\"], function(Plotly) {\n",
       "                    window.PLOTLYENV=window.PLOTLYENV || {};\n",
       "                    window.PLOTLYENV.BASE_URL='https://plot.ly';\n",
       "                    \n",
       "                if (document.getElementById(\"6ca25b31-0c49-4fbe-a0f3-0ec059b596b6\")) {\n",
       "                    Plotly.newPlot(\n",
       "                        '6ca25b31-0c49-4fbe-a0f3-0ec059b596b6',\n",
       "                        [{\"line\": {\"color\": \"rgba(255, 153, 51, 1.0)\", \"dash\": \"solid\", \"shape\": \"linear\", \"width\": 1.3}, \"marker\": {\"size\": 10, \"symbol\": \"circle\"}, \"mode\": \"markers\", \"name\": \"B\", \"text\": \"\", \"type\": \"scatter\", \"x\": [-1.1840365621651945, -1.8381134858425232, -0.7277279334148866, -0.028971296517589097, 0.825450382839014, -0.5614608633274173, -0.6603089317004062, 1.6725527210902709, -0.2968938241848866, -0.7455791661784459, -0.9725191265715754, -0.17464149117399802, 0.04597974569488585, -0.902823009779421, 0.6600421623207664, -0.1373628365003551, -0.19933540675238912, 2.232844506603289, -0.5866449656845658, -0.44827422430998215, -0.8126261620742526, 0.3152056930303498, -1.5326742515335599, -1.3136876285306804, 0.7465963870088331, 1.3642850738121695, 0.6227848343777126, 0.9740940144969882, -0.03274610543656052, -0.23648932796707953, -0.5207684786746272, 0.8150690070383287, 0.8675613689644536, 0.4620135634840239, -0.7926717247669486, 0.049196575117251874, -1.0081977206190973, -0.19006178333019064, 0.16938736014080316, 1.6216816922631585, 0.48642387377101337, 0.6425010555936774, -1.63468048016266, -1.0470236308252987, 0.3242329374347403, 0.0943239920247155, 0.3577150372212665, 0.9236731892573657, 1.6110323640649022, -0.042561925631995866, -0.43485544242184443, -0.8494618434253626, -0.8286206654583846, 0.5324068271400587, 0.44911904243558154, -0.37408960381593065, 2.286830918685426, 0.8056634189729108, 0.611806492535484, 1.3483873907369872, 0.8586206478746982, -1.864926079553018, 0.5198523571964471, -0.5137922851909704, -0.14859213220638998, -0.8434697432455353, -0.43125185207336814, 0.32798193925352487, -0.9610454413972249, 0.46050655291944365, -0.722804354638819, -1.245109552366151, -0.10064611244150451, 0.8032841842806812, -1.1676378568872408, -2.512415133958864, -2.036925165214611, 0.4414699595223629, -2.1978416072993685, 0.3433106234260381, -0.2886576812286424, 0.3427460539289989, 0.5997642732764263, 2.110771985511631, -0.6557430487299993, -1.172584879204941, 0.5906194577721403, 0.4863798984476543, -0.5647382607184777, -1.636502180160153, 1.1318533611412398, 0.346456706099411, -0.5009745761701883, 1.2237802234261634, 0.7943402042622165, 0.46825175886511367, 0.30669243561811416, 0.6219140841086478, -1.5046859448603147, -0.5373240621441666], \"y\": [0.7748574018350498, -0.8491056720735701, 0.6914611085875526, 1.1752875372815135, 0.4162742573571235, -0.6952221903678409, 0.7908201017015961, -0.39968184016567027, -0.4226151861377561, -0.16105722437957612, -0.9753539757949506, 0.5977643273494854, -0.8888430599435827, 0.4494305636804583, 0.20609210531358196, -0.49022300526966706, -1.1886750583700814, 0.2385127198502449, 1.05249011826461, 0.4034854022152594, -0.0479351953311653, 0.5285875801575323, -0.8975425504391127, -0.9332949613409988, 0.7145846867253706, -1.2754180312058925, -0.33935108820751164, -0.34572951265255847, 0.8402196474654661, 1.8579077941247726, -0.10545501116095234, -0.43029645225787383, -1.471009145551944, 0.018313033612988895, 0.05863378120340704, -0.7481251383861267, 1.2739284752793545, -1.2688830632305381, 0.04863904155004324, 0.6590964872389021, 1.6738927361115674, 1.1447265427849844, 0.26804703844199823, 0.6146962222473003, 0.8815348744267175, 0.4152753764475723, -1.3748803282110544, -0.8555156955454922, 1.0716946029249914, -0.18854674519334236, 1.6767333881177955, 0.3250252134387557, 1.752760184188171, 0.8348678395347147, -0.030014862454295552, 1.3650079773832526, 0.5128929565450878, 0.1773698200047356, -0.4971404989716503, 0.21478254702547728, -0.7480145706490767, 0.5397806554794098, -0.5270300252772776, 0.25976914331856615, -0.34787617938088616, -1.441248767668745, -1.5978719846155973, 1.8760190283758935, 2.058786169419131, 0.04416637128786382, -0.11990218115432498, -0.32346234697218584, 0.7587833672465661, 0.1764232013077506, 2.3271774971821166, -0.025870405639904837, -0.29898147778189804, 0.45503789748310974, -0.3557650151783652, -0.3476159607705035, 0.05314676086246436, -1.2068805594060426, -1.218095609914161, -0.605536020423741, -0.5639854925951856, 0.5292292854352497, 0.5224444059168056, -0.34012701139348117, 0.3409887608709333, 0.3034569426427565, 0.02050058661276885, 0.06559131836346563, 0.16276827346155767, -1.7289045833130687, -1.2926726553484278, 0.3706707209524533, -1.1632329413595424, -0.8424734722469165, -1.3825350305370303, 0.557764978680726]}],\n",
       "                        {\"legend\": {\"bgcolor\": \"#F5F6F9\", \"font\": {\"color\": \"#4D5663\"}}, \"paper_bgcolor\": \"#F5F6F9\", \"plot_bgcolor\": \"#F5F6F9\", \"template\": {\"data\": {\"bar\": [{\"error_x\": {\"color\": \"#2a3f5f\"}, \"error_y\": {\"color\": \"#2a3f5f\"}, \"marker\": {\"line\": {\"color\": \"#E5ECF6\", \"width\": 0.5}}, \"type\": \"bar\"}], \"barpolar\": [{\"marker\": {\"line\": {\"color\": \"#E5ECF6\", \"width\": 0.5}}, \"type\": \"barpolar\"}], \"carpet\": [{\"aaxis\": {\"endlinecolor\": \"#2a3f5f\", \"gridcolor\": \"white\", \"linecolor\": \"white\", \"minorgridcolor\": \"white\", \"startlinecolor\": \"#2a3f5f\"}, \"baxis\": {\"endlinecolor\": \"#2a3f5f\", \"gridcolor\": \"white\", \"linecolor\": \"white\", \"minorgridcolor\": \"white\", \"startlinecolor\": \"#2a3f5f\"}, \"type\": \"carpet\"}], \"choropleth\": [{\"colorbar\": {\"outlinewidth\": 0, \"ticks\": \"\"}, \"type\": \"choropleth\"}], \"contour\": [{\"colorbar\": {\"outlinewidth\": 0, \"ticks\": \"\"}, \"colorscale\": [[0.0, \"#0d0887\"], [0.1111111111111111, \"#46039f\"], [0.2222222222222222, \"#7201a8\"], [0.3333333333333333, \"#9c179e\"], [0.4444444444444444, \"#bd3786\"], [0.5555555555555556, \"#d8576b\"], [0.6666666666666666, \"#ed7953\"], [0.7777777777777778, \"#fb9f3a\"], [0.8888888888888888, \"#fdca26\"], [1.0, \"#f0f921\"]], \"type\": \"contour\"}], \"contourcarpet\": [{\"colorbar\": {\"outlinewidth\": 0, \"ticks\": \"\"}, \"type\": \"contourcarpet\"}], \"heatmap\": [{\"colorbar\": {\"outlinewidth\": 0, \"ticks\": \"\"}, \"colorscale\": [[0.0, \"#0d0887\"], [0.1111111111111111, \"#46039f\"], [0.2222222222222222, \"#7201a8\"], [0.3333333333333333, \"#9c179e\"], [0.4444444444444444, \"#bd3786\"], [0.5555555555555556, \"#d8576b\"], [0.6666666666666666, \"#ed7953\"], [0.7777777777777778, \"#fb9f3a\"], [0.8888888888888888, \"#fdca26\"], [1.0, \"#f0f921\"]], \"type\": \"heatmap\"}], \"heatmapgl\": [{\"colorbar\": {\"outlinewidth\": 0, \"ticks\": \"\"}, \"colorscale\": [[0.0, \"#0d0887\"], [0.1111111111111111, \"#46039f\"], [0.2222222222222222, \"#7201a8\"], [0.3333333333333333, \"#9c179e\"], [0.4444444444444444, \"#bd3786\"], [0.5555555555555556, \"#d8576b\"], [0.6666666666666666, \"#ed7953\"], [0.7777777777777778, \"#fb9f3a\"], [0.8888888888888888, \"#fdca26\"], [1.0, \"#f0f921\"]], \"type\": \"heatmapgl\"}], \"histogram\": [{\"marker\": {\"colorbar\": {\"outlinewidth\": 0, \"ticks\": \"\"}}, \"type\": \"histogram\"}], \"histogram2d\": [{\"colorbar\": {\"outlinewidth\": 0, \"ticks\": \"\"}, \"colorscale\": [[0.0, \"#0d0887\"], [0.1111111111111111, \"#46039f\"], [0.2222222222222222, \"#7201a8\"], [0.3333333333333333, \"#9c179e\"], [0.4444444444444444, \"#bd3786\"], [0.5555555555555556, \"#d8576b\"], [0.6666666666666666, \"#ed7953\"], [0.7777777777777778, \"#fb9f3a\"], [0.8888888888888888, \"#fdca26\"], [1.0, \"#f0f921\"]], \"type\": \"histogram2d\"}], \"histogram2dcontour\": [{\"colorbar\": {\"outlinewidth\": 0, \"ticks\": \"\"}, \"colorscale\": [[0.0, \"#0d0887\"], [0.1111111111111111, \"#46039f\"], [0.2222222222222222, \"#7201a8\"], [0.3333333333333333, \"#9c179e\"], [0.4444444444444444, \"#bd3786\"], [0.5555555555555556, \"#d8576b\"], [0.6666666666666666, \"#ed7953\"], [0.7777777777777778, \"#fb9f3a\"], [0.8888888888888888, \"#fdca26\"], [1.0, \"#f0f921\"]], \"type\": \"histogram2dcontour\"}], \"mesh3d\": [{\"colorbar\": {\"outlinewidth\": 0, \"ticks\": \"\"}, \"type\": \"mesh3d\"}], \"parcoords\": [{\"line\": {\"colorbar\": {\"outlinewidth\": 0, \"ticks\": \"\"}}, \"type\": \"parcoords\"}], \"pie\": [{\"automargin\": true, \"type\": \"pie\"}], \"scatter\": [{\"marker\": {\"colorbar\": {\"outlinewidth\": 0, \"ticks\": \"\"}}, \"type\": \"scatter\"}], \"scatter3d\": [{\"line\": {\"colorbar\": {\"outlinewidth\": 0, \"ticks\": \"\"}}, \"marker\": {\"colorbar\": {\"outlinewidth\": 0, \"ticks\": \"\"}}, \"type\": \"scatter3d\"}], \"scattercarpet\": [{\"marker\": {\"colorbar\": {\"outlinewidth\": 0, \"ticks\": \"\"}}, \"type\": \"scattercarpet\"}], \"scattergeo\": [{\"marker\": {\"colorbar\": {\"outlinewidth\": 0, \"ticks\": \"\"}}, \"type\": \"scattergeo\"}], \"scattergl\": [{\"marker\": {\"colorbar\": {\"outlinewidth\": 0, \"ticks\": \"\"}}, \"type\": \"scattergl\"}], \"scattermapbox\": [{\"marker\": {\"colorbar\": {\"outlinewidth\": 0, \"ticks\": \"\"}}, \"type\": \"scattermapbox\"}], \"scatterpolar\": [{\"marker\": {\"colorbar\": {\"outlinewidth\": 0, \"ticks\": \"\"}}, \"type\": \"scatterpolar\"}], \"scatterpolargl\": [{\"marker\": {\"colorbar\": {\"outlinewidth\": 0, \"ticks\": \"\"}}, \"type\": \"scatterpolargl\"}], \"scatterternary\": [{\"marker\": {\"colorbar\": {\"outlinewidth\": 0, \"ticks\": \"\"}}, \"type\": \"scatterternary\"}], \"surface\": [{\"colorbar\": {\"outlinewidth\": 0, \"ticks\": \"\"}, \"colorscale\": [[0.0, \"#0d0887\"], [0.1111111111111111, \"#46039f\"], [0.2222222222222222, \"#7201a8\"], [0.3333333333333333, \"#9c179e\"], [0.4444444444444444, \"#bd3786\"], [0.5555555555555556, \"#d8576b\"], [0.6666666666666666, \"#ed7953\"], [0.7777777777777778, \"#fb9f3a\"], [0.8888888888888888, \"#fdca26\"], [1.0, \"#f0f921\"]], \"type\": \"surface\"}], \"table\": [{\"cells\": {\"fill\": {\"color\": \"#EBF0F8\"}, \"line\": {\"color\": \"white\"}}, \"header\": {\"fill\": {\"color\": \"#C8D4E3\"}, \"line\": {\"color\": \"white\"}}, \"type\": \"table\"}]}, \"layout\": {\"annotationdefaults\": {\"arrowcolor\": \"#2a3f5f\", \"arrowhead\": 0, \"arrowwidth\": 1}, \"coloraxis\": {\"colorbar\": {\"outlinewidth\": 0, \"ticks\": \"\"}}, \"colorscale\": {\"diverging\": [[0, \"#8e0152\"], [0.1, \"#c51b7d\"], [0.2, \"#de77ae\"], [0.3, \"#f1b6da\"], [0.4, \"#fde0ef\"], [0.5, \"#f7f7f7\"], [0.6, \"#e6f5d0\"], [0.7, \"#b8e186\"], [0.8, \"#7fbc41\"], [0.9, \"#4d9221\"], [1, \"#276419\"]], \"sequential\": [[0.0, \"#0d0887\"], [0.1111111111111111, \"#46039f\"], [0.2222222222222222, \"#7201a8\"], [0.3333333333333333, \"#9c179e\"], [0.4444444444444444, \"#bd3786\"], [0.5555555555555556, \"#d8576b\"], [0.6666666666666666, \"#ed7953\"], [0.7777777777777778, \"#fb9f3a\"], [0.8888888888888888, \"#fdca26\"], [1.0, \"#f0f921\"]], \"sequentialminus\": [[0.0, \"#0d0887\"], [0.1111111111111111, \"#46039f\"], [0.2222222222222222, \"#7201a8\"], [0.3333333333333333, \"#9c179e\"], [0.4444444444444444, \"#bd3786\"], [0.5555555555555556, \"#d8576b\"], [0.6666666666666666, \"#ed7953\"], [0.7777777777777778, \"#fb9f3a\"], [0.8888888888888888, \"#fdca26\"], [1.0, \"#f0f921\"]]}, \"colorway\": [\"#636efa\", \"#EF553B\", \"#00cc96\", \"#ab63fa\", \"#FFA15A\", \"#19d3f3\", \"#FF6692\", \"#B6E880\", \"#FF97FF\", \"#FECB52\"], \"font\": {\"color\": \"#2a3f5f\"}, \"geo\": {\"bgcolor\": \"white\", \"lakecolor\": \"white\", \"landcolor\": \"#E5ECF6\", \"showlakes\": true, \"showland\": true, \"subunitcolor\": \"white\"}, \"hoverlabel\": {\"align\": \"left\"}, \"hovermode\": \"closest\", \"mapbox\": {\"style\": \"light\"}, \"paper_bgcolor\": \"white\", \"plot_bgcolor\": \"#E5ECF6\", \"polar\": {\"angularaxis\": {\"gridcolor\": \"white\", \"linecolor\": \"white\", \"ticks\": \"\"}, \"bgcolor\": \"#E5ECF6\", \"radialaxis\": {\"gridcolor\": \"white\", \"linecolor\": \"white\", \"ticks\": \"\"}}, \"scene\": {\"xaxis\": {\"backgroundcolor\": \"#E5ECF6\", \"gridcolor\": \"white\", \"gridwidth\": 2, \"linecolor\": \"white\", \"showbackground\": true, \"ticks\": \"\", \"zerolinecolor\": \"white\"}, \"yaxis\": {\"backgroundcolor\": \"#E5ECF6\", \"gridcolor\": \"white\", \"gridwidth\": 2, \"linecolor\": \"white\", \"showbackground\": true, \"ticks\": \"\", \"zerolinecolor\": \"white\"}, \"zaxis\": {\"backgroundcolor\": \"#E5ECF6\", \"gridcolor\": \"white\", \"gridwidth\": 2, \"linecolor\": \"white\", \"showbackground\": true, \"ticks\": \"\", \"zerolinecolor\": \"white\"}}, \"shapedefaults\": {\"line\": {\"color\": \"#2a3f5f\"}}, \"ternary\": {\"aaxis\": {\"gridcolor\": \"white\", \"linecolor\": \"white\", \"ticks\": \"\"}, \"baxis\": {\"gridcolor\": \"white\", \"linecolor\": \"white\", \"ticks\": \"\"}, \"bgcolor\": \"#E5ECF6\", \"caxis\": {\"gridcolor\": \"white\", \"linecolor\": \"white\", \"ticks\": \"\"}}, \"title\": {\"x\": 0.05}, \"xaxis\": {\"automargin\": true, \"gridcolor\": \"white\", \"linecolor\": \"white\", \"ticks\": \"\", \"title\": {\"standoff\": 15}, \"zerolinecolor\": \"white\", \"zerolinewidth\": 2}, \"yaxis\": {\"automargin\": true, \"gridcolor\": \"white\", \"linecolor\": \"white\", \"ticks\": \"\", \"title\": {\"standoff\": 15}, \"zerolinecolor\": \"white\", \"zerolinewidth\": 2}}}, \"title\": {\"font\": {\"color\": \"#4D5663\"}}, \"xaxis\": {\"gridcolor\": \"#E1E5ED\", \"showgrid\": true, \"tickfont\": {\"color\": \"#4D5663\"}, \"title\": {\"font\": {\"color\": \"#4D5663\"}, \"text\": \"\"}, \"zerolinecolor\": \"#E1E5ED\"}, \"yaxis\": {\"gridcolor\": \"#E1E5ED\", \"showgrid\": true, \"tickfont\": {\"color\": \"#4D5663\"}, \"title\": {\"font\": {\"color\": \"#4D5663\"}, \"text\": \"\"}, \"zerolinecolor\": \"#E1E5ED\"}},\n",
       "                        {\"showLink\": true, \"linkText\": \"Export to plot.ly\", \"plotlyServerURL\": \"https://plot.ly\", \"responsive\": true}\n",
       "                    ).then(function(){\n",
       "                            \n",
       "var gd = document.getElementById('6ca25b31-0c49-4fbe-a0f3-0ec059b596b6');\n",
       "var x = new MutationObserver(function (mutations, observer) {{\n",
       "        var display = window.getComputedStyle(gd).display;\n",
       "        if (!display || display === 'none') {{\n",
       "            console.log([gd, 'removed!']);\n",
       "            Plotly.purge(gd);\n",
       "            observer.disconnect();\n",
       "        }}\n",
       "}});\n",
       "\n",
       "// Listen for the removal of the full notebook cells\n",
       "var notebookContainer = gd.closest('#notebook-container');\n",
       "if (notebookContainer) {{\n",
       "    x.observe(notebookContainer, {childList: true});\n",
       "}}\n",
       "\n",
       "// Listen for the clearing of the current output cell\n",
       "var outputEl = gd.closest('.output');\n",
       "if (outputEl) {{\n",
       "    x.observe(outputEl, {childList: true});\n",
       "}}\n",
       "\n",
       "                        })\n",
       "                };\n",
       "                });\n",
       "            </script>\n",
       "        </div>"
      ]
     },
     "metadata": {},
     "output_type": "display_data"
    }
   ],
   "source": [
    "df.iplot(kind='scatter',x='A',y='B',mode='markers',size=10)"
   ]
  },
  {
   "cell_type": "markdown",
   "metadata": {},
   "source": [
    "## Bar Plots"
   ]
  },
  {
   "cell_type": "code",
   "execution_count": 11,
   "metadata": {},
   "outputs": [
    {
     "data": {
      "application/vnd.plotly.v1+json": {
       "config": {
        "linkText": "Export to plot.ly",
        "plotlyServerURL": "https://plot.ly",
        "showLink": true
       },
       "data": [
        {
         "marker": {
          "color": "rgba(255, 153, 51, 0.6)",
          "line": {
           "color": "rgba(255, 153, 51, 1.0)",
           "width": 1
          }
         },
         "name": "Values",
         "orientation": "v",
         "text": "",
         "type": "bar",
         "x": [
          "A",
          "B",
          "C"
         ],
         "y": [
          32,
          43,
          50
         ]
        }
       ],
       "layout": {
        "legend": {
         "bgcolor": "#F5F6F9",
         "font": {
          "color": "#4D5663"
         }
        },
        "paper_bgcolor": "#F5F6F9",
        "plot_bgcolor": "#F5F6F9",
        "template": {
         "data": {
          "bar": [
           {
            "error_x": {
             "color": "#2a3f5f"
            },
            "error_y": {
             "color": "#2a3f5f"
            },
            "marker": {
             "line": {
              "color": "#E5ECF6",
              "width": 0.5
             }
            },
            "type": "bar"
           }
          ],
          "barpolar": [
           {
            "marker": {
             "line": {
              "color": "#E5ECF6",
              "width": 0.5
             }
            },
            "type": "barpolar"
           }
          ],
          "carpet": [
           {
            "aaxis": {
             "endlinecolor": "#2a3f5f",
             "gridcolor": "white",
             "linecolor": "white",
             "minorgridcolor": "white",
             "startlinecolor": "#2a3f5f"
            },
            "baxis": {
             "endlinecolor": "#2a3f5f",
             "gridcolor": "white",
             "linecolor": "white",
             "minorgridcolor": "white",
             "startlinecolor": "#2a3f5f"
            },
            "type": "carpet"
           }
          ],
          "choropleth": [
           {
            "colorbar": {
             "outlinewidth": 0,
             "ticks": ""
            },
            "type": "choropleth"
           }
          ],
          "contour": [
           {
            "colorbar": {
             "outlinewidth": 0,
             "ticks": ""
            },
            "colorscale": [
             [
              0,
              "#0d0887"
             ],
             [
              0.1111111111111111,
              "#46039f"
             ],
             [
              0.2222222222222222,
              "#7201a8"
             ],
             [
              0.3333333333333333,
              "#9c179e"
             ],
             [
              0.4444444444444444,
              "#bd3786"
             ],
             [
              0.5555555555555556,
              "#d8576b"
             ],
             [
              0.6666666666666666,
              "#ed7953"
             ],
             [
              0.7777777777777778,
              "#fb9f3a"
             ],
             [
              0.8888888888888888,
              "#fdca26"
             ],
             [
              1,
              "#f0f921"
             ]
            ],
            "type": "contour"
           }
          ],
          "contourcarpet": [
           {
            "colorbar": {
             "outlinewidth": 0,
             "ticks": ""
            },
            "type": "contourcarpet"
           }
          ],
          "heatmap": [
           {
            "colorbar": {
             "outlinewidth": 0,
             "ticks": ""
            },
            "colorscale": [
             [
              0,
              "#0d0887"
             ],
             [
              0.1111111111111111,
              "#46039f"
             ],
             [
              0.2222222222222222,
              "#7201a8"
             ],
             [
              0.3333333333333333,
              "#9c179e"
             ],
             [
              0.4444444444444444,
              "#bd3786"
             ],
             [
              0.5555555555555556,
              "#d8576b"
             ],
             [
              0.6666666666666666,
              "#ed7953"
             ],
             [
              0.7777777777777778,
              "#fb9f3a"
             ],
             [
              0.8888888888888888,
              "#fdca26"
             ],
             [
              1,
              "#f0f921"
             ]
            ],
            "type": "heatmap"
           }
          ],
          "heatmapgl": [
           {
            "colorbar": {
             "outlinewidth": 0,
             "ticks": ""
            },
            "colorscale": [
             [
              0,
              "#0d0887"
             ],
             [
              0.1111111111111111,
              "#46039f"
             ],
             [
              0.2222222222222222,
              "#7201a8"
             ],
             [
              0.3333333333333333,
              "#9c179e"
             ],
             [
              0.4444444444444444,
              "#bd3786"
             ],
             [
              0.5555555555555556,
              "#d8576b"
             ],
             [
              0.6666666666666666,
              "#ed7953"
             ],
             [
              0.7777777777777778,
              "#fb9f3a"
             ],
             [
              0.8888888888888888,
              "#fdca26"
             ],
             [
              1,
              "#f0f921"
             ]
            ],
            "type": "heatmapgl"
           }
          ],
          "histogram": [
           {
            "marker": {
             "colorbar": {
              "outlinewidth": 0,
              "ticks": ""
             }
            },
            "type": "histogram"
           }
          ],
          "histogram2d": [
           {
            "colorbar": {
             "outlinewidth": 0,
             "ticks": ""
            },
            "colorscale": [
             [
              0,
              "#0d0887"
             ],
             [
              0.1111111111111111,
              "#46039f"
             ],
             [
              0.2222222222222222,
              "#7201a8"
             ],
             [
              0.3333333333333333,
              "#9c179e"
             ],
             [
              0.4444444444444444,
              "#bd3786"
             ],
             [
              0.5555555555555556,
              "#d8576b"
             ],
             [
              0.6666666666666666,
              "#ed7953"
             ],
             [
              0.7777777777777778,
              "#fb9f3a"
             ],
             [
              0.8888888888888888,
              "#fdca26"
             ],
             [
              1,
              "#f0f921"
             ]
            ],
            "type": "histogram2d"
           }
          ],
          "histogram2dcontour": [
           {
            "colorbar": {
             "outlinewidth": 0,
             "ticks": ""
            },
            "colorscale": [
             [
              0,
              "#0d0887"
             ],
             [
              0.1111111111111111,
              "#46039f"
             ],
             [
              0.2222222222222222,
              "#7201a8"
             ],
             [
              0.3333333333333333,
              "#9c179e"
             ],
             [
              0.4444444444444444,
              "#bd3786"
             ],
             [
              0.5555555555555556,
              "#d8576b"
             ],
             [
              0.6666666666666666,
              "#ed7953"
             ],
             [
              0.7777777777777778,
              "#fb9f3a"
             ],
             [
              0.8888888888888888,
              "#fdca26"
             ],
             [
              1,
              "#f0f921"
             ]
            ],
            "type": "histogram2dcontour"
           }
          ],
          "mesh3d": [
           {
            "colorbar": {
             "outlinewidth": 0,
             "ticks": ""
            },
            "type": "mesh3d"
           }
          ],
          "parcoords": [
           {
            "line": {
             "colorbar": {
              "outlinewidth": 0,
              "ticks": ""
             }
            },
            "type": "parcoords"
           }
          ],
          "pie": [
           {
            "automargin": true,
            "type": "pie"
           }
          ],
          "scatter": [
           {
            "marker": {
             "colorbar": {
              "outlinewidth": 0,
              "ticks": ""
             }
            },
            "type": "scatter"
           }
          ],
          "scatter3d": [
           {
            "line": {
             "colorbar": {
              "outlinewidth": 0,
              "ticks": ""
             }
            },
            "marker": {
             "colorbar": {
              "outlinewidth": 0,
              "ticks": ""
             }
            },
            "type": "scatter3d"
           }
          ],
          "scattercarpet": [
           {
            "marker": {
             "colorbar": {
              "outlinewidth": 0,
              "ticks": ""
             }
            },
            "type": "scattercarpet"
           }
          ],
          "scattergeo": [
           {
            "marker": {
             "colorbar": {
              "outlinewidth": 0,
              "ticks": ""
             }
            },
            "type": "scattergeo"
           }
          ],
          "scattergl": [
           {
            "marker": {
             "colorbar": {
              "outlinewidth": 0,
              "ticks": ""
             }
            },
            "type": "scattergl"
           }
          ],
          "scattermapbox": [
           {
            "marker": {
             "colorbar": {
              "outlinewidth": 0,
              "ticks": ""
             }
            },
            "type": "scattermapbox"
           }
          ],
          "scatterpolar": [
           {
            "marker": {
             "colorbar": {
              "outlinewidth": 0,
              "ticks": ""
             }
            },
            "type": "scatterpolar"
           }
          ],
          "scatterpolargl": [
           {
            "marker": {
             "colorbar": {
              "outlinewidth": 0,
              "ticks": ""
             }
            },
            "type": "scatterpolargl"
           }
          ],
          "scatterternary": [
           {
            "marker": {
             "colorbar": {
              "outlinewidth": 0,
              "ticks": ""
             }
            },
            "type": "scatterternary"
           }
          ],
          "surface": [
           {
            "colorbar": {
             "outlinewidth": 0,
             "ticks": ""
            },
            "colorscale": [
             [
              0,
              "#0d0887"
             ],
             [
              0.1111111111111111,
              "#46039f"
             ],
             [
              0.2222222222222222,
              "#7201a8"
             ],
             [
              0.3333333333333333,
              "#9c179e"
             ],
             [
              0.4444444444444444,
              "#bd3786"
             ],
             [
              0.5555555555555556,
              "#d8576b"
             ],
             [
              0.6666666666666666,
              "#ed7953"
             ],
             [
              0.7777777777777778,
              "#fb9f3a"
             ],
             [
              0.8888888888888888,
              "#fdca26"
             ],
             [
              1,
              "#f0f921"
             ]
            ],
            "type": "surface"
           }
          ],
          "table": [
           {
            "cells": {
             "fill": {
              "color": "#EBF0F8"
             },
             "line": {
              "color": "white"
             }
            },
            "header": {
             "fill": {
              "color": "#C8D4E3"
             },
             "line": {
              "color": "white"
             }
            },
            "type": "table"
           }
          ]
         },
         "layout": {
          "annotationdefaults": {
           "arrowcolor": "#2a3f5f",
           "arrowhead": 0,
           "arrowwidth": 1
          },
          "coloraxis": {
           "colorbar": {
            "outlinewidth": 0,
            "ticks": ""
           }
          },
          "colorscale": {
           "diverging": [
            [
             0,
             "#8e0152"
            ],
            [
             0.1,
             "#c51b7d"
            ],
            [
             0.2,
             "#de77ae"
            ],
            [
             0.3,
             "#f1b6da"
            ],
            [
             0.4,
             "#fde0ef"
            ],
            [
             0.5,
             "#f7f7f7"
            ],
            [
             0.6,
             "#e6f5d0"
            ],
            [
             0.7,
             "#b8e186"
            ],
            [
             0.8,
             "#7fbc41"
            ],
            [
             0.9,
             "#4d9221"
            ],
            [
             1,
             "#276419"
            ]
           ],
           "sequential": [
            [
             0,
             "#0d0887"
            ],
            [
             0.1111111111111111,
             "#46039f"
            ],
            [
             0.2222222222222222,
             "#7201a8"
            ],
            [
             0.3333333333333333,
             "#9c179e"
            ],
            [
             0.4444444444444444,
             "#bd3786"
            ],
            [
             0.5555555555555556,
             "#d8576b"
            ],
            [
             0.6666666666666666,
             "#ed7953"
            ],
            [
             0.7777777777777778,
             "#fb9f3a"
            ],
            [
             0.8888888888888888,
             "#fdca26"
            ],
            [
             1,
             "#f0f921"
            ]
           ],
           "sequentialminus": [
            [
             0,
             "#0d0887"
            ],
            [
             0.1111111111111111,
             "#46039f"
            ],
            [
             0.2222222222222222,
             "#7201a8"
            ],
            [
             0.3333333333333333,
             "#9c179e"
            ],
            [
             0.4444444444444444,
             "#bd3786"
            ],
            [
             0.5555555555555556,
             "#d8576b"
            ],
            [
             0.6666666666666666,
             "#ed7953"
            ],
            [
             0.7777777777777778,
             "#fb9f3a"
            ],
            [
             0.8888888888888888,
             "#fdca26"
            ],
            [
             1,
             "#f0f921"
            ]
           ]
          },
          "colorway": [
           "#636efa",
           "#EF553B",
           "#00cc96",
           "#ab63fa",
           "#FFA15A",
           "#19d3f3",
           "#FF6692",
           "#B6E880",
           "#FF97FF",
           "#FECB52"
          ],
          "font": {
           "color": "#2a3f5f"
          },
          "geo": {
           "bgcolor": "white",
           "lakecolor": "white",
           "landcolor": "#E5ECF6",
           "showlakes": true,
           "showland": true,
           "subunitcolor": "white"
          },
          "hoverlabel": {
           "align": "left"
          },
          "hovermode": "closest",
          "mapbox": {
           "style": "light"
          },
          "paper_bgcolor": "white",
          "plot_bgcolor": "#E5ECF6",
          "polar": {
           "angularaxis": {
            "gridcolor": "white",
            "linecolor": "white",
            "ticks": ""
           },
           "bgcolor": "#E5ECF6",
           "radialaxis": {
            "gridcolor": "white",
            "linecolor": "white",
            "ticks": ""
           }
          },
          "scene": {
           "xaxis": {
            "backgroundcolor": "#E5ECF6",
            "gridcolor": "white",
            "gridwidth": 2,
            "linecolor": "white",
            "showbackground": true,
            "ticks": "",
            "zerolinecolor": "white"
           },
           "yaxis": {
            "backgroundcolor": "#E5ECF6",
            "gridcolor": "white",
            "gridwidth": 2,
            "linecolor": "white",
            "showbackground": true,
            "ticks": "",
            "zerolinecolor": "white"
           },
           "zaxis": {
            "backgroundcolor": "#E5ECF6",
            "gridcolor": "white",
            "gridwidth": 2,
            "linecolor": "white",
            "showbackground": true,
            "ticks": "",
            "zerolinecolor": "white"
           }
          },
          "shapedefaults": {
           "line": {
            "color": "#2a3f5f"
           }
          },
          "ternary": {
           "aaxis": {
            "gridcolor": "white",
            "linecolor": "white",
            "ticks": ""
           },
           "baxis": {
            "gridcolor": "white",
            "linecolor": "white",
            "ticks": ""
           },
           "bgcolor": "#E5ECF6",
           "caxis": {
            "gridcolor": "white",
            "linecolor": "white",
            "ticks": ""
           }
          },
          "title": {
           "x": 0.05
          },
          "xaxis": {
           "automargin": true,
           "gridcolor": "white",
           "linecolor": "white",
           "ticks": "",
           "title": {
            "standoff": 15
           },
           "zerolinecolor": "white",
           "zerolinewidth": 2
          },
          "yaxis": {
           "automargin": true,
           "gridcolor": "white",
           "linecolor": "white",
           "ticks": "",
           "title": {
            "standoff": 15
           },
           "zerolinecolor": "white",
           "zerolinewidth": 2
          }
         }
        },
        "title": {
         "font": {
          "color": "#4D5663"
         }
        },
        "xaxis": {
         "gridcolor": "#E1E5ED",
         "showgrid": true,
         "tickfont": {
          "color": "#4D5663"
         },
         "title": {
          "font": {
           "color": "#4D5663"
          },
          "text": ""
         },
         "zerolinecolor": "#E1E5ED"
        },
        "yaxis": {
         "gridcolor": "#E1E5ED",
         "showgrid": true,
         "tickfont": {
          "color": "#4D5663"
         },
         "title": {
          "font": {
           "color": "#4D5663"
          },
          "text": ""
         },
         "zerolinecolor": "#E1E5ED"
        }
       }
      },
      "text/html": [
       "<div>\n",
       "        \n",
       "        \n",
       "            <div id=\"4c89948b-f829-4d07-9052-69e1f2ae0450\" class=\"plotly-graph-div\" style=\"height:525px; width:100%;\"></div>\n",
       "            <script type=\"text/javascript\">\n",
       "                require([\"plotly\"], function(Plotly) {\n",
       "                    window.PLOTLYENV=window.PLOTLYENV || {};\n",
       "                    window.PLOTLYENV.BASE_URL='https://plot.ly';\n",
       "                    \n",
       "                if (document.getElementById(\"4c89948b-f829-4d07-9052-69e1f2ae0450\")) {\n",
       "                    Plotly.newPlot(\n",
       "                        '4c89948b-f829-4d07-9052-69e1f2ae0450',\n",
       "                        [{\"marker\": {\"color\": \"rgba(255, 153, 51, 0.6)\", \"line\": {\"color\": \"rgba(255, 153, 51, 1.0)\", \"width\": 1}}, \"name\": \"Values\", \"orientation\": \"v\", \"text\": \"\", \"type\": \"bar\", \"x\": [\"A\", \"B\", \"C\"], \"y\": [32, 43, 50]}],\n",
       "                        {\"legend\": {\"bgcolor\": \"#F5F6F9\", \"font\": {\"color\": \"#4D5663\"}}, \"paper_bgcolor\": \"#F5F6F9\", \"plot_bgcolor\": \"#F5F6F9\", \"template\": {\"data\": {\"bar\": [{\"error_x\": {\"color\": \"#2a3f5f\"}, \"error_y\": {\"color\": \"#2a3f5f\"}, \"marker\": {\"line\": {\"color\": \"#E5ECF6\", \"width\": 0.5}}, \"type\": \"bar\"}], \"barpolar\": [{\"marker\": {\"line\": {\"color\": \"#E5ECF6\", \"width\": 0.5}}, \"type\": \"barpolar\"}], \"carpet\": [{\"aaxis\": {\"endlinecolor\": \"#2a3f5f\", \"gridcolor\": \"white\", \"linecolor\": \"white\", \"minorgridcolor\": \"white\", \"startlinecolor\": \"#2a3f5f\"}, \"baxis\": {\"endlinecolor\": \"#2a3f5f\", \"gridcolor\": \"white\", \"linecolor\": \"white\", \"minorgridcolor\": \"white\", \"startlinecolor\": \"#2a3f5f\"}, \"type\": \"carpet\"}], \"choropleth\": [{\"colorbar\": {\"outlinewidth\": 0, \"ticks\": \"\"}, \"type\": \"choropleth\"}], \"contour\": [{\"colorbar\": {\"outlinewidth\": 0, \"ticks\": \"\"}, \"colorscale\": [[0.0, \"#0d0887\"], [0.1111111111111111, \"#46039f\"], [0.2222222222222222, \"#7201a8\"], [0.3333333333333333, \"#9c179e\"], [0.4444444444444444, \"#bd3786\"], [0.5555555555555556, \"#d8576b\"], [0.6666666666666666, \"#ed7953\"], [0.7777777777777778, \"#fb9f3a\"], [0.8888888888888888, \"#fdca26\"], [1.0, \"#f0f921\"]], \"type\": \"contour\"}], \"contourcarpet\": [{\"colorbar\": {\"outlinewidth\": 0, \"ticks\": \"\"}, \"type\": \"contourcarpet\"}], \"heatmap\": [{\"colorbar\": {\"outlinewidth\": 0, \"ticks\": \"\"}, \"colorscale\": [[0.0, \"#0d0887\"], [0.1111111111111111, \"#46039f\"], [0.2222222222222222, \"#7201a8\"], [0.3333333333333333, \"#9c179e\"], [0.4444444444444444, \"#bd3786\"], [0.5555555555555556, \"#d8576b\"], [0.6666666666666666, \"#ed7953\"], [0.7777777777777778, \"#fb9f3a\"], [0.8888888888888888, \"#fdca26\"], [1.0, \"#f0f921\"]], \"type\": \"heatmap\"}], \"heatmapgl\": [{\"colorbar\": {\"outlinewidth\": 0, \"ticks\": \"\"}, \"colorscale\": [[0.0, \"#0d0887\"], [0.1111111111111111, \"#46039f\"], [0.2222222222222222, \"#7201a8\"], [0.3333333333333333, \"#9c179e\"], [0.4444444444444444, \"#bd3786\"], [0.5555555555555556, \"#d8576b\"], [0.6666666666666666, \"#ed7953\"], [0.7777777777777778, \"#fb9f3a\"], [0.8888888888888888, \"#fdca26\"], [1.0, \"#f0f921\"]], \"type\": \"heatmapgl\"}], \"histogram\": [{\"marker\": {\"colorbar\": {\"outlinewidth\": 0, \"ticks\": \"\"}}, \"type\": \"histogram\"}], \"histogram2d\": [{\"colorbar\": {\"outlinewidth\": 0, \"ticks\": \"\"}, \"colorscale\": [[0.0, \"#0d0887\"], [0.1111111111111111, \"#46039f\"], [0.2222222222222222, \"#7201a8\"], [0.3333333333333333, \"#9c179e\"], [0.4444444444444444, \"#bd3786\"], [0.5555555555555556, \"#d8576b\"], [0.6666666666666666, \"#ed7953\"], [0.7777777777777778, \"#fb9f3a\"], [0.8888888888888888, \"#fdca26\"], [1.0, \"#f0f921\"]], \"type\": \"histogram2d\"}], \"histogram2dcontour\": [{\"colorbar\": {\"outlinewidth\": 0, \"ticks\": \"\"}, \"colorscale\": [[0.0, \"#0d0887\"], [0.1111111111111111, \"#46039f\"], [0.2222222222222222, \"#7201a8\"], [0.3333333333333333, \"#9c179e\"], [0.4444444444444444, \"#bd3786\"], [0.5555555555555556, \"#d8576b\"], [0.6666666666666666, \"#ed7953\"], [0.7777777777777778, \"#fb9f3a\"], [0.8888888888888888, \"#fdca26\"], [1.0, \"#f0f921\"]], \"type\": \"histogram2dcontour\"}], \"mesh3d\": [{\"colorbar\": {\"outlinewidth\": 0, \"ticks\": \"\"}, \"type\": \"mesh3d\"}], \"parcoords\": [{\"line\": {\"colorbar\": {\"outlinewidth\": 0, \"ticks\": \"\"}}, \"type\": \"parcoords\"}], \"pie\": [{\"automargin\": true, \"type\": \"pie\"}], \"scatter\": [{\"marker\": {\"colorbar\": {\"outlinewidth\": 0, \"ticks\": \"\"}}, \"type\": \"scatter\"}], \"scatter3d\": [{\"line\": {\"colorbar\": {\"outlinewidth\": 0, \"ticks\": \"\"}}, \"marker\": {\"colorbar\": {\"outlinewidth\": 0, \"ticks\": \"\"}}, \"type\": \"scatter3d\"}], \"scattercarpet\": [{\"marker\": {\"colorbar\": {\"outlinewidth\": 0, \"ticks\": \"\"}}, \"type\": \"scattercarpet\"}], \"scattergeo\": [{\"marker\": {\"colorbar\": {\"outlinewidth\": 0, \"ticks\": \"\"}}, \"type\": \"scattergeo\"}], \"scattergl\": [{\"marker\": {\"colorbar\": {\"outlinewidth\": 0, \"ticks\": \"\"}}, \"type\": \"scattergl\"}], \"scattermapbox\": [{\"marker\": {\"colorbar\": {\"outlinewidth\": 0, \"ticks\": \"\"}}, \"type\": \"scattermapbox\"}], \"scatterpolar\": [{\"marker\": {\"colorbar\": {\"outlinewidth\": 0, \"ticks\": \"\"}}, \"type\": \"scatterpolar\"}], \"scatterpolargl\": [{\"marker\": {\"colorbar\": {\"outlinewidth\": 0, \"ticks\": \"\"}}, \"type\": \"scatterpolargl\"}], \"scatterternary\": [{\"marker\": {\"colorbar\": {\"outlinewidth\": 0, \"ticks\": \"\"}}, \"type\": \"scatterternary\"}], \"surface\": [{\"colorbar\": {\"outlinewidth\": 0, \"ticks\": \"\"}, \"colorscale\": [[0.0, \"#0d0887\"], [0.1111111111111111, \"#46039f\"], [0.2222222222222222, \"#7201a8\"], [0.3333333333333333, \"#9c179e\"], [0.4444444444444444, \"#bd3786\"], [0.5555555555555556, \"#d8576b\"], [0.6666666666666666, \"#ed7953\"], [0.7777777777777778, \"#fb9f3a\"], [0.8888888888888888, \"#fdca26\"], [1.0, \"#f0f921\"]], \"type\": \"surface\"}], \"table\": [{\"cells\": {\"fill\": {\"color\": \"#EBF0F8\"}, \"line\": {\"color\": \"white\"}}, \"header\": {\"fill\": {\"color\": \"#C8D4E3\"}, \"line\": {\"color\": \"white\"}}, \"type\": \"table\"}]}, \"layout\": {\"annotationdefaults\": {\"arrowcolor\": \"#2a3f5f\", \"arrowhead\": 0, \"arrowwidth\": 1}, \"coloraxis\": {\"colorbar\": {\"outlinewidth\": 0, \"ticks\": \"\"}}, \"colorscale\": {\"diverging\": [[0, \"#8e0152\"], [0.1, \"#c51b7d\"], [0.2, \"#de77ae\"], [0.3, \"#f1b6da\"], [0.4, \"#fde0ef\"], [0.5, \"#f7f7f7\"], [0.6, \"#e6f5d0\"], [0.7, \"#b8e186\"], [0.8, \"#7fbc41\"], [0.9, \"#4d9221\"], [1, \"#276419\"]], \"sequential\": [[0.0, \"#0d0887\"], [0.1111111111111111, \"#46039f\"], [0.2222222222222222, \"#7201a8\"], [0.3333333333333333, \"#9c179e\"], [0.4444444444444444, \"#bd3786\"], [0.5555555555555556, \"#d8576b\"], [0.6666666666666666, \"#ed7953\"], [0.7777777777777778, \"#fb9f3a\"], [0.8888888888888888, \"#fdca26\"], [1.0, \"#f0f921\"]], \"sequentialminus\": [[0.0, \"#0d0887\"], [0.1111111111111111, \"#46039f\"], [0.2222222222222222, \"#7201a8\"], [0.3333333333333333, \"#9c179e\"], [0.4444444444444444, \"#bd3786\"], [0.5555555555555556, \"#d8576b\"], [0.6666666666666666, \"#ed7953\"], [0.7777777777777778, \"#fb9f3a\"], [0.8888888888888888, \"#fdca26\"], [1.0, \"#f0f921\"]]}, \"colorway\": [\"#636efa\", \"#EF553B\", \"#00cc96\", \"#ab63fa\", \"#FFA15A\", \"#19d3f3\", \"#FF6692\", \"#B6E880\", \"#FF97FF\", \"#FECB52\"], \"font\": {\"color\": \"#2a3f5f\"}, \"geo\": {\"bgcolor\": \"white\", \"lakecolor\": \"white\", \"landcolor\": \"#E5ECF6\", \"showlakes\": true, \"showland\": true, \"subunitcolor\": \"white\"}, \"hoverlabel\": {\"align\": \"left\"}, \"hovermode\": \"closest\", \"mapbox\": {\"style\": \"light\"}, \"paper_bgcolor\": \"white\", \"plot_bgcolor\": \"#E5ECF6\", \"polar\": {\"angularaxis\": {\"gridcolor\": \"white\", \"linecolor\": \"white\", \"ticks\": \"\"}, \"bgcolor\": \"#E5ECF6\", \"radialaxis\": {\"gridcolor\": \"white\", \"linecolor\": \"white\", \"ticks\": \"\"}}, \"scene\": {\"xaxis\": {\"backgroundcolor\": \"#E5ECF6\", \"gridcolor\": \"white\", \"gridwidth\": 2, \"linecolor\": \"white\", \"showbackground\": true, \"ticks\": \"\", \"zerolinecolor\": \"white\"}, \"yaxis\": {\"backgroundcolor\": \"#E5ECF6\", \"gridcolor\": \"white\", \"gridwidth\": 2, \"linecolor\": \"white\", \"showbackground\": true, \"ticks\": \"\", \"zerolinecolor\": \"white\"}, \"zaxis\": {\"backgroundcolor\": \"#E5ECF6\", \"gridcolor\": \"white\", \"gridwidth\": 2, \"linecolor\": \"white\", \"showbackground\": true, \"ticks\": \"\", \"zerolinecolor\": \"white\"}}, \"shapedefaults\": {\"line\": {\"color\": \"#2a3f5f\"}}, \"ternary\": {\"aaxis\": {\"gridcolor\": \"white\", \"linecolor\": \"white\", \"ticks\": \"\"}, \"baxis\": {\"gridcolor\": \"white\", \"linecolor\": \"white\", \"ticks\": \"\"}, \"bgcolor\": \"#E5ECF6\", \"caxis\": {\"gridcolor\": \"white\", \"linecolor\": \"white\", \"ticks\": \"\"}}, \"title\": {\"x\": 0.05}, \"xaxis\": {\"automargin\": true, \"gridcolor\": \"white\", \"linecolor\": \"white\", \"ticks\": \"\", \"title\": {\"standoff\": 15}, \"zerolinecolor\": \"white\", \"zerolinewidth\": 2}, \"yaxis\": {\"automargin\": true, \"gridcolor\": \"white\", \"linecolor\": \"white\", \"ticks\": \"\", \"title\": {\"standoff\": 15}, \"zerolinecolor\": \"white\", \"zerolinewidth\": 2}}}, \"title\": {\"font\": {\"color\": \"#4D5663\"}}, \"xaxis\": {\"gridcolor\": \"#E1E5ED\", \"showgrid\": true, \"tickfont\": {\"color\": \"#4D5663\"}, \"title\": {\"font\": {\"color\": \"#4D5663\"}, \"text\": \"\"}, \"zerolinecolor\": \"#E1E5ED\"}, \"yaxis\": {\"gridcolor\": \"#E1E5ED\", \"showgrid\": true, \"tickfont\": {\"color\": \"#4D5663\"}, \"title\": {\"font\": {\"color\": \"#4D5663\"}, \"text\": \"\"}, \"zerolinecolor\": \"#E1E5ED\"}},\n",
       "                        {\"showLink\": true, \"linkText\": \"Export to plot.ly\", \"plotlyServerURL\": \"https://plot.ly\", \"responsive\": true}\n",
       "                    ).then(function(){\n",
       "                            \n",
       "var gd = document.getElementById('4c89948b-f829-4d07-9052-69e1f2ae0450');\n",
       "var x = new MutationObserver(function (mutations, observer) {{\n",
       "        var display = window.getComputedStyle(gd).display;\n",
       "        if (!display || display === 'none') {{\n",
       "            console.log([gd, 'removed!']);\n",
       "            Plotly.purge(gd);\n",
       "            observer.disconnect();\n",
       "        }}\n",
       "}});\n",
       "\n",
       "// Listen for the removal of the full notebook cells\n",
       "var notebookContainer = gd.closest('#notebook-container');\n",
       "if (notebookContainer) {{\n",
       "    x.observe(notebookContainer, {childList: true});\n",
       "}}\n",
       "\n",
       "// Listen for the clearing of the current output cell\n",
       "var outputEl = gd.closest('.output');\n",
       "if (outputEl) {{\n",
       "    x.observe(outputEl, {childList: true});\n",
       "}}\n",
       "\n",
       "                        })\n",
       "                };\n",
       "                });\n",
       "            </script>\n",
       "        </div>"
      ]
     },
     "metadata": {},
     "output_type": "display_data"
    }
   ],
   "source": [
    "df2.iplot(kind='bar',x='Category',y='Values')"
   ]
  },
  {
   "cell_type": "code",
   "execution_count": 12,
   "metadata": {},
   "outputs": [
    {
     "data": {
      "application/vnd.plotly.v1+json": {
       "config": {
        "linkText": "Export to plot.ly",
        "plotlyServerURL": "https://plot.ly",
        "showLink": true
       },
       "data": [
        {
         "marker": {
          "color": "rgba(255, 153, 51, 0.6)",
          "line": {
           "color": "rgba(255, 153, 51, 1.0)",
           "width": 1
          }
         },
         "name": "None",
         "orientation": "v",
         "text": "",
         "type": "bar",
         "x": [
          "A",
          "B",
          "C",
          "D"
         ],
         "y": [
          -6.026119513380673,
          3.7902010710474525,
          12.466143639112538,
          -2.0723580802169645
         ]
        }
       ],
       "layout": {
        "legend": {
         "bgcolor": "#F5F6F9",
         "font": {
          "color": "#4D5663"
         }
        },
        "paper_bgcolor": "#F5F6F9",
        "plot_bgcolor": "#F5F6F9",
        "template": {
         "data": {
          "bar": [
           {
            "error_x": {
             "color": "#2a3f5f"
            },
            "error_y": {
             "color": "#2a3f5f"
            },
            "marker": {
             "line": {
              "color": "#E5ECF6",
              "width": 0.5
             }
            },
            "type": "bar"
           }
          ],
          "barpolar": [
           {
            "marker": {
             "line": {
              "color": "#E5ECF6",
              "width": 0.5
             }
            },
            "type": "barpolar"
           }
          ],
          "carpet": [
           {
            "aaxis": {
             "endlinecolor": "#2a3f5f",
             "gridcolor": "white",
             "linecolor": "white",
             "minorgridcolor": "white",
             "startlinecolor": "#2a3f5f"
            },
            "baxis": {
             "endlinecolor": "#2a3f5f",
             "gridcolor": "white",
             "linecolor": "white",
             "minorgridcolor": "white",
             "startlinecolor": "#2a3f5f"
            },
            "type": "carpet"
           }
          ],
          "choropleth": [
           {
            "colorbar": {
             "outlinewidth": 0,
             "ticks": ""
            },
            "type": "choropleth"
           }
          ],
          "contour": [
           {
            "colorbar": {
             "outlinewidth": 0,
             "ticks": ""
            },
            "colorscale": [
             [
              0,
              "#0d0887"
             ],
             [
              0.1111111111111111,
              "#46039f"
             ],
             [
              0.2222222222222222,
              "#7201a8"
             ],
             [
              0.3333333333333333,
              "#9c179e"
             ],
             [
              0.4444444444444444,
              "#bd3786"
             ],
             [
              0.5555555555555556,
              "#d8576b"
             ],
             [
              0.6666666666666666,
              "#ed7953"
             ],
             [
              0.7777777777777778,
              "#fb9f3a"
             ],
             [
              0.8888888888888888,
              "#fdca26"
             ],
             [
              1,
              "#f0f921"
             ]
            ],
            "type": "contour"
           }
          ],
          "contourcarpet": [
           {
            "colorbar": {
             "outlinewidth": 0,
             "ticks": ""
            },
            "type": "contourcarpet"
           }
          ],
          "heatmap": [
           {
            "colorbar": {
             "outlinewidth": 0,
             "ticks": ""
            },
            "colorscale": [
             [
              0,
              "#0d0887"
             ],
             [
              0.1111111111111111,
              "#46039f"
             ],
             [
              0.2222222222222222,
              "#7201a8"
             ],
             [
              0.3333333333333333,
              "#9c179e"
             ],
             [
              0.4444444444444444,
              "#bd3786"
             ],
             [
              0.5555555555555556,
              "#d8576b"
             ],
             [
              0.6666666666666666,
              "#ed7953"
             ],
             [
              0.7777777777777778,
              "#fb9f3a"
             ],
             [
              0.8888888888888888,
              "#fdca26"
             ],
             [
              1,
              "#f0f921"
             ]
            ],
            "type": "heatmap"
           }
          ],
          "heatmapgl": [
           {
            "colorbar": {
             "outlinewidth": 0,
             "ticks": ""
            },
            "colorscale": [
             [
              0,
              "#0d0887"
             ],
             [
              0.1111111111111111,
              "#46039f"
             ],
             [
              0.2222222222222222,
              "#7201a8"
             ],
             [
              0.3333333333333333,
              "#9c179e"
             ],
             [
              0.4444444444444444,
              "#bd3786"
             ],
             [
              0.5555555555555556,
              "#d8576b"
             ],
             [
              0.6666666666666666,
              "#ed7953"
             ],
             [
              0.7777777777777778,
              "#fb9f3a"
             ],
             [
              0.8888888888888888,
              "#fdca26"
             ],
             [
              1,
              "#f0f921"
             ]
            ],
            "type": "heatmapgl"
           }
          ],
          "histogram": [
           {
            "marker": {
             "colorbar": {
              "outlinewidth": 0,
              "ticks": ""
             }
            },
            "type": "histogram"
           }
          ],
          "histogram2d": [
           {
            "colorbar": {
             "outlinewidth": 0,
             "ticks": ""
            },
            "colorscale": [
             [
              0,
              "#0d0887"
             ],
             [
              0.1111111111111111,
              "#46039f"
             ],
             [
              0.2222222222222222,
              "#7201a8"
             ],
             [
              0.3333333333333333,
              "#9c179e"
             ],
             [
              0.4444444444444444,
              "#bd3786"
             ],
             [
              0.5555555555555556,
              "#d8576b"
             ],
             [
              0.6666666666666666,
              "#ed7953"
             ],
             [
              0.7777777777777778,
              "#fb9f3a"
             ],
             [
              0.8888888888888888,
              "#fdca26"
             ],
             [
              1,
              "#f0f921"
             ]
            ],
            "type": "histogram2d"
           }
          ],
          "histogram2dcontour": [
           {
            "colorbar": {
             "outlinewidth": 0,
             "ticks": ""
            },
            "colorscale": [
             [
              0,
              "#0d0887"
             ],
             [
              0.1111111111111111,
              "#46039f"
             ],
             [
              0.2222222222222222,
              "#7201a8"
             ],
             [
              0.3333333333333333,
              "#9c179e"
             ],
             [
              0.4444444444444444,
              "#bd3786"
             ],
             [
              0.5555555555555556,
              "#d8576b"
             ],
             [
              0.6666666666666666,
              "#ed7953"
             ],
             [
              0.7777777777777778,
              "#fb9f3a"
             ],
             [
              0.8888888888888888,
              "#fdca26"
             ],
             [
              1,
              "#f0f921"
             ]
            ],
            "type": "histogram2dcontour"
           }
          ],
          "mesh3d": [
           {
            "colorbar": {
             "outlinewidth": 0,
             "ticks": ""
            },
            "type": "mesh3d"
           }
          ],
          "parcoords": [
           {
            "line": {
             "colorbar": {
              "outlinewidth": 0,
              "ticks": ""
             }
            },
            "type": "parcoords"
           }
          ],
          "pie": [
           {
            "automargin": true,
            "type": "pie"
           }
          ],
          "scatter": [
           {
            "marker": {
             "colorbar": {
              "outlinewidth": 0,
              "ticks": ""
             }
            },
            "type": "scatter"
           }
          ],
          "scatter3d": [
           {
            "line": {
             "colorbar": {
              "outlinewidth": 0,
              "ticks": ""
             }
            },
            "marker": {
             "colorbar": {
              "outlinewidth": 0,
              "ticks": ""
             }
            },
            "type": "scatter3d"
           }
          ],
          "scattercarpet": [
           {
            "marker": {
             "colorbar": {
              "outlinewidth": 0,
              "ticks": ""
             }
            },
            "type": "scattercarpet"
           }
          ],
          "scattergeo": [
           {
            "marker": {
             "colorbar": {
              "outlinewidth": 0,
              "ticks": ""
             }
            },
            "type": "scattergeo"
           }
          ],
          "scattergl": [
           {
            "marker": {
             "colorbar": {
              "outlinewidth": 0,
              "ticks": ""
             }
            },
            "type": "scattergl"
           }
          ],
          "scattermapbox": [
           {
            "marker": {
             "colorbar": {
              "outlinewidth": 0,
              "ticks": ""
             }
            },
            "type": "scattermapbox"
           }
          ],
          "scatterpolar": [
           {
            "marker": {
             "colorbar": {
              "outlinewidth": 0,
              "ticks": ""
             }
            },
            "type": "scatterpolar"
           }
          ],
          "scatterpolargl": [
           {
            "marker": {
             "colorbar": {
              "outlinewidth": 0,
              "ticks": ""
             }
            },
            "type": "scatterpolargl"
           }
          ],
          "scatterternary": [
           {
            "marker": {
             "colorbar": {
              "outlinewidth": 0,
              "ticks": ""
             }
            },
            "type": "scatterternary"
           }
          ],
          "surface": [
           {
            "colorbar": {
             "outlinewidth": 0,
             "ticks": ""
            },
            "colorscale": [
             [
              0,
              "#0d0887"
             ],
             [
              0.1111111111111111,
              "#46039f"
             ],
             [
              0.2222222222222222,
              "#7201a8"
             ],
             [
              0.3333333333333333,
              "#9c179e"
             ],
             [
              0.4444444444444444,
              "#bd3786"
             ],
             [
              0.5555555555555556,
              "#d8576b"
             ],
             [
              0.6666666666666666,
              "#ed7953"
             ],
             [
              0.7777777777777778,
              "#fb9f3a"
             ],
             [
              0.8888888888888888,
              "#fdca26"
             ],
             [
              1,
              "#f0f921"
             ]
            ],
            "type": "surface"
           }
          ],
          "table": [
           {
            "cells": {
             "fill": {
              "color": "#EBF0F8"
             },
             "line": {
              "color": "white"
             }
            },
            "header": {
             "fill": {
              "color": "#C8D4E3"
             },
             "line": {
              "color": "white"
             }
            },
            "type": "table"
           }
          ]
         },
         "layout": {
          "annotationdefaults": {
           "arrowcolor": "#2a3f5f",
           "arrowhead": 0,
           "arrowwidth": 1
          },
          "coloraxis": {
           "colorbar": {
            "outlinewidth": 0,
            "ticks": ""
           }
          },
          "colorscale": {
           "diverging": [
            [
             0,
             "#8e0152"
            ],
            [
             0.1,
             "#c51b7d"
            ],
            [
             0.2,
             "#de77ae"
            ],
            [
             0.3,
             "#f1b6da"
            ],
            [
             0.4,
             "#fde0ef"
            ],
            [
             0.5,
             "#f7f7f7"
            ],
            [
             0.6,
             "#e6f5d0"
            ],
            [
             0.7,
             "#b8e186"
            ],
            [
             0.8,
             "#7fbc41"
            ],
            [
             0.9,
             "#4d9221"
            ],
            [
             1,
             "#276419"
            ]
           ],
           "sequential": [
            [
             0,
             "#0d0887"
            ],
            [
             0.1111111111111111,
             "#46039f"
            ],
            [
             0.2222222222222222,
             "#7201a8"
            ],
            [
             0.3333333333333333,
             "#9c179e"
            ],
            [
             0.4444444444444444,
             "#bd3786"
            ],
            [
             0.5555555555555556,
             "#d8576b"
            ],
            [
             0.6666666666666666,
             "#ed7953"
            ],
            [
             0.7777777777777778,
             "#fb9f3a"
            ],
            [
             0.8888888888888888,
             "#fdca26"
            ],
            [
             1,
             "#f0f921"
            ]
           ],
           "sequentialminus": [
            [
             0,
             "#0d0887"
            ],
            [
             0.1111111111111111,
             "#46039f"
            ],
            [
             0.2222222222222222,
             "#7201a8"
            ],
            [
             0.3333333333333333,
             "#9c179e"
            ],
            [
             0.4444444444444444,
             "#bd3786"
            ],
            [
             0.5555555555555556,
             "#d8576b"
            ],
            [
             0.6666666666666666,
             "#ed7953"
            ],
            [
             0.7777777777777778,
             "#fb9f3a"
            ],
            [
             0.8888888888888888,
             "#fdca26"
            ],
            [
             1,
             "#f0f921"
            ]
           ]
          },
          "colorway": [
           "#636efa",
           "#EF553B",
           "#00cc96",
           "#ab63fa",
           "#FFA15A",
           "#19d3f3",
           "#FF6692",
           "#B6E880",
           "#FF97FF",
           "#FECB52"
          ],
          "font": {
           "color": "#2a3f5f"
          },
          "geo": {
           "bgcolor": "white",
           "lakecolor": "white",
           "landcolor": "#E5ECF6",
           "showlakes": true,
           "showland": true,
           "subunitcolor": "white"
          },
          "hoverlabel": {
           "align": "left"
          },
          "hovermode": "closest",
          "mapbox": {
           "style": "light"
          },
          "paper_bgcolor": "white",
          "plot_bgcolor": "#E5ECF6",
          "polar": {
           "angularaxis": {
            "gridcolor": "white",
            "linecolor": "white",
            "ticks": ""
           },
           "bgcolor": "#E5ECF6",
           "radialaxis": {
            "gridcolor": "white",
            "linecolor": "white",
            "ticks": ""
           }
          },
          "scene": {
           "xaxis": {
            "backgroundcolor": "#E5ECF6",
            "gridcolor": "white",
            "gridwidth": 2,
            "linecolor": "white",
            "showbackground": true,
            "ticks": "",
            "zerolinecolor": "white"
           },
           "yaxis": {
            "backgroundcolor": "#E5ECF6",
            "gridcolor": "white",
            "gridwidth": 2,
            "linecolor": "white",
            "showbackground": true,
            "ticks": "",
            "zerolinecolor": "white"
           },
           "zaxis": {
            "backgroundcolor": "#E5ECF6",
            "gridcolor": "white",
            "gridwidth": 2,
            "linecolor": "white",
            "showbackground": true,
            "ticks": "",
            "zerolinecolor": "white"
           }
          },
          "shapedefaults": {
           "line": {
            "color": "#2a3f5f"
           }
          },
          "ternary": {
           "aaxis": {
            "gridcolor": "white",
            "linecolor": "white",
            "ticks": ""
           },
           "baxis": {
            "gridcolor": "white",
            "linecolor": "white",
            "ticks": ""
           },
           "bgcolor": "#E5ECF6",
           "caxis": {
            "gridcolor": "white",
            "linecolor": "white",
            "ticks": ""
           }
          },
          "title": {
           "x": 0.05
          },
          "xaxis": {
           "automargin": true,
           "gridcolor": "white",
           "linecolor": "white",
           "ticks": "",
           "title": {
            "standoff": 15
           },
           "zerolinecolor": "white",
           "zerolinewidth": 2
          },
          "yaxis": {
           "automargin": true,
           "gridcolor": "white",
           "linecolor": "white",
           "ticks": "",
           "title": {
            "standoff": 15
           },
           "zerolinecolor": "white",
           "zerolinewidth": 2
          }
         }
        },
        "title": {
         "font": {
          "color": "#4D5663"
         }
        },
        "xaxis": {
         "gridcolor": "#E1E5ED",
         "showgrid": true,
         "tickfont": {
          "color": "#4D5663"
         },
         "title": {
          "font": {
           "color": "#4D5663"
          },
          "text": ""
         },
         "zerolinecolor": "#E1E5ED"
        },
        "yaxis": {
         "gridcolor": "#E1E5ED",
         "showgrid": true,
         "tickfont": {
          "color": "#4D5663"
         },
         "title": {
          "font": {
           "color": "#4D5663"
          },
          "text": ""
         },
         "zerolinecolor": "#E1E5ED"
        }
       }
      },
      "text/html": [
       "<div>\n",
       "        \n",
       "        \n",
       "            <div id=\"6bfd0c90-4ef7-471d-9fe1-f50f67578218\" class=\"plotly-graph-div\" style=\"height:525px; width:100%;\"></div>\n",
       "            <script type=\"text/javascript\">\n",
       "                require([\"plotly\"], function(Plotly) {\n",
       "                    window.PLOTLYENV=window.PLOTLYENV || {};\n",
       "                    window.PLOTLYENV.BASE_URL='https://plot.ly';\n",
       "                    \n",
       "                if (document.getElementById(\"6bfd0c90-4ef7-471d-9fe1-f50f67578218\")) {\n",
       "                    Plotly.newPlot(\n",
       "                        '6bfd0c90-4ef7-471d-9fe1-f50f67578218',\n",
       "                        [{\"marker\": {\"color\": \"rgba(255, 153, 51, 0.6)\", \"line\": {\"color\": \"rgba(255, 153, 51, 1.0)\", \"width\": 1}}, \"name\": \"None\", \"orientation\": \"v\", \"text\": \"\", \"type\": \"bar\", \"x\": [\"A\", \"B\", \"C\", \"D\"], \"y\": [-6.026119513380673, 3.7902010710474525, 12.466143639112538, -2.0723580802169645]}],\n",
       "                        {\"legend\": {\"bgcolor\": \"#F5F6F9\", \"font\": {\"color\": \"#4D5663\"}}, \"paper_bgcolor\": \"#F5F6F9\", \"plot_bgcolor\": \"#F5F6F9\", \"template\": {\"data\": {\"bar\": [{\"error_x\": {\"color\": \"#2a3f5f\"}, \"error_y\": {\"color\": \"#2a3f5f\"}, \"marker\": {\"line\": {\"color\": \"#E5ECF6\", \"width\": 0.5}}, \"type\": \"bar\"}], \"barpolar\": [{\"marker\": {\"line\": {\"color\": \"#E5ECF6\", \"width\": 0.5}}, \"type\": \"barpolar\"}], \"carpet\": [{\"aaxis\": {\"endlinecolor\": \"#2a3f5f\", \"gridcolor\": \"white\", \"linecolor\": \"white\", \"minorgridcolor\": \"white\", \"startlinecolor\": \"#2a3f5f\"}, \"baxis\": {\"endlinecolor\": \"#2a3f5f\", \"gridcolor\": \"white\", \"linecolor\": \"white\", \"minorgridcolor\": \"white\", \"startlinecolor\": \"#2a3f5f\"}, \"type\": \"carpet\"}], \"choropleth\": [{\"colorbar\": {\"outlinewidth\": 0, \"ticks\": \"\"}, \"type\": \"choropleth\"}], \"contour\": [{\"colorbar\": {\"outlinewidth\": 0, \"ticks\": \"\"}, \"colorscale\": [[0.0, \"#0d0887\"], [0.1111111111111111, \"#46039f\"], [0.2222222222222222, \"#7201a8\"], [0.3333333333333333, \"#9c179e\"], [0.4444444444444444, \"#bd3786\"], [0.5555555555555556, \"#d8576b\"], [0.6666666666666666, \"#ed7953\"], [0.7777777777777778, \"#fb9f3a\"], [0.8888888888888888, \"#fdca26\"], [1.0, \"#f0f921\"]], \"type\": \"contour\"}], \"contourcarpet\": [{\"colorbar\": {\"outlinewidth\": 0, \"ticks\": \"\"}, \"type\": \"contourcarpet\"}], \"heatmap\": [{\"colorbar\": {\"outlinewidth\": 0, \"ticks\": \"\"}, \"colorscale\": [[0.0, \"#0d0887\"], [0.1111111111111111, \"#46039f\"], [0.2222222222222222, \"#7201a8\"], [0.3333333333333333, \"#9c179e\"], [0.4444444444444444, \"#bd3786\"], [0.5555555555555556, \"#d8576b\"], [0.6666666666666666, \"#ed7953\"], [0.7777777777777778, \"#fb9f3a\"], [0.8888888888888888, \"#fdca26\"], [1.0, \"#f0f921\"]], \"type\": \"heatmap\"}], \"heatmapgl\": [{\"colorbar\": {\"outlinewidth\": 0, \"ticks\": \"\"}, \"colorscale\": [[0.0, \"#0d0887\"], [0.1111111111111111, \"#46039f\"], [0.2222222222222222, \"#7201a8\"], [0.3333333333333333, \"#9c179e\"], [0.4444444444444444, \"#bd3786\"], [0.5555555555555556, \"#d8576b\"], [0.6666666666666666, \"#ed7953\"], [0.7777777777777778, \"#fb9f3a\"], [0.8888888888888888, \"#fdca26\"], [1.0, \"#f0f921\"]], \"type\": \"heatmapgl\"}], \"histogram\": [{\"marker\": {\"colorbar\": {\"outlinewidth\": 0, \"ticks\": \"\"}}, \"type\": \"histogram\"}], \"histogram2d\": [{\"colorbar\": {\"outlinewidth\": 0, \"ticks\": \"\"}, \"colorscale\": [[0.0, \"#0d0887\"], [0.1111111111111111, \"#46039f\"], [0.2222222222222222, \"#7201a8\"], [0.3333333333333333, \"#9c179e\"], [0.4444444444444444, \"#bd3786\"], [0.5555555555555556, \"#d8576b\"], [0.6666666666666666, \"#ed7953\"], [0.7777777777777778, \"#fb9f3a\"], [0.8888888888888888, \"#fdca26\"], [1.0, \"#f0f921\"]], \"type\": \"histogram2d\"}], \"histogram2dcontour\": [{\"colorbar\": {\"outlinewidth\": 0, \"ticks\": \"\"}, \"colorscale\": [[0.0, \"#0d0887\"], [0.1111111111111111, \"#46039f\"], [0.2222222222222222, \"#7201a8\"], [0.3333333333333333, \"#9c179e\"], [0.4444444444444444, \"#bd3786\"], [0.5555555555555556, \"#d8576b\"], [0.6666666666666666, \"#ed7953\"], [0.7777777777777778, \"#fb9f3a\"], [0.8888888888888888, \"#fdca26\"], [1.0, \"#f0f921\"]], \"type\": \"histogram2dcontour\"}], \"mesh3d\": [{\"colorbar\": {\"outlinewidth\": 0, \"ticks\": \"\"}, \"type\": \"mesh3d\"}], \"parcoords\": [{\"line\": {\"colorbar\": {\"outlinewidth\": 0, \"ticks\": \"\"}}, \"type\": \"parcoords\"}], \"pie\": [{\"automargin\": true, \"type\": \"pie\"}], \"scatter\": [{\"marker\": {\"colorbar\": {\"outlinewidth\": 0, \"ticks\": \"\"}}, \"type\": \"scatter\"}], \"scatter3d\": [{\"line\": {\"colorbar\": {\"outlinewidth\": 0, \"ticks\": \"\"}}, \"marker\": {\"colorbar\": {\"outlinewidth\": 0, \"ticks\": \"\"}}, \"type\": \"scatter3d\"}], \"scattercarpet\": [{\"marker\": {\"colorbar\": {\"outlinewidth\": 0, \"ticks\": \"\"}}, \"type\": \"scattercarpet\"}], \"scattergeo\": [{\"marker\": {\"colorbar\": {\"outlinewidth\": 0, \"ticks\": \"\"}}, \"type\": \"scattergeo\"}], \"scattergl\": [{\"marker\": {\"colorbar\": {\"outlinewidth\": 0, \"ticks\": \"\"}}, \"type\": \"scattergl\"}], \"scattermapbox\": [{\"marker\": {\"colorbar\": {\"outlinewidth\": 0, \"ticks\": \"\"}}, \"type\": \"scattermapbox\"}], \"scatterpolar\": [{\"marker\": {\"colorbar\": {\"outlinewidth\": 0, \"ticks\": \"\"}}, \"type\": \"scatterpolar\"}], \"scatterpolargl\": [{\"marker\": {\"colorbar\": {\"outlinewidth\": 0, \"ticks\": \"\"}}, \"type\": \"scatterpolargl\"}], \"scatterternary\": [{\"marker\": {\"colorbar\": {\"outlinewidth\": 0, \"ticks\": \"\"}}, \"type\": \"scatterternary\"}], \"surface\": [{\"colorbar\": {\"outlinewidth\": 0, \"ticks\": \"\"}, \"colorscale\": [[0.0, \"#0d0887\"], [0.1111111111111111, \"#46039f\"], [0.2222222222222222, \"#7201a8\"], [0.3333333333333333, \"#9c179e\"], [0.4444444444444444, \"#bd3786\"], [0.5555555555555556, \"#d8576b\"], [0.6666666666666666, \"#ed7953\"], [0.7777777777777778, \"#fb9f3a\"], [0.8888888888888888, \"#fdca26\"], [1.0, \"#f0f921\"]], \"type\": \"surface\"}], \"table\": [{\"cells\": {\"fill\": {\"color\": \"#EBF0F8\"}, \"line\": {\"color\": \"white\"}}, \"header\": {\"fill\": {\"color\": \"#C8D4E3\"}, \"line\": {\"color\": \"white\"}}, \"type\": \"table\"}]}, \"layout\": {\"annotationdefaults\": {\"arrowcolor\": \"#2a3f5f\", \"arrowhead\": 0, \"arrowwidth\": 1}, \"coloraxis\": {\"colorbar\": {\"outlinewidth\": 0, \"ticks\": \"\"}}, \"colorscale\": {\"diverging\": [[0, \"#8e0152\"], [0.1, \"#c51b7d\"], [0.2, \"#de77ae\"], [0.3, \"#f1b6da\"], [0.4, \"#fde0ef\"], [0.5, \"#f7f7f7\"], [0.6, \"#e6f5d0\"], [0.7, \"#b8e186\"], [0.8, \"#7fbc41\"], [0.9, \"#4d9221\"], [1, \"#276419\"]], \"sequential\": [[0.0, \"#0d0887\"], [0.1111111111111111, \"#46039f\"], [0.2222222222222222, \"#7201a8\"], [0.3333333333333333, \"#9c179e\"], [0.4444444444444444, \"#bd3786\"], [0.5555555555555556, \"#d8576b\"], [0.6666666666666666, \"#ed7953\"], [0.7777777777777778, \"#fb9f3a\"], [0.8888888888888888, \"#fdca26\"], [1.0, \"#f0f921\"]], \"sequentialminus\": [[0.0, \"#0d0887\"], [0.1111111111111111, \"#46039f\"], [0.2222222222222222, \"#7201a8\"], [0.3333333333333333, \"#9c179e\"], [0.4444444444444444, \"#bd3786\"], [0.5555555555555556, \"#d8576b\"], [0.6666666666666666, \"#ed7953\"], [0.7777777777777778, \"#fb9f3a\"], [0.8888888888888888, \"#fdca26\"], [1.0, \"#f0f921\"]]}, \"colorway\": [\"#636efa\", \"#EF553B\", \"#00cc96\", \"#ab63fa\", \"#FFA15A\", \"#19d3f3\", \"#FF6692\", \"#B6E880\", \"#FF97FF\", \"#FECB52\"], \"font\": {\"color\": \"#2a3f5f\"}, \"geo\": {\"bgcolor\": \"white\", \"lakecolor\": \"white\", \"landcolor\": \"#E5ECF6\", \"showlakes\": true, \"showland\": true, \"subunitcolor\": \"white\"}, \"hoverlabel\": {\"align\": \"left\"}, \"hovermode\": \"closest\", \"mapbox\": {\"style\": \"light\"}, \"paper_bgcolor\": \"white\", \"plot_bgcolor\": \"#E5ECF6\", \"polar\": {\"angularaxis\": {\"gridcolor\": \"white\", \"linecolor\": \"white\", \"ticks\": \"\"}, \"bgcolor\": \"#E5ECF6\", \"radialaxis\": {\"gridcolor\": \"white\", \"linecolor\": \"white\", \"ticks\": \"\"}}, \"scene\": {\"xaxis\": {\"backgroundcolor\": \"#E5ECF6\", \"gridcolor\": \"white\", \"gridwidth\": 2, \"linecolor\": \"white\", \"showbackground\": true, \"ticks\": \"\", \"zerolinecolor\": \"white\"}, \"yaxis\": {\"backgroundcolor\": \"#E5ECF6\", \"gridcolor\": \"white\", \"gridwidth\": 2, \"linecolor\": \"white\", \"showbackground\": true, \"ticks\": \"\", \"zerolinecolor\": \"white\"}, \"zaxis\": {\"backgroundcolor\": \"#E5ECF6\", \"gridcolor\": \"white\", \"gridwidth\": 2, \"linecolor\": \"white\", \"showbackground\": true, \"ticks\": \"\", \"zerolinecolor\": \"white\"}}, \"shapedefaults\": {\"line\": {\"color\": \"#2a3f5f\"}}, \"ternary\": {\"aaxis\": {\"gridcolor\": \"white\", \"linecolor\": \"white\", \"ticks\": \"\"}, \"baxis\": {\"gridcolor\": \"white\", \"linecolor\": \"white\", \"ticks\": \"\"}, \"bgcolor\": \"#E5ECF6\", \"caxis\": {\"gridcolor\": \"white\", \"linecolor\": \"white\", \"ticks\": \"\"}}, \"title\": {\"x\": 0.05}, \"xaxis\": {\"automargin\": true, \"gridcolor\": \"white\", \"linecolor\": \"white\", \"ticks\": \"\", \"title\": {\"standoff\": 15}, \"zerolinecolor\": \"white\", \"zerolinewidth\": 2}, \"yaxis\": {\"automargin\": true, \"gridcolor\": \"white\", \"linecolor\": \"white\", \"ticks\": \"\", \"title\": {\"standoff\": 15}, \"zerolinecolor\": \"white\", \"zerolinewidth\": 2}}}, \"title\": {\"font\": {\"color\": \"#4D5663\"}}, \"xaxis\": {\"gridcolor\": \"#E1E5ED\", \"showgrid\": true, \"tickfont\": {\"color\": \"#4D5663\"}, \"title\": {\"font\": {\"color\": \"#4D5663\"}, \"text\": \"\"}, \"zerolinecolor\": \"#E1E5ED\"}, \"yaxis\": {\"gridcolor\": \"#E1E5ED\", \"showgrid\": true, \"tickfont\": {\"color\": \"#4D5663\"}, \"title\": {\"font\": {\"color\": \"#4D5663\"}, \"text\": \"\"}, \"zerolinecolor\": \"#E1E5ED\"}},\n",
       "                        {\"showLink\": true, \"linkText\": \"Export to plot.ly\", \"plotlyServerURL\": \"https://plot.ly\", \"responsive\": true}\n",
       "                    ).then(function(){\n",
       "                            \n",
       "var gd = document.getElementById('6bfd0c90-4ef7-471d-9fe1-f50f67578218');\n",
       "var x = new MutationObserver(function (mutations, observer) {{\n",
       "        var display = window.getComputedStyle(gd).display;\n",
       "        if (!display || display === 'none') {{\n",
       "            console.log([gd, 'removed!']);\n",
       "            Plotly.purge(gd);\n",
       "            observer.disconnect();\n",
       "        }}\n",
       "}});\n",
       "\n",
       "// Listen for the removal of the full notebook cells\n",
       "var notebookContainer = gd.closest('#notebook-container');\n",
       "if (notebookContainer) {{\n",
       "    x.observe(notebookContainer, {childList: true});\n",
       "}}\n",
       "\n",
       "// Listen for the clearing of the current output cell\n",
       "var outputEl = gd.closest('.output');\n",
       "if (outputEl) {{\n",
       "    x.observe(outputEl, {childList: true});\n",
       "}}\n",
       "\n",
       "                        })\n",
       "                };\n",
       "                });\n",
       "            </script>\n",
       "        </div>"
      ]
     },
     "metadata": {},
     "output_type": "display_data"
    }
   ],
   "source": [
    " # df.count().iplot(kind='bar')\n",
    "#do  aggregate to make sense\n",
    "df.sum().iplot(kind='bar')"
   ]
  },
  {
   "cell_type": "markdown",
   "metadata": {},
   "source": [
    "## Boxplots"
   ]
  },
  {
   "cell_type": "code",
   "execution_count": 13,
   "metadata": {},
   "outputs": [
    {
     "data": {
      "application/vnd.plotly.v1+json": {
       "config": {
        "linkText": "Export to plot.ly",
        "plotlyServerURL": "https://plot.ly",
        "showLink": true
       },
       "data": [
        {
         "boxpoints": false,
         "line": {
          "width": 1.3
         },
         "marker": {
          "color": "rgba(255, 153, 51, 1.0)"
         },
         "name": "A",
         "orientation": "v",
         "type": "box",
         "y": [
          -1.1840365621651945,
          -1.8381134858425232,
          -0.7277279334148866,
          -0.028971296517589097,
          0.825450382839014,
          -0.5614608633274173,
          -0.6603089317004062,
          1.6725527210902709,
          -0.2968938241848866,
          -0.7455791661784459,
          -0.9725191265715754,
          -0.17464149117399802,
          0.04597974569488585,
          -0.902823009779421,
          0.6600421623207664,
          -0.1373628365003551,
          -0.19933540675238912,
          2.232844506603289,
          -0.5866449656845658,
          -0.44827422430998215,
          -0.8126261620742526,
          0.3152056930303498,
          -1.5326742515335599,
          -1.3136876285306804,
          0.7465963870088331,
          1.3642850738121695,
          0.6227848343777126,
          0.9740940144969882,
          -0.03274610543656052,
          -0.23648932796707953,
          -0.5207684786746272,
          0.8150690070383287,
          0.8675613689644536,
          0.4620135634840239,
          -0.7926717247669486,
          0.049196575117251874,
          -1.0081977206190973,
          -0.19006178333019064,
          0.16938736014080316,
          1.6216816922631585,
          0.48642387377101337,
          0.6425010555936774,
          -1.63468048016266,
          -1.0470236308252987,
          0.3242329374347403,
          0.0943239920247155,
          0.3577150372212665,
          0.9236731892573657,
          1.6110323640649022,
          -0.042561925631995866,
          -0.43485544242184443,
          -0.8494618434253626,
          -0.8286206654583846,
          0.5324068271400587,
          0.44911904243558154,
          -0.37408960381593065,
          2.286830918685426,
          0.8056634189729108,
          0.611806492535484,
          1.3483873907369872,
          0.8586206478746982,
          -1.864926079553018,
          0.5198523571964471,
          -0.5137922851909704,
          -0.14859213220638998,
          -0.8434697432455353,
          -0.43125185207336814,
          0.32798193925352487,
          -0.9610454413972249,
          0.46050655291944365,
          -0.722804354638819,
          -1.245109552366151,
          -0.10064611244150451,
          0.8032841842806812,
          -1.1676378568872408,
          -2.512415133958864,
          -2.036925165214611,
          0.4414699595223629,
          -2.1978416072993685,
          0.3433106234260381,
          -0.2886576812286424,
          0.3427460539289989,
          0.5997642732764263,
          2.110771985511631,
          -0.6557430487299993,
          -1.172584879204941,
          0.5906194577721403,
          0.4863798984476543,
          -0.5647382607184777,
          -1.636502180160153,
          1.1318533611412398,
          0.346456706099411,
          -0.5009745761701883,
          1.2237802234261634,
          0.7943402042622165,
          0.46825175886511367,
          0.30669243561811416,
          0.6219140841086478,
          -1.5046859448603147,
          -0.5373240621441666
         ]
        },
        {
         "boxpoints": false,
         "line": {
          "width": 1.3
         },
         "marker": {
          "color": "rgba(55, 128, 191, 1.0)"
         },
         "name": "B",
         "orientation": "v",
         "type": "box",
         "y": [
          0.7748574018350498,
          -0.8491056720735701,
          0.6914611085875526,
          1.1752875372815135,
          0.4162742573571235,
          -0.6952221903678409,
          0.7908201017015961,
          -0.39968184016567027,
          -0.4226151861377561,
          -0.16105722437957612,
          -0.9753539757949506,
          0.5977643273494854,
          -0.8888430599435827,
          0.4494305636804583,
          0.20609210531358196,
          -0.49022300526966706,
          -1.1886750583700814,
          0.2385127198502449,
          1.05249011826461,
          0.4034854022152594,
          -0.0479351953311653,
          0.5285875801575323,
          -0.8975425504391127,
          -0.9332949613409988,
          0.7145846867253706,
          -1.2754180312058925,
          -0.33935108820751164,
          -0.34572951265255847,
          0.8402196474654661,
          1.8579077941247726,
          -0.10545501116095234,
          -0.43029645225787383,
          -1.471009145551944,
          0.018313033612988895,
          0.05863378120340704,
          -0.7481251383861267,
          1.2739284752793545,
          -1.2688830632305381,
          0.04863904155004324,
          0.6590964872389021,
          1.6738927361115674,
          1.1447265427849844,
          0.26804703844199823,
          0.6146962222473003,
          0.8815348744267175,
          0.4152753764475723,
          -1.3748803282110544,
          -0.8555156955454922,
          1.0716946029249914,
          -0.18854674519334236,
          1.6767333881177955,
          0.3250252134387557,
          1.752760184188171,
          0.8348678395347147,
          -0.030014862454295552,
          1.3650079773832526,
          0.5128929565450878,
          0.1773698200047356,
          -0.4971404989716503,
          0.21478254702547728,
          -0.7480145706490767,
          0.5397806554794098,
          -0.5270300252772776,
          0.25976914331856615,
          -0.34787617938088616,
          -1.441248767668745,
          -1.5978719846155973,
          1.8760190283758935,
          2.058786169419131,
          0.04416637128786382,
          -0.11990218115432498,
          -0.32346234697218584,
          0.7587833672465661,
          0.1764232013077506,
          2.3271774971821166,
          -0.025870405639904837,
          -0.29898147778189804,
          0.45503789748310974,
          -0.3557650151783652,
          -0.3476159607705035,
          0.05314676086246436,
          -1.2068805594060426,
          -1.218095609914161,
          -0.605536020423741,
          -0.5639854925951856,
          0.5292292854352497,
          0.5224444059168056,
          -0.34012701139348117,
          0.3409887608709333,
          0.3034569426427565,
          0.02050058661276885,
          0.06559131836346563,
          0.16276827346155767,
          -1.7289045833130687,
          -1.2926726553484278,
          0.3706707209524533,
          -1.1632329413595424,
          -0.8424734722469165,
          -1.3825350305370303,
          0.557764978680726
         ]
        },
        {
         "boxpoints": false,
         "line": {
          "width": 1.3
         },
         "marker": {
          "color": "rgba(50, 171, 96, 1.0)"
         },
         "name": "C",
         "orientation": "v",
         "type": "box",
         "y": [
          -0.13075131036378393,
          -1.9766351382901388,
          2.359391483239348,
          0.332484562167801,
          1.9319128619571195,
          0.029124217949669882,
          -1.2844804097392815,
          -0.11539417465904929,
          -1.3902268237907565,
          -0.09177603626710525,
          -0.8959786694349934,
          0.6698909601613622,
          -0.5994535595042667,
          -1.4904652814956088,
          0.2596883000180945,
          0.2572737195516556,
          1.0484326385043803,
          9.636717248655658e-05,
          0.5192536189064421,
          0.6750978849511353,
          -0.6975100357555095,
          0.670467924562605,
          -0.32525342029309684,
          -0.7094220074205353,
          -0.7846501670210279,
          -1.0497873074734148,
          0.9247265800134937,
          0.5845643963129014,
          -0.45701168432168066,
          0.9545084832232573,
          1.4628229979357623,
          0.5722746269224713,
          -0.15504026772791643,
          -0.9514694023767296,
          -0.2941305882283108,
          0.9862806641164041,
          0.13929622387572363,
          0.7775837270608291,
          -0.516609318358424,
          -0.39921259289083977,
          0.8080185091614575,
          -0.14534015305333706,
          1.3158888719970208,
          -0.23992344546267205,
          1.1685567724854657,
          -0.3838409258449429,
          -0.2894555882388486,
          0.5239914462186199,
          1.384322441112758,
          0.38421690190088065,
          -0.17673392841986954,
          -0.7932137243798739,
          2.5118540947351025,
          0.6580468624387785,
          0.5808602432029525,
          -0.9709368714502858,
          1.860500579975986,
          0.7826981017385283,
          -0.0971289080929145,
          -0.05018858733969054,
          -0.8834422072711728,
          0.5037128006816742,
          -0.8144218848061271,
          -1.3229859402766706,
          -0.1637166795202983,
          -0.47748121300006424,
          0.03167390038804507,
          0.6910256142660218,
          -0.09838815524689949,
          -1.2688672757238648,
          -0.15814379703148304,
          -0.06388280711787181,
          -0.7894621848690133,
          0.8613594196284226,
          -0.7676034719999096,
          0.02644945606272413,
          0.050890485901894926,
          1.0899999646133016,
          -0.9055937990155126,
          0.6476545188698527,
          0.7977593877036964,
          0.1928323093903488,
          -0.24670858490897626,
          2.351376125771722,
          -0.5979936231981169,
          1.5965238869623473,
          0.783464554736259,
          -0.19023386325965286,
          0.5948103546485063,
          0.08454108319684282,
          0.5443866679573024,
          -1.6946496660709542,
          1.0500811624643263,
          1.5100126114675998,
          -0.7328994274505252,
          0.7456327774664977,
          -0.5505202892794008,
          0.04057429676737818,
          0.15155736191078095,
          0.17471303242791603
         ]
        },
        {
         "boxpoints": false,
         "line": {
          "width": 1.3
         },
         "marker": {
          "color": "rgba(128, 0, 128, 1.0)"
         },
         "name": "D",
         "orientation": "v",
         "type": "box",
         "y": [
          -0.3109228800255749,
          -0.04435791625087433,
          1.7716348098062678,
          -1.0493683586255418,
          -1.0665903685316402,
          -2.1025631429841405,
          -0.6807417862389978,
          2.1985027264371224,
          0.37810087766951334,
          -0.4295934909667167,
          -2.248244371078392,
          -2.5053560497137632,
          1.2684156502861,
          0.08331658102783852,
          0.526696105998118,
          -0.6292095935193119,
          -0.5997967808433086,
          -0.6155486266727146,
          1.7045365486016097,
          -0.601276888450068,
          1.697470537334648,
          2.2923861989070438,
          0.9326249326398058,
          0.8606227390308568,
          -2.9236403720092268,
          1.29483800200945,
          -0.06975011636905842,
          0.05784498824832419,
          0.033853479502720905,
          0.47923115681408285,
          -0.26440242528641617,
          -0.27192490638944206,
          -1.1415874270423094,
          0.6436896480429837,
          0.25105546655016564,
          -1.3079938557342605,
          2.566764924527969,
          -2.352051142170725,
          -1.73121853372614,
          0.3404280647245284,
          -0.17969459631954798,
          0.48568232569143815,
          0.6580903990951771,
          2.2051409347483992,
          -0.12447187882099256,
          -0.6355468578198471,
          -0.6142097326154164,
          -2.024364478787583,
          0.42494805926035933,
          1.0480357114558718,
          -0.08419009931661706,
          0.5074685421083154,
          0.4898698527698281,
          1.0118081401720047,
          -1.1301003497409974,
          -0.22247145696906556,
          0.4608177907472395,
          -1.0094761182944447,
          1.1478773360752896,
          -0.19942338900064682,
          -1.1590343864074402,
          -0.1633156306915748,
          0.1114996264531976,
          -0.48171246278907404,
          -0.09821576955187183,
          -0.9153602480036214,
          -0.3767664489496155,
          0.1704138161909583,
          -0.9230168538832264,
          -0.3552117161642221,
          -0.4912177194348223,
          0.9095078130176419,
          1.93481636583586,
          0.34869020123610384,
          0.9326565933399767,
          -0.08316365835824382,
          -0.7692480688080877,
          -1.4060621920236365,
          -0.006246553266562083,
          -1.0639936316386083,
          -1.0088943985948773,
          -1.0354001402401753,
          0.49586925050720415,
          0.21183219244548893,
          0.42208101257324177,
          -1.1807023153770395,
          0.5838435124984659,
          0.7716715564675956,
          -0.6868763790279935,
          -0.47315146040381595,
          0.641453091864015,
          0.18828492231164531,
          -0.5924417282086342,
          1.3256727398800516,
          -1.33197914578505,
          -0.0823222228388583,
          1.2781846487773636,
          2.667224411053259,
          2.0550003848740976,
          -1.0883916290653706
         ]
        }
       ],
       "layout": {
        "legend": {
         "bgcolor": "#F5F6F9",
         "font": {
          "color": "#4D5663"
         }
        },
        "paper_bgcolor": "#F5F6F9",
        "plot_bgcolor": "#F5F6F9",
        "template": {
         "data": {
          "bar": [
           {
            "error_x": {
             "color": "#2a3f5f"
            },
            "error_y": {
             "color": "#2a3f5f"
            },
            "marker": {
             "line": {
              "color": "#E5ECF6",
              "width": 0.5
             }
            },
            "type": "bar"
           }
          ],
          "barpolar": [
           {
            "marker": {
             "line": {
              "color": "#E5ECF6",
              "width": 0.5
             }
            },
            "type": "barpolar"
           }
          ],
          "carpet": [
           {
            "aaxis": {
             "endlinecolor": "#2a3f5f",
             "gridcolor": "white",
             "linecolor": "white",
             "minorgridcolor": "white",
             "startlinecolor": "#2a3f5f"
            },
            "baxis": {
             "endlinecolor": "#2a3f5f",
             "gridcolor": "white",
             "linecolor": "white",
             "minorgridcolor": "white",
             "startlinecolor": "#2a3f5f"
            },
            "type": "carpet"
           }
          ],
          "choropleth": [
           {
            "colorbar": {
             "outlinewidth": 0,
             "ticks": ""
            },
            "type": "choropleth"
           }
          ],
          "contour": [
           {
            "colorbar": {
             "outlinewidth": 0,
             "ticks": ""
            },
            "colorscale": [
             [
              0,
              "#0d0887"
             ],
             [
              0.1111111111111111,
              "#46039f"
             ],
             [
              0.2222222222222222,
              "#7201a8"
             ],
             [
              0.3333333333333333,
              "#9c179e"
             ],
             [
              0.4444444444444444,
              "#bd3786"
             ],
             [
              0.5555555555555556,
              "#d8576b"
             ],
             [
              0.6666666666666666,
              "#ed7953"
             ],
             [
              0.7777777777777778,
              "#fb9f3a"
             ],
             [
              0.8888888888888888,
              "#fdca26"
             ],
             [
              1,
              "#f0f921"
             ]
            ],
            "type": "contour"
           }
          ],
          "contourcarpet": [
           {
            "colorbar": {
             "outlinewidth": 0,
             "ticks": ""
            },
            "type": "contourcarpet"
           }
          ],
          "heatmap": [
           {
            "colorbar": {
             "outlinewidth": 0,
             "ticks": ""
            },
            "colorscale": [
             [
              0,
              "#0d0887"
             ],
             [
              0.1111111111111111,
              "#46039f"
             ],
             [
              0.2222222222222222,
              "#7201a8"
             ],
             [
              0.3333333333333333,
              "#9c179e"
             ],
             [
              0.4444444444444444,
              "#bd3786"
             ],
             [
              0.5555555555555556,
              "#d8576b"
             ],
             [
              0.6666666666666666,
              "#ed7953"
             ],
             [
              0.7777777777777778,
              "#fb9f3a"
             ],
             [
              0.8888888888888888,
              "#fdca26"
             ],
             [
              1,
              "#f0f921"
             ]
            ],
            "type": "heatmap"
           }
          ],
          "heatmapgl": [
           {
            "colorbar": {
             "outlinewidth": 0,
             "ticks": ""
            },
            "colorscale": [
             [
              0,
              "#0d0887"
             ],
             [
              0.1111111111111111,
              "#46039f"
             ],
             [
              0.2222222222222222,
              "#7201a8"
             ],
             [
              0.3333333333333333,
              "#9c179e"
             ],
             [
              0.4444444444444444,
              "#bd3786"
             ],
             [
              0.5555555555555556,
              "#d8576b"
             ],
             [
              0.6666666666666666,
              "#ed7953"
             ],
             [
              0.7777777777777778,
              "#fb9f3a"
             ],
             [
              0.8888888888888888,
              "#fdca26"
             ],
             [
              1,
              "#f0f921"
             ]
            ],
            "type": "heatmapgl"
           }
          ],
          "histogram": [
           {
            "marker": {
             "colorbar": {
              "outlinewidth": 0,
              "ticks": ""
             }
            },
            "type": "histogram"
           }
          ],
          "histogram2d": [
           {
            "colorbar": {
             "outlinewidth": 0,
             "ticks": ""
            },
            "colorscale": [
             [
              0,
              "#0d0887"
             ],
             [
              0.1111111111111111,
              "#46039f"
             ],
             [
              0.2222222222222222,
              "#7201a8"
             ],
             [
              0.3333333333333333,
              "#9c179e"
             ],
             [
              0.4444444444444444,
              "#bd3786"
             ],
             [
              0.5555555555555556,
              "#d8576b"
             ],
             [
              0.6666666666666666,
              "#ed7953"
             ],
             [
              0.7777777777777778,
              "#fb9f3a"
             ],
             [
              0.8888888888888888,
              "#fdca26"
             ],
             [
              1,
              "#f0f921"
             ]
            ],
            "type": "histogram2d"
           }
          ],
          "histogram2dcontour": [
           {
            "colorbar": {
             "outlinewidth": 0,
             "ticks": ""
            },
            "colorscale": [
             [
              0,
              "#0d0887"
             ],
             [
              0.1111111111111111,
              "#46039f"
             ],
             [
              0.2222222222222222,
              "#7201a8"
             ],
             [
              0.3333333333333333,
              "#9c179e"
             ],
             [
              0.4444444444444444,
              "#bd3786"
             ],
             [
              0.5555555555555556,
              "#d8576b"
             ],
             [
              0.6666666666666666,
              "#ed7953"
             ],
             [
              0.7777777777777778,
              "#fb9f3a"
             ],
             [
              0.8888888888888888,
              "#fdca26"
             ],
             [
              1,
              "#f0f921"
             ]
            ],
            "type": "histogram2dcontour"
           }
          ],
          "mesh3d": [
           {
            "colorbar": {
             "outlinewidth": 0,
             "ticks": ""
            },
            "type": "mesh3d"
           }
          ],
          "parcoords": [
           {
            "line": {
             "colorbar": {
              "outlinewidth": 0,
              "ticks": ""
             }
            },
            "type": "parcoords"
           }
          ],
          "pie": [
           {
            "automargin": true,
            "type": "pie"
           }
          ],
          "scatter": [
           {
            "marker": {
             "colorbar": {
              "outlinewidth": 0,
              "ticks": ""
             }
            },
            "type": "scatter"
           }
          ],
          "scatter3d": [
           {
            "line": {
             "colorbar": {
              "outlinewidth": 0,
              "ticks": ""
             }
            },
            "marker": {
             "colorbar": {
              "outlinewidth": 0,
              "ticks": ""
             }
            },
            "type": "scatter3d"
           }
          ],
          "scattercarpet": [
           {
            "marker": {
             "colorbar": {
              "outlinewidth": 0,
              "ticks": ""
             }
            },
            "type": "scattercarpet"
           }
          ],
          "scattergeo": [
           {
            "marker": {
             "colorbar": {
              "outlinewidth": 0,
              "ticks": ""
             }
            },
            "type": "scattergeo"
           }
          ],
          "scattergl": [
           {
            "marker": {
             "colorbar": {
              "outlinewidth": 0,
              "ticks": ""
             }
            },
            "type": "scattergl"
           }
          ],
          "scattermapbox": [
           {
            "marker": {
             "colorbar": {
              "outlinewidth": 0,
              "ticks": ""
             }
            },
            "type": "scattermapbox"
           }
          ],
          "scatterpolar": [
           {
            "marker": {
             "colorbar": {
              "outlinewidth": 0,
              "ticks": ""
             }
            },
            "type": "scatterpolar"
           }
          ],
          "scatterpolargl": [
           {
            "marker": {
             "colorbar": {
              "outlinewidth": 0,
              "ticks": ""
             }
            },
            "type": "scatterpolargl"
           }
          ],
          "scatterternary": [
           {
            "marker": {
             "colorbar": {
              "outlinewidth": 0,
              "ticks": ""
             }
            },
            "type": "scatterternary"
           }
          ],
          "surface": [
           {
            "colorbar": {
             "outlinewidth": 0,
             "ticks": ""
            },
            "colorscale": [
             [
              0,
              "#0d0887"
             ],
             [
              0.1111111111111111,
              "#46039f"
             ],
             [
              0.2222222222222222,
              "#7201a8"
             ],
             [
              0.3333333333333333,
              "#9c179e"
             ],
             [
              0.4444444444444444,
              "#bd3786"
             ],
             [
              0.5555555555555556,
              "#d8576b"
             ],
             [
              0.6666666666666666,
              "#ed7953"
             ],
             [
              0.7777777777777778,
              "#fb9f3a"
             ],
             [
              0.8888888888888888,
              "#fdca26"
             ],
             [
              1,
              "#f0f921"
             ]
            ],
            "type": "surface"
           }
          ],
          "table": [
           {
            "cells": {
             "fill": {
              "color": "#EBF0F8"
             },
             "line": {
              "color": "white"
             }
            },
            "header": {
             "fill": {
              "color": "#C8D4E3"
             },
             "line": {
              "color": "white"
             }
            },
            "type": "table"
           }
          ]
         },
         "layout": {
          "annotationdefaults": {
           "arrowcolor": "#2a3f5f",
           "arrowhead": 0,
           "arrowwidth": 1
          },
          "coloraxis": {
           "colorbar": {
            "outlinewidth": 0,
            "ticks": ""
           }
          },
          "colorscale": {
           "diverging": [
            [
             0,
             "#8e0152"
            ],
            [
             0.1,
             "#c51b7d"
            ],
            [
             0.2,
             "#de77ae"
            ],
            [
             0.3,
             "#f1b6da"
            ],
            [
             0.4,
             "#fde0ef"
            ],
            [
             0.5,
             "#f7f7f7"
            ],
            [
             0.6,
             "#e6f5d0"
            ],
            [
             0.7,
             "#b8e186"
            ],
            [
             0.8,
             "#7fbc41"
            ],
            [
             0.9,
             "#4d9221"
            ],
            [
             1,
             "#276419"
            ]
           ],
           "sequential": [
            [
             0,
             "#0d0887"
            ],
            [
             0.1111111111111111,
             "#46039f"
            ],
            [
             0.2222222222222222,
             "#7201a8"
            ],
            [
             0.3333333333333333,
             "#9c179e"
            ],
            [
             0.4444444444444444,
             "#bd3786"
            ],
            [
             0.5555555555555556,
             "#d8576b"
            ],
            [
             0.6666666666666666,
             "#ed7953"
            ],
            [
             0.7777777777777778,
             "#fb9f3a"
            ],
            [
             0.8888888888888888,
             "#fdca26"
            ],
            [
             1,
             "#f0f921"
            ]
           ],
           "sequentialminus": [
            [
             0,
             "#0d0887"
            ],
            [
             0.1111111111111111,
             "#46039f"
            ],
            [
             0.2222222222222222,
             "#7201a8"
            ],
            [
             0.3333333333333333,
             "#9c179e"
            ],
            [
             0.4444444444444444,
             "#bd3786"
            ],
            [
             0.5555555555555556,
             "#d8576b"
            ],
            [
             0.6666666666666666,
             "#ed7953"
            ],
            [
             0.7777777777777778,
             "#fb9f3a"
            ],
            [
             0.8888888888888888,
             "#fdca26"
            ],
            [
             1,
             "#f0f921"
            ]
           ]
          },
          "colorway": [
           "#636efa",
           "#EF553B",
           "#00cc96",
           "#ab63fa",
           "#FFA15A",
           "#19d3f3",
           "#FF6692",
           "#B6E880",
           "#FF97FF",
           "#FECB52"
          ],
          "font": {
           "color": "#2a3f5f"
          },
          "geo": {
           "bgcolor": "white",
           "lakecolor": "white",
           "landcolor": "#E5ECF6",
           "showlakes": true,
           "showland": true,
           "subunitcolor": "white"
          },
          "hoverlabel": {
           "align": "left"
          },
          "hovermode": "closest",
          "mapbox": {
           "style": "light"
          },
          "paper_bgcolor": "white",
          "plot_bgcolor": "#E5ECF6",
          "polar": {
           "angularaxis": {
            "gridcolor": "white",
            "linecolor": "white",
            "ticks": ""
           },
           "bgcolor": "#E5ECF6",
           "radialaxis": {
            "gridcolor": "white",
            "linecolor": "white",
            "ticks": ""
           }
          },
          "scene": {
           "xaxis": {
            "backgroundcolor": "#E5ECF6",
            "gridcolor": "white",
            "gridwidth": 2,
            "linecolor": "white",
            "showbackground": true,
            "ticks": "",
            "zerolinecolor": "white"
           },
           "yaxis": {
            "backgroundcolor": "#E5ECF6",
            "gridcolor": "white",
            "gridwidth": 2,
            "linecolor": "white",
            "showbackground": true,
            "ticks": "",
            "zerolinecolor": "white"
           },
           "zaxis": {
            "backgroundcolor": "#E5ECF6",
            "gridcolor": "white",
            "gridwidth": 2,
            "linecolor": "white",
            "showbackground": true,
            "ticks": "",
            "zerolinecolor": "white"
           }
          },
          "shapedefaults": {
           "line": {
            "color": "#2a3f5f"
           }
          },
          "ternary": {
           "aaxis": {
            "gridcolor": "white",
            "linecolor": "white",
            "ticks": ""
           },
           "baxis": {
            "gridcolor": "white",
            "linecolor": "white",
            "ticks": ""
           },
           "bgcolor": "#E5ECF6",
           "caxis": {
            "gridcolor": "white",
            "linecolor": "white",
            "ticks": ""
           }
          },
          "title": {
           "x": 0.05
          },
          "xaxis": {
           "automargin": true,
           "gridcolor": "white",
           "linecolor": "white",
           "ticks": "",
           "title": {
            "standoff": 15
           },
           "zerolinecolor": "white",
           "zerolinewidth": 2
          },
          "yaxis": {
           "automargin": true,
           "gridcolor": "white",
           "linecolor": "white",
           "ticks": "",
           "title": {
            "standoff": 15
           },
           "zerolinecolor": "white",
           "zerolinewidth": 2
          }
         }
        },
        "title": {
         "font": {
          "color": "#4D5663"
         }
        },
        "xaxis": {
         "gridcolor": "#E1E5ED",
         "showgrid": true,
         "tickfont": {
          "color": "#4D5663"
         },
         "title": {
          "font": {
           "color": "#4D5663"
          },
          "text": ""
         },
         "zerolinecolor": "#E1E5ED"
        },
        "yaxis": {
         "gridcolor": "#E1E5ED",
         "showgrid": true,
         "tickfont": {
          "color": "#4D5663"
         },
         "title": {
          "font": {
           "color": "#4D5663"
          },
          "text": ""
         },
         "zerolinecolor": "#E1E5ED"
        }
       }
      },
      "text/html": [
       "<div>\n",
       "        \n",
       "        \n",
       "            <div id=\"ec9d78f9-70d2-447d-b0ef-04cee9fbbee3\" class=\"plotly-graph-div\" style=\"height:525px; width:100%;\"></div>\n",
       "            <script type=\"text/javascript\">\n",
       "                require([\"plotly\"], function(Plotly) {\n",
       "                    window.PLOTLYENV=window.PLOTLYENV || {};\n",
       "                    window.PLOTLYENV.BASE_URL='https://plot.ly';\n",
       "                    \n",
       "                if (document.getElementById(\"ec9d78f9-70d2-447d-b0ef-04cee9fbbee3\")) {\n",
       "                    Plotly.newPlot(\n",
       "                        'ec9d78f9-70d2-447d-b0ef-04cee9fbbee3',\n",
       "                        [{\"boxpoints\": false, \"line\": {\"width\": 1.3}, \"marker\": {\"color\": \"rgba(255, 153, 51, 1.0)\"}, \"name\": \"A\", \"orientation\": \"v\", \"type\": \"box\", \"y\": [-1.1840365621651945, -1.8381134858425232, -0.7277279334148866, -0.028971296517589097, 0.825450382839014, -0.5614608633274173, -0.6603089317004062, 1.6725527210902709, -0.2968938241848866, -0.7455791661784459, -0.9725191265715754, -0.17464149117399802, 0.04597974569488585, -0.902823009779421, 0.6600421623207664, -0.1373628365003551, -0.19933540675238912, 2.232844506603289, -0.5866449656845658, -0.44827422430998215, -0.8126261620742526, 0.3152056930303498, -1.5326742515335599, -1.3136876285306804, 0.7465963870088331, 1.3642850738121695, 0.6227848343777126, 0.9740940144969882, -0.03274610543656052, -0.23648932796707953, -0.5207684786746272, 0.8150690070383287, 0.8675613689644536, 0.4620135634840239, -0.7926717247669486, 0.049196575117251874, -1.0081977206190973, -0.19006178333019064, 0.16938736014080316, 1.6216816922631585, 0.48642387377101337, 0.6425010555936774, -1.63468048016266, -1.0470236308252987, 0.3242329374347403, 0.0943239920247155, 0.3577150372212665, 0.9236731892573657, 1.6110323640649022, -0.042561925631995866, -0.43485544242184443, -0.8494618434253626, -0.8286206654583846, 0.5324068271400587, 0.44911904243558154, -0.37408960381593065, 2.286830918685426, 0.8056634189729108, 0.611806492535484, 1.3483873907369872, 0.8586206478746982, -1.864926079553018, 0.5198523571964471, -0.5137922851909704, -0.14859213220638998, -0.8434697432455353, -0.43125185207336814, 0.32798193925352487, -0.9610454413972249, 0.46050655291944365, -0.722804354638819, -1.245109552366151, -0.10064611244150451, 0.8032841842806812, -1.1676378568872408, -2.512415133958864, -2.036925165214611, 0.4414699595223629, -2.1978416072993685, 0.3433106234260381, -0.2886576812286424, 0.3427460539289989, 0.5997642732764263, 2.110771985511631, -0.6557430487299993, -1.172584879204941, 0.5906194577721403, 0.4863798984476543, -0.5647382607184777, -1.636502180160153, 1.1318533611412398, 0.346456706099411, -0.5009745761701883, 1.2237802234261634, 0.7943402042622165, 0.46825175886511367, 0.30669243561811416, 0.6219140841086478, -1.5046859448603147, -0.5373240621441666]}, {\"boxpoints\": false, \"line\": {\"width\": 1.3}, \"marker\": {\"color\": \"rgba(55, 128, 191, 1.0)\"}, \"name\": \"B\", \"orientation\": \"v\", \"type\": \"box\", \"y\": [0.7748574018350498, -0.8491056720735701, 0.6914611085875526, 1.1752875372815135, 0.4162742573571235, -0.6952221903678409, 0.7908201017015961, -0.39968184016567027, -0.4226151861377561, -0.16105722437957612, -0.9753539757949506, 0.5977643273494854, -0.8888430599435827, 0.4494305636804583, 0.20609210531358196, -0.49022300526966706, -1.1886750583700814, 0.2385127198502449, 1.05249011826461, 0.4034854022152594, -0.0479351953311653, 0.5285875801575323, -0.8975425504391127, -0.9332949613409988, 0.7145846867253706, -1.2754180312058925, -0.33935108820751164, -0.34572951265255847, 0.8402196474654661, 1.8579077941247726, -0.10545501116095234, -0.43029645225787383, -1.471009145551944, 0.018313033612988895, 0.05863378120340704, -0.7481251383861267, 1.2739284752793545, -1.2688830632305381, 0.04863904155004324, 0.6590964872389021, 1.6738927361115674, 1.1447265427849844, 0.26804703844199823, 0.6146962222473003, 0.8815348744267175, 0.4152753764475723, -1.3748803282110544, -0.8555156955454922, 1.0716946029249914, -0.18854674519334236, 1.6767333881177955, 0.3250252134387557, 1.752760184188171, 0.8348678395347147, -0.030014862454295552, 1.3650079773832526, 0.5128929565450878, 0.1773698200047356, -0.4971404989716503, 0.21478254702547728, -0.7480145706490767, 0.5397806554794098, -0.5270300252772776, 0.25976914331856615, -0.34787617938088616, -1.441248767668745, -1.5978719846155973, 1.8760190283758935, 2.058786169419131, 0.04416637128786382, -0.11990218115432498, -0.32346234697218584, 0.7587833672465661, 0.1764232013077506, 2.3271774971821166, -0.025870405639904837, -0.29898147778189804, 0.45503789748310974, -0.3557650151783652, -0.3476159607705035, 0.05314676086246436, -1.2068805594060426, -1.218095609914161, -0.605536020423741, -0.5639854925951856, 0.5292292854352497, 0.5224444059168056, -0.34012701139348117, 0.3409887608709333, 0.3034569426427565, 0.02050058661276885, 0.06559131836346563, 0.16276827346155767, -1.7289045833130687, -1.2926726553484278, 0.3706707209524533, -1.1632329413595424, -0.8424734722469165, -1.3825350305370303, 0.557764978680726]}, {\"boxpoints\": false, \"line\": {\"width\": 1.3}, \"marker\": {\"color\": \"rgba(50, 171, 96, 1.0)\"}, \"name\": \"C\", \"orientation\": \"v\", \"type\": \"box\", \"y\": [-0.13075131036378393, -1.9766351382901388, 2.359391483239348, 0.332484562167801, 1.9319128619571195, 0.029124217949669882, -1.2844804097392815, -0.11539417465904929, -1.3902268237907565, -0.09177603626710525, -0.8959786694349934, 0.6698909601613622, -0.5994535595042667, -1.4904652814956088, 0.2596883000180945, 0.2572737195516556, 1.0484326385043803, 9.636717248655658e-05, 0.5192536189064421, 0.6750978849511353, -0.6975100357555095, 0.670467924562605, -0.32525342029309684, -0.7094220074205353, -0.7846501670210279, -1.0497873074734148, 0.9247265800134937, 0.5845643963129014, -0.45701168432168066, 0.9545084832232573, 1.4628229979357623, 0.5722746269224713, -0.15504026772791643, -0.9514694023767296, -0.2941305882283108, 0.9862806641164041, 0.13929622387572363, 0.7775837270608291, -0.516609318358424, -0.39921259289083977, 0.8080185091614575, -0.14534015305333706, 1.3158888719970208, -0.23992344546267205, 1.1685567724854657, -0.3838409258449429, -0.2894555882388486, 0.5239914462186199, 1.384322441112758, 0.38421690190088065, -0.17673392841986954, -0.7932137243798739, 2.5118540947351025, 0.6580468624387785, 0.5808602432029525, -0.9709368714502858, 1.860500579975986, 0.7826981017385283, -0.0971289080929145, -0.05018858733969054, -0.8834422072711728, 0.5037128006816742, -0.8144218848061271, -1.3229859402766706, -0.1637166795202983, -0.47748121300006424, 0.03167390038804507, 0.6910256142660218, -0.09838815524689949, -1.2688672757238648, -0.15814379703148304, -0.06388280711787181, -0.7894621848690133, 0.8613594196284226, -0.7676034719999096, 0.02644945606272413, 0.050890485901894926, 1.0899999646133016, -0.9055937990155126, 0.6476545188698527, 0.7977593877036964, 0.1928323093903488, -0.24670858490897626, 2.351376125771722, -0.5979936231981169, 1.5965238869623473, 0.783464554736259, -0.19023386325965286, 0.5948103546485063, 0.08454108319684282, 0.5443866679573024, -1.6946496660709542, 1.0500811624643263, 1.5100126114675998, -0.7328994274505252, 0.7456327774664977, -0.5505202892794008, 0.04057429676737818, 0.15155736191078095, 0.17471303242791603]}, {\"boxpoints\": false, \"line\": {\"width\": 1.3}, \"marker\": {\"color\": \"rgba(128, 0, 128, 1.0)\"}, \"name\": \"D\", \"orientation\": \"v\", \"type\": \"box\", \"y\": [-0.3109228800255749, -0.04435791625087433, 1.7716348098062678, -1.0493683586255418, -1.0665903685316402, -2.1025631429841405, -0.6807417862389978, 2.1985027264371224, 0.37810087766951334, -0.4295934909667167, -2.248244371078392, -2.5053560497137632, 1.2684156502861, 0.08331658102783852, 0.526696105998118, -0.6292095935193119, -0.5997967808433086, -0.6155486266727146, 1.7045365486016097, -0.601276888450068, 1.697470537334648, 2.2923861989070438, 0.9326249326398058, 0.8606227390308568, -2.9236403720092268, 1.29483800200945, -0.06975011636905842, 0.05784498824832419, 0.033853479502720905, 0.47923115681408285, -0.26440242528641617, -0.27192490638944206, -1.1415874270423094, 0.6436896480429837, 0.25105546655016564, -1.3079938557342605, 2.566764924527969, -2.352051142170725, -1.73121853372614, 0.3404280647245284, -0.17969459631954798, 0.48568232569143815, 0.6580903990951771, 2.2051409347483992, -0.12447187882099256, -0.6355468578198471, -0.6142097326154164, -2.024364478787583, 0.42494805926035933, 1.0480357114558718, -0.08419009931661706, 0.5074685421083154, 0.4898698527698281, 1.0118081401720047, -1.1301003497409974, -0.22247145696906556, 0.4608177907472395, -1.0094761182944447, 1.1478773360752896, -0.19942338900064682, -1.1590343864074402, -0.1633156306915748, 0.1114996264531976, -0.48171246278907404, -0.09821576955187183, -0.9153602480036214, -0.3767664489496155, 0.1704138161909583, -0.9230168538832264, -0.3552117161642221, -0.4912177194348223, 0.9095078130176419, 1.93481636583586, 0.34869020123610384, 0.9326565933399767, -0.08316365835824382, -0.7692480688080877, -1.4060621920236365, -0.006246553266562083, -1.0639936316386083, -1.0088943985948773, -1.0354001402401753, 0.49586925050720415, 0.21183219244548893, 0.42208101257324177, -1.1807023153770395, 0.5838435124984659, 0.7716715564675956, -0.6868763790279935, -0.47315146040381595, 0.641453091864015, 0.18828492231164531, -0.5924417282086342, 1.3256727398800516, -1.33197914578505, -0.0823222228388583, 1.2781846487773636, 2.667224411053259, 2.0550003848740976, -1.0883916290653706]}],\n",
       "                        {\"legend\": {\"bgcolor\": \"#F5F6F9\", \"font\": {\"color\": \"#4D5663\"}}, \"paper_bgcolor\": \"#F5F6F9\", \"plot_bgcolor\": \"#F5F6F9\", \"template\": {\"data\": {\"bar\": [{\"error_x\": {\"color\": \"#2a3f5f\"}, \"error_y\": {\"color\": \"#2a3f5f\"}, \"marker\": {\"line\": {\"color\": \"#E5ECF6\", \"width\": 0.5}}, \"type\": \"bar\"}], \"barpolar\": [{\"marker\": {\"line\": {\"color\": \"#E5ECF6\", \"width\": 0.5}}, \"type\": \"barpolar\"}], \"carpet\": [{\"aaxis\": {\"endlinecolor\": \"#2a3f5f\", \"gridcolor\": \"white\", \"linecolor\": \"white\", \"minorgridcolor\": \"white\", \"startlinecolor\": \"#2a3f5f\"}, \"baxis\": {\"endlinecolor\": \"#2a3f5f\", \"gridcolor\": \"white\", \"linecolor\": \"white\", \"minorgridcolor\": \"white\", \"startlinecolor\": \"#2a3f5f\"}, \"type\": \"carpet\"}], \"choropleth\": [{\"colorbar\": {\"outlinewidth\": 0, \"ticks\": \"\"}, \"type\": \"choropleth\"}], \"contour\": [{\"colorbar\": {\"outlinewidth\": 0, \"ticks\": \"\"}, \"colorscale\": [[0.0, \"#0d0887\"], [0.1111111111111111, \"#46039f\"], [0.2222222222222222, \"#7201a8\"], [0.3333333333333333, \"#9c179e\"], [0.4444444444444444, \"#bd3786\"], [0.5555555555555556, \"#d8576b\"], [0.6666666666666666, \"#ed7953\"], [0.7777777777777778, \"#fb9f3a\"], [0.8888888888888888, \"#fdca26\"], [1.0, \"#f0f921\"]], \"type\": \"contour\"}], \"contourcarpet\": [{\"colorbar\": {\"outlinewidth\": 0, \"ticks\": \"\"}, \"type\": \"contourcarpet\"}], \"heatmap\": [{\"colorbar\": {\"outlinewidth\": 0, \"ticks\": \"\"}, \"colorscale\": [[0.0, \"#0d0887\"], [0.1111111111111111, \"#46039f\"], [0.2222222222222222, \"#7201a8\"], [0.3333333333333333, \"#9c179e\"], [0.4444444444444444, \"#bd3786\"], [0.5555555555555556, \"#d8576b\"], [0.6666666666666666, \"#ed7953\"], [0.7777777777777778, \"#fb9f3a\"], [0.8888888888888888, \"#fdca26\"], [1.0, \"#f0f921\"]], \"type\": \"heatmap\"}], \"heatmapgl\": [{\"colorbar\": {\"outlinewidth\": 0, \"ticks\": \"\"}, \"colorscale\": [[0.0, \"#0d0887\"], [0.1111111111111111, \"#46039f\"], [0.2222222222222222, \"#7201a8\"], [0.3333333333333333, \"#9c179e\"], [0.4444444444444444, \"#bd3786\"], [0.5555555555555556, \"#d8576b\"], [0.6666666666666666, \"#ed7953\"], [0.7777777777777778, \"#fb9f3a\"], [0.8888888888888888, \"#fdca26\"], [1.0, \"#f0f921\"]], \"type\": \"heatmapgl\"}], \"histogram\": [{\"marker\": {\"colorbar\": {\"outlinewidth\": 0, \"ticks\": \"\"}}, \"type\": \"histogram\"}], \"histogram2d\": [{\"colorbar\": {\"outlinewidth\": 0, \"ticks\": \"\"}, \"colorscale\": [[0.0, \"#0d0887\"], [0.1111111111111111, \"#46039f\"], [0.2222222222222222, \"#7201a8\"], [0.3333333333333333, \"#9c179e\"], [0.4444444444444444, \"#bd3786\"], [0.5555555555555556, \"#d8576b\"], [0.6666666666666666, \"#ed7953\"], [0.7777777777777778, \"#fb9f3a\"], [0.8888888888888888, \"#fdca26\"], [1.0, \"#f0f921\"]], \"type\": \"histogram2d\"}], \"histogram2dcontour\": [{\"colorbar\": {\"outlinewidth\": 0, \"ticks\": \"\"}, \"colorscale\": [[0.0, \"#0d0887\"], [0.1111111111111111, \"#46039f\"], [0.2222222222222222, \"#7201a8\"], [0.3333333333333333, \"#9c179e\"], [0.4444444444444444, \"#bd3786\"], [0.5555555555555556, \"#d8576b\"], [0.6666666666666666, \"#ed7953\"], [0.7777777777777778, \"#fb9f3a\"], [0.8888888888888888, \"#fdca26\"], [1.0, \"#f0f921\"]], \"type\": \"histogram2dcontour\"}], \"mesh3d\": [{\"colorbar\": {\"outlinewidth\": 0, \"ticks\": \"\"}, \"type\": \"mesh3d\"}], \"parcoords\": [{\"line\": {\"colorbar\": {\"outlinewidth\": 0, \"ticks\": \"\"}}, \"type\": \"parcoords\"}], \"pie\": [{\"automargin\": true, \"type\": \"pie\"}], \"scatter\": [{\"marker\": {\"colorbar\": {\"outlinewidth\": 0, \"ticks\": \"\"}}, \"type\": \"scatter\"}], \"scatter3d\": [{\"line\": {\"colorbar\": {\"outlinewidth\": 0, \"ticks\": \"\"}}, \"marker\": {\"colorbar\": {\"outlinewidth\": 0, \"ticks\": \"\"}}, \"type\": \"scatter3d\"}], \"scattercarpet\": [{\"marker\": {\"colorbar\": {\"outlinewidth\": 0, \"ticks\": \"\"}}, \"type\": \"scattercarpet\"}], \"scattergeo\": [{\"marker\": {\"colorbar\": {\"outlinewidth\": 0, \"ticks\": \"\"}}, \"type\": \"scattergeo\"}], \"scattergl\": [{\"marker\": {\"colorbar\": {\"outlinewidth\": 0, \"ticks\": \"\"}}, \"type\": \"scattergl\"}], \"scattermapbox\": [{\"marker\": {\"colorbar\": {\"outlinewidth\": 0, \"ticks\": \"\"}}, \"type\": \"scattermapbox\"}], \"scatterpolar\": [{\"marker\": {\"colorbar\": {\"outlinewidth\": 0, \"ticks\": \"\"}}, \"type\": \"scatterpolar\"}], \"scatterpolargl\": [{\"marker\": {\"colorbar\": {\"outlinewidth\": 0, \"ticks\": \"\"}}, \"type\": \"scatterpolargl\"}], \"scatterternary\": [{\"marker\": {\"colorbar\": {\"outlinewidth\": 0, \"ticks\": \"\"}}, \"type\": \"scatterternary\"}], \"surface\": [{\"colorbar\": {\"outlinewidth\": 0, \"ticks\": \"\"}, \"colorscale\": [[0.0, \"#0d0887\"], [0.1111111111111111, \"#46039f\"], [0.2222222222222222, \"#7201a8\"], [0.3333333333333333, \"#9c179e\"], [0.4444444444444444, \"#bd3786\"], [0.5555555555555556, \"#d8576b\"], [0.6666666666666666, \"#ed7953\"], [0.7777777777777778, \"#fb9f3a\"], [0.8888888888888888, \"#fdca26\"], [1.0, \"#f0f921\"]], \"type\": \"surface\"}], \"table\": [{\"cells\": {\"fill\": {\"color\": \"#EBF0F8\"}, \"line\": {\"color\": \"white\"}}, \"header\": {\"fill\": {\"color\": \"#C8D4E3\"}, \"line\": {\"color\": \"white\"}}, \"type\": \"table\"}]}, \"layout\": {\"annotationdefaults\": {\"arrowcolor\": \"#2a3f5f\", \"arrowhead\": 0, \"arrowwidth\": 1}, \"coloraxis\": {\"colorbar\": {\"outlinewidth\": 0, \"ticks\": \"\"}}, \"colorscale\": {\"diverging\": [[0, \"#8e0152\"], [0.1, \"#c51b7d\"], [0.2, \"#de77ae\"], [0.3, \"#f1b6da\"], [0.4, \"#fde0ef\"], [0.5, \"#f7f7f7\"], [0.6, \"#e6f5d0\"], [0.7, \"#b8e186\"], [0.8, \"#7fbc41\"], [0.9, \"#4d9221\"], [1, \"#276419\"]], \"sequential\": [[0.0, \"#0d0887\"], [0.1111111111111111, \"#46039f\"], [0.2222222222222222, \"#7201a8\"], [0.3333333333333333, \"#9c179e\"], [0.4444444444444444, \"#bd3786\"], [0.5555555555555556, \"#d8576b\"], [0.6666666666666666, \"#ed7953\"], [0.7777777777777778, \"#fb9f3a\"], [0.8888888888888888, \"#fdca26\"], [1.0, \"#f0f921\"]], \"sequentialminus\": [[0.0, \"#0d0887\"], [0.1111111111111111, \"#46039f\"], [0.2222222222222222, \"#7201a8\"], [0.3333333333333333, \"#9c179e\"], [0.4444444444444444, \"#bd3786\"], [0.5555555555555556, \"#d8576b\"], [0.6666666666666666, \"#ed7953\"], [0.7777777777777778, \"#fb9f3a\"], [0.8888888888888888, \"#fdca26\"], [1.0, \"#f0f921\"]]}, \"colorway\": [\"#636efa\", \"#EF553B\", \"#00cc96\", \"#ab63fa\", \"#FFA15A\", \"#19d3f3\", \"#FF6692\", \"#B6E880\", \"#FF97FF\", \"#FECB52\"], \"font\": {\"color\": \"#2a3f5f\"}, \"geo\": {\"bgcolor\": \"white\", \"lakecolor\": \"white\", \"landcolor\": \"#E5ECF6\", \"showlakes\": true, \"showland\": true, \"subunitcolor\": \"white\"}, \"hoverlabel\": {\"align\": \"left\"}, \"hovermode\": \"closest\", \"mapbox\": {\"style\": \"light\"}, \"paper_bgcolor\": \"white\", \"plot_bgcolor\": \"#E5ECF6\", \"polar\": {\"angularaxis\": {\"gridcolor\": \"white\", \"linecolor\": \"white\", \"ticks\": \"\"}, \"bgcolor\": \"#E5ECF6\", \"radialaxis\": {\"gridcolor\": \"white\", \"linecolor\": \"white\", \"ticks\": \"\"}}, \"scene\": {\"xaxis\": {\"backgroundcolor\": \"#E5ECF6\", \"gridcolor\": \"white\", \"gridwidth\": 2, \"linecolor\": \"white\", \"showbackground\": true, \"ticks\": \"\", \"zerolinecolor\": \"white\"}, \"yaxis\": {\"backgroundcolor\": \"#E5ECF6\", \"gridcolor\": \"white\", \"gridwidth\": 2, \"linecolor\": \"white\", \"showbackground\": true, \"ticks\": \"\", \"zerolinecolor\": \"white\"}, \"zaxis\": {\"backgroundcolor\": \"#E5ECF6\", \"gridcolor\": \"white\", \"gridwidth\": 2, \"linecolor\": \"white\", \"showbackground\": true, \"ticks\": \"\", \"zerolinecolor\": \"white\"}}, \"shapedefaults\": {\"line\": {\"color\": \"#2a3f5f\"}}, \"ternary\": {\"aaxis\": {\"gridcolor\": \"white\", \"linecolor\": \"white\", \"ticks\": \"\"}, \"baxis\": {\"gridcolor\": \"white\", \"linecolor\": \"white\", \"ticks\": \"\"}, \"bgcolor\": \"#E5ECF6\", \"caxis\": {\"gridcolor\": \"white\", \"linecolor\": \"white\", \"ticks\": \"\"}}, \"title\": {\"x\": 0.05}, \"xaxis\": {\"automargin\": true, \"gridcolor\": \"white\", \"linecolor\": \"white\", \"ticks\": \"\", \"title\": {\"standoff\": 15}, \"zerolinecolor\": \"white\", \"zerolinewidth\": 2}, \"yaxis\": {\"automargin\": true, \"gridcolor\": \"white\", \"linecolor\": \"white\", \"ticks\": \"\", \"title\": {\"standoff\": 15}, \"zerolinecolor\": \"white\", \"zerolinewidth\": 2}}}, \"title\": {\"font\": {\"color\": \"#4D5663\"}}, \"xaxis\": {\"gridcolor\": \"#E1E5ED\", \"showgrid\": true, \"tickfont\": {\"color\": \"#4D5663\"}, \"title\": {\"font\": {\"color\": \"#4D5663\"}, \"text\": \"\"}, \"zerolinecolor\": \"#E1E5ED\"}, \"yaxis\": {\"gridcolor\": \"#E1E5ED\", \"showgrid\": true, \"tickfont\": {\"color\": \"#4D5663\"}, \"title\": {\"font\": {\"color\": \"#4D5663\"}, \"text\": \"\"}, \"zerolinecolor\": \"#E1E5ED\"}},\n",
       "                        {\"showLink\": true, \"linkText\": \"Export to plot.ly\", \"plotlyServerURL\": \"https://plot.ly\", \"responsive\": true}\n",
       "                    ).then(function(){\n",
       "                            \n",
       "var gd = document.getElementById('ec9d78f9-70d2-447d-b0ef-04cee9fbbee3');\n",
       "var x = new MutationObserver(function (mutations, observer) {{\n",
       "        var display = window.getComputedStyle(gd).display;\n",
       "        if (!display || display === 'none') {{\n",
       "            console.log([gd, 'removed!']);\n",
       "            Plotly.purge(gd);\n",
       "            observer.disconnect();\n",
       "        }}\n",
       "}});\n",
       "\n",
       "// Listen for the removal of the full notebook cells\n",
       "var notebookContainer = gd.closest('#notebook-container');\n",
       "if (notebookContainer) {{\n",
       "    x.observe(notebookContainer, {childList: true});\n",
       "}}\n",
       "\n",
       "// Listen for the clearing of the current output cell\n",
       "var outputEl = gd.closest('.output');\n",
       "if (outputEl) {{\n",
       "    x.observe(outputEl, {childList: true});\n",
       "}}\n",
       "\n",
       "                        })\n",
       "                };\n",
       "                });\n",
       "            </script>\n",
       "        </div>"
      ]
     },
     "metadata": {},
     "output_type": "display_data"
    }
   ],
   "source": [
    "df.iplot(kind='box')"
   ]
  },
  {
   "cell_type": "markdown",
   "metadata": {},
   "source": [
    "## 3d Surface"
   ]
  },
  {
   "cell_type": "code",
   "execution_count": 14,
   "metadata": {},
   "outputs": [
    {
     "data": {
      "application/vnd.plotly.v1+json": {
       "config": {
        "linkText": "Export to plot.ly",
        "plotlyServerURL": "https://plot.ly",
        "showLink": true
       },
       "data": [
        {
         "colorscale": [
          [
           0,
           "rgb(165,0,38)"
          ],
          [
           0.1,
           "rgb(215,48,39)"
          ],
          [
           0.2,
           "rgb(244,109,67)"
          ],
          [
           0.3,
           "rgb(253,174,97)"
          ],
          [
           0.4,
           "rgb(254,224,144)"
          ],
          [
           0.5,
           "rgb(255,255,191)"
          ],
          [
           0.6,
           "rgb(224,243,248)"
          ],
          [
           0.7,
           "rgb(171,217,233)"
          ],
          [
           0.8,
           "rgb(116,173,209)"
          ],
          [
           0.9,
           "rgb(69,117,180)"
          ],
          [
           1,
           "rgb(49,54,149)"
          ]
         ],
         "type": "surface",
         "x": [
          0,
          1,
          2,
          3,
          4
         ],
         "y": [
          "x",
          "y",
          "z"
         ],
         "z": [
          [
           1,
           2,
           3,
           4,
           5
          ],
          [
           10,
           20,
           30,
           20,
           10
          ],
          [
           5,
           4,
           3,
           2,
           1
          ]
         ]
        }
       ],
       "layout": {
        "legend": {
         "bgcolor": "#F5F6F9",
         "font": {
          "color": "#4D5663"
         }
        },
        "paper_bgcolor": "#F5F6F9",
        "plot_bgcolor": "#F5F6F9",
        "template": {
         "data": {
          "bar": [
           {
            "error_x": {
             "color": "#2a3f5f"
            },
            "error_y": {
             "color": "#2a3f5f"
            },
            "marker": {
             "line": {
              "color": "#E5ECF6",
              "width": 0.5
             }
            },
            "type": "bar"
           }
          ],
          "barpolar": [
           {
            "marker": {
             "line": {
              "color": "#E5ECF6",
              "width": 0.5
             }
            },
            "type": "barpolar"
           }
          ],
          "carpet": [
           {
            "aaxis": {
             "endlinecolor": "#2a3f5f",
             "gridcolor": "white",
             "linecolor": "white",
             "minorgridcolor": "white",
             "startlinecolor": "#2a3f5f"
            },
            "baxis": {
             "endlinecolor": "#2a3f5f",
             "gridcolor": "white",
             "linecolor": "white",
             "minorgridcolor": "white",
             "startlinecolor": "#2a3f5f"
            },
            "type": "carpet"
           }
          ],
          "choropleth": [
           {
            "colorbar": {
             "outlinewidth": 0,
             "ticks": ""
            },
            "type": "choropleth"
           }
          ],
          "contour": [
           {
            "colorbar": {
             "outlinewidth": 0,
             "ticks": ""
            },
            "colorscale": [
             [
              0,
              "#0d0887"
             ],
             [
              0.1111111111111111,
              "#46039f"
             ],
             [
              0.2222222222222222,
              "#7201a8"
             ],
             [
              0.3333333333333333,
              "#9c179e"
             ],
             [
              0.4444444444444444,
              "#bd3786"
             ],
             [
              0.5555555555555556,
              "#d8576b"
             ],
             [
              0.6666666666666666,
              "#ed7953"
             ],
             [
              0.7777777777777778,
              "#fb9f3a"
             ],
             [
              0.8888888888888888,
              "#fdca26"
             ],
             [
              1,
              "#f0f921"
             ]
            ],
            "type": "contour"
           }
          ],
          "contourcarpet": [
           {
            "colorbar": {
             "outlinewidth": 0,
             "ticks": ""
            },
            "type": "contourcarpet"
           }
          ],
          "heatmap": [
           {
            "colorbar": {
             "outlinewidth": 0,
             "ticks": ""
            },
            "colorscale": [
             [
              0,
              "#0d0887"
             ],
             [
              0.1111111111111111,
              "#46039f"
             ],
             [
              0.2222222222222222,
              "#7201a8"
             ],
             [
              0.3333333333333333,
              "#9c179e"
             ],
             [
              0.4444444444444444,
              "#bd3786"
             ],
             [
              0.5555555555555556,
              "#d8576b"
             ],
             [
              0.6666666666666666,
              "#ed7953"
             ],
             [
              0.7777777777777778,
              "#fb9f3a"
             ],
             [
              0.8888888888888888,
              "#fdca26"
             ],
             [
              1,
              "#f0f921"
             ]
            ],
            "type": "heatmap"
           }
          ],
          "heatmapgl": [
           {
            "colorbar": {
             "outlinewidth": 0,
             "ticks": ""
            },
            "colorscale": [
             [
              0,
              "#0d0887"
             ],
             [
              0.1111111111111111,
              "#46039f"
             ],
             [
              0.2222222222222222,
              "#7201a8"
             ],
             [
              0.3333333333333333,
              "#9c179e"
             ],
             [
              0.4444444444444444,
              "#bd3786"
             ],
             [
              0.5555555555555556,
              "#d8576b"
             ],
             [
              0.6666666666666666,
              "#ed7953"
             ],
             [
              0.7777777777777778,
              "#fb9f3a"
             ],
             [
              0.8888888888888888,
              "#fdca26"
             ],
             [
              1,
              "#f0f921"
             ]
            ],
            "type": "heatmapgl"
           }
          ],
          "histogram": [
           {
            "marker": {
             "colorbar": {
              "outlinewidth": 0,
              "ticks": ""
             }
            },
            "type": "histogram"
           }
          ],
          "histogram2d": [
           {
            "colorbar": {
             "outlinewidth": 0,
             "ticks": ""
            },
            "colorscale": [
             [
              0,
              "#0d0887"
             ],
             [
              0.1111111111111111,
              "#46039f"
             ],
             [
              0.2222222222222222,
              "#7201a8"
             ],
             [
              0.3333333333333333,
              "#9c179e"
             ],
             [
              0.4444444444444444,
              "#bd3786"
             ],
             [
              0.5555555555555556,
              "#d8576b"
             ],
             [
              0.6666666666666666,
              "#ed7953"
             ],
             [
              0.7777777777777778,
              "#fb9f3a"
             ],
             [
              0.8888888888888888,
              "#fdca26"
             ],
             [
              1,
              "#f0f921"
             ]
            ],
            "type": "histogram2d"
           }
          ],
          "histogram2dcontour": [
           {
            "colorbar": {
             "outlinewidth": 0,
             "ticks": ""
            },
            "colorscale": [
             [
              0,
              "#0d0887"
             ],
             [
              0.1111111111111111,
              "#46039f"
             ],
             [
              0.2222222222222222,
              "#7201a8"
             ],
             [
              0.3333333333333333,
              "#9c179e"
             ],
             [
              0.4444444444444444,
              "#bd3786"
             ],
             [
              0.5555555555555556,
              "#d8576b"
             ],
             [
              0.6666666666666666,
              "#ed7953"
             ],
             [
              0.7777777777777778,
              "#fb9f3a"
             ],
             [
              0.8888888888888888,
              "#fdca26"
             ],
             [
              1,
              "#f0f921"
             ]
            ],
            "type": "histogram2dcontour"
           }
          ],
          "mesh3d": [
           {
            "colorbar": {
             "outlinewidth": 0,
             "ticks": ""
            },
            "type": "mesh3d"
           }
          ],
          "parcoords": [
           {
            "line": {
             "colorbar": {
              "outlinewidth": 0,
              "ticks": ""
             }
            },
            "type": "parcoords"
           }
          ],
          "pie": [
           {
            "automargin": true,
            "type": "pie"
           }
          ],
          "scatter": [
           {
            "marker": {
             "colorbar": {
              "outlinewidth": 0,
              "ticks": ""
             }
            },
            "type": "scatter"
           }
          ],
          "scatter3d": [
           {
            "line": {
             "colorbar": {
              "outlinewidth": 0,
              "ticks": ""
             }
            },
            "marker": {
             "colorbar": {
              "outlinewidth": 0,
              "ticks": ""
             }
            },
            "type": "scatter3d"
           }
          ],
          "scattercarpet": [
           {
            "marker": {
             "colorbar": {
              "outlinewidth": 0,
              "ticks": ""
             }
            },
            "type": "scattercarpet"
           }
          ],
          "scattergeo": [
           {
            "marker": {
             "colorbar": {
              "outlinewidth": 0,
              "ticks": ""
             }
            },
            "type": "scattergeo"
           }
          ],
          "scattergl": [
           {
            "marker": {
             "colorbar": {
              "outlinewidth": 0,
              "ticks": ""
             }
            },
            "type": "scattergl"
           }
          ],
          "scattermapbox": [
           {
            "marker": {
             "colorbar": {
              "outlinewidth": 0,
              "ticks": ""
             }
            },
            "type": "scattermapbox"
           }
          ],
          "scatterpolar": [
           {
            "marker": {
             "colorbar": {
              "outlinewidth": 0,
              "ticks": ""
             }
            },
            "type": "scatterpolar"
           }
          ],
          "scatterpolargl": [
           {
            "marker": {
             "colorbar": {
              "outlinewidth": 0,
              "ticks": ""
             }
            },
            "type": "scatterpolargl"
           }
          ],
          "scatterternary": [
           {
            "marker": {
             "colorbar": {
              "outlinewidth": 0,
              "ticks": ""
             }
            },
            "type": "scatterternary"
           }
          ],
          "surface": [
           {
            "colorbar": {
             "outlinewidth": 0,
             "ticks": ""
            },
            "colorscale": [
             [
              0,
              "#0d0887"
             ],
             [
              0.1111111111111111,
              "#46039f"
             ],
             [
              0.2222222222222222,
              "#7201a8"
             ],
             [
              0.3333333333333333,
              "#9c179e"
             ],
             [
              0.4444444444444444,
              "#bd3786"
             ],
             [
              0.5555555555555556,
              "#d8576b"
             ],
             [
              0.6666666666666666,
              "#ed7953"
             ],
             [
              0.7777777777777778,
              "#fb9f3a"
             ],
             [
              0.8888888888888888,
              "#fdca26"
             ],
             [
              1,
              "#f0f921"
             ]
            ],
            "type": "surface"
           }
          ],
          "table": [
           {
            "cells": {
             "fill": {
              "color": "#EBF0F8"
             },
             "line": {
              "color": "white"
             }
            },
            "header": {
             "fill": {
              "color": "#C8D4E3"
             },
             "line": {
              "color": "white"
             }
            },
            "type": "table"
           }
          ]
         },
         "layout": {
          "annotationdefaults": {
           "arrowcolor": "#2a3f5f",
           "arrowhead": 0,
           "arrowwidth": 1
          },
          "coloraxis": {
           "colorbar": {
            "outlinewidth": 0,
            "ticks": ""
           }
          },
          "colorscale": {
           "diverging": [
            [
             0,
             "#8e0152"
            ],
            [
             0.1,
             "#c51b7d"
            ],
            [
             0.2,
             "#de77ae"
            ],
            [
             0.3,
             "#f1b6da"
            ],
            [
             0.4,
             "#fde0ef"
            ],
            [
             0.5,
             "#f7f7f7"
            ],
            [
             0.6,
             "#e6f5d0"
            ],
            [
             0.7,
             "#b8e186"
            ],
            [
             0.8,
             "#7fbc41"
            ],
            [
             0.9,
             "#4d9221"
            ],
            [
             1,
             "#276419"
            ]
           ],
           "sequential": [
            [
             0,
             "#0d0887"
            ],
            [
             0.1111111111111111,
             "#46039f"
            ],
            [
             0.2222222222222222,
             "#7201a8"
            ],
            [
             0.3333333333333333,
             "#9c179e"
            ],
            [
             0.4444444444444444,
             "#bd3786"
            ],
            [
             0.5555555555555556,
             "#d8576b"
            ],
            [
             0.6666666666666666,
             "#ed7953"
            ],
            [
             0.7777777777777778,
             "#fb9f3a"
            ],
            [
             0.8888888888888888,
             "#fdca26"
            ],
            [
             1,
             "#f0f921"
            ]
           ],
           "sequentialminus": [
            [
             0,
             "#0d0887"
            ],
            [
             0.1111111111111111,
             "#46039f"
            ],
            [
             0.2222222222222222,
             "#7201a8"
            ],
            [
             0.3333333333333333,
             "#9c179e"
            ],
            [
             0.4444444444444444,
             "#bd3786"
            ],
            [
             0.5555555555555556,
             "#d8576b"
            ],
            [
             0.6666666666666666,
             "#ed7953"
            ],
            [
             0.7777777777777778,
             "#fb9f3a"
            ],
            [
             0.8888888888888888,
             "#fdca26"
            ],
            [
             1,
             "#f0f921"
            ]
           ]
          },
          "colorway": [
           "#636efa",
           "#EF553B",
           "#00cc96",
           "#ab63fa",
           "#FFA15A",
           "#19d3f3",
           "#FF6692",
           "#B6E880",
           "#FF97FF",
           "#FECB52"
          ],
          "font": {
           "color": "#2a3f5f"
          },
          "geo": {
           "bgcolor": "white",
           "lakecolor": "white",
           "landcolor": "#E5ECF6",
           "showlakes": true,
           "showland": true,
           "subunitcolor": "white"
          },
          "hoverlabel": {
           "align": "left"
          },
          "hovermode": "closest",
          "mapbox": {
           "style": "light"
          },
          "paper_bgcolor": "white",
          "plot_bgcolor": "#E5ECF6",
          "polar": {
           "angularaxis": {
            "gridcolor": "white",
            "linecolor": "white",
            "ticks": ""
           },
           "bgcolor": "#E5ECF6",
           "radialaxis": {
            "gridcolor": "white",
            "linecolor": "white",
            "ticks": ""
           }
          },
          "scene": {
           "xaxis": {
            "backgroundcolor": "#E5ECF6",
            "gridcolor": "white",
            "gridwidth": 2,
            "linecolor": "white",
            "showbackground": true,
            "ticks": "",
            "zerolinecolor": "white"
           },
           "yaxis": {
            "backgroundcolor": "#E5ECF6",
            "gridcolor": "white",
            "gridwidth": 2,
            "linecolor": "white",
            "showbackground": true,
            "ticks": "",
            "zerolinecolor": "white"
           },
           "zaxis": {
            "backgroundcolor": "#E5ECF6",
            "gridcolor": "white",
            "gridwidth": 2,
            "linecolor": "white",
            "showbackground": true,
            "ticks": "",
            "zerolinecolor": "white"
           }
          },
          "shapedefaults": {
           "line": {
            "color": "#2a3f5f"
           }
          },
          "ternary": {
           "aaxis": {
            "gridcolor": "white",
            "linecolor": "white",
            "ticks": ""
           },
           "baxis": {
            "gridcolor": "white",
            "linecolor": "white",
            "ticks": ""
           },
           "bgcolor": "#E5ECF6",
           "caxis": {
            "gridcolor": "white",
            "linecolor": "white",
            "ticks": ""
           }
          },
          "title": {
           "x": 0.05
          },
          "xaxis": {
           "automargin": true,
           "gridcolor": "white",
           "linecolor": "white",
           "ticks": "",
           "title": {
            "standoff": 15
           },
           "zerolinecolor": "white",
           "zerolinewidth": 2
          },
          "yaxis": {
           "automargin": true,
           "gridcolor": "white",
           "linecolor": "white",
           "ticks": "",
           "title": {
            "standoff": 15
           },
           "zerolinecolor": "white",
           "zerolinewidth": 2
          }
         }
        },
        "title": {
         "font": {
          "color": "#4D5663"
         }
        },
        "xaxis": {
         "gridcolor": "#E1E5ED",
         "showgrid": true,
         "tickfont": {
          "color": "#4D5663"
         },
         "title": {
          "font": {
           "color": "#4D5663"
          },
          "text": ""
         },
         "zerolinecolor": "#E1E5ED"
        },
        "yaxis": {
         "gridcolor": "#E1E5ED",
         "showgrid": true,
         "tickfont": {
          "color": "#4D5663"
         },
         "title": {
          "font": {
           "color": "#4D5663"
          },
          "text": ""
         },
         "zerolinecolor": "#E1E5ED"
        }
       }
      },
      "text/html": [
       "<div>\n",
       "        \n",
       "        \n",
       "            <div id=\"7c1fc2c9-6f22-488b-8ff7-ba9ccf89454c\" class=\"plotly-graph-div\" style=\"height:525px; width:100%;\"></div>\n",
       "            <script type=\"text/javascript\">\n",
       "                require([\"plotly\"], function(Plotly) {\n",
       "                    window.PLOTLYENV=window.PLOTLYENV || {};\n",
       "                    window.PLOTLYENV.BASE_URL='https://plot.ly';\n",
       "                    \n",
       "                if (document.getElementById(\"7c1fc2c9-6f22-488b-8ff7-ba9ccf89454c\")) {\n",
       "                    Plotly.newPlot(\n",
       "                        '7c1fc2c9-6f22-488b-8ff7-ba9ccf89454c',\n",
       "                        [{\"colorscale\": [[0.0, \"rgb(165,0,38)\"], [0.1, \"rgb(215,48,39)\"], [0.2, \"rgb(244,109,67)\"], [0.3, \"rgb(253,174,97)\"], [0.4, \"rgb(254,224,144)\"], [0.5, \"rgb(255,255,191)\"], [0.6, \"rgb(224,243,248)\"], [0.7, \"rgb(171,217,233)\"], [0.8, \"rgb(116,173,209)\"], [0.9, \"rgb(69,117,180)\"], [1.0, \"rgb(49,54,149)\"]], \"type\": \"surface\", \"x\": [0, 1, 2, 3, 4], \"y\": [\"x\", \"y\", \"z\"], \"z\": [[1, 2, 3, 4, 5], [10, 20, 30, 20, 10], [5, 4, 3, 2, 1]]}],\n",
       "                        {\"legend\": {\"bgcolor\": \"#F5F6F9\", \"font\": {\"color\": \"#4D5663\"}}, \"paper_bgcolor\": \"#F5F6F9\", \"plot_bgcolor\": \"#F5F6F9\", \"template\": {\"data\": {\"bar\": [{\"error_x\": {\"color\": \"#2a3f5f\"}, \"error_y\": {\"color\": \"#2a3f5f\"}, \"marker\": {\"line\": {\"color\": \"#E5ECF6\", \"width\": 0.5}}, \"type\": \"bar\"}], \"barpolar\": [{\"marker\": {\"line\": {\"color\": \"#E5ECF6\", \"width\": 0.5}}, \"type\": \"barpolar\"}], \"carpet\": [{\"aaxis\": {\"endlinecolor\": \"#2a3f5f\", \"gridcolor\": \"white\", \"linecolor\": \"white\", \"minorgridcolor\": \"white\", \"startlinecolor\": \"#2a3f5f\"}, \"baxis\": {\"endlinecolor\": \"#2a3f5f\", \"gridcolor\": \"white\", \"linecolor\": \"white\", \"minorgridcolor\": \"white\", \"startlinecolor\": \"#2a3f5f\"}, \"type\": \"carpet\"}], \"choropleth\": [{\"colorbar\": {\"outlinewidth\": 0, \"ticks\": \"\"}, \"type\": \"choropleth\"}], \"contour\": [{\"colorbar\": {\"outlinewidth\": 0, \"ticks\": \"\"}, \"colorscale\": [[0.0, \"#0d0887\"], [0.1111111111111111, \"#46039f\"], [0.2222222222222222, \"#7201a8\"], [0.3333333333333333, \"#9c179e\"], [0.4444444444444444, \"#bd3786\"], [0.5555555555555556, \"#d8576b\"], [0.6666666666666666, \"#ed7953\"], [0.7777777777777778, \"#fb9f3a\"], [0.8888888888888888, \"#fdca26\"], [1.0, \"#f0f921\"]], \"type\": \"contour\"}], \"contourcarpet\": [{\"colorbar\": {\"outlinewidth\": 0, \"ticks\": \"\"}, \"type\": \"contourcarpet\"}], \"heatmap\": [{\"colorbar\": {\"outlinewidth\": 0, \"ticks\": \"\"}, \"colorscale\": [[0.0, \"#0d0887\"], [0.1111111111111111, \"#46039f\"], [0.2222222222222222, \"#7201a8\"], [0.3333333333333333, \"#9c179e\"], [0.4444444444444444, \"#bd3786\"], [0.5555555555555556, \"#d8576b\"], [0.6666666666666666, \"#ed7953\"], [0.7777777777777778, \"#fb9f3a\"], [0.8888888888888888, \"#fdca26\"], [1.0, \"#f0f921\"]], \"type\": \"heatmap\"}], \"heatmapgl\": [{\"colorbar\": {\"outlinewidth\": 0, \"ticks\": \"\"}, \"colorscale\": [[0.0, \"#0d0887\"], [0.1111111111111111, \"#46039f\"], [0.2222222222222222, \"#7201a8\"], [0.3333333333333333, \"#9c179e\"], [0.4444444444444444, \"#bd3786\"], [0.5555555555555556, \"#d8576b\"], [0.6666666666666666, \"#ed7953\"], [0.7777777777777778, \"#fb9f3a\"], [0.8888888888888888, \"#fdca26\"], [1.0, \"#f0f921\"]], \"type\": \"heatmapgl\"}], \"histogram\": [{\"marker\": {\"colorbar\": {\"outlinewidth\": 0, \"ticks\": \"\"}}, \"type\": \"histogram\"}], \"histogram2d\": [{\"colorbar\": {\"outlinewidth\": 0, \"ticks\": \"\"}, \"colorscale\": [[0.0, \"#0d0887\"], [0.1111111111111111, \"#46039f\"], [0.2222222222222222, \"#7201a8\"], [0.3333333333333333, \"#9c179e\"], [0.4444444444444444, \"#bd3786\"], [0.5555555555555556, \"#d8576b\"], [0.6666666666666666, \"#ed7953\"], [0.7777777777777778, \"#fb9f3a\"], [0.8888888888888888, \"#fdca26\"], [1.0, \"#f0f921\"]], \"type\": \"histogram2d\"}], \"histogram2dcontour\": [{\"colorbar\": {\"outlinewidth\": 0, \"ticks\": \"\"}, \"colorscale\": [[0.0, \"#0d0887\"], [0.1111111111111111, \"#46039f\"], [0.2222222222222222, \"#7201a8\"], [0.3333333333333333, \"#9c179e\"], [0.4444444444444444, \"#bd3786\"], [0.5555555555555556, \"#d8576b\"], [0.6666666666666666, \"#ed7953\"], [0.7777777777777778, \"#fb9f3a\"], [0.8888888888888888, \"#fdca26\"], [1.0, \"#f0f921\"]], \"type\": \"histogram2dcontour\"}], \"mesh3d\": [{\"colorbar\": {\"outlinewidth\": 0, \"ticks\": \"\"}, \"type\": \"mesh3d\"}], \"parcoords\": [{\"line\": {\"colorbar\": {\"outlinewidth\": 0, \"ticks\": \"\"}}, \"type\": \"parcoords\"}], \"pie\": [{\"automargin\": true, \"type\": \"pie\"}], \"scatter\": [{\"marker\": {\"colorbar\": {\"outlinewidth\": 0, \"ticks\": \"\"}}, \"type\": \"scatter\"}], \"scatter3d\": [{\"line\": {\"colorbar\": {\"outlinewidth\": 0, \"ticks\": \"\"}}, \"marker\": {\"colorbar\": {\"outlinewidth\": 0, \"ticks\": \"\"}}, \"type\": \"scatter3d\"}], \"scattercarpet\": [{\"marker\": {\"colorbar\": {\"outlinewidth\": 0, \"ticks\": \"\"}}, \"type\": \"scattercarpet\"}], \"scattergeo\": [{\"marker\": {\"colorbar\": {\"outlinewidth\": 0, \"ticks\": \"\"}}, \"type\": \"scattergeo\"}], \"scattergl\": [{\"marker\": {\"colorbar\": {\"outlinewidth\": 0, \"ticks\": \"\"}}, \"type\": \"scattergl\"}], \"scattermapbox\": [{\"marker\": {\"colorbar\": {\"outlinewidth\": 0, \"ticks\": \"\"}}, \"type\": \"scattermapbox\"}], \"scatterpolar\": [{\"marker\": {\"colorbar\": {\"outlinewidth\": 0, \"ticks\": \"\"}}, \"type\": \"scatterpolar\"}], \"scatterpolargl\": [{\"marker\": {\"colorbar\": {\"outlinewidth\": 0, \"ticks\": \"\"}}, \"type\": \"scatterpolargl\"}], \"scatterternary\": [{\"marker\": {\"colorbar\": {\"outlinewidth\": 0, \"ticks\": \"\"}}, \"type\": \"scatterternary\"}], \"surface\": [{\"colorbar\": {\"outlinewidth\": 0, \"ticks\": \"\"}, \"colorscale\": [[0.0, \"#0d0887\"], [0.1111111111111111, \"#46039f\"], [0.2222222222222222, \"#7201a8\"], [0.3333333333333333, \"#9c179e\"], [0.4444444444444444, \"#bd3786\"], [0.5555555555555556, \"#d8576b\"], [0.6666666666666666, \"#ed7953\"], [0.7777777777777778, \"#fb9f3a\"], [0.8888888888888888, \"#fdca26\"], [1.0, \"#f0f921\"]], \"type\": \"surface\"}], \"table\": [{\"cells\": {\"fill\": {\"color\": \"#EBF0F8\"}, \"line\": {\"color\": \"white\"}}, \"header\": {\"fill\": {\"color\": \"#C8D4E3\"}, \"line\": {\"color\": \"white\"}}, \"type\": \"table\"}]}, \"layout\": {\"annotationdefaults\": {\"arrowcolor\": \"#2a3f5f\", \"arrowhead\": 0, \"arrowwidth\": 1}, \"coloraxis\": {\"colorbar\": {\"outlinewidth\": 0, \"ticks\": \"\"}}, \"colorscale\": {\"diverging\": [[0, \"#8e0152\"], [0.1, \"#c51b7d\"], [0.2, \"#de77ae\"], [0.3, \"#f1b6da\"], [0.4, \"#fde0ef\"], [0.5, \"#f7f7f7\"], [0.6, \"#e6f5d0\"], [0.7, \"#b8e186\"], [0.8, \"#7fbc41\"], [0.9, \"#4d9221\"], [1, \"#276419\"]], \"sequential\": [[0.0, \"#0d0887\"], [0.1111111111111111, \"#46039f\"], [0.2222222222222222, \"#7201a8\"], [0.3333333333333333, \"#9c179e\"], [0.4444444444444444, \"#bd3786\"], [0.5555555555555556, \"#d8576b\"], [0.6666666666666666, \"#ed7953\"], [0.7777777777777778, \"#fb9f3a\"], [0.8888888888888888, \"#fdca26\"], [1.0, \"#f0f921\"]], \"sequentialminus\": [[0.0, \"#0d0887\"], [0.1111111111111111, \"#46039f\"], [0.2222222222222222, \"#7201a8\"], [0.3333333333333333, \"#9c179e\"], [0.4444444444444444, \"#bd3786\"], [0.5555555555555556, \"#d8576b\"], [0.6666666666666666, \"#ed7953\"], [0.7777777777777778, \"#fb9f3a\"], [0.8888888888888888, \"#fdca26\"], [1.0, \"#f0f921\"]]}, \"colorway\": [\"#636efa\", \"#EF553B\", \"#00cc96\", \"#ab63fa\", \"#FFA15A\", \"#19d3f3\", \"#FF6692\", \"#B6E880\", \"#FF97FF\", \"#FECB52\"], \"font\": {\"color\": \"#2a3f5f\"}, \"geo\": {\"bgcolor\": \"white\", \"lakecolor\": \"white\", \"landcolor\": \"#E5ECF6\", \"showlakes\": true, \"showland\": true, \"subunitcolor\": \"white\"}, \"hoverlabel\": {\"align\": \"left\"}, \"hovermode\": \"closest\", \"mapbox\": {\"style\": \"light\"}, \"paper_bgcolor\": \"white\", \"plot_bgcolor\": \"#E5ECF6\", \"polar\": {\"angularaxis\": {\"gridcolor\": \"white\", \"linecolor\": \"white\", \"ticks\": \"\"}, \"bgcolor\": \"#E5ECF6\", \"radialaxis\": {\"gridcolor\": \"white\", \"linecolor\": \"white\", \"ticks\": \"\"}}, \"scene\": {\"xaxis\": {\"backgroundcolor\": \"#E5ECF6\", \"gridcolor\": \"white\", \"gridwidth\": 2, \"linecolor\": \"white\", \"showbackground\": true, \"ticks\": \"\", \"zerolinecolor\": \"white\"}, \"yaxis\": {\"backgroundcolor\": \"#E5ECF6\", \"gridcolor\": \"white\", \"gridwidth\": 2, \"linecolor\": \"white\", \"showbackground\": true, \"ticks\": \"\", \"zerolinecolor\": \"white\"}, \"zaxis\": {\"backgroundcolor\": \"#E5ECF6\", \"gridcolor\": \"white\", \"gridwidth\": 2, \"linecolor\": \"white\", \"showbackground\": true, \"ticks\": \"\", \"zerolinecolor\": \"white\"}}, \"shapedefaults\": {\"line\": {\"color\": \"#2a3f5f\"}}, \"ternary\": {\"aaxis\": {\"gridcolor\": \"white\", \"linecolor\": \"white\", \"ticks\": \"\"}, \"baxis\": {\"gridcolor\": \"white\", \"linecolor\": \"white\", \"ticks\": \"\"}, \"bgcolor\": \"#E5ECF6\", \"caxis\": {\"gridcolor\": \"white\", \"linecolor\": \"white\", \"ticks\": \"\"}}, \"title\": {\"x\": 0.05}, \"xaxis\": {\"automargin\": true, \"gridcolor\": \"white\", \"linecolor\": \"white\", \"ticks\": \"\", \"title\": {\"standoff\": 15}, \"zerolinecolor\": \"white\", \"zerolinewidth\": 2}, \"yaxis\": {\"automargin\": true, \"gridcolor\": \"white\", \"linecolor\": \"white\", \"ticks\": \"\", \"title\": {\"standoff\": 15}, \"zerolinecolor\": \"white\", \"zerolinewidth\": 2}}}, \"title\": {\"font\": {\"color\": \"#4D5663\"}}, \"xaxis\": {\"gridcolor\": \"#E1E5ED\", \"showgrid\": true, \"tickfont\": {\"color\": \"#4D5663\"}, \"title\": {\"font\": {\"color\": \"#4D5663\"}, \"text\": \"\"}, \"zerolinecolor\": \"#E1E5ED\"}, \"yaxis\": {\"gridcolor\": \"#E1E5ED\", \"showgrid\": true, \"tickfont\": {\"color\": \"#4D5663\"}, \"title\": {\"font\": {\"color\": \"#4D5663\"}, \"text\": \"\"}, \"zerolinecolor\": \"#E1E5ED\"}},\n",
       "                        {\"showLink\": true, \"linkText\": \"Export to plot.ly\", \"plotlyServerURL\": \"https://plot.ly\", \"responsive\": true}\n",
       "                    ).then(function(){\n",
       "                            \n",
       "var gd = document.getElementById('7c1fc2c9-6f22-488b-8ff7-ba9ccf89454c');\n",
       "var x = new MutationObserver(function (mutations, observer) {{\n",
       "        var display = window.getComputedStyle(gd).display;\n",
       "        if (!display || display === 'none') {{\n",
       "            console.log([gd, 'removed!']);\n",
       "            Plotly.purge(gd);\n",
       "            observer.disconnect();\n",
       "        }}\n",
       "}});\n",
       "\n",
       "// Listen for the removal of the full notebook cells\n",
       "var notebookContainer = gd.closest('#notebook-container');\n",
       "if (notebookContainer) {{\n",
       "    x.observe(notebookContainer, {childList: true});\n",
       "}}\n",
       "\n",
       "// Listen for the clearing of the current output cell\n",
       "var outputEl = gd.closest('.output');\n",
       "if (outputEl) {{\n",
       "    x.observe(outputEl, {childList: true});\n",
       "}}\n",
       "\n",
       "                        })\n",
       "                };\n",
       "                });\n",
       "            </script>\n",
       "        </div>"
      ]
     },
     "metadata": {},
     "output_type": "display_data"
    }
   ],
   "source": [
    "df3 = pd.DataFrame({'x':[1,2,3,4,5],'y':[10,20,30,20,10],'z':[5,4,3,2,1]})\n",
    "df3.iplot(kind='surface',colorscale='rdylbu')"
   ]
  },
  {
   "cell_type": "markdown",
   "metadata": {},
   "source": [
    "## Spread"
   ]
  },
  {
   "cell_type": "code",
   "execution_count": 15,
   "metadata": {},
   "outputs": [
    {
     "data": {
      "application/vnd.plotly.v1+json": {
       "config": {
        "linkText": "Export to plot.ly",
        "plotlyServerURL": "https://plot.ly",
        "showLink": true
       },
       "data": [
        {
         "line": {
          "color": "rgba(255, 153, 51, 1.0)",
          "dash": "solid",
          "shape": "linear",
          "width": 1.3
         },
         "mode": "lines",
         "name": "A",
         "text": "",
         "type": "scatter",
         "x": [
          0,
          1,
          2,
          3,
          4,
          5,
          6,
          7,
          8,
          9,
          10,
          11,
          12,
          13,
          14,
          15,
          16,
          17,
          18,
          19,
          20,
          21,
          22,
          23,
          24,
          25,
          26,
          27,
          28,
          29,
          30,
          31,
          32,
          33,
          34,
          35,
          36,
          37,
          38,
          39,
          40,
          41,
          42,
          43,
          44,
          45,
          46,
          47,
          48,
          49,
          50,
          51,
          52,
          53,
          54,
          55,
          56,
          57,
          58,
          59,
          60,
          61,
          62,
          63,
          64,
          65,
          66,
          67,
          68,
          69,
          70,
          71,
          72,
          73,
          74,
          75,
          76,
          77,
          78,
          79,
          80,
          81,
          82,
          83,
          84,
          85,
          86,
          87,
          88,
          89,
          90,
          91,
          92,
          93,
          94,
          95,
          96,
          97,
          98,
          99
         ],
         "y": [
          -1.1840365621651945,
          -1.8381134858425232,
          -0.7277279334148866,
          -0.028971296517589097,
          0.825450382839014,
          -0.5614608633274173,
          -0.6603089317004062,
          1.6725527210902709,
          -0.2968938241848866,
          -0.7455791661784459,
          -0.9725191265715754,
          -0.17464149117399802,
          0.04597974569488585,
          -0.902823009779421,
          0.6600421623207664,
          -0.1373628365003551,
          -0.19933540675238912,
          2.232844506603289,
          -0.5866449656845658,
          -0.44827422430998215,
          -0.8126261620742526,
          0.3152056930303498,
          -1.5326742515335599,
          -1.3136876285306804,
          0.7465963870088331,
          1.3642850738121695,
          0.6227848343777126,
          0.9740940144969882,
          -0.03274610543656052,
          -0.23648932796707953,
          -0.5207684786746272,
          0.8150690070383287,
          0.8675613689644536,
          0.4620135634840239,
          -0.7926717247669486,
          0.049196575117251874,
          -1.0081977206190973,
          -0.19006178333019064,
          0.16938736014080316,
          1.6216816922631585,
          0.48642387377101337,
          0.6425010555936774,
          -1.63468048016266,
          -1.0470236308252987,
          0.3242329374347403,
          0.0943239920247155,
          0.3577150372212665,
          0.9236731892573657,
          1.6110323640649022,
          -0.042561925631995866,
          -0.43485544242184443,
          -0.8494618434253626,
          -0.8286206654583846,
          0.5324068271400587,
          0.44911904243558154,
          -0.37408960381593065,
          2.286830918685426,
          0.8056634189729108,
          0.611806492535484,
          1.3483873907369872,
          0.8586206478746982,
          -1.864926079553018,
          0.5198523571964471,
          -0.5137922851909704,
          -0.14859213220638998,
          -0.8434697432455353,
          -0.43125185207336814,
          0.32798193925352487,
          -0.9610454413972249,
          0.46050655291944365,
          -0.722804354638819,
          -1.245109552366151,
          -0.10064611244150451,
          0.8032841842806812,
          -1.1676378568872408,
          -2.512415133958864,
          -2.036925165214611,
          0.4414699595223629,
          -2.1978416072993685,
          0.3433106234260381,
          -0.2886576812286424,
          0.3427460539289989,
          0.5997642732764263,
          2.110771985511631,
          -0.6557430487299993,
          -1.172584879204941,
          0.5906194577721403,
          0.4863798984476543,
          -0.5647382607184777,
          -1.636502180160153,
          1.1318533611412398,
          0.346456706099411,
          -0.5009745761701883,
          1.2237802234261634,
          0.7943402042622165,
          0.46825175886511367,
          0.30669243561811416,
          0.6219140841086478,
          -1.5046859448603147,
          -0.5373240621441666
         ]
        },
        {
         "line": {
          "color": "rgba(55, 128, 191, 1.0)",
          "dash": "solid",
          "shape": "linear",
          "width": 1.3
         },
         "mode": "lines",
         "name": "B",
         "text": "",
         "type": "scatter",
         "x": [
          0,
          1,
          2,
          3,
          4,
          5,
          6,
          7,
          8,
          9,
          10,
          11,
          12,
          13,
          14,
          15,
          16,
          17,
          18,
          19,
          20,
          21,
          22,
          23,
          24,
          25,
          26,
          27,
          28,
          29,
          30,
          31,
          32,
          33,
          34,
          35,
          36,
          37,
          38,
          39,
          40,
          41,
          42,
          43,
          44,
          45,
          46,
          47,
          48,
          49,
          50,
          51,
          52,
          53,
          54,
          55,
          56,
          57,
          58,
          59,
          60,
          61,
          62,
          63,
          64,
          65,
          66,
          67,
          68,
          69,
          70,
          71,
          72,
          73,
          74,
          75,
          76,
          77,
          78,
          79,
          80,
          81,
          82,
          83,
          84,
          85,
          86,
          87,
          88,
          89,
          90,
          91,
          92,
          93,
          94,
          95,
          96,
          97,
          98,
          99
         ],
         "y": [
          0.7748574018350498,
          -0.8491056720735701,
          0.6914611085875526,
          1.1752875372815135,
          0.4162742573571235,
          -0.6952221903678409,
          0.7908201017015961,
          -0.39968184016567027,
          -0.4226151861377561,
          -0.16105722437957612,
          -0.9753539757949506,
          0.5977643273494854,
          -0.8888430599435827,
          0.4494305636804583,
          0.20609210531358196,
          -0.49022300526966706,
          -1.1886750583700814,
          0.2385127198502449,
          1.05249011826461,
          0.4034854022152594,
          -0.0479351953311653,
          0.5285875801575323,
          -0.8975425504391127,
          -0.9332949613409988,
          0.7145846867253706,
          -1.2754180312058925,
          -0.33935108820751164,
          -0.34572951265255847,
          0.8402196474654661,
          1.8579077941247726,
          -0.10545501116095234,
          -0.43029645225787383,
          -1.471009145551944,
          0.018313033612988895,
          0.05863378120340704,
          -0.7481251383861267,
          1.2739284752793545,
          -1.2688830632305381,
          0.04863904155004324,
          0.6590964872389021,
          1.6738927361115674,
          1.1447265427849844,
          0.26804703844199823,
          0.6146962222473003,
          0.8815348744267175,
          0.4152753764475723,
          -1.3748803282110544,
          -0.8555156955454922,
          1.0716946029249914,
          -0.18854674519334236,
          1.6767333881177955,
          0.3250252134387557,
          1.752760184188171,
          0.8348678395347147,
          -0.030014862454295552,
          1.3650079773832526,
          0.5128929565450878,
          0.1773698200047356,
          -0.4971404989716503,
          0.21478254702547728,
          -0.7480145706490767,
          0.5397806554794098,
          -0.5270300252772776,
          0.25976914331856615,
          -0.34787617938088616,
          -1.441248767668745,
          -1.5978719846155973,
          1.8760190283758935,
          2.058786169419131,
          0.04416637128786382,
          -0.11990218115432498,
          -0.32346234697218584,
          0.7587833672465661,
          0.1764232013077506,
          2.3271774971821166,
          -0.025870405639904837,
          -0.29898147778189804,
          0.45503789748310974,
          -0.3557650151783652,
          -0.3476159607705035,
          0.05314676086246436,
          -1.2068805594060426,
          -1.218095609914161,
          -0.605536020423741,
          -0.5639854925951856,
          0.5292292854352497,
          0.5224444059168056,
          -0.34012701139348117,
          0.3409887608709333,
          0.3034569426427565,
          0.02050058661276885,
          0.06559131836346563,
          0.16276827346155767,
          -1.7289045833130687,
          -1.2926726553484278,
          0.3706707209524533,
          -1.1632329413595424,
          -0.8424734722469165,
          -1.3825350305370303,
          0.557764978680726
         ]
        },
        {
         "connectgaps": false,
         "fill": "tozeroy",
         "line": {
          "color": "green",
          "dash": "solid",
          "shape": "linear",
          "width": 0.5
         },
         "mode": "lines",
         "name": "Spread",
         "showlegend": false,
         "type": "scatter",
         "x": [
          0,
          1,
          2,
          3,
          4,
          5,
          6,
          7,
          8,
          9,
          10,
          11,
          12,
          13,
          14,
          15,
          16,
          17,
          18,
          19,
          20,
          21,
          22,
          23,
          24,
          25,
          26,
          27,
          28,
          29,
          30,
          31,
          32,
          33,
          34,
          35,
          36,
          37,
          38,
          39,
          40,
          41,
          42,
          43,
          44,
          45,
          46,
          47,
          48,
          49,
          50,
          51,
          52,
          53,
          54,
          55,
          56,
          57,
          58,
          59,
          60,
          61,
          62,
          63,
          64,
          65,
          66,
          67,
          68,
          69,
          70,
          71,
          72,
          73,
          74,
          75,
          76,
          77,
          78,
          79,
          80,
          81,
          82,
          83,
          84,
          85,
          86,
          87,
          88,
          89,
          90,
          91,
          92,
          93,
          94,
          95,
          96,
          97,
          98,
          99
         ],
         "xaxis": "x2",
         "y": [
          "",
          "",
          "",
          "",
          0.4091761254818905,
          0.13376132704042365,
          "",
          2.072234561255941,
          0.12572136195286954,
          "",
          0.002834849223375291,
          "",
          0.9348228056384685,
          "",
          0.45395005700718444,
          0.3528601687693119,
          0.9893396516176922,
          1.9943317867530443,
          "",
          "",
          "",
          "",
          "",
          "",
          0.03201170028346256,
          2.6397031050180617,
          0.9621359225852242,
          1.3198235271495466,
          "",
          "",
          "",
          1.2453654592962025,
          2.3385705145163977,
          0.443700529871035,
          "",
          0.7973217135033785,
          "",
          1.0788212799003474,
          0.12074831859075992,
          0.9625852050242564,
          "",
          "",
          "",
          "",
          "",
          "",
          1.732595365432321,
          1.779188884802858,
          0.5393377611399108,
          0.14598481956134648,
          "",
          "",
          "",
          "",
          0.4791339048898771,
          "",
          1.7739379621403382,
          0.6282935989681753,
          1.1089469915071344,
          1.13360484371151,
          1.6066352185237749,
          "",
          1.0468823824737248,
          "",
          0.1992840471744962,
          0.5977790244232098,
          1.1666201325422292,
          "",
          "",
          0.4163401816315798,
          "",
          "",
          "",
          0.6268609829729306,
          "",
          "",
          "",
          "",
          "",
          0.6909265841965415,
          "",
          1.5496266133350414,
          1.8178598831905874,
          2.716308005935372,
          "",
          "",
          0.06817505185533468,
          0.8265069098411355,
          "",
          "",
          1.111352774528471,
          0.2808653877359454,
          "",
          2.9526848067392324,
          2.0870128596106445,
          0.09758103791266037,
          1.4699253769776566,
          1.4643875563555642,
          "",
          ""
         ],
         "yaxis": "y2"
        },
        {
         "connectgaps": false,
         "fill": "tozeroy",
         "line": {
          "color": "red",
          "dash": "solid",
          "shape": "linear",
          "width": 0.5
         },
         "mode": "lines",
         "name": "Spread",
         "showlegend": false,
         "type": "scatter",
         "x": [
          0,
          1,
          2,
          3,
          4,
          5,
          6,
          7,
          8,
          9,
          10,
          11,
          12,
          13,
          14,
          15,
          16,
          17,
          18,
          19,
          20,
          21,
          22,
          23,
          24,
          25,
          26,
          27,
          28,
          29,
          30,
          31,
          32,
          33,
          34,
          35,
          36,
          37,
          38,
          39,
          40,
          41,
          42,
          43,
          44,
          45,
          46,
          47,
          48,
          49,
          50,
          51,
          52,
          53,
          54,
          55,
          56,
          57,
          58,
          59,
          60,
          61,
          62,
          63,
          64,
          65,
          66,
          67,
          68,
          69,
          70,
          71,
          72,
          73,
          74,
          75,
          76,
          77,
          78,
          79,
          80,
          81,
          82,
          83,
          84,
          85,
          86,
          87,
          88,
          89,
          90,
          91,
          92,
          93,
          94,
          95,
          96,
          97,
          98,
          99
         ],
         "xaxis": "x2",
         "y": [
          -1.9588939640002443,
          -0.9890078137689531,
          -1.4191890420024391,
          -1.2042588337991025,
          "",
          "",
          -1.4511290334020024,
          "",
          "",
          -0.5845219417988697,
          "",
          -0.7724058185234834,
          "",
          -1.3522535734598793,
          "",
          "",
          "",
          "",
          -1.6391350839491758,
          -0.8517596265252416,
          -0.7646909667430873,
          -0.21338188712718248,
          -0.6351317010944472,
          -0.3803926671896817,
          "",
          "",
          "",
          "",
          -0.8729657529020266,
          -2.094397122091852,
          -0.4153134675136748,
          "",
          "",
          "",
          -0.8513055059703556,
          "",
          -2.282126195898452,
          "",
          "",
          "",
          -1.187468862340554,
          -0.502225487191307,
          -1.9027275186046582,
          -1.661719853072599,
          -0.5573019369919772,
          -0.32095138442285676,
          "",
          "",
          "",
          "",
          -2.11158883053964,
          -1.1744870568641184,
          -2.5813808496465556,
          -0.30246101239465595,
          "",
          -1.7390975811991833,
          "",
          "",
          "",
          "",
          "",
          -2.404706735032428,
          "",
          -0.7735614285095366,
          "",
          "",
          "",
          -1.5480370891223687,
          -3.019831610816356,
          "",
          -0.602902173484494,
          -0.9216472053939653,
          -0.8594294796880706,
          "",
          -3.4948153540693574,
          -2.4865447283189592,
          -1.737943687432713,
          -0.013567937960746845,
          -1.8420765921210034,
          "",
          -0.3418044420911067,
          "",
          "",
          "",
          -0.09175755613481373,
          -1.7018141646401905,
          "",
          "",
          -0.905727021589411,
          -1.9399591228029094,
          "",
          "",
          -0.6637428496317459,
          "",
          "",
          "",
          "",
          "",
          -0.1221509143232844,
          -1.0950890408248926
         ],
         "yaxis": "y2"
        }
       ],
       "layout": {
        "hovermode": "x",
        "legend": {
         "bgcolor": "#F5F6F9",
         "font": {
          "color": "#4D5663"
         }
        },
        "paper_bgcolor": "#F5F6F9",
        "plot_bgcolor": "#F5F6F9",
        "template": {
         "data": {
          "bar": [
           {
            "error_x": {
             "color": "#2a3f5f"
            },
            "error_y": {
             "color": "#2a3f5f"
            },
            "marker": {
             "line": {
              "color": "#E5ECF6",
              "width": 0.5
             }
            },
            "type": "bar"
           }
          ],
          "barpolar": [
           {
            "marker": {
             "line": {
              "color": "#E5ECF6",
              "width": 0.5
             }
            },
            "type": "barpolar"
           }
          ],
          "carpet": [
           {
            "aaxis": {
             "endlinecolor": "#2a3f5f",
             "gridcolor": "white",
             "linecolor": "white",
             "minorgridcolor": "white",
             "startlinecolor": "#2a3f5f"
            },
            "baxis": {
             "endlinecolor": "#2a3f5f",
             "gridcolor": "white",
             "linecolor": "white",
             "minorgridcolor": "white",
             "startlinecolor": "#2a3f5f"
            },
            "type": "carpet"
           }
          ],
          "choropleth": [
           {
            "colorbar": {
             "outlinewidth": 0,
             "ticks": ""
            },
            "type": "choropleth"
           }
          ],
          "contour": [
           {
            "colorbar": {
             "outlinewidth": 0,
             "ticks": ""
            },
            "colorscale": [
             [
              0,
              "#0d0887"
             ],
             [
              0.1111111111111111,
              "#46039f"
             ],
             [
              0.2222222222222222,
              "#7201a8"
             ],
             [
              0.3333333333333333,
              "#9c179e"
             ],
             [
              0.4444444444444444,
              "#bd3786"
             ],
             [
              0.5555555555555556,
              "#d8576b"
             ],
             [
              0.6666666666666666,
              "#ed7953"
             ],
             [
              0.7777777777777778,
              "#fb9f3a"
             ],
             [
              0.8888888888888888,
              "#fdca26"
             ],
             [
              1,
              "#f0f921"
             ]
            ],
            "type": "contour"
           }
          ],
          "contourcarpet": [
           {
            "colorbar": {
             "outlinewidth": 0,
             "ticks": ""
            },
            "type": "contourcarpet"
           }
          ],
          "heatmap": [
           {
            "colorbar": {
             "outlinewidth": 0,
             "ticks": ""
            },
            "colorscale": [
             [
              0,
              "#0d0887"
             ],
             [
              0.1111111111111111,
              "#46039f"
             ],
             [
              0.2222222222222222,
              "#7201a8"
             ],
             [
              0.3333333333333333,
              "#9c179e"
             ],
             [
              0.4444444444444444,
              "#bd3786"
             ],
             [
              0.5555555555555556,
              "#d8576b"
             ],
             [
              0.6666666666666666,
              "#ed7953"
             ],
             [
              0.7777777777777778,
              "#fb9f3a"
             ],
             [
              0.8888888888888888,
              "#fdca26"
             ],
             [
              1,
              "#f0f921"
             ]
            ],
            "type": "heatmap"
           }
          ],
          "heatmapgl": [
           {
            "colorbar": {
             "outlinewidth": 0,
             "ticks": ""
            },
            "colorscale": [
             [
              0,
              "#0d0887"
             ],
             [
              0.1111111111111111,
              "#46039f"
             ],
             [
              0.2222222222222222,
              "#7201a8"
             ],
             [
              0.3333333333333333,
              "#9c179e"
             ],
             [
              0.4444444444444444,
              "#bd3786"
             ],
             [
              0.5555555555555556,
              "#d8576b"
             ],
             [
              0.6666666666666666,
              "#ed7953"
             ],
             [
              0.7777777777777778,
              "#fb9f3a"
             ],
             [
              0.8888888888888888,
              "#fdca26"
             ],
             [
              1,
              "#f0f921"
             ]
            ],
            "type": "heatmapgl"
           }
          ],
          "histogram": [
           {
            "marker": {
             "colorbar": {
              "outlinewidth": 0,
              "ticks": ""
             }
            },
            "type": "histogram"
           }
          ],
          "histogram2d": [
           {
            "colorbar": {
             "outlinewidth": 0,
             "ticks": ""
            },
            "colorscale": [
             [
              0,
              "#0d0887"
             ],
             [
              0.1111111111111111,
              "#46039f"
             ],
             [
              0.2222222222222222,
              "#7201a8"
             ],
             [
              0.3333333333333333,
              "#9c179e"
             ],
             [
              0.4444444444444444,
              "#bd3786"
             ],
             [
              0.5555555555555556,
              "#d8576b"
             ],
             [
              0.6666666666666666,
              "#ed7953"
             ],
             [
              0.7777777777777778,
              "#fb9f3a"
             ],
             [
              0.8888888888888888,
              "#fdca26"
             ],
             [
              1,
              "#f0f921"
             ]
            ],
            "type": "histogram2d"
           }
          ],
          "histogram2dcontour": [
           {
            "colorbar": {
             "outlinewidth": 0,
             "ticks": ""
            },
            "colorscale": [
             [
              0,
              "#0d0887"
             ],
             [
              0.1111111111111111,
              "#46039f"
             ],
             [
              0.2222222222222222,
              "#7201a8"
             ],
             [
              0.3333333333333333,
              "#9c179e"
             ],
             [
              0.4444444444444444,
              "#bd3786"
             ],
             [
              0.5555555555555556,
              "#d8576b"
             ],
             [
              0.6666666666666666,
              "#ed7953"
             ],
             [
              0.7777777777777778,
              "#fb9f3a"
             ],
             [
              0.8888888888888888,
              "#fdca26"
             ],
             [
              1,
              "#f0f921"
             ]
            ],
            "type": "histogram2dcontour"
           }
          ],
          "mesh3d": [
           {
            "colorbar": {
             "outlinewidth": 0,
             "ticks": ""
            },
            "type": "mesh3d"
           }
          ],
          "parcoords": [
           {
            "line": {
             "colorbar": {
              "outlinewidth": 0,
              "ticks": ""
             }
            },
            "type": "parcoords"
           }
          ],
          "pie": [
           {
            "automargin": true,
            "type": "pie"
           }
          ],
          "scatter": [
           {
            "marker": {
             "colorbar": {
              "outlinewidth": 0,
              "ticks": ""
             }
            },
            "type": "scatter"
           }
          ],
          "scatter3d": [
           {
            "line": {
             "colorbar": {
              "outlinewidth": 0,
              "ticks": ""
             }
            },
            "marker": {
             "colorbar": {
              "outlinewidth": 0,
              "ticks": ""
             }
            },
            "type": "scatter3d"
           }
          ],
          "scattercarpet": [
           {
            "marker": {
             "colorbar": {
              "outlinewidth": 0,
              "ticks": ""
             }
            },
            "type": "scattercarpet"
           }
          ],
          "scattergeo": [
           {
            "marker": {
             "colorbar": {
              "outlinewidth": 0,
              "ticks": ""
             }
            },
            "type": "scattergeo"
           }
          ],
          "scattergl": [
           {
            "marker": {
             "colorbar": {
              "outlinewidth": 0,
              "ticks": ""
             }
            },
            "type": "scattergl"
           }
          ],
          "scattermapbox": [
           {
            "marker": {
             "colorbar": {
              "outlinewidth": 0,
              "ticks": ""
             }
            },
            "type": "scattermapbox"
           }
          ],
          "scatterpolar": [
           {
            "marker": {
             "colorbar": {
              "outlinewidth": 0,
              "ticks": ""
             }
            },
            "type": "scatterpolar"
           }
          ],
          "scatterpolargl": [
           {
            "marker": {
             "colorbar": {
              "outlinewidth": 0,
              "ticks": ""
             }
            },
            "type": "scatterpolargl"
           }
          ],
          "scatterternary": [
           {
            "marker": {
             "colorbar": {
              "outlinewidth": 0,
              "ticks": ""
             }
            },
            "type": "scatterternary"
           }
          ],
          "surface": [
           {
            "colorbar": {
             "outlinewidth": 0,
             "ticks": ""
            },
            "colorscale": [
             [
              0,
              "#0d0887"
             ],
             [
              0.1111111111111111,
              "#46039f"
             ],
             [
              0.2222222222222222,
              "#7201a8"
             ],
             [
              0.3333333333333333,
              "#9c179e"
             ],
             [
              0.4444444444444444,
              "#bd3786"
             ],
             [
              0.5555555555555556,
              "#d8576b"
             ],
             [
              0.6666666666666666,
              "#ed7953"
             ],
             [
              0.7777777777777778,
              "#fb9f3a"
             ],
             [
              0.8888888888888888,
              "#fdca26"
             ],
             [
              1,
              "#f0f921"
             ]
            ],
            "type": "surface"
           }
          ],
          "table": [
           {
            "cells": {
             "fill": {
              "color": "#EBF0F8"
             },
             "line": {
              "color": "white"
             }
            },
            "header": {
             "fill": {
              "color": "#C8D4E3"
             },
             "line": {
              "color": "white"
             }
            },
            "type": "table"
           }
          ]
         },
         "layout": {
          "annotationdefaults": {
           "arrowcolor": "#2a3f5f",
           "arrowhead": 0,
           "arrowwidth": 1
          },
          "coloraxis": {
           "colorbar": {
            "outlinewidth": 0,
            "ticks": ""
           }
          },
          "colorscale": {
           "diverging": [
            [
             0,
             "#8e0152"
            ],
            [
             0.1,
             "#c51b7d"
            ],
            [
             0.2,
             "#de77ae"
            ],
            [
             0.3,
             "#f1b6da"
            ],
            [
             0.4,
             "#fde0ef"
            ],
            [
             0.5,
             "#f7f7f7"
            ],
            [
             0.6,
             "#e6f5d0"
            ],
            [
             0.7,
             "#b8e186"
            ],
            [
             0.8,
             "#7fbc41"
            ],
            [
             0.9,
             "#4d9221"
            ],
            [
             1,
             "#276419"
            ]
           ],
           "sequential": [
            [
             0,
             "#0d0887"
            ],
            [
             0.1111111111111111,
             "#46039f"
            ],
            [
             0.2222222222222222,
             "#7201a8"
            ],
            [
             0.3333333333333333,
             "#9c179e"
            ],
            [
             0.4444444444444444,
             "#bd3786"
            ],
            [
             0.5555555555555556,
             "#d8576b"
            ],
            [
             0.6666666666666666,
             "#ed7953"
            ],
            [
             0.7777777777777778,
             "#fb9f3a"
            ],
            [
             0.8888888888888888,
             "#fdca26"
            ],
            [
             1,
             "#f0f921"
            ]
           ],
           "sequentialminus": [
            [
             0,
             "#0d0887"
            ],
            [
             0.1111111111111111,
             "#46039f"
            ],
            [
             0.2222222222222222,
             "#7201a8"
            ],
            [
             0.3333333333333333,
             "#9c179e"
            ],
            [
             0.4444444444444444,
             "#bd3786"
            ],
            [
             0.5555555555555556,
             "#d8576b"
            ],
            [
             0.6666666666666666,
             "#ed7953"
            ],
            [
             0.7777777777777778,
             "#fb9f3a"
            ],
            [
             0.8888888888888888,
             "#fdca26"
            ],
            [
             1,
             "#f0f921"
            ]
           ]
          },
          "colorway": [
           "#636efa",
           "#EF553B",
           "#00cc96",
           "#ab63fa",
           "#FFA15A",
           "#19d3f3",
           "#FF6692",
           "#B6E880",
           "#FF97FF",
           "#FECB52"
          ],
          "font": {
           "color": "#2a3f5f"
          },
          "geo": {
           "bgcolor": "white",
           "lakecolor": "white",
           "landcolor": "#E5ECF6",
           "showlakes": true,
           "showland": true,
           "subunitcolor": "white"
          },
          "hoverlabel": {
           "align": "left"
          },
          "hovermode": "closest",
          "mapbox": {
           "style": "light"
          },
          "paper_bgcolor": "white",
          "plot_bgcolor": "#E5ECF6",
          "polar": {
           "angularaxis": {
            "gridcolor": "white",
            "linecolor": "white",
            "ticks": ""
           },
           "bgcolor": "#E5ECF6",
           "radialaxis": {
            "gridcolor": "white",
            "linecolor": "white",
            "ticks": ""
           }
          },
          "scene": {
           "xaxis": {
            "backgroundcolor": "#E5ECF6",
            "gridcolor": "white",
            "gridwidth": 2,
            "linecolor": "white",
            "showbackground": true,
            "ticks": "",
            "zerolinecolor": "white"
           },
           "yaxis": {
            "backgroundcolor": "#E5ECF6",
            "gridcolor": "white",
            "gridwidth": 2,
            "linecolor": "white",
            "showbackground": true,
            "ticks": "",
            "zerolinecolor": "white"
           },
           "zaxis": {
            "backgroundcolor": "#E5ECF6",
            "gridcolor": "white",
            "gridwidth": 2,
            "linecolor": "white",
            "showbackground": true,
            "ticks": "",
            "zerolinecolor": "white"
           }
          },
          "shapedefaults": {
           "line": {
            "color": "#2a3f5f"
           }
          },
          "ternary": {
           "aaxis": {
            "gridcolor": "white",
            "linecolor": "white",
            "ticks": ""
           },
           "baxis": {
            "gridcolor": "white",
            "linecolor": "white",
            "ticks": ""
           },
           "bgcolor": "#E5ECF6",
           "caxis": {
            "gridcolor": "white",
            "linecolor": "white",
            "ticks": ""
           }
          },
          "title": {
           "x": 0.05
          },
          "xaxis": {
           "automargin": true,
           "gridcolor": "white",
           "linecolor": "white",
           "ticks": "",
           "title": {
            "standoff": 15
           },
           "zerolinecolor": "white",
           "zerolinewidth": 2
          },
          "yaxis": {
           "automargin": true,
           "gridcolor": "white",
           "linecolor": "white",
           "ticks": "",
           "title": {
            "standoff": 15
           },
           "zerolinecolor": "white",
           "zerolinewidth": 2
          }
         }
        },
        "title": {
         "font": {
          "color": "#4D5663"
         }
        },
        "xaxis": {
         "gridcolor": "#E1E5ED",
         "showgrid": true,
         "tickfont": {
          "color": "#4D5663"
         },
         "title": {
          "font": {
           "color": "#4D5663"
          },
          "text": ""
         },
         "zerolinecolor": "#E1E5ED"
        },
        "xaxis2": {
         "anchor": "y2",
         "gridcolor": "#E1E5ED",
         "showgrid": true,
         "showticklabels": false,
         "tickfont": {
          "color": "#4D5663"
         },
         "title": {
          "font": {
           "color": "#4D5663"
          },
          "text": ""
         },
         "zerolinecolor": "#E1E5ED"
        },
        "yaxis": {
         "domain": [
          0.3,
          1
         ],
         "gridcolor": "#E1E5ED",
         "showgrid": true,
         "tickfont": {
          "color": "#4D5663"
         },
         "title": {
          "font": {
           "color": "#4D5663"
          },
          "text": ""
         },
         "zerolinecolor": "#E1E5ED"
        },
        "yaxis2": {
         "domain": [
          0,
          0.25
         ],
         "gridcolor": "#E1E5ED",
         "showgrid": true,
         "tickfont": {
          "color": "#4D5663"
         },
         "title": {
          "font": {
           "color": "#4D5663"
          },
          "text": "Spread"
         },
         "zerolinecolor": "#E1E5ED"
        }
       }
      },
      "text/html": [
       "<div>\n",
       "        \n",
       "        \n",
       "            <div id=\"f8b59988-bf43-4947-b764-b5b8a27c850a\" class=\"plotly-graph-div\" style=\"height:525px; width:100%;\"></div>\n",
       "            <script type=\"text/javascript\">\n",
       "                require([\"plotly\"], function(Plotly) {\n",
       "                    window.PLOTLYENV=window.PLOTLYENV || {};\n",
       "                    window.PLOTLYENV.BASE_URL='https://plot.ly';\n",
       "                    \n",
       "                if (document.getElementById(\"f8b59988-bf43-4947-b764-b5b8a27c850a\")) {\n",
       "                    Plotly.newPlot(\n",
       "                        'f8b59988-bf43-4947-b764-b5b8a27c850a',\n",
       "                        [{\"line\": {\"color\": \"rgba(255, 153, 51, 1.0)\", \"dash\": \"solid\", \"shape\": \"linear\", \"width\": 1.3}, \"mode\": \"lines\", \"name\": \"A\", \"text\": \"\", \"type\": \"scatter\", \"x\": [0, 1, 2, 3, 4, 5, 6, 7, 8, 9, 10, 11, 12, 13, 14, 15, 16, 17, 18, 19, 20, 21, 22, 23, 24, 25, 26, 27, 28, 29, 30, 31, 32, 33, 34, 35, 36, 37, 38, 39, 40, 41, 42, 43, 44, 45, 46, 47, 48, 49, 50, 51, 52, 53, 54, 55, 56, 57, 58, 59, 60, 61, 62, 63, 64, 65, 66, 67, 68, 69, 70, 71, 72, 73, 74, 75, 76, 77, 78, 79, 80, 81, 82, 83, 84, 85, 86, 87, 88, 89, 90, 91, 92, 93, 94, 95, 96, 97, 98, 99], \"y\": [-1.1840365621651945, -1.8381134858425232, -0.7277279334148866, -0.028971296517589097, 0.825450382839014, -0.5614608633274173, -0.6603089317004062, 1.6725527210902709, -0.2968938241848866, -0.7455791661784459, -0.9725191265715754, -0.17464149117399802, 0.04597974569488585, -0.902823009779421, 0.6600421623207664, -0.1373628365003551, -0.19933540675238912, 2.232844506603289, -0.5866449656845658, -0.44827422430998215, -0.8126261620742526, 0.3152056930303498, -1.5326742515335599, -1.3136876285306804, 0.7465963870088331, 1.3642850738121695, 0.6227848343777126, 0.9740940144969882, -0.03274610543656052, -0.23648932796707953, -0.5207684786746272, 0.8150690070383287, 0.8675613689644536, 0.4620135634840239, -0.7926717247669486, 0.049196575117251874, -1.0081977206190973, -0.19006178333019064, 0.16938736014080316, 1.6216816922631585, 0.48642387377101337, 0.6425010555936774, -1.63468048016266, -1.0470236308252987, 0.3242329374347403, 0.0943239920247155, 0.3577150372212665, 0.9236731892573657, 1.6110323640649022, -0.042561925631995866, -0.43485544242184443, -0.8494618434253626, -0.8286206654583846, 0.5324068271400587, 0.44911904243558154, -0.37408960381593065, 2.286830918685426, 0.8056634189729108, 0.611806492535484, 1.3483873907369872, 0.8586206478746982, -1.864926079553018, 0.5198523571964471, -0.5137922851909704, -0.14859213220638998, -0.8434697432455353, -0.43125185207336814, 0.32798193925352487, -0.9610454413972249, 0.46050655291944365, -0.722804354638819, -1.245109552366151, -0.10064611244150451, 0.8032841842806812, -1.1676378568872408, -2.512415133958864, -2.036925165214611, 0.4414699595223629, -2.1978416072993685, 0.3433106234260381, -0.2886576812286424, 0.3427460539289989, 0.5997642732764263, 2.110771985511631, -0.6557430487299993, -1.172584879204941, 0.5906194577721403, 0.4863798984476543, -0.5647382607184777, -1.636502180160153, 1.1318533611412398, 0.346456706099411, -0.5009745761701883, 1.2237802234261634, 0.7943402042622165, 0.46825175886511367, 0.30669243561811416, 0.6219140841086478, -1.5046859448603147, -0.5373240621441666]}, {\"line\": {\"color\": \"rgba(55, 128, 191, 1.0)\", \"dash\": \"solid\", \"shape\": \"linear\", \"width\": 1.3}, \"mode\": \"lines\", \"name\": \"B\", \"text\": \"\", \"type\": \"scatter\", \"x\": [0, 1, 2, 3, 4, 5, 6, 7, 8, 9, 10, 11, 12, 13, 14, 15, 16, 17, 18, 19, 20, 21, 22, 23, 24, 25, 26, 27, 28, 29, 30, 31, 32, 33, 34, 35, 36, 37, 38, 39, 40, 41, 42, 43, 44, 45, 46, 47, 48, 49, 50, 51, 52, 53, 54, 55, 56, 57, 58, 59, 60, 61, 62, 63, 64, 65, 66, 67, 68, 69, 70, 71, 72, 73, 74, 75, 76, 77, 78, 79, 80, 81, 82, 83, 84, 85, 86, 87, 88, 89, 90, 91, 92, 93, 94, 95, 96, 97, 98, 99], \"y\": [0.7748574018350498, -0.8491056720735701, 0.6914611085875526, 1.1752875372815135, 0.4162742573571235, -0.6952221903678409, 0.7908201017015961, -0.39968184016567027, -0.4226151861377561, -0.16105722437957612, -0.9753539757949506, 0.5977643273494854, -0.8888430599435827, 0.4494305636804583, 0.20609210531358196, -0.49022300526966706, -1.1886750583700814, 0.2385127198502449, 1.05249011826461, 0.4034854022152594, -0.0479351953311653, 0.5285875801575323, -0.8975425504391127, -0.9332949613409988, 0.7145846867253706, -1.2754180312058925, -0.33935108820751164, -0.34572951265255847, 0.8402196474654661, 1.8579077941247726, -0.10545501116095234, -0.43029645225787383, -1.471009145551944, 0.018313033612988895, 0.05863378120340704, -0.7481251383861267, 1.2739284752793545, -1.2688830632305381, 0.04863904155004324, 0.6590964872389021, 1.6738927361115674, 1.1447265427849844, 0.26804703844199823, 0.6146962222473003, 0.8815348744267175, 0.4152753764475723, -1.3748803282110544, -0.8555156955454922, 1.0716946029249914, -0.18854674519334236, 1.6767333881177955, 0.3250252134387557, 1.752760184188171, 0.8348678395347147, -0.030014862454295552, 1.3650079773832526, 0.5128929565450878, 0.1773698200047356, -0.4971404989716503, 0.21478254702547728, -0.7480145706490767, 0.5397806554794098, -0.5270300252772776, 0.25976914331856615, -0.34787617938088616, -1.441248767668745, -1.5978719846155973, 1.8760190283758935, 2.058786169419131, 0.04416637128786382, -0.11990218115432498, -0.32346234697218584, 0.7587833672465661, 0.1764232013077506, 2.3271774971821166, -0.025870405639904837, -0.29898147778189804, 0.45503789748310974, -0.3557650151783652, -0.3476159607705035, 0.05314676086246436, -1.2068805594060426, -1.218095609914161, -0.605536020423741, -0.5639854925951856, 0.5292292854352497, 0.5224444059168056, -0.34012701139348117, 0.3409887608709333, 0.3034569426427565, 0.02050058661276885, 0.06559131836346563, 0.16276827346155767, -1.7289045833130687, -1.2926726553484278, 0.3706707209524533, -1.1632329413595424, -0.8424734722469165, -1.3825350305370303, 0.557764978680726]}, {\"connectgaps\": false, \"fill\": \"tozeroy\", \"line\": {\"color\": \"green\", \"dash\": \"solid\", \"shape\": \"linear\", \"width\": 0.5}, \"mode\": \"lines\", \"name\": \"Spread\", \"showlegend\": false, \"type\": \"scatter\", \"x\": [0, 1, 2, 3, 4, 5, 6, 7, 8, 9, 10, 11, 12, 13, 14, 15, 16, 17, 18, 19, 20, 21, 22, 23, 24, 25, 26, 27, 28, 29, 30, 31, 32, 33, 34, 35, 36, 37, 38, 39, 40, 41, 42, 43, 44, 45, 46, 47, 48, 49, 50, 51, 52, 53, 54, 55, 56, 57, 58, 59, 60, 61, 62, 63, 64, 65, 66, 67, 68, 69, 70, 71, 72, 73, 74, 75, 76, 77, 78, 79, 80, 81, 82, 83, 84, 85, 86, 87, 88, 89, 90, 91, 92, 93, 94, 95, 96, 97, 98, 99], \"xaxis\": \"x2\", \"y\": [\"\", \"\", \"\", \"\", 0.4091761254818905, 0.13376132704042365, \"\", 2.072234561255941, 0.12572136195286954, \"\", 0.002834849223375291, \"\", 0.9348228056384685, \"\", 0.45395005700718444, 0.3528601687693119, 0.9893396516176922, 1.9943317867530443, \"\", \"\", \"\", \"\", \"\", \"\", 0.03201170028346256, 2.6397031050180617, 0.9621359225852242, 1.3198235271495466, \"\", \"\", \"\", 1.2453654592962025, 2.3385705145163977, 0.443700529871035, \"\", 0.7973217135033785, \"\", 1.0788212799003474, 0.12074831859075992, 0.9625852050242564, \"\", \"\", \"\", \"\", \"\", \"\", 1.732595365432321, 1.779188884802858, 0.5393377611399108, 0.14598481956134648, \"\", \"\", \"\", \"\", 0.4791339048898771, \"\", 1.7739379621403382, 0.6282935989681753, 1.1089469915071344, 1.13360484371151, 1.6066352185237749, \"\", 1.0468823824737248, \"\", 0.1992840471744962, 0.5977790244232098, 1.1666201325422292, \"\", \"\", 0.4163401816315798, \"\", \"\", \"\", 0.6268609829729306, \"\", \"\", \"\", \"\", \"\", 0.6909265841965415, \"\", 1.5496266133350414, 1.8178598831905874, 2.716308005935372, \"\", \"\", 0.06817505185533468, 0.8265069098411355, \"\", \"\", 1.111352774528471, 0.2808653877359454, \"\", 2.9526848067392324, 2.0870128596106445, 0.09758103791266037, 1.4699253769776566, 1.4643875563555642, \"\", \"\"], \"yaxis\": \"y2\"}, {\"connectgaps\": false, \"fill\": \"tozeroy\", \"line\": {\"color\": \"red\", \"dash\": \"solid\", \"shape\": \"linear\", \"width\": 0.5}, \"mode\": \"lines\", \"name\": \"Spread\", \"showlegend\": false, \"type\": \"scatter\", \"x\": [0, 1, 2, 3, 4, 5, 6, 7, 8, 9, 10, 11, 12, 13, 14, 15, 16, 17, 18, 19, 20, 21, 22, 23, 24, 25, 26, 27, 28, 29, 30, 31, 32, 33, 34, 35, 36, 37, 38, 39, 40, 41, 42, 43, 44, 45, 46, 47, 48, 49, 50, 51, 52, 53, 54, 55, 56, 57, 58, 59, 60, 61, 62, 63, 64, 65, 66, 67, 68, 69, 70, 71, 72, 73, 74, 75, 76, 77, 78, 79, 80, 81, 82, 83, 84, 85, 86, 87, 88, 89, 90, 91, 92, 93, 94, 95, 96, 97, 98, 99], \"xaxis\": \"x2\", \"y\": [-1.9588939640002443, -0.9890078137689531, -1.4191890420024391, -1.2042588337991025, \"\", \"\", -1.4511290334020024, \"\", \"\", -0.5845219417988697, \"\", -0.7724058185234834, \"\", -1.3522535734598793, \"\", \"\", \"\", \"\", -1.6391350839491758, -0.8517596265252416, -0.7646909667430873, -0.21338188712718248, -0.6351317010944472, -0.3803926671896817, \"\", \"\", \"\", \"\", -0.8729657529020266, -2.094397122091852, -0.4153134675136748, \"\", \"\", \"\", -0.8513055059703556, \"\", -2.282126195898452, \"\", \"\", \"\", -1.187468862340554, -0.502225487191307, -1.9027275186046582, -1.661719853072599, -0.5573019369919772, -0.32095138442285676, \"\", \"\", \"\", \"\", -2.11158883053964, -1.1744870568641184, -2.5813808496465556, -0.30246101239465595, \"\", -1.7390975811991833, \"\", \"\", \"\", \"\", \"\", -2.404706735032428, \"\", -0.7735614285095366, \"\", \"\", \"\", -1.5480370891223687, -3.019831610816356, \"\", -0.602902173484494, -0.9216472053939653, -0.8594294796880706, \"\", -3.4948153540693574, -2.4865447283189592, -1.737943687432713, -0.013567937960746845, -1.8420765921210034, \"\", -0.3418044420911067, \"\", \"\", \"\", -0.09175755613481373, -1.7018141646401905, \"\", \"\", -0.905727021589411, -1.9399591228029094, \"\", \"\", -0.6637428496317459, \"\", \"\", \"\", \"\", \"\", -0.1221509143232844, -1.0950890408248926], \"yaxis\": \"y2\"}],\n",
       "                        {\"hovermode\": \"x\", \"legend\": {\"bgcolor\": \"#F5F6F9\", \"font\": {\"color\": \"#4D5663\"}}, \"paper_bgcolor\": \"#F5F6F9\", \"plot_bgcolor\": \"#F5F6F9\", \"template\": {\"data\": {\"bar\": [{\"error_x\": {\"color\": \"#2a3f5f\"}, \"error_y\": {\"color\": \"#2a3f5f\"}, \"marker\": {\"line\": {\"color\": \"#E5ECF6\", \"width\": 0.5}}, \"type\": \"bar\"}], \"barpolar\": [{\"marker\": {\"line\": {\"color\": \"#E5ECF6\", \"width\": 0.5}}, \"type\": \"barpolar\"}], \"carpet\": [{\"aaxis\": {\"endlinecolor\": \"#2a3f5f\", \"gridcolor\": \"white\", \"linecolor\": \"white\", \"minorgridcolor\": \"white\", \"startlinecolor\": \"#2a3f5f\"}, \"baxis\": {\"endlinecolor\": \"#2a3f5f\", \"gridcolor\": \"white\", \"linecolor\": \"white\", \"minorgridcolor\": \"white\", \"startlinecolor\": \"#2a3f5f\"}, \"type\": \"carpet\"}], \"choropleth\": [{\"colorbar\": {\"outlinewidth\": 0, \"ticks\": \"\"}, \"type\": \"choropleth\"}], \"contour\": [{\"colorbar\": {\"outlinewidth\": 0, \"ticks\": \"\"}, \"colorscale\": [[0.0, \"#0d0887\"], [0.1111111111111111, \"#46039f\"], [0.2222222222222222, \"#7201a8\"], [0.3333333333333333, \"#9c179e\"], [0.4444444444444444, \"#bd3786\"], [0.5555555555555556, \"#d8576b\"], [0.6666666666666666, \"#ed7953\"], [0.7777777777777778, \"#fb9f3a\"], [0.8888888888888888, \"#fdca26\"], [1.0, \"#f0f921\"]], \"type\": \"contour\"}], \"contourcarpet\": [{\"colorbar\": {\"outlinewidth\": 0, \"ticks\": \"\"}, \"type\": \"contourcarpet\"}], \"heatmap\": [{\"colorbar\": {\"outlinewidth\": 0, \"ticks\": \"\"}, \"colorscale\": [[0.0, \"#0d0887\"], [0.1111111111111111, \"#46039f\"], [0.2222222222222222, \"#7201a8\"], [0.3333333333333333, \"#9c179e\"], [0.4444444444444444, \"#bd3786\"], [0.5555555555555556, \"#d8576b\"], [0.6666666666666666, \"#ed7953\"], [0.7777777777777778, \"#fb9f3a\"], [0.8888888888888888, \"#fdca26\"], [1.0, \"#f0f921\"]], \"type\": \"heatmap\"}], \"heatmapgl\": [{\"colorbar\": {\"outlinewidth\": 0, \"ticks\": \"\"}, \"colorscale\": [[0.0, \"#0d0887\"], [0.1111111111111111, \"#46039f\"], [0.2222222222222222, \"#7201a8\"], [0.3333333333333333, \"#9c179e\"], [0.4444444444444444, \"#bd3786\"], [0.5555555555555556, \"#d8576b\"], [0.6666666666666666, \"#ed7953\"], [0.7777777777777778, \"#fb9f3a\"], [0.8888888888888888, \"#fdca26\"], [1.0, \"#f0f921\"]], \"type\": \"heatmapgl\"}], \"histogram\": [{\"marker\": {\"colorbar\": {\"outlinewidth\": 0, \"ticks\": \"\"}}, \"type\": \"histogram\"}], \"histogram2d\": [{\"colorbar\": {\"outlinewidth\": 0, \"ticks\": \"\"}, \"colorscale\": [[0.0, \"#0d0887\"], [0.1111111111111111, \"#46039f\"], [0.2222222222222222, \"#7201a8\"], [0.3333333333333333, \"#9c179e\"], [0.4444444444444444, \"#bd3786\"], [0.5555555555555556, \"#d8576b\"], [0.6666666666666666, \"#ed7953\"], [0.7777777777777778, \"#fb9f3a\"], [0.8888888888888888, \"#fdca26\"], [1.0, \"#f0f921\"]], \"type\": \"histogram2d\"}], \"histogram2dcontour\": [{\"colorbar\": {\"outlinewidth\": 0, \"ticks\": \"\"}, \"colorscale\": [[0.0, \"#0d0887\"], [0.1111111111111111, \"#46039f\"], [0.2222222222222222, \"#7201a8\"], [0.3333333333333333, \"#9c179e\"], [0.4444444444444444, \"#bd3786\"], [0.5555555555555556, \"#d8576b\"], [0.6666666666666666, \"#ed7953\"], [0.7777777777777778, \"#fb9f3a\"], [0.8888888888888888, \"#fdca26\"], [1.0, \"#f0f921\"]], \"type\": \"histogram2dcontour\"}], \"mesh3d\": [{\"colorbar\": {\"outlinewidth\": 0, \"ticks\": \"\"}, \"type\": \"mesh3d\"}], \"parcoords\": [{\"line\": {\"colorbar\": {\"outlinewidth\": 0, \"ticks\": \"\"}}, \"type\": \"parcoords\"}], \"pie\": [{\"automargin\": true, \"type\": \"pie\"}], \"scatter\": [{\"marker\": {\"colorbar\": {\"outlinewidth\": 0, \"ticks\": \"\"}}, \"type\": \"scatter\"}], \"scatter3d\": [{\"line\": {\"colorbar\": {\"outlinewidth\": 0, \"ticks\": \"\"}}, \"marker\": {\"colorbar\": {\"outlinewidth\": 0, \"ticks\": \"\"}}, \"type\": \"scatter3d\"}], \"scattercarpet\": [{\"marker\": {\"colorbar\": {\"outlinewidth\": 0, \"ticks\": \"\"}}, \"type\": \"scattercarpet\"}], \"scattergeo\": [{\"marker\": {\"colorbar\": {\"outlinewidth\": 0, \"ticks\": \"\"}}, \"type\": \"scattergeo\"}], \"scattergl\": [{\"marker\": {\"colorbar\": {\"outlinewidth\": 0, \"ticks\": \"\"}}, \"type\": \"scattergl\"}], \"scattermapbox\": [{\"marker\": {\"colorbar\": {\"outlinewidth\": 0, \"ticks\": \"\"}}, \"type\": \"scattermapbox\"}], \"scatterpolar\": [{\"marker\": {\"colorbar\": {\"outlinewidth\": 0, \"ticks\": \"\"}}, \"type\": \"scatterpolar\"}], \"scatterpolargl\": [{\"marker\": {\"colorbar\": {\"outlinewidth\": 0, \"ticks\": \"\"}}, \"type\": \"scatterpolargl\"}], \"scatterternary\": [{\"marker\": {\"colorbar\": {\"outlinewidth\": 0, \"ticks\": \"\"}}, \"type\": \"scatterternary\"}], \"surface\": [{\"colorbar\": {\"outlinewidth\": 0, \"ticks\": \"\"}, \"colorscale\": [[0.0, \"#0d0887\"], [0.1111111111111111, \"#46039f\"], [0.2222222222222222, \"#7201a8\"], [0.3333333333333333, \"#9c179e\"], [0.4444444444444444, \"#bd3786\"], [0.5555555555555556, \"#d8576b\"], [0.6666666666666666, \"#ed7953\"], [0.7777777777777778, \"#fb9f3a\"], [0.8888888888888888, \"#fdca26\"], [1.0, \"#f0f921\"]], \"type\": \"surface\"}], \"table\": [{\"cells\": {\"fill\": {\"color\": \"#EBF0F8\"}, \"line\": {\"color\": \"white\"}}, \"header\": {\"fill\": {\"color\": \"#C8D4E3\"}, \"line\": {\"color\": \"white\"}}, \"type\": \"table\"}]}, \"layout\": {\"annotationdefaults\": {\"arrowcolor\": \"#2a3f5f\", \"arrowhead\": 0, \"arrowwidth\": 1}, \"coloraxis\": {\"colorbar\": {\"outlinewidth\": 0, \"ticks\": \"\"}}, \"colorscale\": {\"diverging\": [[0, \"#8e0152\"], [0.1, \"#c51b7d\"], [0.2, \"#de77ae\"], [0.3, \"#f1b6da\"], [0.4, \"#fde0ef\"], [0.5, \"#f7f7f7\"], [0.6, \"#e6f5d0\"], [0.7, \"#b8e186\"], [0.8, \"#7fbc41\"], [0.9, \"#4d9221\"], [1, \"#276419\"]], \"sequential\": [[0.0, \"#0d0887\"], [0.1111111111111111, \"#46039f\"], [0.2222222222222222, \"#7201a8\"], [0.3333333333333333, \"#9c179e\"], [0.4444444444444444, \"#bd3786\"], [0.5555555555555556, \"#d8576b\"], [0.6666666666666666, \"#ed7953\"], [0.7777777777777778, \"#fb9f3a\"], [0.8888888888888888, \"#fdca26\"], [1.0, \"#f0f921\"]], \"sequentialminus\": [[0.0, \"#0d0887\"], [0.1111111111111111, \"#46039f\"], [0.2222222222222222, \"#7201a8\"], [0.3333333333333333, \"#9c179e\"], [0.4444444444444444, \"#bd3786\"], [0.5555555555555556, \"#d8576b\"], [0.6666666666666666, \"#ed7953\"], [0.7777777777777778, \"#fb9f3a\"], [0.8888888888888888, \"#fdca26\"], [1.0, \"#f0f921\"]]}, \"colorway\": [\"#636efa\", \"#EF553B\", \"#00cc96\", \"#ab63fa\", \"#FFA15A\", \"#19d3f3\", \"#FF6692\", \"#B6E880\", \"#FF97FF\", \"#FECB52\"], \"font\": {\"color\": \"#2a3f5f\"}, \"geo\": {\"bgcolor\": \"white\", \"lakecolor\": \"white\", \"landcolor\": \"#E5ECF6\", \"showlakes\": true, \"showland\": true, \"subunitcolor\": \"white\"}, \"hoverlabel\": {\"align\": \"left\"}, \"hovermode\": \"closest\", \"mapbox\": {\"style\": \"light\"}, \"paper_bgcolor\": \"white\", \"plot_bgcolor\": \"#E5ECF6\", \"polar\": {\"angularaxis\": {\"gridcolor\": \"white\", \"linecolor\": \"white\", \"ticks\": \"\"}, \"bgcolor\": \"#E5ECF6\", \"radialaxis\": {\"gridcolor\": \"white\", \"linecolor\": \"white\", \"ticks\": \"\"}}, \"scene\": {\"xaxis\": {\"backgroundcolor\": \"#E5ECF6\", \"gridcolor\": \"white\", \"gridwidth\": 2, \"linecolor\": \"white\", \"showbackground\": true, \"ticks\": \"\", \"zerolinecolor\": \"white\"}, \"yaxis\": {\"backgroundcolor\": \"#E5ECF6\", \"gridcolor\": \"white\", \"gridwidth\": 2, \"linecolor\": \"white\", \"showbackground\": true, \"ticks\": \"\", \"zerolinecolor\": \"white\"}, \"zaxis\": {\"backgroundcolor\": \"#E5ECF6\", \"gridcolor\": \"white\", \"gridwidth\": 2, \"linecolor\": \"white\", \"showbackground\": true, \"ticks\": \"\", \"zerolinecolor\": \"white\"}}, \"shapedefaults\": {\"line\": {\"color\": \"#2a3f5f\"}}, \"ternary\": {\"aaxis\": {\"gridcolor\": \"white\", \"linecolor\": \"white\", \"ticks\": \"\"}, \"baxis\": {\"gridcolor\": \"white\", \"linecolor\": \"white\", \"ticks\": \"\"}, \"bgcolor\": \"#E5ECF6\", \"caxis\": {\"gridcolor\": \"white\", \"linecolor\": \"white\", \"ticks\": \"\"}}, \"title\": {\"x\": 0.05}, \"xaxis\": {\"automargin\": true, \"gridcolor\": \"white\", \"linecolor\": \"white\", \"ticks\": \"\", \"title\": {\"standoff\": 15}, \"zerolinecolor\": \"white\", \"zerolinewidth\": 2}, \"yaxis\": {\"automargin\": true, \"gridcolor\": \"white\", \"linecolor\": \"white\", \"ticks\": \"\", \"title\": {\"standoff\": 15}, \"zerolinecolor\": \"white\", \"zerolinewidth\": 2}}}, \"title\": {\"font\": {\"color\": \"#4D5663\"}}, \"xaxis\": {\"gridcolor\": \"#E1E5ED\", \"showgrid\": true, \"tickfont\": {\"color\": \"#4D5663\"}, \"title\": {\"font\": {\"color\": \"#4D5663\"}, \"text\": \"\"}, \"zerolinecolor\": \"#E1E5ED\"}, \"xaxis2\": {\"anchor\": \"y2\", \"gridcolor\": \"#E1E5ED\", \"showgrid\": true, \"showticklabels\": false, \"tickfont\": {\"color\": \"#4D5663\"}, \"title\": {\"font\": {\"color\": \"#4D5663\"}, \"text\": \"\"}, \"zerolinecolor\": \"#E1E5ED\"}, \"yaxis\": {\"domain\": [0.3, 1], \"gridcolor\": \"#E1E5ED\", \"showgrid\": true, \"tickfont\": {\"color\": \"#4D5663\"}, \"title\": {\"font\": {\"color\": \"#4D5663\"}, \"text\": \"\"}, \"zerolinecolor\": \"#E1E5ED\"}, \"yaxis2\": {\"domain\": [0, 0.25], \"gridcolor\": \"#E1E5ED\", \"showgrid\": true, \"tickfont\": {\"color\": \"#4D5663\"}, \"title\": {\"font\": {\"color\": \"#4D5663\"}, \"text\": \"Spread\"}, \"zerolinecolor\": \"#E1E5ED\"}},\n",
       "                        {\"showLink\": true, \"linkText\": \"Export to plot.ly\", \"plotlyServerURL\": \"https://plot.ly\", \"responsive\": true}\n",
       "                    ).then(function(){\n",
       "                            \n",
       "var gd = document.getElementById('f8b59988-bf43-4947-b764-b5b8a27c850a');\n",
       "var x = new MutationObserver(function (mutations, observer) {{\n",
       "        var display = window.getComputedStyle(gd).display;\n",
       "        if (!display || display === 'none') {{\n",
       "            console.log([gd, 'removed!']);\n",
       "            Plotly.purge(gd);\n",
       "            observer.disconnect();\n",
       "        }}\n",
       "}});\n",
       "\n",
       "// Listen for the removal of the full notebook cells\n",
       "var notebookContainer = gd.closest('#notebook-container');\n",
       "if (notebookContainer) {{\n",
       "    x.observe(notebookContainer, {childList: true});\n",
       "}}\n",
       "\n",
       "// Listen for the clearing of the current output cell\n",
       "var outputEl = gd.closest('.output');\n",
       "if (outputEl) {{\n",
       "    x.observe(outputEl, {childList: true});\n",
       "}}\n",
       "\n",
       "                        })\n",
       "                };\n",
       "                });\n",
       "            </script>\n",
       "        </div>"
      ]
     },
     "metadata": {},
     "output_type": "display_data"
    }
   ],
   "source": [
    "df[['A','B']].iplot(kind='spread')"
   ]
  },
  {
   "cell_type": "markdown",
   "metadata": {},
   "source": [
    "## histogram"
   ]
  },
  {
   "cell_type": "code",
   "execution_count": 16,
   "metadata": {},
   "outputs": [
    {
     "data": {
      "application/vnd.plotly.v1+json": {
       "config": {
        "linkText": "Export to plot.ly",
        "plotlyServerURL": "https://plot.ly",
        "showLink": true
       },
       "data": [
        {
         "histfunc": "count",
         "histnorm": "",
         "marker": {
          "color": "rgba(255, 153, 51, 1.0)",
          "line": {
           "color": "#4D5663",
           "width": 1.3
          }
         },
         "name": "A",
         "nbinsx": 25,
         "opacity": 0.8,
         "orientation": "v",
         "type": "histogram",
         "x": [
          -1.1840365621651945,
          -1.8381134858425232,
          -0.7277279334148866,
          -0.028971296517589097,
          0.825450382839014,
          -0.5614608633274173,
          -0.6603089317004062,
          1.6725527210902709,
          -0.2968938241848866,
          -0.7455791661784459,
          -0.9725191265715754,
          -0.17464149117399802,
          0.04597974569488585,
          -0.902823009779421,
          0.6600421623207664,
          -0.1373628365003551,
          -0.19933540675238912,
          2.232844506603289,
          -0.5866449656845658,
          -0.44827422430998215,
          -0.8126261620742526,
          0.3152056930303498,
          -1.5326742515335599,
          -1.3136876285306804,
          0.7465963870088331,
          1.3642850738121695,
          0.6227848343777126,
          0.9740940144969882,
          -0.03274610543656052,
          -0.23648932796707953,
          -0.5207684786746272,
          0.8150690070383287,
          0.8675613689644536,
          0.4620135634840239,
          -0.7926717247669486,
          0.049196575117251874,
          -1.0081977206190973,
          -0.19006178333019064,
          0.16938736014080316,
          1.6216816922631585,
          0.48642387377101337,
          0.6425010555936774,
          -1.63468048016266,
          -1.0470236308252987,
          0.3242329374347403,
          0.0943239920247155,
          0.3577150372212665,
          0.9236731892573657,
          1.6110323640649022,
          -0.042561925631995866,
          -0.43485544242184443,
          -0.8494618434253626,
          -0.8286206654583846,
          0.5324068271400587,
          0.44911904243558154,
          -0.37408960381593065,
          2.286830918685426,
          0.8056634189729108,
          0.611806492535484,
          1.3483873907369872,
          0.8586206478746982,
          -1.864926079553018,
          0.5198523571964471,
          -0.5137922851909704,
          -0.14859213220638998,
          -0.8434697432455353,
          -0.43125185207336814,
          0.32798193925352487,
          -0.9610454413972249,
          0.46050655291944365,
          -0.722804354638819,
          -1.245109552366151,
          -0.10064611244150451,
          0.8032841842806812,
          -1.1676378568872408,
          -2.512415133958864,
          -2.036925165214611,
          0.4414699595223629,
          -2.1978416072993685,
          0.3433106234260381,
          -0.2886576812286424,
          0.3427460539289989,
          0.5997642732764263,
          2.110771985511631,
          -0.6557430487299993,
          -1.172584879204941,
          0.5906194577721403,
          0.4863798984476543,
          -0.5647382607184777,
          -1.636502180160153,
          1.1318533611412398,
          0.346456706099411,
          -0.5009745761701883,
          1.2237802234261634,
          0.7943402042622165,
          0.46825175886511367,
          0.30669243561811416,
          0.6219140841086478,
          -1.5046859448603147,
          -0.5373240621441666
         ]
        }
       ],
       "layout": {
        "barmode": "overlay",
        "legend": {
         "bgcolor": "#F5F6F9",
         "font": {
          "color": "#4D5663"
         }
        },
        "paper_bgcolor": "#F5F6F9",
        "plot_bgcolor": "#F5F6F9",
        "template": {
         "data": {
          "bar": [
           {
            "error_x": {
             "color": "#2a3f5f"
            },
            "error_y": {
             "color": "#2a3f5f"
            },
            "marker": {
             "line": {
              "color": "#E5ECF6",
              "width": 0.5
             }
            },
            "type": "bar"
           }
          ],
          "barpolar": [
           {
            "marker": {
             "line": {
              "color": "#E5ECF6",
              "width": 0.5
             }
            },
            "type": "barpolar"
           }
          ],
          "carpet": [
           {
            "aaxis": {
             "endlinecolor": "#2a3f5f",
             "gridcolor": "white",
             "linecolor": "white",
             "minorgridcolor": "white",
             "startlinecolor": "#2a3f5f"
            },
            "baxis": {
             "endlinecolor": "#2a3f5f",
             "gridcolor": "white",
             "linecolor": "white",
             "minorgridcolor": "white",
             "startlinecolor": "#2a3f5f"
            },
            "type": "carpet"
           }
          ],
          "choropleth": [
           {
            "colorbar": {
             "outlinewidth": 0,
             "ticks": ""
            },
            "type": "choropleth"
           }
          ],
          "contour": [
           {
            "colorbar": {
             "outlinewidth": 0,
             "ticks": ""
            },
            "colorscale": [
             [
              0,
              "#0d0887"
             ],
             [
              0.1111111111111111,
              "#46039f"
             ],
             [
              0.2222222222222222,
              "#7201a8"
             ],
             [
              0.3333333333333333,
              "#9c179e"
             ],
             [
              0.4444444444444444,
              "#bd3786"
             ],
             [
              0.5555555555555556,
              "#d8576b"
             ],
             [
              0.6666666666666666,
              "#ed7953"
             ],
             [
              0.7777777777777778,
              "#fb9f3a"
             ],
             [
              0.8888888888888888,
              "#fdca26"
             ],
             [
              1,
              "#f0f921"
             ]
            ],
            "type": "contour"
           }
          ],
          "contourcarpet": [
           {
            "colorbar": {
             "outlinewidth": 0,
             "ticks": ""
            },
            "type": "contourcarpet"
           }
          ],
          "heatmap": [
           {
            "colorbar": {
             "outlinewidth": 0,
             "ticks": ""
            },
            "colorscale": [
             [
              0,
              "#0d0887"
             ],
             [
              0.1111111111111111,
              "#46039f"
             ],
             [
              0.2222222222222222,
              "#7201a8"
             ],
             [
              0.3333333333333333,
              "#9c179e"
             ],
             [
              0.4444444444444444,
              "#bd3786"
             ],
             [
              0.5555555555555556,
              "#d8576b"
             ],
             [
              0.6666666666666666,
              "#ed7953"
             ],
             [
              0.7777777777777778,
              "#fb9f3a"
             ],
             [
              0.8888888888888888,
              "#fdca26"
             ],
             [
              1,
              "#f0f921"
             ]
            ],
            "type": "heatmap"
           }
          ],
          "heatmapgl": [
           {
            "colorbar": {
             "outlinewidth": 0,
             "ticks": ""
            },
            "colorscale": [
             [
              0,
              "#0d0887"
             ],
             [
              0.1111111111111111,
              "#46039f"
             ],
             [
              0.2222222222222222,
              "#7201a8"
             ],
             [
              0.3333333333333333,
              "#9c179e"
             ],
             [
              0.4444444444444444,
              "#bd3786"
             ],
             [
              0.5555555555555556,
              "#d8576b"
             ],
             [
              0.6666666666666666,
              "#ed7953"
             ],
             [
              0.7777777777777778,
              "#fb9f3a"
             ],
             [
              0.8888888888888888,
              "#fdca26"
             ],
             [
              1,
              "#f0f921"
             ]
            ],
            "type": "heatmapgl"
           }
          ],
          "histogram": [
           {
            "marker": {
             "colorbar": {
              "outlinewidth": 0,
              "ticks": ""
             }
            },
            "type": "histogram"
           }
          ],
          "histogram2d": [
           {
            "colorbar": {
             "outlinewidth": 0,
             "ticks": ""
            },
            "colorscale": [
             [
              0,
              "#0d0887"
             ],
             [
              0.1111111111111111,
              "#46039f"
             ],
             [
              0.2222222222222222,
              "#7201a8"
             ],
             [
              0.3333333333333333,
              "#9c179e"
             ],
             [
              0.4444444444444444,
              "#bd3786"
             ],
             [
              0.5555555555555556,
              "#d8576b"
             ],
             [
              0.6666666666666666,
              "#ed7953"
             ],
             [
              0.7777777777777778,
              "#fb9f3a"
             ],
             [
              0.8888888888888888,
              "#fdca26"
             ],
             [
              1,
              "#f0f921"
             ]
            ],
            "type": "histogram2d"
           }
          ],
          "histogram2dcontour": [
           {
            "colorbar": {
             "outlinewidth": 0,
             "ticks": ""
            },
            "colorscale": [
             [
              0,
              "#0d0887"
             ],
             [
              0.1111111111111111,
              "#46039f"
             ],
             [
              0.2222222222222222,
              "#7201a8"
             ],
             [
              0.3333333333333333,
              "#9c179e"
             ],
             [
              0.4444444444444444,
              "#bd3786"
             ],
             [
              0.5555555555555556,
              "#d8576b"
             ],
             [
              0.6666666666666666,
              "#ed7953"
             ],
             [
              0.7777777777777778,
              "#fb9f3a"
             ],
             [
              0.8888888888888888,
              "#fdca26"
             ],
             [
              1,
              "#f0f921"
             ]
            ],
            "type": "histogram2dcontour"
           }
          ],
          "mesh3d": [
           {
            "colorbar": {
             "outlinewidth": 0,
             "ticks": ""
            },
            "type": "mesh3d"
           }
          ],
          "parcoords": [
           {
            "line": {
             "colorbar": {
              "outlinewidth": 0,
              "ticks": ""
             }
            },
            "type": "parcoords"
           }
          ],
          "pie": [
           {
            "automargin": true,
            "type": "pie"
           }
          ],
          "scatter": [
           {
            "marker": {
             "colorbar": {
              "outlinewidth": 0,
              "ticks": ""
             }
            },
            "type": "scatter"
           }
          ],
          "scatter3d": [
           {
            "line": {
             "colorbar": {
              "outlinewidth": 0,
              "ticks": ""
             }
            },
            "marker": {
             "colorbar": {
              "outlinewidth": 0,
              "ticks": ""
             }
            },
            "type": "scatter3d"
           }
          ],
          "scattercarpet": [
           {
            "marker": {
             "colorbar": {
              "outlinewidth": 0,
              "ticks": ""
             }
            },
            "type": "scattercarpet"
           }
          ],
          "scattergeo": [
           {
            "marker": {
             "colorbar": {
              "outlinewidth": 0,
              "ticks": ""
             }
            },
            "type": "scattergeo"
           }
          ],
          "scattergl": [
           {
            "marker": {
             "colorbar": {
              "outlinewidth": 0,
              "ticks": ""
             }
            },
            "type": "scattergl"
           }
          ],
          "scattermapbox": [
           {
            "marker": {
             "colorbar": {
              "outlinewidth": 0,
              "ticks": ""
             }
            },
            "type": "scattermapbox"
           }
          ],
          "scatterpolar": [
           {
            "marker": {
             "colorbar": {
              "outlinewidth": 0,
              "ticks": ""
             }
            },
            "type": "scatterpolar"
           }
          ],
          "scatterpolargl": [
           {
            "marker": {
             "colorbar": {
              "outlinewidth": 0,
              "ticks": ""
             }
            },
            "type": "scatterpolargl"
           }
          ],
          "scatterternary": [
           {
            "marker": {
             "colorbar": {
              "outlinewidth": 0,
              "ticks": ""
             }
            },
            "type": "scatterternary"
           }
          ],
          "surface": [
           {
            "colorbar": {
             "outlinewidth": 0,
             "ticks": ""
            },
            "colorscale": [
             [
              0,
              "#0d0887"
             ],
             [
              0.1111111111111111,
              "#46039f"
             ],
             [
              0.2222222222222222,
              "#7201a8"
             ],
             [
              0.3333333333333333,
              "#9c179e"
             ],
             [
              0.4444444444444444,
              "#bd3786"
             ],
             [
              0.5555555555555556,
              "#d8576b"
             ],
             [
              0.6666666666666666,
              "#ed7953"
             ],
             [
              0.7777777777777778,
              "#fb9f3a"
             ],
             [
              0.8888888888888888,
              "#fdca26"
             ],
             [
              1,
              "#f0f921"
             ]
            ],
            "type": "surface"
           }
          ],
          "table": [
           {
            "cells": {
             "fill": {
              "color": "#EBF0F8"
             },
             "line": {
              "color": "white"
             }
            },
            "header": {
             "fill": {
              "color": "#C8D4E3"
             },
             "line": {
              "color": "white"
             }
            },
            "type": "table"
           }
          ]
         },
         "layout": {
          "annotationdefaults": {
           "arrowcolor": "#2a3f5f",
           "arrowhead": 0,
           "arrowwidth": 1
          },
          "coloraxis": {
           "colorbar": {
            "outlinewidth": 0,
            "ticks": ""
           }
          },
          "colorscale": {
           "diverging": [
            [
             0,
             "#8e0152"
            ],
            [
             0.1,
             "#c51b7d"
            ],
            [
             0.2,
             "#de77ae"
            ],
            [
             0.3,
             "#f1b6da"
            ],
            [
             0.4,
             "#fde0ef"
            ],
            [
             0.5,
             "#f7f7f7"
            ],
            [
             0.6,
             "#e6f5d0"
            ],
            [
             0.7,
             "#b8e186"
            ],
            [
             0.8,
             "#7fbc41"
            ],
            [
             0.9,
             "#4d9221"
            ],
            [
             1,
             "#276419"
            ]
           ],
           "sequential": [
            [
             0,
             "#0d0887"
            ],
            [
             0.1111111111111111,
             "#46039f"
            ],
            [
             0.2222222222222222,
             "#7201a8"
            ],
            [
             0.3333333333333333,
             "#9c179e"
            ],
            [
             0.4444444444444444,
             "#bd3786"
            ],
            [
             0.5555555555555556,
             "#d8576b"
            ],
            [
             0.6666666666666666,
             "#ed7953"
            ],
            [
             0.7777777777777778,
             "#fb9f3a"
            ],
            [
             0.8888888888888888,
             "#fdca26"
            ],
            [
             1,
             "#f0f921"
            ]
           ],
           "sequentialminus": [
            [
             0,
             "#0d0887"
            ],
            [
             0.1111111111111111,
             "#46039f"
            ],
            [
             0.2222222222222222,
             "#7201a8"
            ],
            [
             0.3333333333333333,
             "#9c179e"
            ],
            [
             0.4444444444444444,
             "#bd3786"
            ],
            [
             0.5555555555555556,
             "#d8576b"
            ],
            [
             0.6666666666666666,
             "#ed7953"
            ],
            [
             0.7777777777777778,
             "#fb9f3a"
            ],
            [
             0.8888888888888888,
             "#fdca26"
            ],
            [
             1,
             "#f0f921"
            ]
           ]
          },
          "colorway": [
           "#636efa",
           "#EF553B",
           "#00cc96",
           "#ab63fa",
           "#FFA15A",
           "#19d3f3",
           "#FF6692",
           "#B6E880",
           "#FF97FF",
           "#FECB52"
          ],
          "font": {
           "color": "#2a3f5f"
          },
          "geo": {
           "bgcolor": "white",
           "lakecolor": "white",
           "landcolor": "#E5ECF6",
           "showlakes": true,
           "showland": true,
           "subunitcolor": "white"
          },
          "hoverlabel": {
           "align": "left"
          },
          "hovermode": "closest",
          "mapbox": {
           "style": "light"
          },
          "paper_bgcolor": "white",
          "plot_bgcolor": "#E5ECF6",
          "polar": {
           "angularaxis": {
            "gridcolor": "white",
            "linecolor": "white",
            "ticks": ""
           },
           "bgcolor": "#E5ECF6",
           "radialaxis": {
            "gridcolor": "white",
            "linecolor": "white",
            "ticks": ""
           }
          },
          "scene": {
           "xaxis": {
            "backgroundcolor": "#E5ECF6",
            "gridcolor": "white",
            "gridwidth": 2,
            "linecolor": "white",
            "showbackground": true,
            "ticks": "",
            "zerolinecolor": "white"
           },
           "yaxis": {
            "backgroundcolor": "#E5ECF6",
            "gridcolor": "white",
            "gridwidth": 2,
            "linecolor": "white",
            "showbackground": true,
            "ticks": "",
            "zerolinecolor": "white"
           },
           "zaxis": {
            "backgroundcolor": "#E5ECF6",
            "gridcolor": "white",
            "gridwidth": 2,
            "linecolor": "white",
            "showbackground": true,
            "ticks": "",
            "zerolinecolor": "white"
           }
          },
          "shapedefaults": {
           "line": {
            "color": "#2a3f5f"
           }
          },
          "ternary": {
           "aaxis": {
            "gridcolor": "white",
            "linecolor": "white",
            "ticks": ""
           },
           "baxis": {
            "gridcolor": "white",
            "linecolor": "white",
            "ticks": ""
           },
           "bgcolor": "#E5ECF6",
           "caxis": {
            "gridcolor": "white",
            "linecolor": "white",
            "ticks": ""
           }
          },
          "title": {
           "x": 0.05
          },
          "xaxis": {
           "automargin": true,
           "gridcolor": "white",
           "linecolor": "white",
           "ticks": "",
           "title": {
            "standoff": 15
           },
           "zerolinecolor": "white",
           "zerolinewidth": 2
          },
          "yaxis": {
           "automargin": true,
           "gridcolor": "white",
           "linecolor": "white",
           "ticks": "",
           "title": {
            "standoff": 15
           },
           "zerolinecolor": "white",
           "zerolinewidth": 2
          }
         }
        },
        "title": {
         "font": {
          "color": "#4D5663"
         }
        },
        "xaxis": {
         "gridcolor": "#E1E5ED",
         "showgrid": true,
         "tickfont": {
          "color": "#4D5663"
         },
         "title": {
          "font": {
           "color": "#4D5663"
          },
          "text": ""
         },
         "zerolinecolor": "#E1E5ED"
        },
        "yaxis": {
         "gridcolor": "#E1E5ED",
         "showgrid": true,
         "tickfont": {
          "color": "#4D5663"
         },
         "title": {
          "font": {
           "color": "#4D5663"
          },
          "text": ""
         },
         "zerolinecolor": "#E1E5ED"
        }
       }
      },
      "text/html": [
       "<div>\n",
       "        \n",
       "        \n",
       "            <div id=\"565312b6-47e3-4621-89bb-0b8d85d1673f\" class=\"plotly-graph-div\" style=\"height:525px; width:100%;\"></div>\n",
       "            <script type=\"text/javascript\">\n",
       "                require([\"plotly\"], function(Plotly) {\n",
       "                    window.PLOTLYENV=window.PLOTLYENV || {};\n",
       "                    window.PLOTLYENV.BASE_URL='https://plot.ly';\n",
       "                    \n",
       "                if (document.getElementById(\"565312b6-47e3-4621-89bb-0b8d85d1673f\")) {\n",
       "                    Plotly.newPlot(\n",
       "                        '565312b6-47e3-4621-89bb-0b8d85d1673f',\n",
       "                        [{\"histfunc\": \"count\", \"histnorm\": \"\", \"marker\": {\"color\": \"rgba(255, 153, 51, 1.0)\", \"line\": {\"color\": \"#4D5663\", \"width\": 1.3}}, \"name\": \"A\", \"nbinsx\": 25, \"opacity\": 0.8, \"orientation\": \"v\", \"type\": \"histogram\", \"x\": [-1.1840365621651945, -1.8381134858425232, -0.7277279334148866, -0.028971296517589097, 0.825450382839014, -0.5614608633274173, -0.6603089317004062, 1.6725527210902709, -0.2968938241848866, -0.7455791661784459, -0.9725191265715754, -0.17464149117399802, 0.04597974569488585, -0.902823009779421, 0.6600421623207664, -0.1373628365003551, -0.19933540675238912, 2.232844506603289, -0.5866449656845658, -0.44827422430998215, -0.8126261620742526, 0.3152056930303498, -1.5326742515335599, -1.3136876285306804, 0.7465963870088331, 1.3642850738121695, 0.6227848343777126, 0.9740940144969882, -0.03274610543656052, -0.23648932796707953, -0.5207684786746272, 0.8150690070383287, 0.8675613689644536, 0.4620135634840239, -0.7926717247669486, 0.049196575117251874, -1.0081977206190973, -0.19006178333019064, 0.16938736014080316, 1.6216816922631585, 0.48642387377101337, 0.6425010555936774, -1.63468048016266, -1.0470236308252987, 0.3242329374347403, 0.0943239920247155, 0.3577150372212665, 0.9236731892573657, 1.6110323640649022, -0.042561925631995866, -0.43485544242184443, -0.8494618434253626, -0.8286206654583846, 0.5324068271400587, 0.44911904243558154, -0.37408960381593065, 2.286830918685426, 0.8056634189729108, 0.611806492535484, 1.3483873907369872, 0.8586206478746982, -1.864926079553018, 0.5198523571964471, -0.5137922851909704, -0.14859213220638998, -0.8434697432455353, -0.43125185207336814, 0.32798193925352487, -0.9610454413972249, 0.46050655291944365, -0.722804354638819, -1.245109552366151, -0.10064611244150451, 0.8032841842806812, -1.1676378568872408, -2.512415133958864, -2.036925165214611, 0.4414699595223629, -2.1978416072993685, 0.3433106234260381, -0.2886576812286424, 0.3427460539289989, 0.5997642732764263, 2.110771985511631, -0.6557430487299993, -1.172584879204941, 0.5906194577721403, 0.4863798984476543, -0.5647382607184777, -1.636502180160153, 1.1318533611412398, 0.346456706099411, -0.5009745761701883, 1.2237802234261634, 0.7943402042622165, 0.46825175886511367, 0.30669243561811416, 0.6219140841086478, -1.5046859448603147, -0.5373240621441666]}],\n",
       "                        {\"barmode\": \"overlay\", \"legend\": {\"bgcolor\": \"#F5F6F9\", \"font\": {\"color\": \"#4D5663\"}}, \"paper_bgcolor\": \"#F5F6F9\", \"plot_bgcolor\": \"#F5F6F9\", \"template\": {\"data\": {\"bar\": [{\"error_x\": {\"color\": \"#2a3f5f\"}, \"error_y\": {\"color\": \"#2a3f5f\"}, \"marker\": {\"line\": {\"color\": \"#E5ECF6\", \"width\": 0.5}}, \"type\": \"bar\"}], \"barpolar\": [{\"marker\": {\"line\": {\"color\": \"#E5ECF6\", \"width\": 0.5}}, \"type\": \"barpolar\"}], \"carpet\": [{\"aaxis\": {\"endlinecolor\": \"#2a3f5f\", \"gridcolor\": \"white\", \"linecolor\": \"white\", \"minorgridcolor\": \"white\", \"startlinecolor\": \"#2a3f5f\"}, \"baxis\": {\"endlinecolor\": \"#2a3f5f\", \"gridcolor\": \"white\", \"linecolor\": \"white\", \"minorgridcolor\": \"white\", \"startlinecolor\": \"#2a3f5f\"}, \"type\": \"carpet\"}], \"choropleth\": [{\"colorbar\": {\"outlinewidth\": 0, \"ticks\": \"\"}, \"type\": \"choropleth\"}], \"contour\": [{\"colorbar\": {\"outlinewidth\": 0, \"ticks\": \"\"}, \"colorscale\": [[0.0, \"#0d0887\"], [0.1111111111111111, \"#46039f\"], [0.2222222222222222, \"#7201a8\"], [0.3333333333333333, \"#9c179e\"], [0.4444444444444444, \"#bd3786\"], [0.5555555555555556, \"#d8576b\"], [0.6666666666666666, \"#ed7953\"], [0.7777777777777778, \"#fb9f3a\"], [0.8888888888888888, \"#fdca26\"], [1.0, \"#f0f921\"]], \"type\": \"contour\"}], \"contourcarpet\": [{\"colorbar\": {\"outlinewidth\": 0, \"ticks\": \"\"}, \"type\": \"contourcarpet\"}], \"heatmap\": [{\"colorbar\": {\"outlinewidth\": 0, \"ticks\": \"\"}, \"colorscale\": [[0.0, \"#0d0887\"], [0.1111111111111111, \"#46039f\"], [0.2222222222222222, \"#7201a8\"], [0.3333333333333333, \"#9c179e\"], [0.4444444444444444, \"#bd3786\"], [0.5555555555555556, \"#d8576b\"], [0.6666666666666666, \"#ed7953\"], [0.7777777777777778, \"#fb9f3a\"], [0.8888888888888888, \"#fdca26\"], [1.0, \"#f0f921\"]], \"type\": \"heatmap\"}], \"heatmapgl\": [{\"colorbar\": {\"outlinewidth\": 0, \"ticks\": \"\"}, \"colorscale\": [[0.0, \"#0d0887\"], [0.1111111111111111, \"#46039f\"], [0.2222222222222222, \"#7201a8\"], [0.3333333333333333, \"#9c179e\"], [0.4444444444444444, \"#bd3786\"], [0.5555555555555556, \"#d8576b\"], [0.6666666666666666, \"#ed7953\"], [0.7777777777777778, \"#fb9f3a\"], [0.8888888888888888, \"#fdca26\"], [1.0, \"#f0f921\"]], \"type\": \"heatmapgl\"}], \"histogram\": [{\"marker\": {\"colorbar\": {\"outlinewidth\": 0, \"ticks\": \"\"}}, \"type\": \"histogram\"}], \"histogram2d\": [{\"colorbar\": {\"outlinewidth\": 0, \"ticks\": \"\"}, \"colorscale\": [[0.0, \"#0d0887\"], [0.1111111111111111, \"#46039f\"], [0.2222222222222222, \"#7201a8\"], [0.3333333333333333, \"#9c179e\"], [0.4444444444444444, \"#bd3786\"], [0.5555555555555556, \"#d8576b\"], [0.6666666666666666, \"#ed7953\"], [0.7777777777777778, \"#fb9f3a\"], [0.8888888888888888, \"#fdca26\"], [1.0, \"#f0f921\"]], \"type\": \"histogram2d\"}], \"histogram2dcontour\": [{\"colorbar\": {\"outlinewidth\": 0, \"ticks\": \"\"}, \"colorscale\": [[0.0, \"#0d0887\"], [0.1111111111111111, \"#46039f\"], [0.2222222222222222, \"#7201a8\"], [0.3333333333333333, \"#9c179e\"], [0.4444444444444444, \"#bd3786\"], [0.5555555555555556, \"#d8576b\"], [0.6666666666666666, \"#ed7953\"], [0.7777777777777778, \"#fb9f3a\"], [0.8888888888888888, \"#fdca26\"], [1.0, \"#f0f921\"]], \"type\": \"histogram2dcontour\"}], \"mesh3d\": [{\"colorbar\": {\"outlinewidth\": 0, \"ticks\": \"\"}, \"type\": \"mesh3d\"}], \"parcoords\": [{\"line\": {\"colorbar\": {\"outlinewidth\": 0, \"ticks\": \"\"}}, \"type\": \"parcoords\"}], \"pie\": [{\"automargin\": true, \"type\": \"pie\"}], \"scatter\": [{\"marker\": {\"colorbar\": {\"outlinewidth\": 0, \"ticks\": \"\"}}, \"type\": \"scatter\"}], \"scatter3d\": [{\"line\": {\"colorbar\": {\"outlinewidth\": 0, \"ticks\": \"\"}}, \"marker\": {\"colorbar\": {\"outlinewidth\": 0, \"ticks\": \"\"}}, \"type\": \"scatter3d\"}], \"scattercarpet\": [{\"marker\": {\"colorbar\": {\"outlinewidth\": 0, \"ticks\": \"\"}}, \"type\": \"scattercarpet\"}], \"scattergeo\": [{\"marker\": {\"colorbar\": {\"outlinewidth\": 0, \"ticks\": \"\"}}, \"type\": \"scattergeo\"}], \"scattergl\": [{\"marker\": {\"colorbar\": {\"outlinewidth\": 0, \"ticks\": \"\"}}, \"type\": \"scattergl\"}], \"scattermapbox\": [{\"marker\": {\"colorbar\": {\"outlinewidth\": 0, \"ticks\": \"\"}}, \"type\": \"scattermapbox\"}], \"scatterpolar\": [{\"marker\": {\"colorbar\": {\"outlinewidth\": 0, \"ticks\": \"\"}}, \"type\": \"scatterpolar\"}], \"scatterpolargl\": [{\"marker\": {\"colorbar\": {\"outlinewidth\": 0, \"ticks\": \"\"}}, \"type\": \"scatterpolargl\"}], \"scatterternary\": [{\"marker\": {\"colorbar\": {\"outlinewidth\": 0, \"ticks\": \"\"}}, \"type\": \"scatterternary\"}], \"surface\": [{\"colorbar\": {\"outlinewidth\": 0, \"ticks\": \"\"}, \"colorscale\": [[0.0, \"#0d0887\"], [0.1111111111111111, \"#46039f\"], [0.2222222222222222, \"#7201a8\"], [0.3333333333333333, \"#9c179e\"], [0.4444444444444444, \"#bd3786\"], [0.5555555555555556, \"#d8576b\"], [0.6666666666666666, \"#ed7953\"], [0.7777777777777778, \"#fb9f3a\"], [0.8888888888888888, \"#fdca26\"], [1.0, \"#f0f921\"]], \"type\": \"surface\"}], \"table\": [{\"cells\": {\"fill\": {\"color\": \"#EBF0F8\"}, \"line\": {\"color\": \"white\"}}, \"header\": {\"fill\": {\"color\": \"#C8D4E3\"}, \"line\": {\"color\": \"white\"}}, \"type\": \"table\"}]}, \"layout\": {\"annotationdefaults\": {\"arrowcolor\": \"#2a3f5f\", \"arrowhead\": 0, \"arrowwidth\": 1}, \"coloraxis\": {\"colorbar\": {\"outlinewidth\": 0, \"ticks\": \"\"}}, \"colorscale\": {\"diverging\": [[0, \"#8e0152\"], [0.1, \"#c51b7d\"], [0.2, \"#de77ae\"], [0.3, \"#f1b6da\"], [0.4, \"#fde0ef\"], [0.5, \"#f7f7f7\"], [0.6, \"#e6f5d0\"], [0.7, \"#b8e186\"], [0.8, \"#7fbc41\"], [0.9, \"#4d9221\"], [1, \"#276419\"]], \"sequential\": [[0.0, \"#0d0887\"], [0.1111111111111111, \"#46039f\"], [0.2222222222222222, \"#7201a8\"], [0.3333333333333333, \"#9c179e\"], [0.4444444444444444, \"#bd3786\"], [0.5555555555555556, \"#d8576b\"], [0.6666666666666666, \"#ed7953\"], [0.7777777777777778, \"#fb9f3a\"], [0.8888888888888888, \"#fdca26\"], [1.0, \"#f0f921\"]], \"sequentialminus\": [[0.0, \"#0d0887\"], [0.1111111111111111, \"#46039f\"], [0.2222222222222222, \"#7201a8\"], [0.3333333333333333, \"#9c179e\"], [0.4444444444444444, \"#bd3786\"], [0.5555555555555556, \"#d8576b\"], [0.6666666666666666, \"#ed7953\"], [0.7777777777777778, \"#fb9f3a\"], [0.8888888888888888, \"#fdca26\"], [1.0, \"#f0f921\"]]}, \"colorway\": [\"#636efa\", \"#EF553B\", \"#00cc96\", \"#ab63fa\", \"#FFA15A\", \"#19d3f3\", \"#FF6692\", \"#B6E880\", \"#FF97FF\", \"#FECB52\"], \"font\": {\"color\": \"#2a3f5f\"}, \"geo\": {\"bgcolor\": \"white\", \"lakecolor\": \"white\", \"landcolor\": \"#E5ECF6\", \"showlakes\": true, \"showland\": true, \"subunitcolor\": \"white\"}, \"hoverlabel\": {\"align\": \"left\"}, \"hovermode\": \"closest\", \"mapbox\": {\"style\": \"light\"}, \"paper_bgcolor\": \"white\", \"plot_bgcolor\": \"#E5ECF6\", \"polar\": {\"angularaxis\": {\"gridcolor\": \"white\", \"linecolor\": \"white\", \"ticks\": \"\"}, \"bgcolor\": \"#E5ECF6\", \"radialaxis\": {\"gridcolor\": \"white\", \"linecolor\": \"white\", \"ticks\": \"\"}}, \"scene\": {\"xaxis\": {\"backgroundcolor\": \"#E5ECF6\", \"gridcolor\": \"white\", \"gridwidth\": 2, \"linecolor\": \"white\", \"showbackground\": true, \"ticks\": \"\", \"zerolinecolor\": \"white\"}, \"yaxis\": {\"backgroundcolor\": \"#E5ECF6\", \"gridcolor\": \"white\", \"gridwidth\": 2, \"linecolor\": \"white\", \"showbackground\": true, \"ticks\": \"\", \"zerolinecolor\": \"white\"}, \"zaxis\": {\"backgroundcolor\": \"#E5ECF6\", \"gridcolor\": \"white\", \"gridwidth\": 2, \"linecolor\": \"white\", \"showbackground\": true, \"ticks\": \"\", \"zerolinecolor\": \"white\"}}, \"shapedefaults\": {\"line\": {\"color\": \"#2a3f5f\"}}, \"ternary\": {\"aaxis\": {\"gridcolor\": \"white\", \"linecolor\": \"white\", \"ticks\": \"\"}, \"baxis\": {\"gridcolor\": \"white\", \"linecolor\": \"white\", \"ticks\": \"\"}, \"bgcolor\": \"#E5ECF6\", \"caxis\": {\"gridcolor\": \"white\", \"linecolor\": \"white\", \"ticks\": \"\"}}, \"title\": {\"x\": 0.05}, \"xaxis\": {\"automargin\": true, \"gridcolor\": \"white\", \"linecolor\": \"white\", \"ticks\": \"\", \"title\": {\"standoff\": 15}, \"zerolinecolor\": \"white\", \"zerolinewidth\": 2}, \"yaxis\": {\"automargin\": true, \"gridcolor\": \"white\", \"linecolor\": \"white\", \"ticks\": \"\", \"title\": {\"standoff\": 15}, \"zerolinecolor\": \"white\", \"zerolinewidth\": 2}}}, \"title\": {\"font\": {\"color\": \"#4D5663\"}}, \"xaxis\": {\"gridcolor\": \"#E1E5ED\", \"showgrid\": true, \"tickfont\": {\"color\": \"#4D5663\"}, \"title\": {\"font\": {\"color\": \"#4D5663\"}, \"text\": \"\"}, \"zerolinecolor\": \"#E1E5ED\"}, \"yaxis\": {\"gridcolor\": \"#E1E5ED\", \"showgrid\": true, \"tickfont\": {\"color\": \"#4D5663\"}, \"title\": {\"font\": {\"color\": \"#4D5663\"}, \"text\": \"\"}, \"zerolinecolor\": \"#E1E5ED\"}},\n",
       "                        {\"showLink\": true, \"linkText\": \"Export to plot.ly\", \"plotlyServerURL\": \"https://plot.ly\", \"responsive\": true}\n",
       "                    ).then(function(){\n",
       "                            \n",
       "var gd = document.getElementById('565312b6-47e3-4621-89bb-0b8d85d1673f');\n",
       "var x = new MutationObserver(function (mutations, observer) {{\n",
       "        var display = window.getComputedStyle(gd).display;\n",
       "        if (!display || display === 'none') {{\n",
       "            console.log([gd, 'removed!']);\n",
       "            Plotly.purge(gd);\n",
       "            observer.disconnect();\n",
       "        }}\n",
       "}});\n",
       "\n",
       "// Listen for the removal of the full notebook cells\n",
       "var notebookContainer = gd.closest('#notebook-container');\n",
       "if (notebookContainer) {{\n",
       "    x.observe(notebookContainer, {childList: true});\n",
       "}}\n",
       "\n",
       "// Listen for the clearing of the current output cell\n",
       "var outputEl = gd.closest('.output');\n",
       "if (outputEl) {{\n",
       "    x.observe(outputEl, {childList: true});\n",
       "}}\n",
       "\n",
       "                        })\n",
       "                };\n",
       "                });\n",
       "            </script>\n",
       "        </div>"
      ]
     },
     "metadata": {},
     "output_type": "display_data"
    }
   ],
   "source": [
    "df['A'].iplot(kind='hist',bins=25)"
   ]
  },
  {
   "cell_type": "code",
   "execution_count": 17,
   "metadata": {},
   "outputs": [
    {
     "data": {
      "application/vnd.plotly.v1+json": {
       "config": {
        "linkText": "Export to plot.ly",
        "plotlyServerURL": "https://plot.ly",
        "showLink": true
       },
       "data": [
        {
         "marker": {
          "color": [
           "rgb(255, 153, 51)",
           "rgb(55, 128, 191)",
           "rgb(50, 171, 96)",
           "rgb(128, 0, 128)",
           "rgb(219, 64, 82)",
           "rgb(0, 128, 128)",
           "rgb(255, 255, 51)",
           "rgb(128, 128, 0)",
           "rgb(251, 128, 114)",
           "rgb(128, 177, 211)"
          ],
          "line": {
           "width": 1.3
          },
          "size": [
           53,
           12,
           108,
           63,
           99,
           56,
           27,
           53,
           25,
           53,
           36,
           70,
           42,
           22,
           61,
           61,
           79,
           56,
           67,
           71,
           40,
           70,
           48,
           40,
           38,
           32,
           76,
           69,
           45,
           77,
           88,
           68,
           52,
           34,
           49,
           78,
           59,
           73,
           44,
           47,
           74,
           52,
           85,
           50,
           82,
           47,
           49,
           67,
           86,
           64,
           52,
           38,
           112,
           70,
           68,
           34,
           97,
           73,
           53,
           54,
           36,
           67,
           37,
           26,
           52,
           45,
           56,
           71,
           53,
           27,
           52,
           54,
           38,
           75,
           38,
           56,
           57,
           80,
           35,
           70,
           73,
           60,
           50,
           108,
           42,
           91,
           73,
           51,
           69,
           57,
           68,
           18,
           79,
           89,
           39,
           72,
           43,
           56,
           59,
           59
          ],
          "symbol": "circle"
         },
         "mode": "markers",
         "text": "",
         "type": "scatter",
         "x": [
          -1.1840365621651945,
          -1.8381134858425232,
          -0.7277279334148866,
          -0.028971296517589097,
          0.825450382839014,
          -0.5614608633274173,
          -0.6603089317004062,
          1.6725527210902709,
          -0.2968938241848866,
          -0.7455791661784459,
          -0.9725191265715754,
          -0.17464149117399802,
          0.04597974569488585,
          -0.902823009779421,
          0.6600421623207664,
          -0.1373628365003551,
          -0.19933540675238912,
          2.232844506603289,
          -0.5866449656845658,
          -0.44827422430998215,
          -0.8126261620742526,
          0.3152056930303498,
          -1.5326742515335599,
          -1.3136876285306804,
          0.7465963870088331,
          1.3642850738121695,
          0.6227848343777126,
          0.9740940144969882,
          -0.03274610543656052,
          -0.23648932796707953,
          -0.5207684786746272,
          0.8150690070383287,
          0.8675613689644536,
          0.4620135634840239,
          -0.7926717247669486,
          0.049196575117251874,
          -1.0081977206190973,
          -0.19006178333019064,
          0.16938736014080316,
          1.6216816922631585,
          0.48642387377101337,
          0.6425010555936774,
          -1.63468048016266,
          -1.0470236308252987,
          0.3242329374347403,
          0.0943239920247155,
          0.3577150372212665,
          0.9236731892573657,
          1.6110323640649022,
          -0.042561925631995866,
          -0.43485544242184443,
          -0.8494618434253626,
          -0.8286206654583846,
          0.5324068271400587,
          0.44911904243558154,
          -0.37408960381593065,
          2.286830918685426,
          0.8056634189729108,
          0.611806492535484,
          1.3483873907369872,
          0.8586206478746982,
          -1.864926079553018,
          0.5198523571964471,
          -0.5137922851909704,
          -0.14859213220638998,
          -0.8434697432455353,
          -0.43125185207336814,
          0.32798193925352487,
          -0.9610454413972249,
          0.46050655291944365,
          -0.722804354638819,
          -1.245109552366151,
          -0.10064611244150451,
          0.8032841842806812,
          -1.1676378568872408,
          -2.512415133958864,
          -2.036925165214611,
          0.4414699595223629,
          -2.1978416072993685,
          0.3433106234260381,
          -0.2886576812286424,
          0.3427460539289989,
          0.5997642732764263,
          2.110771985511631,
          -0.6557430487299993,
          -1.172584879204941,
          0.5906194577721403,
          0.4863798984476543,
          -0.5647382607184777,
          -1.636502180160153,
          1.1318533611412398,
          0.346456706099411,
          -0.5009745761701883,
          1.2237802234261634,
          0.7943402042622165,
          0.46825175886511367,
          0.30669243561811416,
          0.6219140841086478,
          -1.5046859448603147,
          -0.5373240621441666
         ],
         "y": [
          0.7748574018350498,
          -0.8491056720735701,
          0.6914611085875526,
          1.1752875372815135,
          0.4162742573571235,
          -0.6952221903678409,
          0.7908201017015961,
          -0.39968184016567027,
          -0.4226151861377561,
          -0.16105722437957612,
          -0.9753539757949506,
          0.5977643273494854,
          -0.8888430599435827,
          0.4494305636804583,
          0.20609210531358196,
          -0.49022300526966706,
          -1.1886750583700814,
          0.2385127198502449,
          1.05249011826461,
          0.4034854022152594,
          -0.0479351953311653,
          0.5285875801575323,
          -0.8975425504391127,
          -0.9332949613409988,
          0.7145846867253706,
          -1.2754180312058925,
          -0.33935108820751164,
          -0.34572951265255847,
          0.8402196474654661,
          1.8579077941247726,
          -0.10545501116095234,
          -0.43029645225787383,
          -1.471009145551944,
          0.018313033612988895,
          0.05863378120340704,
          -0.7481251383861267,
          1.2739284752793545,
          -1.2688830632305381,
          0.04863904155004324,
          0.6590964872389021,
          1.6738927361115674,
          1.1447265427849844,
          0.26804703844199823,
          0.6146962222473003,
          0.8815348744267175,
          0.4152753764475723,
          -1.3748803282110544,
          -0.8555156955454922,
          1.0716946029249914,
          -0.18854674519334236,
          1.6767333881177955,
          0.3250252134387557,
          1.752760184188171,
          0.8348678395347147,
          -0.030014862454295552,
          1.3650079773832526,
          0.5128929565450878,
          0.1773698200047356,
          -0.4971404989716503,
          0.21478254702547728,
          -0.7480145706490767,
          0.5397806554794098,
          -0.5270300252772776,
          0.25976914331856615,
          -0.34787617938088616,
          -1.441248767668745,
          -1.5978719846155973,
          1.8760190283758935,
          2.058786169419131,
          0.04416637128786382,
          -0.11990218115432498,
          -0.32346234697218584,
          0.7587833672465661,
          0.1764232013077506,
          2.3271774971821166,
          -0.025870405639904837,
          -0.29898147778189804,
          0.45503789748310974,
          -0.3557650151783652,
          -0.3476159607705035,
          0.05314676086246436,
          -1.2068805594060426,
          -1.218095609914161,
          -0.605536020423741,
          -0.5639854925951856,
          0.5292292854352497,
          0.5224444059168056,
          -0.34012701139348117,
          0.3409887608709333,
          0.3034569426427565,
          0.02050058661276885,
          0.06559131836346563,
          0.16276827346155767,
          -1.7289045833130687,
          -1.2926726553484278,
          0.3706707209524533,
          -1.1632329413595424,
          -0.8424734722469165,
          -1.3825350305370303,
          0.557764978680726
         ]
        }
       ],
       "layout": {
        "legend": {
         "bgcolor": "#F5F6F9",
         "font": {
          "color": "#4D5663"
         }
        },
        "paper_bgcolor": "#F5F6F9",
        "plot_bgcolor": "#F5F6F9",
        "template": {
         "data": {
          "bar": [
           {
            "error_x": {
             "color": "#2a3f5f"
            },
            "error_y": {
             "color": "#2a3f5f"
            },
            "marker": {
             "line": {
              "color": "#E5ECF6",
              "width": 0.5
             }
            },
            "type": "bar"
           }
          ],
          "barpolar": [
           {
            "marker": {
             "line": {
              "color": "#E5ECF6",
              "width": 0.5
             }
            },
            "type": "barpolar"
           }
          ],
          "carpet": [
           {
            "aaxis": {
             "endlinecolor": "#2a3f5f",
             "gridcolor": "white",
             "linecolor": "white",
             "minorgridcolor": "white",
             "startlinecolor": "#2a3f5f"
            },
            "baxis": {
             "endlinecolor": "#2a3f5f",
             "gridcolor": "white",
             "linecolor": "white",
             "minorgridcolor": "white",
             "startlinecolor": "#2a3f5f"
            },
            "type": "carpet"
           }
          ],
          "choropleth": [
           {
            "colorbar": {
             "outlinewidth": 0,
             "ticks": ""
            },
            "type": "choropleth"
           }
          ],
          "contour": [
           {
            "colorbar": {
             "outlinewidth": 0,
             "ticks": ""
            },
            "colorscale": [
             [
              0,
              "#0d0887"
             ],
             [
              0.1111111111111111,
              "#46039f"
             ],
             [
              0.2222222222222222,
              "#7201a8"
             ],
             [
              0.3333333333333333,
              "#9c179e"
             ],
             [
              0.4444444444444444,
              "#bd3786"
             ],
             [
              0.5555555555555556,
              "#d8576b"
             ],
             [
              0.6666666666666666,
              "#ed7953"
             ],
             [
              0.7777777777777778,
              "#fb9f3a"
             ],
             [
              0.8888888888888888,
              "#fdca26"
             ],
             [
              1,
              "#f0f921"
             ]
            ],
            "type": "contour"
           }
          ],
          "contourcarpet": [
           {
            "colorbar": {
             "outlinewidth": 0,
             "ticks": ""
            },
            "type": "contourcarpet"
           }
          ],
          "heatmap": [
           {
            "colorbar": {
             "outlinewidth": 0,
             "ticks": ""
            },
            "colorscale": [
             [
              0,
              "#0d0887"
             ],
             [
              0.1111111111111111,
              "#46039f"
             ],
             [
              0.2222222222222222,
              "#7201a8"
             ],
             [
              0.3333333333333333,
              "#9c179e"
             ],
             [
              0.4444444444444444,
              "#bd3786"
             ],
             [
              0.5555555555555556,
              "#d8576b"
             ],
             [
              0.6666666666666666,
              "#ed7953"
             ],
             [
              0.7777777777777778,
              "#fb9f3a"
             ],
             [
              0.8888888888888888,
              "#fdca26"
             ],
             [
              1,
              "#f0f921"
             ]
            ],
            "type": "heatmap"
           }
          ],
          "heatmapgl": [
           {
            "colorbar": {
             "outlinewidth": 0,
             "ticks": ""
            },
            "colorscale": [
             [
              0,
              "#0d0887"
             ],
             [
              0.1111111111111111,
              "#46039f"
             ],
             [
              0.2222222222222222,
              "#7201a8"
             ],
             [
              0.3333333333333333,
              "#9c179e"
             ],
             [
              0.4444444444444444,
              "#bd3786"
             ],
             [
              0.5555555555555556,
              "#d8576b"
             ],
             [
              0.6666666666666666,
              "#ed7953"
             ],
             [
              0.7777777777777778,
              "#fb9f3a"
             ],
             [
              0.8888888888888888,
              "#fdca26"
             ],
             [
              1,
              "#f0f921"
             ]
            ],
            "type": "heatmapgl"
           }
          ],
          "histogram": [
           {
            "marker": {
             "colorbar": {
              "outlinewidth": 0,
              "ticks": ""
             }
            },
            "type": "histogram"
           }
          ],
          "histogram2d": [
           {
            "colorbar": {
             "outlinewidth": 0,
             "ticks": ""
            },
            "colorscale": [
             [
              0,
              "#0d0887"
             ],
             [
              0.1111111111111111,
              "#46039f"
             ],
             [
              0.2222222222222222,
              "#7201a8"
             ],
             [
              0.3333333333333333,
              "#9c179e"
             ],
             [
              0.4444444444444444,
              "#bd3786"
             ],
             [
              0.5555555555555556,
              "#d8576b"
             ],
             [
              0.6666666666666666,
              "#ed7953"
             ],
             [
              0.7777777777777778,
              "#fb9f3a"
             ],
             [
              0.8888888888888888,
              "#fdca26"
             ],
             [
              1,
              "#f0f921"
             ]
            ],
            "type": "histogram2d"
           }
          ],
          "histogram2dcontour": [
           {
            "colorbar": {
             "outlinewidth": 0,
             "ticks": ""
            },
            "colorscale": [
             [
              0,
              "#0d0887"
             ],
             [
              0.1111111111111111,
              "#46039f"
             ],
             [
              0.2222222222222222,
              "#7201a8"
             ],
             [
              0.3333333333333333,
              "#9c179e"
             ],
             [
              0.4444444444444444,
              "#bd3786"
             ],
             [
              0.5555555555555556,
              "#d8576b"
             ],
             [
              0.6666666666666666,
              "#ed7953"
             ],
             [
              0.7777777777777778,
              "#fb9f3a"
             ],
             [
              0.8888888888888888,
              "#fdca26"
             ],
             [
              1,
              "#f0f921"
             ]
            ],
            "type": "histogram2dcontour"
           }
          ],
          "mesh3d": [
           {
            "colorbar": {
             "outlinewidth": 0,
             "ticks": ""
            },
            "type": "mesh3d"
           }
          ],
          "parcoords": [
           {
            "line": {
             "colorbar": {
              "outlinewidth": 0,
              "ticks": ""
             }
            },
            "type": "parcoords"
           }
          ],
          "pie": [
           {
            "automargin": true,
            "type": "pie"
           }
          ],
          "scatter": [
           {
            "marker": {
             "colorbar": {
              "outlinewidth": 0,
              "ticks": ""
             }
            },
            "type": "scatter"
           }
          ],
          "scatter3d": [
           {
            "line": {
             "colorbar": {
              "outlinewidth": 0,
              "ticks": ""
             }
            },
            "marker": {
             "colorbar": {
              "outlinewidth": 0,
              "ticks": ""
             }
            },
            "type": "scatter3d"
           }
          ],
          "scattercarpet": [
           {
            "marker": {
             "colorbar": {
              "outlinewidth": 0,
              "ticks": ""
             }
            },
            "type": "scattercarpet"
           }
          ],
          "scattergeo": [
           {
            "marker": {
             "colorbar": {
              "outlinewidth": 0,
              "ticks": ""
             }
            },
            "type": "scattergeo"
           }
          ],
          "scattergl": [
           {
            "marker": {
             "colorbar": {
              "outlinewidth": 0,
              "ticks": ""
             }
            },
            "type": "scattergl"
           }
          ],
          "scattermapbox": [
           {
            "marker": {
             "colorbar": {
              "outlinewidth": 0,
              "ticks": ""
             }
            },
            "type": "scattermapbox"
           }
          ],
          "scatterpolar": [
           {
            "marker": {
             "colorbar": {
              "outlinewidth": 0,
              "ticks": ""
             }
            },
            "type": "scatterpolar"
           }
          ],
          "scatterpolargl": [
           {
            "marker": {
             "colorbar": {
              "outlinewidth": 0,
              "ticks": ""
             }
            },
            "type": "scatterpolargl"
           }
          ],
          "scatterternary": [
           {
            "marker": {
             "colorbar": {
              "outlinewidth": 0,
              "ticks": ""
             }
            },
            "type": "scatterternary"
           }
          ],
          "surface": [
           {
            "colorbar": {
             "outlinewidth": 0,
             "ticks": ""
            },
            "colorscale": [
             [
              0,
              "#0d0887"
             ],
             [
              0.1111111111111111,
              "#46039f"
             ],
             [
              0.2222222222222222,
              "#7201a8"
             ],
             [
              0.3333333333333333,
              "#9c179e"
             ],
             [
              0.4444444444444444,
              "#bd3786"
             ],
             [
              0.5555555555555556,
              "#d8576b"
             ],
             [
              0.6666666666666666,
              "#ed7953"
             ],
             [
              0.7777777777777778,
              "#fb9f3a"
             ],
             [
              0.8888888888888888,
              "#fdca26"
             ],
             [
              1,
              "#f0f921"
             ]
            ],
            "type": "surface"
           }
          ],
          "table": [
           {
            "cells": {
             "fill": {
              "color": "#EBF0F8"
             },
             "line": {
              "color": "white"
             }
            },
            "header": {
             "fill": {
              "color": "#C8D4E3"
             },
             "line": {
              "color": "white"
             }
            },
            "type": "table"
           }
          ]
         },
         "layout": {
          "annotationdefaults": {
           "arrowcolor": "#2a3f5f",
           "arrowhead": 0,
           "arrowwidth": 1
          },
          "coloraxis": {
           "colorbar": {
            "outlinewidth": 0,
            "ticks": ""
           }
          },
          "colorscale": {
           "diverging": [
            [
             0,
             "#8e0152"
            ],
            [
             0.1,
             "#c51b7d"
            ],
            [
             0.2,
             "#de77ae"
            ],
            [
             0.3,
             "#f1b6da"
            ],
            [
             0.4,
             "#fde0ef"
            ],
            [
             0.5,
             "#f7f7f7"
            ],
            [
             0.6,
             "#e6f5d0"
            ],
            [
             0.7,
             "#b8e186"
            ],
            [
             0.8,
             "#7fbc41"
            ],
            [
             0.9,
             "#4d9221"
            ],
            [
             1,
             "#276419"
            ]
           ],
           "sequential": [
            [
             0,
             "#0d0887"
            ],
            [
             0.1111111111111111,
             "#46039f"
            ],
            [
             0.2222222222222222,
             "#7201a8"
            ],
            [
             0.3333333333333333,
             "#9c179e"
            ],
            [
             0.4444444444444444,
             "#bd3786"
            ],
            [
             0.5555555555555556,
             "#d8576b"
            ],
            [
             0.6666666666666666,
             "#ed7953"
            ],
            [
             0.7777777777777778,
             "#fb9f3a"
            ],
            [
             0.8888888888888888,
             "#fdca26"
            ],
            [
             1,
             "#f0f921"
            ]
           ],
           "sequentialminus": [
            [
             0,
             "#0d0887"
            ],
            [
             0.1111111111111111,
             "#46039f"
            ],
            [
             0.2222222222222222,
             "#7201a8"
            ],
            [
             0.3333333333333333,
             "#9c179e"
            ],
            [
             0.4444444444444444,
             "#bd3786"
            ],
            [
             0.5555555555555556,
             "#d8576b"
            ],
            [
             0.6666666666666666,
             "#ed7953"
            ],
            [
             0.7777777777777778,
             "#fb9f3a"
            ],
            [
             0.8888888888888888,
             "#fdca26"
            ],
            [
             1,
             "#f0f921"
            ]
           ]
          },
          "colorway": [
           "#636efa",
           "#EF553B",
           "#00cc96",
           "#ab63fa",
           "#FFA15A",
           "#19d3f3",
           "#FF6692",
           "#B6E880",
           "#FF97FF",
           "#FECB52"
          ],
          "font": {
           "color": "#2a3f5f"
          },
          "geo": {
           "bgcolor": "white",
           "lakecolor": "white",
           "landcolor": "#E5ECF6",
           "showlakes": true,
           "showland": true,
           "subunitcolor": "white"
          },
          "hoverlabel": {
           "align": "left"
          },
          "hovermode": "closest",
          "mapbox": {
           "style": "light"
          },
          "paper_bgcolor": "white",
          "plot_bgcolor": "#E5ECF6",
          "polar": {
           "angularaxis": {
            "gridcolor": "white",
            "linecolor": "white",
            "ticks": ""
           },
           "bgcolor": "#E5ECF6",
           "radialaxis": {
            "gridcolor": "white",
            "linecolor": "white",
            "ticks": ""
           }
          },
          "scene": {
           "xaxis": {
            "backgroundcolor": "#E5ECF6",
            "gridcolor": "white",
            "gridwidth": 2,
            "linecolor": "white",
            "showbackground": true,
            "ticks": "",
            "zerolinecolor": "white"
           },
           "yaxis": {
            "backgroundcolor": "#E5ECF6",
            "gridcolor": "white",
            "gridwidth": 2,
            "linecolor": "white",
            "showbackground": true,
            "ticks": "",
            "zerolinecolor": "white"
           },
           "zaxis": {
            "backgroundcolor": "#E5ECF6",
            "gridcolor": "white",
            "gridwidth": 2,
            "linecolor": "white",
            "showbackground": true,
            "ticks": "",
            "zerolinecolor": "white"
           }
          },
          "shapedefaults": {
           "line": {
            "color": "#2a3f5f"
           }
          },
          "ternary": {
           "aaxis": {
            "gridcolor": "white",
            "linecolor": "white",
            "ticks": ""
           },
           "baxis": {
            "gridcolor": "white",
            "linecolor": "white",
            "ticks": ""
           },
           "bgcolor": "#E5ECF6",
           "caxis": {
            "gridcolor": "white",
            "linecolor": "white",
            "ticks": ""
           }
          },
          "title": {
           "x": 0.05
          },
          "xaxis": {
           "automargin": true,
           "gridcolor": "white",
           "linecolor": "white",
           "ticks": "",
           "title": {
            "standoff": 15
           },
           "zerolinecolor": "white",
           "zerolinewidth": 2
          },
          "yaxis": {
           "automargin": true,
           "gridcolor": "white",
           "linecolor": "white",
           "ticks": "",
           "title": {
            "standoff": 15
           },
           "zerolinecolor": "white",
           "zerolinewidth": 2
          }
         }
        },
        "title": {
         "font": {
          "color": "#4D5663"
         }
        },
        "xaxis": {
         "gridcolor": "#E1E5ED",
         "showgrid": true,
         "tickfont": {
          "color": "#4D5663"
         },
         "title": {
          "font": {
           "color": "#4D5663"
          },
          "text": ""
         },
         "zerolinecolor": "#E1E5ED"
        },
        "yaxis": {
         "gridcolor": "#E1E5ED",
         "showgrid": true,
         "tickfont": {
          "color": "#4D5663"
         },
         "title": {
          "font": {
           "color": "#4D5663"
          },
          "text": ""
         },
         "zerolinecolor": "#E1E5ED"
        }
       }
      },
      "text/html": [
       "<div>\n",
       "        \n",
       "        \n",
       "            <div id=\"32682fc4-a063-4a42-904d-43759e5683d1\" class=\"plotly-graph-div\" style=\"height:525px; width:100%;\"></div>\n",
       "            <script type=\"text/javascript\">\n",
       "                require([\"plotly\"], function(Plotly) {\n",
       "                    window.PLOTLYENV=window.PLOTLYENV || {};\n",
       "                    window.PLOTLYENV.BASE_URL='https://plot.ly';\n",
       "                    \n",
       "                if (document.getElementById(\"32682fc4-a063-4a42-904d-43759e5683d1\")) {\n",
       "                    Plotly.newPlot(\n",
       "                        '32682fc4-a063-4a42-904d-43759e5683d1',\n",
       "                        [{\"marker\": {\"color\": [\"rgb(255, 153, 51)\", \"rgb(55, 128, 191)\", \"rgb(50, 171, 96)\", \"rgb(128, 0, 128)\", \"rgb(219, 64, 82)\", \"rgb(0, 128, 128)\", \"rgb(255, 255, 51)\", \"rgb(128, 128, 0)\", \"rgb(251, 128, 114)\", \"rgb(128, 177, 211)\"], \"line\": {\"width\": 1.3}, \"size\": [53, 12, 108, 63, 99, 56, 27, 53, 25, 53, 36, 70, 42, 22, 61, 61, 79, 56, 67, 71, 40, 70, 48, 40, 38, 32, 76, 69, 45, 77, 88, 68, 52, 34, 49, 78, 59, 73, 44, 47, 74, 52, 85, 50, 82, 47, 49, 67, 86, 64, 52, 38, 112, 70, 68, 34, 97, 73, 53, 54, 36, 67, 37, 26, 52, 45, 56, 71, 53, 27, 52, 54, 38, 75, 38, 56, 57, 80, 35, 70, 73, 60, 50, 108, 42, 91, 73, 51, 69, 57, 68, 18, 79, 89, 39, 72, 43, 56, 59, 59], \"symbol\": \"circle\"}, \"mode\": \"markers\", \"text\": \"\", \"type\": \"scatter\", \"x\": [-1.1840365621651945, -1.8381134858425232, -0.7277279334148866, -0.028971296517589097, 0.825450382839014, -0.5614608633274173, -0.6603089317004062, 1.6725527210902709, -0.2968938241848866, -0.7455791661784459, -0.9725191265715754, -0.17464149117399802, 0.04597974569488585, -0.902823009779421, 0.6600421623207664, -0.1373628365003551, -0.19933540675238912, 2.232844506603289, -0.5866449656845658, -0.44827422430998215, -0.8126261620742526, 0.3152056930303498, -1.5326742515335599, -1.3136876285306804, 0.7465963870088331, 1.3642850738121695, 0.6227848343777126, 0.9740940144969882, -0.03274610543656052, -0.23648932796707953, -0.5207684786746272, 0.8150690070383287, 0.8675613689644536, 0.4620135634840239, -0.7926717247669486, 0.049196575117251874, -1.0081977206190973, -0.19006178333019064, 0.16938736014080316, 1.6216816922631585, 0.48642387377101337, 0.6425010555936774, -1.63468048016266, -1.0470236308252987, 0.3242329374347403, 0.0943239920247155, 0.3577150372212665, 0.9236731892573657, 1.6110323640649022, -0.042561925631995866, -0.43485544242184443, -0.8494618434253626, -0.8286206654583846, 0.5324068271400587, 0.44911904243558154, -0.37408960381593065, 2.286830918685426, 0.8056634189729108, 0.611806492535484, 1.3483873907369872, 0.8586206478746982, -1.864926079553018, 0.5198523571964471, -0.5137922851909704, -0.14859213220638998, -0.8434697432455353, -0.43125185207336814, 0.32798193925352487, -0.9610454413972249, 0.46050655291944365, -0.722804354638819, -1.245109552366151, -0.10064611244150451, 0.8032841842806812, -1.1676378568872408, -2.512415133958864, -2.036925165214611, 0.4414699595223629, -2.1978416072993685, 0.3433106234260381, -0.2886576812286424, 0.3427460539289989, 0.5997642732764263, 2.110771985511631, -0.6557430487299993, -1.172584879204941, 0.5906194577721403, 0.4863798984476543, -0.5647382607184777, -1.636502180160153, 1.1318533611412398, 0.346456706099411, -0.5009745761701883, 1.2237802234261634, 0.7943402042622165, 0.46825175886511367, 0.30669243561811416, 0.6219140841086478, -1.5046859448603147, -0.5373240621441666], \"y\": [0.7748574018350498, -0.8491056720735701, 0.6914611085875526, 1.1752875372815135, 0.4162742573571235, -0.6952221903678409, 0.7908201017015961, -0.39968184016567027, -0.4226151861377561, -0.16105722437957612, -0.9753539757949506, 0.5977643273494854, -0.8888430599435827, 0.4494305636804583, 0.20609210531358196, -0.49022300526966706, -1.1886750583700814, 0.2385127198502449, 1.05249011826461, 0.4034854022152594, -0.0479351953311653, 0.5285875801575323, -0.8975425504391127, -0.9332949613409988, 0.7145846867253706, -1.2754180312058925, -0.33935108820751164, -0.34572951265255847, 0.8402196474654661, 1.8579077941247726, -0.10545501116095234, -0.43029645225787383, -1.471009145551944, 0.018313033612988895, 0.05863378120340704, -0.7481251383861267, 1.2739284752793545, -1.2688830632305381, 0.04863904155004324, 0.6590964872389021, 1.6738927361115674, 1.1447265427849844, 0.26804703844199823, 0.6146962222473003, 0.8815348744267175, 0.4152753764475723, -1.3748803282110544, -0.8555156955454922, 1.0716946029249914, -0.18854674519334236, 1.6767333881177955, 0.3250252134387557, 1.752760184188171, 0.8348678395347147, -0.030014862454295552, 1.3650079773832526, 0.5128929565450878, 0.1773698200047356, -0.4971404989716503, 0.21478254702547728, -0.7480145706490767, 0.5397806554794098, -0.5270300252772776, 0.25976914331856615, -0.34787617938088616, -1.441248767668745, -1.5978719846155973, 1.8760190283758935, 2.058786169419131, 0.04416637128786382, -0.11990218115432498, -0.32346234697218584, 0.7587833672465661, 0.1764232013077506, 2.3271774971821166, -0.025870405639904837, -0.29898147778189804, 0.45503789748310974, -0.3557650151783652, -0.3476159607705035, 0.05314676086246436, -1.2068805594060426, -1.218095609914161, -0.605536020423741, -0.5639854925951856, 0.5292292854352497, 0.5224444059168056, -0.34012701139348117, 0.3409887608709333, 0.3034569426427565, 0.02050058661276885, 0.06559131836346563, 0.16276827346155767, -1.7289045833130687, -1.2926726553484278, 0.3706707209524533, -1.1632329413595424, -0.8424734722469165, -1.3825350305370303, 0.557764978680726]}],\n",
       "                        {\"legend\": {\"bgcolor\": \"#F5F6F9\", \"font\": {\"color\": \"#4D5663\"}}, \"paper_bgcolor\": \"#F5F6F9\", \"plot_bgcolor\": \"#F5F6F9\", \"template\": {\"data\": {\"bar\": [{\"error_x\": {\"color\": \"#2a3f5f\"}, \"error_y\": {\"color\": \"#2a3f5f\"}, \"marker\": {\"line\": {\"color\": \"#E5ECF6\", \"width\": 0.5}}, \"type\": \"bar\"}], \"barpolar\": [{\"marker\": {\"line\": {\"color\": \"#E5ECF6\", \"width\": 0.5}}, \"type\": \"barpolar\"}], \"carpet\": [{\"aaxis\": {\"endlinecolor\": \"#2a3f5f\", \"gridcolor\": \"white\", \"linecolor\": \"white\", \"minorgridcolor\": \"white\", \"startlinecolor\": \"#2a3f5f\"}, \"baxis\": {\"endlinecolor\": \"#2a3f5f\", \"gridcolor\": \"white\", \"linecolor\": \"white\", \"minorgridcolor\": \"white\", \"startlinecolor\": \"#2a3f5f\"}, \"type\": \"carpet\"}], \"choropleth\": [{\"colorbar\": {\"outlinewidth\": 0, \"ticks\": \"\"}, \"type\": \"choropleth\"}], \"contour\": [{\"colorbar\": {\"outlinewidth\": 0, \"ticks\": \"\"}, \"colorscale\": [[0.0, \"#0d0887\"], [0.1111111111111111, \"#46039f\"], [0.2222222222222222, \"#7201a8\"], [0.3333333333333333, \"#9c179e\"], [0.4444444444444444, \"#bd3786\"], [0.5555555555555556, \"#d8576b\"], [0.6666666666666666, \"#ed7953\"], [0.7777777777777778, \"#fb9f3a\"], [0.8888888888888888, \"#fdca26\"], [1.0, \"#f0f921\"]], \"type\": \"contour\"}], \"contourcarpet\": [{\"colorbar\": {\"outlinewidth\": 0, \"ticks\": \"\"}, \"type\": \"contourcarpet\"}], \"heatmap\": [{\"colorbar\": {\"outlinewidth\": 0, \"ticks\": \"\"}, \"colorscale\": [[0.0, \"#0d0887\"], [0.1111111111111111, \"#46039f\"], [0.2222222222222222, \"#7201a8\"], [0.3333333333333333, \"#9c179e\"], [0.4444444444444444, \"#bd3786\"], [0.5555555555555556, \"#d8576b\"], [0.6666666666666666, \"#ed7953\"], [0.7777777777777778, \"#fb9f3a\"], [0.8888888888888888, \"#fdca26\"], [1.0, \"#f0f921\"]], \"type\": \"heatmap\"}], \"heatmapgl\": [{\"colorbar\": {\"outlinewidth\": 0, \"ticks\": \"\"}, \"colorscale\": [[0.0, \"#0d0887\"], [0.1111111111111111, \"#46039f\"], [0.2222222222222222, \"#7201a8\"], [0.3333333333333333, \"#9c179e\"], [0.4444444444444444, \"#bd3786\"], [0.5555555555555556, \"#d8576b\"], [0.6666666666666666, \"#ed7953\"], [0.7777777777777778, \"#fb9f3a\"], [0.8888888888888888, \"#fdca26\"], [1.0, \"#f0f921\"]], \"type\": \"heatmapgl\"}], \"histogram\": [{\"marker\": {\"colorbar\": {\"outlinewidth\": 0, \"ticks\": \"\"}}, \"type\": \"histogram\"}], \"histogram2d\": [{\"colorbar\": {\"outlinewidth\": 0, \"ticks\": \"\"}, \"colorscale\": [[0.0, \"#0d0887\"], [0.1111111111111111, \"#46039f\"], [0.2222222222222222, \"#7201a8\"], [0.3333333333333333, \"#9c179e\"], [0.4444444444444444, \"#bd3786\"], [0.5555555555555556, \"#d8576b\"], [0.6666666666666666, \"#ed7953\"], [0.7777777777777778, \"#fb9f3a\"], [0.8888888888888888, \"#fdca26\"], [1.0, \"#f0f921\"]], \"type\": \"histogram2d\"}], \"histogram2dcontour\": [{\"colorbar\": {\"outlinewidth\": 0, \"ticks\": \"\"}, \"colorscale\": [[0.0, \"#0d0887\"], [0.1111111111111111, \"#46039f\"], [0.2222222222222222, \"#7201a8\"], [0.3333333333333333, \"#9c179e\"], [0.4444444444444444, \"#bd3786\"], [0.5555555555555556, \"#d8576b\"], [0.6666666666666666, \"#ed7953\"], [0.7777777777777778, \"#fb9f3a\"], [0.8888888888888888, \"#fdca26\"], [1.0, \"#f0f921\"]], \"type\": \"histogram2dcontour\"}], \"mesh3d\": [{\"colorbar\": {\"outlinewidth\": 0, \"ticks\": \"\"}, \"type\": \"mesh3d\"}], \"parcoords\": [{\"line\": {\"colorbar\": {\"outlinewidth\": 0, \"ticks\": \"\"}}, \"type\": \"parcoords\"}], \"pie\": [{\"automargin\": true, \"type\": \"pie\"}], \"scatter\": [{\"marker\": {\"colorbar\": {\"outlinewidth\": 0, \"ticks\": \"\"}}, \"type\": \"scatter\"}], \"scatter3d\": [{\"line\": {\"colorbar\": {\"outlinewidth\": 0, \"ticks\": \"\"}}, \"marker\": {\"colorbar\": {\"outlinewidth\": 0, \"ticks\": \"\"}}, \"type\": \"scatter3d\"}], \"scattercarpet\": [{\"marker\": {\"colorbar\": {\"outlinewidth\": 0, \"ticks\": \"\"}}, \"type\": \"scattercarpet\"}], \"scattergeo\": [{\"marker\": {\"colorbar\": {\"outlinewidth\": 0, \"ticks\": \"\"}}, \"type\": \"scattergeo\"}], \"scattergl\": [{\"marker\": {\"colorbar\": {\"outlinewidth\": 0, \"ticks\": \"\"}}, \"type\": \"scattergl\"}], \"scattermapbox\": [{\"marker\": {\"colorbar\": {\"outlinewidth\": 0, \"ticks\": \"\"}}, \"type\": \"scattermapbox\"}], \"scatterpolar\": [{\"marker\": {\"colorbar\": {\"outlinewidth\": 0, \"ticks\": \"\"}}, \"type\": \"scatterpolar\"}], \"scatterpolargl\": [{\"marker\": {\"colorbar\": {\"outlinewidth\": 0, \"ticks\": \"\"}}, \"type\": \"scatterpolargl\"}], \"scatterternary\": [{\"marker\": {\"colorbar\": {\"outlinewidth\": 0, \"ticks\": \"\"}}, \"type\": \"scatterternary\"}], \"surface\": [{\"colorbar\": {\"outlinewidth\": 0, \"ticks\": \"\"}, \"colorscale\": [[0.0, \"#0d0887\"], [0.1111111111111111, \"#46039f\"], [0.2222222222222222, \"#7201a8\"], [0.3333333333333333, \"#9c179e\"], [0.4444444444444444, \"#bd3786\"], [0.5555555555555556, \"#d8576b\"], [0.6666666666666666, \"#ed7953\"], [0.7777777777777778, \"#fb9f3a\"], [0.8888888888888888, \"#fdca26\"], [1.0, \"#f0f921\"]], \"type\": \"surface\"}], \"table\": [{\"cells\": {\"fill\": {\"color\": \"#EBF0F8\"}, \"line\": {\"color\": \"white\"}}, \"header\": {\"fill\": {\"color\": \"#C8D4E3\"}, \"line\": {\"color\": \"white\"}}, \"type\": \"table\"}]}, \"layout\": {\"annotationdefaults\": {\"arrowcolor\": \"#2a3f5f\", \"arrowhead\": 0, \"arrowwidth\": 1}, \"coloraxis\": {\"colorbar\": {\"outlinewidth\": 0, \"ticks\": \"\"}}, \"colorscale\": {\"diverging\": [[0, \"#8e0152\"], [0.1, \"#c51b7d\"], [0.2, \"#de77ae\"], [0.3, \"#f1b6da\"], [0.4, \"#fde0ef\"], [0.5, \"#f7f7f7\"], [0.6, \"#e6f5d0\"], [0.7, \"#b8e186\"], [0.8, \"#7fbc41\"], [0.9, \"#4d9221\"], [1, \"#276419\"]], \"sequential\": [[0.0, \"#0d0887\"], [0.1111111111111111, \"#46039f\"], [0.2222222222222222, \"#7201a8\"], [0.3333333333333333, \"#9c179e\"], [0.4444444444444444, \"#bd3786\"], [0.5555555555555556, \"#d8576b\"], [0.6666666666666666, \"#ed7953\"], [0.7777777777777778, \"#fb9f3a\"], [0.8888888888888888, \"#fdca26\"], [1.0, \"#f0f921\"]], \"sequentialminus\": [[0.0, \"#0d0887\"], [0.1111111111111111, \"#46039f\"], [0.2222222222222222, \"#7201a8\"], [0.3333333333333333, \"#9c179e\"], [0.4444444444444444, \"#bd3786\"], [0.5555555555555556, \"#d8576b\"], [0.6666666666666666, \"#ed7953\"], [0.7777777777777778, \"#fb9f3a\"], [0.8888888888888888, \"#fdca26\"], [1.0, \"#f0f921\"]]}, \"colorway\": [\"#636efa\", \"#EF553B\", \"#00cc96\", \"#ab63fa\", \"#FFA15A\", \"#19d3f3\", \"#FF6692\", \"#B6E880\", \"#FF97FF\", \"#FECB52\"], \"font\": {\"color\": \"#2a3f5f\"}, \"geo\": {\"bgcolor\": \"white\", \"lakecolor\": \"white\", \"landcolor\": \"#E5ECF6\", \"showlakes\": true, \"showland\": true, \"subunitcolor\": \"white\"}, \"hoverlabel\": {\"align\": \"left\"}, \"hovermode\": \"closest\", \"mapbox\": {\"style\": \"light\"}, \"paper_bgcolor\": \"white\", \"plot_bgcolor\": \"#E5ECF6\", \"polar\": {\"angularaxis\": {\"gridcolor\": \"white\", \"linecolor\": \"white\", \"ticks\": \"\"}, \"bgcolor\": \"#E5ECF6\", \"radialaxis\": {\"gridcolor\": \"white\", \"linecolor\": \"white\", \"ticks\": \"\"}}, \"scene\": {\"xaxis\": {\"backgroundcolor\": \"#E5ECF6\", \"gridcolor\": \"white\", \"gridwidth\": 2, \"linecolor\": \"white\", \"showbackground\": true, \"ticks\": \"\", \"zerolinecolor\": \"white\"}, \"yaxis\": {\"backgroundcolor\": \"#E5ECF6\", \"gridcolor\": \"white\", \"gridwidth\": 2, \"linecolor\": \"white\", \"showbackground\": true, \"ticks\": \"\", \"zerolinecolor\": \"white\"}, \"zaxis\": {\"backgroundcolor\": \"#E5ECF6\", \"gridcolor\": \"white\", \"gridwidth\": 2, \"linecolor\": \"white\", \"showbackground\": true, \"ticks\": \"\", \"zerolinecolor\": \"white\"}}, \"shapedefaults\": {\"line\": {\"color\": \"#2a3f5f\"}}, \"ternary\": {\"aaxis\": {\"gridcolor\": \"white\", \"linecolor\": \"white\", \"ticks\": \"\"}, \"baxis\": {\"gridcolor\": \"white\", \"linecolor\": \"white\", \"ticks\": \"\"}, \"bgcolor\": \"#E5ECF6\", \"caxis\": {\"gridcolor\": \"white\", \"linecolor\": \"white\", \"ticks\": \"\"}}, \"title\": {\"x\": 0.05}, \"xaxis\": {\"automargin\": true, \"gridcolor\": \"white\", \"linecolor\": \"white\", \"ticks\": \"\", \"title\": {\"standoff\": 15}, \"zerolinecolor\": \"white\", \"zerolinewidth\": 2}, \"yaxis\": {\"automargin\": true, \"gridcolor\": \"white\", \"linecolor\": \"white\", \"ticks\": \"\", \"title\": {\"standoff\": 15}, \"zerolinecolor\": \"white\", \"zerolinewidth\": 2}}}, \"title\": {\"font\": {\"color\": \"#4D5663\"}}, \"xaxis\": {\"gridcolor\": \"#E1E5ED\", \"showgrid\": true, \"tickfont\": {\"color\": \"#4D5663\"}, \"title\": {\"font\": {\"color\": \"#4D5663\"}, \"text\": \"\"}, \"zerolinecolor\": \"#E1E5ED\"}, \"yaxis\": {\"gridcolor\": \"#E1E5ED\", \"showgrid\": true, \"tickfont\": {\"color\": \"#4D5663\"}, \"title\": {\"font\": {\"color\": \"#4D5663\"}, \"text\": \"\"}, \"zerolinecolor\": \"#E1E5ED\"}},\n",
       "                        {\"showLink\": true, \"linkText\": \"Export to plot.ly\", \"plotlyServerURL\": \"https://plot.ly\", \"responsive\": true}\n",
       "                    ).then(function(){\n",
       "                            \n",
       "var gd = document.getElementById('32682fc4-a063-4a42-904d-43759e5683d1');\n",
       "var x = new MutationObserver(function (mutations, observer) {{\n",
       "        var display = window.getComputedStyle(gd).display;\n",
       "        if (!display || display === 'none') {{\n",
       "            console.log([gd, 'removed!']);\n",
       "            Plotly.purge(gd);\n",
       "            observer.disconnect();\n",
       "        }}\n",
       "}});\n",
       "\n",
       "// Listen for the removal of the full notebook cells\n",
       "var notebookContainer = gd.closest('#notebook-container');\n",
       "if (notebookContainer) {{\n",
       "    x.observe(notebookContainer, {childList: true});\n",
       "}}\n",
       "\n",
       "// Listen for the clearing of the current output cell\n",
       "var outputEl = gd.closest('.output');\n",
       "if (outputEl) {{\n",
       "    x.observe(outputEl, {childList: true});\n",
       "}}\n",
       "\n",
       "                        })\n",
       "                };\n",
       "                });\n",
       "            </script>\n",
       "        </div>"
      ]
     },
     "metadata": {},
     "output_type": "display_data"
    }
   ],
   "source": [
    "df.iplot(kind='bubble',x='A',y='B',size='C')"
   ]
  },
  {
   "cell_type": "markdown",
   "metadata": {},
   "source": [
    "## scatter_matrix()\n",
    "\n",
    "Similar to sns.pairplot()"
   ]
  },
  {
   "cell_type": "code",
   "execution_count": 18,
   "metadata": {},
   "outputs": [
    {
     "data": {
      "application/vnd.plotly.v1+json": {
       "config": {
        "linkText": "Export to plot.ly",
        "plotlyServerURL": "https://plot.ly",
        "showLink": true
       },
       "data": [
        {
         "histfunc": "count",
         "histnorm": "",
         "marker": {
          "color": "rgba(255, 153, 51, 1.0)",
          "line": {
           "color": "#4D5663",
           "width": 1.3
          }
         },
         "name": "A",
         "nbinsx": 10,
         "opacity": 0.8,
         "orientation": "v",
         "type": "histogram",
         "x": [
          -1.1840365621651945,
          -1.8381134858425232,
          -0.7277279334148866,
          -0.028971296517589097,
          0.825450382839014,
          -0.5614608633274173,
          -0.6603089317004062,
          1.6725527210902709,
          -0.2968938241848866,
          -0.7455791661784459,
          -0.9725191265715754,
          -0.17464149117399802,
          0.04597974569488585,
          -0.902823009779421,
          0.6600421623207664,
          -0.1373628365003551,
          -0.19933540675238912,
          2.232844506603289,
          -0.5866449656845658,
          -0.44827422430998215,
          -0.8126261620742526,
          0.3152056930303498,
          -1.5326742515335599,
          -1.3136876285306804,
          0.7465963870088331,
          1.3642850738121695,
          0.6227848343777126,
          0.9740940144969882,
          -0.03274610543656052,
          -0.23648932796707953,
          -0.5207684786746272,
          0.8150690070383287,
          0.8675613689644536,
          0.4620135634840239,
          -0.7926717247669486,
          0.049196575117251874,
          -1.0081977206190973,
          -0.19006178333019064,
          0.16938736014080316,
          1.6216816922631585,
          0.48642387377101337,
          0.6425010555936774,
          -1.63468048016266,
          -1.0470236308252987,
          0.3242329374347403,
          0.0943239920247155,
          0.3577150372212665,
          0.9236731892573657,
          1.6110323640649022,
          -0.042561925631995866,
          -0.43485544242184443,
          -0.8494618434253626,
          -0.8286206654583846,
          0.5324068271400587,
          0.44911904243558154,
          -0.37408960381593065,
          2.286830918685426,
          0.8056634189729108,
          0.611806492535484,
          1.3483873907369872,
          0.8586206478746982,
          -1.864926079553018,
          0.5198523571964471,
          -0.5137922851909704,
          -0.14859213220638998,
          -0.8434697432455353,
          -0.43125185207336814,
          0.32798193925352487,
          -0.9610454413972249,
          0.46050655291944365,
          -0.722804354638819,
          -1.245109552366151,
          -0.10064611244150451,
          0.8032841842806812,
          -1.1676378568872408,
          -2.512415133958864,
          -2.036925165214611,
          0.4414699595223629,
          -2.1978416072993685,
          0.3433106234260381,
          -0.2886576812286424,
          0.3427460539289989,
          0.5997642732764263,
          2.110771985511631,
          -0.6557430487299993,
          -1.172584879204941,
          0.5906194577721403,
          0.4863798984476543,
          -0.5647382607184777,
          -1.636502180160153,
          1.1318533611412398,
          0.346456706099411,
          -0.5009745761701883,
          1.2237802234261634,
          0.7943402042622165,
          0.46825175886511367,
          0.30669243561811416,
          0.6219140841086478,
          -1.5046859448603147,
          -0.5373240621441666
         ],
         "xaxis": "x",
         "yaxis": "y"
        },
        {
         "line": {
          "color": "rgba(128, 128, 128, 1.0)",
          "dash": "solid",
          "shape": "linear",
          "width": 1.3
         },
         "marker": {
          "size": 2,
          "symbol": "circle"
         },
         "mode": "markers",
         "name": "A",
         "text": "",
         "type": "scatter",
         "x": [
          0.7748574018350498,
          -0.8491056720735701,
          0.6914611085875526,
          1.1752875372815135,
          0.4162742573571235,
          -0.6952221903678409,
          0.7908201017015961,
          -0.39968184016567027,
          -0.4226151861377561,
          -0.16105722437957612,
          -0.9753539757949506,
          0.5977643273494854,
          -0.8888430599435827,
          0.4494305636804583,
          0.20609210531358196,
          -0.49022300526966706,
          -1.1886750583700814,
          0.2385127198502449,
          1.05249011826461,
          0.4034854022152594,
          -0.0479351953311653,
          0.5285875801575323,
          -0.8975425504391127,
          -0.9332949613409988,
          0.7145846867253706,
          -1.2754180312058925,
          -0.33935108820751164,
          -0.34572951265255847,
          0.8402196474654661,
          1.8579077941247726,
          -0.10545501116095234,
          -0.43029645225787383,
          -1.471009145551944,
          0.018313033612988895,
          0.05863378120340704,
          -0.7481251383861267,
          1.2739284752793545,
          -1.2688830632305381,
          0.04863904155004324,
          0.6590964872389021,
          1.6738927361115674,
          1.1447265427849844,
          0.26804703844199823,
          0.6146962222473003,
          0.8815348744267175,
          0.4152753764475723,
          -1.3748803282110544,
          -0.8555156955454922,
          1.0716946029249914,
          -0.18854674519334236,
          1.6767333881177955,
          0.3250252134387557,
          1.752760184188171,
          0.8348678395347147,
          -0.030014862454295552,
          1.3650079773832526,
          0.5128929565450878,
          0.1773698200047356,
          -0.4971404989716503,
          0.21478254702547728,
          -0.7480145706490767,
          0.5397806554794098,
          -0.5270300252772776,
          0.25976914331856615,
          -0.34787617938088616,
          -1.441248767668745,
          -1.5978719846155973,
          1.8760190283758935,
          2.058786169419131,
          0.04416637128786382,
          -0.11990218115432498,
          -0.32346234697218584,
          0.7587833672465661,
          0.1764232013077506,
          2.3271774971821166,
          -0.025870405639904837,
          -0.29898147778189804,
          0.45503789748310974,
          -0.3557650151783652,
          -0.3476159607705035,
          0.05314676086246436,
          -1.2068805594060426,
          -1.218095609914161,
          -0.605536020423741,
          -0.5639854925951856,
          0.5292292854352497,
          0.5224444059168056,
          -0.34012701139348117,
          0.3409887608709333,
          0.3034569426427565,
          0.02050058661276885,
          0.06559131836346563,
          0.16276827346155767,
          -1.7289045833130687,
          -1.2926726553484278,
          0.3706707209524533,
          -1.1632329413595424,
          -0.8424734722469165,
          -1.3825350305370303,
          0.557764978680726
         ],
         "xaxis": "x2",
         "y": [
          -1.1840365621651945,
          -1.8381134858425232,
          -0.7277279334148866,
          -0.028971296517589097,
          0.825450382839014,
          -0.5614608633274173,
          -0.6603089317004062,
          1.6725527210902709,
          -0.2968938241848866,
          -0.7455791661784459,
          -0.9725191265715754,
          -0.17464149117399802,
          0.04597974569488585,
          -0.902823009779421,
          0.6600421623207664,
          -0.1373628365003551,
          -0.19933540675238912,
          2.232844506603289,
          -0.5866449656845658,
          -0.44827422430998215,
          -0.8126261620742526,
          0.3152056930303498,
          -1.5326742515335599,
          -1.3136876285306804,
          0.7465963870088331,
          1.3642850738121695,
          0.6227848343777126,
          0.9740940144969882,
          -0.03274610543656052,
          -0.23648932796707953,
          -0.5207684786746272,
          0.8150690070383287,
          0.8675613689644536,
          0.4620135634840239,
          -0.7926717247669486,
          0.049196575117251874,
          -1.0081977206190973,
          -0.19006178333019064,
          0.16938736014080316,
          1.6216816922631585,
          0.48642387377101337,
          0.6425010555936774,
          -1.63468048016266,
          -1.0470236308252987,
          0.3242329374347403,
          0.0943239920247155,
          0.3577150372212665,
          0.9236731892573657,
          1.6110323640649022,
          -0.042561925631995866,
          -0.43485544242184443,
          -0.8494618434253626,
          -0.8286206654583846,
          0.5324068271400587,
          0.44911904243558154,
          -0.37408960381593065,
          2.286830918685426,
          0.8056634189729108,
          0.611806492535484,
          1.3483873907369872,
          0.8586206478746982,
          -1.864926079553018,
          0.5198523571964471,
          -0.5137922851909704,
          -0.14859213220638998,
          -0.8434697432455353,
          -0.43125185207336814,
          0.32798193925352487,
          -0.9610454413972249,
          0.46050655291944365,
          -0.722804354638819,
          -1.245109552366151,
          -0.10064611244150451,
          0.8032841842806812,
          -1.1676378568872408,
          -2.512415133958864,
          -2.036925165214611,
          0.4414699595223629,
          -2.1978416072993685,
          0.3433106234260381,
          -0.2886576812286424,
          0.3427460539289989,
          0.5997642732764263,
          2.110771985511631,
          -0.6557430487299993,
          -1.172584879204941,
          0.5906194577721403,
          0.4863798984476543,
          -0.5647382607184777,
          -1.636502180160153,
          1.1318533611412398,
          0.346456706099411,
          -0.5009745761701883,
          1.2237802234261634,
          0.7943402042622165,
          0.46825175886511367,
          0.30669243561811416,
          0.6219140841086478,
          -1.5046859448603147,
          -0.5373240621441666
         ],
         "yaxis": "y2"
        },
        {
         "line": {
          "color": "rgba(128, 128, 128, 1.0)",
          "dash": "solid",
          "shape": "linear",
          "width": 1.3
         },
         "marker": {
          "size": 2,
          "symbol": "circle"
         },
         "mode": "markers",
         "name": "A",
         "text": "",
         "type": "scatter",
         "x": [
          -0.13075131036378393,
          -1.9766351382901388,
          2.359391483239348,
          0.332484562167801,
          1.9319128619571195,
          0.029124217949669882,
          -1.2844804097392815,
          -0.11539417465904929,
          -1.3902268237907565,
          -0.09177603626710525,
          -0.8959786694349934,
          0.6698909601613622,
          -0.5994535595042667,
          -1.4904652814956088,
          0.2596883000180945,
          0.2572737195516556,
          1.0484326385043803,
          9.636717248655658e-05,
          0.5192536189064421,
          0.6750978849511353,
          -0.6975100357555095,
          0.670467924562605,
          -0.32525342029309684,
          -0.7094220074205353,
          -0.7846501670210279,
          -1.0497873074734148,
          0.9247265800134937,
          0.5845643963129014,
          -0.45701168432168066,
          0.9545084832232573,
          1.4628229979357623,
          0.5722746269224713,
          -0.15504026772791643,
          -0.9514694023767296,
          -0.2941305882283108,
          0.9862806641164041,
          0.13929622387572363,
          0.7775837270608291,
          -0.516609318358424,
          -0.39921259289083977,
          0.8080185091614575,
          -0.14534015305333706,
          1.3158888719970208,
          -0.23992344546267205,
          1.1685567724854657,
          -0.3838409258449429,
          -0.2894555882388486,
          0.5239914462186199,
          1.384322441112758,
          0.38421690190088065,
          -0.17673392841986954,
          -0.7932137243798739,
          2.5118540947351025,
          0.6580468624387785,
          0.5808602432029525,
          -0.9709368714502858,
          1.860500579975986,
          0.7826981017385283,
          -0.0971289080929145,
          -0.05018858733969054,
          -0.8834422072711728,
          0.5037128006816742,
          -0.8144218848061271,
          -1.3229859402766706,
          -0.1637166795202983,
          -0.47748121300006424,
          0.03167390038804507,
          0.6910256142660218,
          -0.09838815524689949,
          -1.2688672757238648,
          -0.15814379703148304,
          -0.06388280711787181,
          -0.7894621848690133,
          0.8613594196284226,
          -0.7676034719999096,
          0.02644945606272413,
          0.050890485901894926,
          1.0899999646133016,
          -0.9055937990155126,
          0.6476545188698527,
          0.7977593877036964,
          0.1928323093903488,
          -0.24670858490897626,
          2.351376125771722,
          -0.5979936231981169,
          1.5965238869623473,
          0.783464554736259,
          -0.19023386325965286,
          0.5948103546485063,
          0.08454108319684282,
          0.5443866679573024,
          -1.6946496660709542,
          1.0500811624643263,
          1.5100126114675998,
          -0.7328994274505252,
          0.7456327774664977,
          -0.5505202892794008,
          0.04057429676737818,
          0.15155736191078095,
          0.17471303242791603
         ],
         "xaxis": "x3",
         "y": [
          -1.1840365621651945,
          -1.8381134858425232,
          -0.7277279334148866,
          -0.028971296517589097,
          0.825450382839014,
          -0.5614608633274173,
          -0.6603089317004062,
          1.6725527210902709,
          -0.2968938241848866,
          -0.7455791661784459,
          -0.9725191265715754,
          -0.17464149117399802,
          0.04597974569488585,
          -0.902823009779421,
          0.6600421623207664,
          -0.1373628365003551,
          -0.19933540675238912,
          2.232844506603289,
          -0.5866449656845658,
          -0.44827422430998215,
          -0.8126261620742526,
          0.3152056930303498,
          -1.5326742515335599,
          -1.3136876285306804,
          0.7465963870088331,
          1.3642850738121695,
          0.6227848343777126,
          0.9740940144969882,
          -0.03274610543656052,
          -0.23648932796707953,
          -0.5207684786746272,
          0.8150690070383287,
          0.8675613689644536,
          0.4620135634840239,
          -0.7926717247669486,
          0.049196575117251874,
          -1.0081977206190973,
          -0.19006178333019064,
          0.16938736014080316,
          1.6216816922631585,
          0.48642387377101337,
          0.6425010555936774,
          -1.63468048016266,
          -1.0470236308252987,
          0.3242329374347403,
          0.0943239920247155,
          0.3577150372212665,
          0.9236731892573657,
          1.6110323640649022,
          -0.042561925631995866,
          -0.43485544242184443,
          -0.8494618434253626,
          -0.8286206654583846,
          0.5324068271400587,
          0.44911904243558154,
          -0.37408960381593065,
          2.286830918685426,
          0.8056634189729108,
          0.611806492535484,
          1.3483873907369872,
          0.8586206478746982,
          -1.864926079553018,
          0.5198523571964471,
          -0.5137922851909704,
          -0.14859213220638998,
          -0.8434697432455353,
          -0.43125185207336814,
          0.32798193925352487,
          -0.9610454413972249,
          0.46050655291944365,
          -0.722804354638819,
          -1.245109552366151,
          -0.10064611244150451,
          0.8032841842806812,
          -1.1676378568872408,
          -2.512415133958864,
          -2.036925165214611,
          0.4414699595223629,
          -2.1978416072993685,
          0.3433106234260381,
          -0.2886576812286424,
          0.3427460539289989,
          0.5997642732764263,
          2.110771985511631,
          -0.6557430487299993,
          -1.172584879204941,
          0.5906194577721403,
          0.4863798984476543,
          -0.5647382607184777,
          -1.636502180160153,
          1.1318533611412398,
          0.346456706099411,
          -0.5009745761701883,
          1.2237802234261634,
          0.7943402042622165,
          0.46825175886511367,
          0.30669243561811416,
          0.6219140841086478,
          -1.5046859448603147,
          -0.5373240621441666
         ],
         "yaxis": "y3"
        },
        {
         "line": {
          "color": "rgba(128, 128, 128, 1.0)",
          "dash": "solid",
          "shape": "linear",
          "width": 1.3
         },
         "marker": {
          "size": 2,
          "symbol": "circle"
         },
         "mode": "markers",
         "name": "A",
         "text": "",
         "type": "scatter",
         "x": [
          -0.3109228800255749,
          -0.04435791625087433,
          1.7716348098062678,
          -1.0493683586255418,
          -1.0665903685316402,
          -2.1025631429841405,
          -0.6807417862389978,
          2.1985027264371224,
          0.37810087766951334,
          -0.4295934909667167,
          -2.248244371078392,
          -2.5053560497137632,
          1.2684156502861,
          0.08331658102783852,
          0.526696105998118,
          -0.6292095935193119,
          -0.5997967808433086,
          -0.6155486266727146,
          1.7045365486016097,
          -0.601276888450068,
          1.697470537334648,
          2.2923861989070438,
          0.9326249326398058,
          0.8606227390308568,
          -2.9236403720092268,
          1.29483800200945,
          -0.06975011636905842,
          0.05784498824832419,
          0.033853479502720905,
          0.47923115681408285,
          -0.26440242528641617,
          -0.27192490638944206,
          -1.1415874270423094,
          0.6436896480429837,
          0.25105546655016564,
          -1.3079938557342605,
          2.566764924527969,
          -2.352051142170725,
          -1.73121853372614,
          0.3404280647245284,
          -0.17969459631954798,
          0.48568232569143815,
          0.6580903990951771,
          2.2051409347483992,
          -0.12447187882099256,
          -0.6355468578198471,
          -0.6142097326154164,
          -2.024364478787583,
          0.42494805926035933,
          1.0480357114558718,
          -0.08419009931661706,
          0.5074685421083154,
          0.4898698527698281,
          1.0118081401720047,
          -1.1301003497409974,
          -0.22247145696906556,
          0.4608177907472395,
          -1.0094761182944447,
          1.1478773360752896,
          -0.19942338900064682,
          -1.1590343864074402,
          -0.1633156306915748,
          0.1114996264531976,
          -0.48171246278907404,
          -0.09821576955187183,
          -0.9153602480036214,
          -0.3767664489496155,
          0.1704138161909583,
          -0.9230168538832264,
          -0.3552117161642221,
          -0.4912177194348223,
          0.9095078130176419,
          1.93481636583586,
          0.34869020123610384,
          0.9326565933399767,
          -0.08316365835824382,
          -0.7692480688080877,
          -1.4060621920236365,
          -0.006246553266562083,
          -1.0639936316386083,
          -1.0088943985948773,
          -1.0354001402401753,
          0.49586925050720415,
          0.21183219244548893,
          0.42208101257324177,
          -1.1807023153770395,
          0.5838435124984659,
          0.7716715564675956,
          -0.6868763790279935,
          -0.47315146040381595,
          0.641453091864015,
          0.18828492231164531,
          -0.5924417282086342,
          1.3256727398800516,
          -1.33197914578505,
          -0.0823222228388583,
          1.2781846487773636,
          2.667224411053259,
          2.0550003848740976,
          -1.0883916290653706
         ],
         "xaxis": "x4",
         "y": [
          -1.1840365621651945,
          -1.8381134858425232,
          -0.7277279334148866,
          -0.028971296517589097,
          0.825450382839014,
          -0.5614608633274173,
          -0.6603089317004062,
          1.6725527210902709,
          -0.2968938241848866,
          -0.7455791661784459,
          -0.9725191265715754,
          -0.17464149117399802,
          0.04597974569488585,
          -0.902823009779421,
          0.6600421623207664,
          -0.1373628365003551,
          -0.19933540675238912,
          2.232844506603289,
          -0.5866449656845658,
          -0.44827422430998215,
          -0.8126261620742526,
          0.3152056930303498,
          -1.5326742515335599,
          -1.3136876285306804,
          0.7465963870088331,
          1.3642850738121695,
          0.6227848343777126,
          0.9740940144969882,
          -0.03274610543656052,
          -0.23648932796707953,
          -0.5207684786746272,
          0.8150690070383287,
          0.8675613689644536,
          0.4620135634840239,
          -0.7926717247669486,
          0.049196575117251874,
          -1.0081977206190973,
          -0.19006178333019064,
          0.16938736014080316,
          1.6216816922631585,
          0.48642387377101337,
          0.6425010555936774,
          -1.63468048016266,
          -1.0470236308252987,
          0.3242329374347403,
          0.0943239920247155,
          0.3577150372212665,
          0.9236731892573657,
          1.6110323640649022,
          -0.042561925631995866,
          -0.43485544242184443,
          -0.8494618434253626,
          -0.8286206654583846,
          0.5324068271400587,
          0.44911904243558154,
          -0.37408960381593065,
          2.286830918685426,
          0.8056634189729108,
          0.611806492535484,
          1.3483873907369872,
          0.8586206478746982,
          -1.864926079553018,
          0.5198523571964471,
          -0.5137922851909704,
          -0.14859213220638998,
          -0.8434697432455353,
          -0.43125185207336814,
          0.32798193925352487,
          -0.9610454413972249,
          0.46050655291944365,
          -0.722804354638819,
          -1.245109552366151,
          -0.10064611244150451,
          0.8032841842806812,
          -1.1676378568872408,
          -2.512415133958864,
          -2.036925165214611,
          0.4414699595223629,
          -2.1978416072993685,
          0.3433106234260381,
          -0.2886576812286424,
          0.3427460539289989,
          0.5997642732764263,
          2.110771985511631,
          -0.6557430487299993,
          -1.172584879204941,
          0.5906194577721403,
          0.4863798984476543,
          -0.5647382607184777,
          -1.636502180160153,
          1.1318533611412398,
          0.346456706099411,
          -0.5009745761701883,
          1.2237802234261634,
          0.7943402042622165,
          0.46825175886511367,
          0.30669243561811416,
          0.6219140841086478,
          -1.5046859448603147,
          -0.5373240621441666
         ],
         "yaxis": "y4"
        },
        {
         "line": {
          "color": "rgba(128, 128, 128, 1.0)",
          "dash": "solid",
          "shape": "linear",
          "width": 1.3
         },
         "marker": {
          "size": 2,
          "symbol": "circle"
         },
         "mode": "markers",
         "name": "B",
         "text": "",
         "type": "scatter",
         "x": [
          -1.1840365621651945,
          -1.8381134858425232,
          -0.7277279334148866,
          -0.028971296517589097,
          0.825450382839014,
          -0.5614608633274173,
          -0.6603089317004062,
          1.6725527210902709,
          -0.2968938241848866,
          -0.7455791661784459,
          -0.9725191265715754,
          -0.17464149117399802,
          0.04597974569488585,
          -0.902823009779421,
          0.6600421623207664,
          -0.1373628365003551,
          -0.19933540675238912,
          2.232844506603289,
          -0.5866449656845658,
          -0.44827422430998215,
          -0.8126261620742526,
          0.3152056930303498,
          -1.5326742515335599,
          -1.3136876285306804,
          0.7465963870088331,
          1.3642850738121695,
          0.6227848343777126,
          0.9740940144969882,
          -0.03274610543656052,
          -0.23648932796707953,
          -0.5207684786746272,
          0.8150690070383287,
          0.8675613689644536,
          0.4620135634840239,
          -0.7926717247669486,
          0.049196575117251874,
          -1.0081977206190973,
          -0.19006178333019064,
          0.16938736014080316,
          1.6216816922631585,
          0.48642387377101337,
          0.6425010555936774,
          -1.63468048016266,
          -1.0470236308252987,
          0.3242329374347403,
          0.0943239920247155,
          0.3577150372212665,
          0.9236731892573657,
          1.6110323640649022,
          -0.042561925631995866,
          -0.43485544242184443,
          -0.8494618434253626,
          -0.8286206654583846,
          0.5324068271400587,
          0.44911904243558154,
          -0.37408960381593065,
          2.286830918685426,
          0.8056634189729108,
          0.611806492535484,
          1.3483873907369872,
          0.8586206478746982,
          -1.864926079553018,
          0.5198523571964471,
          -0.5137922851909704,
          -0.14859213220638998,
          -0.8434697432455353,
          -0.43125185207336814,
          0.32798193925352487,
          -0.9610454413972249,
          0.46050655291944365,
          -0.722804354638819,
          -1.245109552366151,
          -0.10064611244150451,
          0.8032841842806812,
          -1.1676378568872408,
          -2.512415133958864,
          -2.036925165214611,
          0.4414699595223629,
          -2.1978416072993685,
          0.3433106234260381,
          -0.2886576812286424,
          0.3427460539289989,
          0.5997642732764263,
          2.110771985511631,
          -0.6557430487299993,
          -1.172584879204941,
          0.5906194577721403,
          0.4863798984476543,
          -0.5647382607184777,
          -1.636502180160153,
          1.1318533611412398,
          0.346456706099411,
          -0.5009745761701883,
          1.2237802234261634,
          0.7943402042622165,
          0.46825175886511367,
          0.30669243561811416,
          0.6219140841086478,
          -1.5046859448603147,
          -0.5373240621441666
         ],
         "xaxis": "x5",
         "y": [
          0.7748574018350498,
          -0.8491056720735701,
          0.6914611085875526,
          1.1752875372815135,
          0.4162742573571235,
          -0.6952221903678409,
          0.7908201017015961,
          -0.39968184016567027,
          -0.4226151861377561,
          -0.16105722437957612,
          -0.9753539757949506,
          0.5977643273494854,
          -0.8888430599435827,
          0.4494305636804583,
          0.20609210531358196,
          -0.49022300526966706,
          -1.1886750583700814,
          0.2385127198502449,
          1.05249011826461,
          0.4034854022152594,
          -0.0479351953311653,
          0.5285875801575323,
          -0.8975425504391127,
          -0.9332949613409988,
          0.7145846867253706,
          -1.2754180312058925,
          -0.33935108820751164,
          -0.34572951265255847,
          0.8402196474654661,
          1.8579077941247726,
          -0.10545501116095234,
          -0.43029645225787383,
          -1.471009145551944,
          0.018313033612988895,
          0.05863378120340704,
          -0.7481251383861267,
          1.2739284752793545,
          -1.2688830632305381,
          0.04863904155004324,
          0.6590964872389021,
          1.6738927361115674,
          1.1447265427849844,
          0.26804703844199823,
          0.6146962222473003,
          0.8815348744267175,
          0.4152753764475723,
          -1.3748803282110544,
          -0.8555156955454922,
          1.0716946029249914,
          -0.18854674519334236,
          1.6767333881177955,
          0.3250252134387557,
          1.752760184188171,
          0.8348678395347147,
          -0.030014862454295552,
          1.3650079773832526,
          0.5128929565450878,
          0.1773698200047356,
          -0.4971404989716503,
          0.21478254702547728,
          -0.7480145706490767,
          0.5397806554794098,
          -0.5270300252772776,
          0.25976914331856615,
          -0.34787617938088616,
          -1.441248767668745,
          -1.5978719846155973,
          1.8760190283758935,
          2.058786169419131,
          0.04416637128786382,
          -0.11990218115432498,
          -0.32346234697218584,
          0.7587833672465661,
          0.1764232013077506,
          2.3271774971821166,
          -0.025870405639904837,
          -0.29898147778189804,
          0.45503789748310974,
          -0.3557650151783652,
          -0.3476159607705035,
          0.05314676086246436,
          -1.2068805594060426,
          -1.218095609914161,
          -0.605536020423741,
          -0.5639854925951856,
          0.5292292854352497,
          0.5224444059168056,
          -0.34012701139348117,
          0.3409887608709333,
          0.3034569426427565,
          0.02050058661276885,
          0.06559131836346563,
          0.16276827346155767,
          -1.7289045833130687,
          -1.2926726553484278,
          0.3706707209524533,
          -1.1632329413595424,
          -0.8424734722469165,
          -1.3825350305370303,
          0.557764978680726
         ],
         "yaxis": "y5"
        },
        {
         "histfunc": "count",
         "histnorm": "",
         "marker": {
          "color": "rgba(55, 128, 191, 1.0)",
          "line": {
           "color": "#4D5663",
           "width": 1.3
          }
         },
         "name": "B",
         "nbinsx": 10,
         "opacity": 0.8,
         "orientation": "v",
         "type": "histogram",
         "x": [
          0.7748574018350498,
          -0.8491056720735701,
          0.6914611085875526,
          1.1752875372815135,
          0.4162742573571235,
          -0.6952221903678409,
          0.7908201017015961,
          -0.39968184016567027,
          -0.4226151861377561,
          -0.16105722437957612,
          -0.9753539757949506,
          0.5977643273494854,
          -0.8888430599435827,
          0.4494305636804583,
          0.20609210531358196,
          -0.49022300526966706,
          -1.1886750583700814,
          0.2385127198502449,
          1.05249011826461,
          0.4034854022152594,
          -0.0479351953311653,
          0.5285875801575323,
          -0.8975425504391127,
          -0.9332949613409988,
          0.7145846867253706,
          -1.2754180312058925,
          -0.33935108820751164,
          -0.34572951265255847,
          0.8402196474654661,
          1.8579077941247726,
          -0.10545501116095234,
          -0.43029645225787383,
          -1.471009145551944,
          0.018313033612988895,
          0.05863378120340704,
          -0.7481251383861267,
          1.2739284752793545,
          -1.2688830632305381,
          0.04863904155004324,
          0.6590964872389021,
          1.6738927361115674,
          1.1447265427849844,
          0.26804703844199823,
          0.6146962222473003,
          0.8815348744267175,
          0.4152753764475723,
          -1.3748803282110544,
          -0.8555156955454922,
          1.0716946029249914,
          -0.18854674519334236,
          1.6767333881177955,
          0.3250252134387557,
          1.752760184188171,
          0.8348678395347147,
          -0.030014862454295552,
          1.3650079773832526,
          0.5128929565450878,
          0.1773698200047356,
          -0.4971404989716503,
          0.21478254702547728,
          -0.7480145706490767,
          0.5397806554794098,
          -0.5270300252772776,
          0.25976914331856615,
          -0.34787617938088616,
          -1.441248767668745,
          -1.5978719846155973,
          1.8760190283758935,
          2.058786169419131,
          0.04416637128786382,
          -0.11990218115432498,
          -0.32346234697218584,
          0.7587833672465661,
          0.1764232013077506,
          2.3271774971821166,
          -0.025870405639904837,
          -0.29898147778189804,
          0.45503789748310974,
          -0.3557650151783652,
          -0.3476159607705035,
          0.05314676086246436,
          -1.2068805594060426,
          -1.218095609914161,
          -0.605536020423741,
          -0.5639854925951856,
          0.5292292854352497,
          0.5224444059168056,
          -0.34012701139348117,
          0.3409887608709333,
          0.3034569426427565,
          0.02050058661276885,
          0.06559131836346563,
          0.16276827346155767,
          -1.7289045833130687,
          -1.2926726553484278,
          0.3706707209524533,
          -1.1632329413595424,
          -0.8424734722469165,
          -1.3825350305370303,
          0.557764978680726
         ],
         "xaxis": "x6",
         "yaxis": "y6"
        },
        {
         "line": {
          "color": "rgba(128, 128, 128, 1.0)",
          "dash": "solid",
          "shape": "linear",
          "width": 1.3
         },
         "marker": {
          "size": 2,
          "symbol": "circle"
         },
         "mode": "markers",
         "name": "B",
         "text": "",
         "type": "scatter",
         "x": [
          -0.13075131036378393,
          -1.9766351382901388,
          2.359391483239348,
          0.332484562167801,
          1.9319128619571195,
          0.029124217949669882,
          -1.2844804097392815,
          -0.11539417465904929,
          -1.3902268237907565,
          -0.09177603626710525,
          -0.8959786694349934,
          0.6698909601613622,
          -0.5994535595042667,
          -1.4904652814956088,
          0.2596883000180945,
          0.2572737195516556,
          1.0484326385043803,
          9.636717248655658e-05,
          0.5192536189064421,
          0.6750978849511353,
          -0.6975100357555095,
          0.670467924562605,
          -0.32525342029309684,
          -0.7094220074205353,
          -0.7846501670210279,
          -1.0497873074734148,
          0.9247265800134937,
          0.5845643963129014,
          -0.45701168432168066,
          0.9545084832232573,
          1.4628229979357623,
          0.5722746269224713,
          -0.15504026772791643,
          -0.9514694023767296,
          -0.2941305882283108,
          0.9862806641164041,
          0.13929622387572363,
          0.7775837270608291,
          -0.516609318358424,
          -0.39921259289083977,
          0.8080185091614575,
          -0.14534015305333706,
          1.3158888719970208,
          -0.23992344546267205,
          1.1685567724854657,
          -0.3838409258449429,
          -0.2894555882388486,
          0.5239914462186199,
          1.384322441112758,
          0.38421690190088065,
          -0.17673392841986954,
          -0.7932137243798739,
          2.5118540947351025,
          0.6580468624387785,
          0.5808602432029525,
          -0.9709368714502858,
          1.860500579975986,
          0.7826981017385283,
          -0.0971289080929145,
          -0.05018858733969054,
          -0.8834422072711728,
          0.5037128006816742,
          -0.8144218848061271,
          -1.3229859402766706,
          -0.1637166795202983,
          -0.47748121300006424,
          0.03167390038804507,
          0.6910256142660218,
          -0.09838815524689949,
          -1.2688672757238648,
          -0.15814379703148304,
          -0.06388280711787181,
          -0.7894621848690133,
          0.8613594196284226,
          -0.7676034719999096,
          0.02644945606272413,
          0.050890485901894926,
          1.0899999646133016,
          -0.9055937990155126,
          0.6476545188698527,
          0.7977593877036964,
          0.1928323093903488,
          -0.24670858490897626,
          2.351376125771722,
          -0.5979936231981169,
          1.5965238869623473,
          0.783464554736259,
          -0.19023386325965286,
          0.5948103546485063,
          0.08454108319684282,
          0.5443866679573024,
          -1.6946496660709542,
          1.0500811624643263,
          1.5100126114675998,
          -0.7328994274505252,
          0.7456327774664977,
          -0.5505202892794008,
          0.04057429676737818,
          0.15155736191078095,
          0.17471303242791603
         ],
         "xaxis": "x7",
         "y": [
          0.7748574018350498,
          -0.8491056720735701,
          0.6914611085875526,
          1.1752875372815135,
          0.4162742573571235,
          -0.6952221903678409,
          0.7908201017015961,
          -0.39968184016567027,
          -0.4226151861377561,
          -0.16105722437957612,
          -0.9753539757949506,
          0.5977643273494854,
          -0.8888430599435827,
          0.4494305636804583,
          0.20609210531358196,
          -0.49022300526966706,
          -1.1886750583700814,
          0.2385127198502449,
          1.05249011826461,
          0.4034854022152594,
          -0.0479351953311653,
          0.5285875801575323,
          -0.8975425504391127,
          -0.9332949613409988,
          0.7145846867253706,
          -1.2754180312058925,
          -0.33935108820751164,
          -0.34572951265255847,
          0.8402196474654661,
          1.8579077941247726,
          -0.10545501116095234,
          -0.43029645225787383,
          -1.471009145551944,
          0.018313033612988895,
          0.05863378120340704,
          -0.7481251383861267,
          1.2739284752793545,
          -1.2688830632305381,
          0.04863904155004324,
          0.6590964872389021,
          1.6738927361115674,
          1.1447265427849844,
          0.26804703844199823,
          0.6146962222473003,
          0.8815348744267175,
          0.4152753764475723,
          -1.3748803282110544,
          -0.8555156955454922,
          1.0716946029249914,
          -0.18854674519334236,
          1.6767333881177955,
          0.3250252134387557,
          1.752760184188171,
          0.8348678395347147,
          -0.030014862454295552,
          1.3650079773832526,
          0.5128929565450878,
          0.1773698200047356,
          -0.4971404989716503,
          0.21478254702547728,
          -0.7480145706490767,
          0.5397806554794098,
          -0.5270300252772776,
          0.25976914331856615,
          -0.34787617938088616,
          -1.441248767668745,
          -1.5978719846155973,
          1.8760190283758935,
          2.058786169419131,
          0.04416637128786382,
          -0.11990218115432498,
          -0.32346234697218584,
          0.7587833672465661,
          0.1764232013077506,
          2.3271774971821166,
          -0.025870405639904837,
          -0.29898147778189804,
          0.45503789748310974,
          -0.3557650151783652,
          -0.3476159607705035,
          0.05314676086246436,
          -1.2068805594060426,
          -1.218095609914161,
          -0.605536020423741,
          -0.5639854925951856,
          0.5292292854352497,
          0.5224444059168056,
          -0.34012701139348117,
          0.3409887608709333,
          0.3034569426427565,
          0.02050058661276885,
          0.06559131836346563,
          0.16276827346155767,
          -1.7289045833130687,
          -1.2926726553484278,
          0.3706707209524533,
          -1.1632329413595424,
          -0.8424734722469165,
          -1.3825350305370303,
          0.557764978680726
         ],
         "yaxis": "y7"
        },
        {
         "line": {
          "color": "rgba(128, 128, 128, 1.0)",
          "dash": "solid",
          "shape": "linear",
          "width": 1.3
         },
         "marker": {
          "size": 2,
          "symbol": "circle"
         },
         "mode": "markers",
         "name": "B",
         "text": "",
         "type": "scatter",
         "x": [
          -0.3109228800255749,
          -0.04435791625087433,
          1.7716348098062678,
          -1.0493683586255418,
          -1.0665903685316402,
          -2.1025631429841405,
          -0.6807417862389978,
          2.1985027264371224,
          0.37810087766951334,
          -0.4295934909667167,
          -2.248244371078392,
          -2.5053560497137632,
          1.2684156502861,
          0.08331658102783852,
          0.526696105998118,
          -0.6292095935193119,
          -0.5997967808433086,
          -0.6155486266727146,
          1.7045365486016097,
          -0.601276888450068,
          1.697470537334648,
          2.2923861989070438,
          0.9326249326398058,
          0.8606227390308568,
          -2.9236403720092268,
          1.29483800200945,
          -0.06975011636905842,
          0.05784498824832419,
          0.033853479502720905,
          0.47923115681408285,
          -0.26440242528641617,
          -0.27192490638944206,
          -1.1415874270423094,
          0.6436896480429837,
          0.25105546655016564,
          -1.3079938557342605,
          2.566764924527969,
          -2.352051142170725,
          -1.73121853372614,
          0.3404280647245284,
          -0.17969459631954798,
          0.48568232569143815,
          0.6580903990951771,
          2.2051409347483992,
          -0.12447187882099256,
          -0.6355468578198471,
          -0.6142097326154164,
          -2.024364478787583,
          0.42494805926035933,
          1.0480357114558718,
          -0.08419009931661706,
          0.5074685421083154,
          0.4898698527698281,
          1.0118081401720047,
          -1.1301003497409974,
          -0.22247145696906556,
          0.4608177907472395,
          -1.0094761182944447,
          1.1478773360752896,
          -0.19942338900064682,
          -1.1590343864074402,
          -0.1633156306915748,
          0.1114996264531976,
          -0.48171246278907404,
          -0.09821576955187183,
          -0.9153602480036214,
          -0.3767664489496155,
          0.1704138161909583,
          -0.9230168538832264,
          -0.3552117161642221,
          -0.4912177194348223,
          0.9095078130176419,
          1.93481636583586,
          0.34869020123610384,
          0.9326565933399767,
          -0.08316365835824382,
          -0.7692480688080877,
          -1.4060621920236365,
          -0.006246553266562083,
          -1.0639936316386083,
          -1.0088943985948773,
          -1.0354001402401753,
          0.49586925050720415,
          0.21183219244548893,
          0.42208101257324177,
          -1.1807023153770395,
          0.5838435124984659,
          0.7716715564675956,
          -0.6868763790279935,
          -0.47315146040381595,
          0.641453091864015,
          0.18828492231164531,
          -0.5924417282086342,
          1.3256727398800516,
          -1.33197914578505,
          -0.0823222228388583,
          1.2781846487773636,
          2.667224411053259,
          2.0550003848740976,
          -1.0883916290653706
         ],
         "xaxis": "x8",
         "y": [
          0.7748574018350498,
          -0.8491056720735701,
          0.6914611085875526,
          1.1752875372815135,
          0.4162742573571235,
          -0.6952221903678409,
          0.7908201017015961,
          -0.39968184016567027,
          -0.4226151861377561,
          -0.16105722437957612,
          -0.9753539757949506,
          0.5977643273494854,
          -0.8888430599435827,
          0.4494305636804583,
          0.20609210531358196,
          -0.49022300526966706,
          -1.1886750583700814,
          0.2385127198502449,
          1.05249011826461,
          0.4034854022152594,
          -0.0479351953311653,
          0.5285875801575323,
          -0.8975425504391127,
          -0.9332949613409988,
          0.7145846867253706,
          -1.2754180312058925,
          -0.33935108820751164,
          -0.34572951265255847,
          0.8402196474654661,
          1.8579077941247726,
          -0.10545501116095234,
          -0.43029645225787383,
          -1.471009145551944,
          0.018313033612988895,
          0.05863378120340704,
          -0.7481251383861267,
          1.2739284752793545,
          -1.2688830632305381,
          0.04863904155004324,
          0.6590964872389021,
          1.6738927361115674,
          1.1447265427849844,
          0.26804703844199823,
          0.6146962222473003,
          0.8815348744267175,
          0.4152753764475723,
          -1.3748803282110544,
          -0.8555156955454922,
          1.0716946029249914,
          -0.18854674519334236,
          1.6767333881177955,
          0.3250252134387557,
          1.752760184188171,
          0.8348678395347147,
          -0.030014862454295552,
          1.3650079773832526,
          0.5128929565450878,
          0.1773698200047356,
          -0.4971404989716503,
          0.21478254702547728,
          -0.7480145706490767,
          0.5397806554794098,
          -0.5270300252772776,
          0.25976914331856615,
          -0.34787617938088616,
          -1.441248767668745,
          -1.5978719846155973,
          1.8760190283758935,
          2.058786169419131,
          0.04416637128786382,
          -0.11990218115432498,
          -0.32346234697218584,
          0.7587833672465661,
          0.1764232013077506,
          2.3271774971821166,
          -0.025870405639904837,
          -0.29898147778189804,
          0.45503789748310974,
          -0.3557650151783652,
          -0.3476159607705035,
          0.05314676086246436,
          -1.2068805594060426,
          -1.218095609914161,
          -0.605536020423741,
          -0.5639854925951856,
          0.5292292854352497,
          0.5224444059168056,
          -0.34012701139348117,
          0.3409887608709333,
          0.3034569426427565,
          0.02050058661276885,
          0.06559131836346563,
          0.16276827346155767,
          -1.7289045833130687,
          -1.2926726553484278,
          0.3706707209524533,
          -1.1632329413595424,
          -0.8424734722469165,
          -1.3825350305370303,
          0.557764978680726
         ],
         "yaxis": "y8"
        },
        {
         "line": {
          "color": "rgba(128, 128, 128, 1.0)",
          "dash": "solid",
          "shape": "linear",
          "width": 1.3
         },
         "marker": {
          "size": 2,
          "symbol": "circle"
         },
         "mode": "markers",
         "name": "C",
         "text": "",
         "type": "scatter",
         "x": [
          -1.1840365621651945,
          -1.8381134858425232,
          -0.7277279334148866,
          -0.028971296517589097,
          0.825450382839014,
          -0.5614608633274173,
          -0.6603089317004062,
          1.6725527210902709,
          -0.2968938241848866,
          -0.7455791661784459,
          -0.9725191265715754,
          -0.17464149117399802,
          0.04597974569488585,
          -0.902823009779421,
          0.6600421623207664,
          -0.1373628365003551,
          -0.19933540675238912,
          2.232844506603289,
          -0.5866449656845658,
          -0.44827422430998215,
          -0.8126261620742526,
          0.3152056930303498,
          -1.5326742515335599,
          -1.3136876285306804,
          0.7465963870088331,
          1.3642850738121695,
          0.6227848343777126,
          0.9740940144969882,
          -0.03274610543656052,
          -0.23648932796707953,
          -0.5207684786746272,
          0.8150690070383287,
          0.8675613689644536,
          0.4620135634840239,
          -0.7926717247669486,
          0.049196575117251874,
          -1.0081977206190973,
          -0.19006178333019064,
          0.16938736014080316,
          1.6216816922631585,
          0.48642387377101337,
          0.6425010555936774,
          -1.63468048016266,
          -1.0470236308252987,
          0.3242329374347403,
          0.0943239920247155,
          0.3577150372212665,
          0.9236731892573657,
          1.6110323640649022,
          -0.042561925631995866,
          -0.43485544242184443,
          -0.8494618434253626,
          -0.8286206654583846,
          0.5324068271400587,
          0.44911904243558154,
          -0.37408960381593065,
          2.286830918685426,
          0.8056634189729108,
          0.611806492535484,
          1.3483873907369872,
          0.8586206478746982,
          -1.864926079553018,
          0.5198523571964471,
          -0.5137922851909704,
          -0.14859213220638998,
          -0.8434697432455353,
          -0.43125185207336814,
          0.32798193925352487,
          -0.9610454413972249,
          0.46050655291944365,
          -0.722804354638819,
          -1.245109552366151,
          -0.10064611244150451,
          0.8032841842806812,
          -1.1676378568872408,
          -2.512415133958864,
          -2.036925165214611,
          0.4414699595223629,
          -2.1978416072993685,
          0.3433106234260381,
          -0.2886576812286424,
          0.3427460539289989,
          0.5997642732764263,
          2.110771985511631,
          -0.6557430487299993,
          -1.172584879204941,
          0.5906194577721403,
          0.4863798984476543,
          -0.5647382607184777,
          -1.636502180160153,
          1.1318533611412398,
          0.346456706099411,
          -0.5009745761701883,
          1.2237802234261634,
          0.7943402042622165,
          0.46825175886511367,
          0.30669243561811416,
          0.6219140841086478,
          -1.5046859448603147,
          -0.5373240621441666
         ],
         "xaxis": "x9",
         "y": [
          -0.13075131036378393,
          -1.9766351382901388,
          2.359391483239348,
          0.332484562167801,
          1.9319128619571195,
          0.029124217949669882,
          -1.2844804097392815,
          -0.11539417465904929,
          -1.3902268237907565,
          -0.09177603626710525,
          -0.8959786694349934,
          0.6698909601613622,
          -0.5994535595042667,
          -1.4904652814956088,
          0.2596883000180945,
          0.2572737195516556,
          1.0484326385043803,
          9.636717248655658e-05,
          0.5192536189064421,
          0.6750978849511353,
          -0.6975100357555095,
          0.670467924562605,
          -0.32525342029309684,
          -0.7094220074205353,
          -0.7846501670210279,
          -1.0497873074734148,
          0.9247265800134937,
          0.5845643963129014,
          -0.45701168432168066,
          0.9545084832232573,
          1.4628229979357623,
          0.5722746269224713,
          -0.15504026772791643,
          -0.9514694023767296,
          -0.2941305882283108,
          0.9862806641164041,
          0.13929622387572363,
          0.7775837270608291,
          -0.516609318358424,
          -0.39921259289083977,
          0.8080185091614575,
          -0.14534015305333706,
          1.3158888719970208,
          -0.23992344546267205,
          1.1685567724854657,
          -0.3838409258449429,
          -0.2894555882388486,
          0.5239914462186199,
          1.384322441112758,
          0.38421690190088065,
          -0.17673392841986954,
          -0.7932137243798739,
          2.5118540947351025,
          0.6580468624387785,
          0.5808602432029525,
          -0.9709368714502858,
          1.860500579975986,
          0.7826981017385283,
          -0.0971289080929145,
          -0.05018858733969054,
          -0.8834422072711728,
          0.5037128006816742,
          -0.8144218848061271,
          -1.3229859402766706,
          -0.1637166795202983,
          -0.47748121300006424,
          0.03167390038804507,
          0.6910256142660218,
          -0.09838815524689949,
          -1.2688672757238648,
          -0.15814379703148304,
          -0.06388280711787181,
          -0.7894621848690133,
          0.8613594196284226,
          -0.7676034719999096,
          0.02644945606272413,
          0.050890485901894926,
          1.0899999646133016,
          -0.9055937990155126,
          0.6476545188698527,
          0.7977593877036964,
          0.1928323093903488,
          -0.24670858490897626,
          2.351376125771722,
          -0.5979936231981169,
          1.5965238869623473,
          0.783464554736259,
          -0.19023386325965286,
          0.5948103546485063,
          0.08454108319684282,
          0.5443866679573024,
          -1.6946496660709542,
          1.0500811624643263,
          1.5100126114675998,
          -0.7328994274505252,
          0.7456327774664977,
          -0.5505202892794008,
          0.04057429676737818,
          0.15155736191078095,
          0.17471303242791603
         ],
         "yaxis": "y9"
        },
        {
         "line": {
          "color": "rgba(128, 128, 128, 1.0)",
          "dash": "solid",
          "shape": "linear",
          "width": 1.3
         },
         "marker": {
          "size": 2,
          "symbol": "circle"
         },
         "mode": "markers",
         "name": "C",
         "text": "",
         "type": "scatter",
         "x": [
          0.7748574018350498,
          -0.8491056720735701,
          0.6914611085875526,
          1.1752875372815135,
          0.4162742573571235,
          -0.6952221903678409,
          0.7908201017015961,
          -0.39968184016567027,
          -0.4226151861377561,
          -0.16105722437957612,
          -0.9753539757949506,
          0.5977643273494854,
          -0.8888430599435827,
          0.4494305636804583,
          0.20609210531358196,
          -0.49022300526966706,
          -1.1886750583700814,
          0.2385127198502449,
          1.05249011826461,
          0.4034854022152594,
          -0.0479351953311653,
          0.5285875801575323,
          -0.8975425504391127,
          -0.9332949613409988,
          0.7145846867253706,
          -1.2754180312058925,
          -0.33935108820751164,
          -0.34572951265255847,
          0.8402196474654661,
          1.8579077941247726,
          -0.10545501116095234,
          -0.43029645225787383,
          -1.471009145551944,
          0.018313033612988895,
          0.05863378120340704,
          -0.7481251383861267,
          1.2739284752793545,
          -1.2688830632305381,
          0.04863904155004324,
          0.6590964872389021,
          1.6738927361115674,
          1.1447265427849844,
          0.26804703844199823,
          0.6146962222473003,
          0.8815348744267175,
          0.4152753764475723,
          -1.3748803282110544,
          -0.8555156955454922,
          1.0716946029249914,
          -0.18854674519334236,
          1.6767333881177955,
          0.3250252134387557,
          1.752760184188171,
          0.8348678395347147,
          -0.030014862454295552,
          1.3650079773832526,
          0.5128929565450878,
          0.1773698200047356,
          -0.4971404989716503,
          0.21478254702547728,
          -0.7480145706490767,
          0.5397806554794098,
          -0.5270300252772776,
          0.25976914331856615,
          -0.34787617938088616,
          -1.441248767668745,
          -1.5978719846155973,
          1.8760190283758935,
          2.058786169419131,
          0.04416637128786382,
          -0.11990218115432498,
          -0.32346234697218584,
          0.7587833672465661,
          0.1764232013077506,
          2.3271774971821166,
          -0.025870405639904837,
          -0.29898147778189804,
          0.45503789748310974,
          -0.3557650151783652,
          -0.3476159607705035,
          0.05314676086246436,
          -1.2068805594060426,
          -1.218095609914161,
          -0.605536020423741,
          -0.5639854925951856,
          0.5292292854352497,
          0.5224444059168056,
          -0.34012701139348117,
          0.3409887608709333,
          0.3034569426427565,
          0.02050058661276885,
          0.06559131836346563,
          0.16276827346155767,
          -1.7289045833130687,
          -1.2926726553484278,
          0.3706707209524533,
          -1.1632329413595424,
          -0.8424734722469165,
          -1.3825350305370303,
          0.557764978680726
         ],
         "xaxis": "x10",
         "y": [
          -0.13075131036378393,
          -1.9766351382901388,
          2.359391483239348,
          0.332484562167801,
          1.9319128619571195,
          0.029124217949669882,
          -1.2844804097392815,
          -0.11539417465904929,
          -1.3902268237907565,
          -0.09177603626710525,
          -0.8959786694349934,
          0.6698909601613622,
          -0.5994535595042667,
          -1.4904652814956088,
          0.2596883000180945,
          0.2572737195516556,
          1.0484326385043803,
          9.636717248655658e-05,
          0.5192536189064421,
          0.6750978849511353,
          -0.6975100357555095,
          0.670467924562605,
          -0.32525342029309684,
          -0.7094220074205353,
          -0.7846501670210279,
          -1.0497873074734148,
          0.9247265800134937,
          0.5845643963129014,
          -0.45701168432168066,
          0.9545084832232573,
          1.4628229979357623,
          0.5722746269224713,
          -0.15504026772791643,
          -0.9514694023767296,
          -0.2941305882283108,
          0.9862806641164041,
          0.13929622387572363,
          0.7775837270608291,
          -0.516609318358424,
          -0.39921259289083977,
          0.8080185091614575,
          -0.14534015305333706,
          1.3158888719970208,
          -0.23992344546267205,
          1.1685567724854657,
          -0.3838409258449429,
          -0.2894555882388486,
          0.5239914462186199,
          1.384322441112758,
          0.38421690190088065,
          -0.17673392841986954,
          -0.7932137243798739,
          2.5118540947351025,
          0.6580468624387785,
          0.5808602432029525,
          -0.9709368714502858,
          1.860500579975986,
          0.7826981017385283,
          -0.0971289080929145,
          -0.05018858733969054,
          -0.8834422072711728,
          0.5037128006816742,
          -0.8144218848061271,
          -1.3229859402766706,
          -0.1637166795202983,
          -0.47748121300006424,
          0.03167390038804507,
          0.6910256142660218,
          -0.09838815524689949,
          -1.2688672757238648,
          -0.15814379703148304,
          -0.06388280711787181,
          -0.7894621848690133,
          0.8613594196284226,
          -0.7676034719999096,
          0.02644945606272413,
          0.050890485901894926,
          1.0899999646133016,
          -0.9055937990155126,
          0.6476545188698527,
          0.7977593877036964,
          0.1928323093903488,
          -0.24670858490897626,
          2.351376125771722,
          -0.5979936231981169,
          1.5965238869623473,
          0.783464554736259,
          -0.19023386325965286,
          0.5948103546485063,
          0.08454108319684282,
          0.5443866679573024,
          -1.6946496660709542,
          1.0500811624643263,
          1.5100126114675998,
          -0.7328994274505252,
          0.7456327774664977,
          -0.5505202892794008,
          0.04057429676737818,
          0.15155736191078095,
          0.17471303242791603
         ],
         "yaxis": "y10"
        },
        {
         "histfunc": "count",
         "histnorm": "",
         "marker": {
          "color": "rgba(50, 171, 96, 1.0)",
          "line": {
           "color": "#4D5663",
           "width": 1.3
          }
         },
         "name": "C",
         "nbinsx": 10,
         "opacity": 0.8,
         "orientation": "v",
         "type": "histogram",
         "x": [
          -0.13075131036378393,
          -1.9766351382901388,
          2.359391483239348,
          0.332484562167801,
          1.9319128619571195,
          0.029124217949669882,
          -1.2844804097392815,
          -0.11539417465904929,
          -1.3902268237907565,
          -0.09177603626710525,
          -0.8959786694349934,
          0.6698909601613622,
          -0.5994535595042667,
          -1.4904652814956088,
          0.2596883000180945,
          0.2572737195516556,
          1.0484326385043803,
          9.636717248655658e-05,
          0.5192536189064421,
          0.6750978849511353,
          -0.6975100357555095,
          0.670467924562605,
          -0.32525342029309684,
          -0.7094220074205353,
          -0.7846501670210279,
          -1.0497873074734148,
          0.9247265800134937,
          0.5845643963129014,
          -0.45701168432168066,
          0.9545084832232573,
          1.4628229979357623,
          0.5722746269224713,
          -0.15504026772791643,
          -0.9514694023767296,
          -0.2941305882283108,
          0.9862806641164041,
          0.13929622387572363,
          0.7775837270608291,
          -0.516609318358424,
          -0.39921259289083977,
          0.8080185091614575,
          -0.14534015305333706,
          1.3158888719970208,
          -0.23992344546267205,
          1.1685567724854657,
          -0.3838409258449429,
          -0.2894555882388486,
          0.5239914462186199,
          1.384322441112758,
          0.38421690190088065,
          -0.17673392841986954,
          -0.7932137243798739,
          2.5118540947351025,
          0.6580468624387785,
          0.5808602432029525,
          -0.9709368714502858,
          1.860500579975986,
          0.7826981017385283,
          -0.0971289080929145,
          -0.05018858733969054,
          -0.8834422072711728,
          0.5037128006816742,
          -0.8144218848061271,
          -1.3229859402766706,
          -0.1637166795202983,
          -0.47748121300006424,
          0.03167390038804507,
          0.6910256142660218,
          -0.09838815524689949,
          -1.2688672757238648,
          -0.15814379703148304,
          -0.06388280711787181,
          -0.7894621848690133,
          0.8613594196284226,
          -0.7676034719999096,
          0.02644945606272413,
          0.050890485901894926,
          1.0899999646133016,
          -0.9055937990155126,
          0.6476545188698527,
          0.7977593877036964,
          0.1928323093903488,
          -0.24670858490897626,
          2.351376125771722,
          -0.5979936231981169,
          1.5965238869623473,
          0.783464554736259,
          -0.19023386325965286,
          0.5948103546485063,
          0.08454108319684282,
          0.5443866679573024,
          -1.6946496660709542,
          1.0500811624643263,
          1.5100126114675998,
          -0.7328994274505252,
          0.7456327774664977,
          -0.5505202892794008,
          0.04057429676737818,
          0.15155736191078095,
          0.17471303242791603
         ],
         "xaxis": "x11",
         "yaxis": "y11"
        },
        {
         "line": {
          "color": "rgba(128, 128, 128, 1.0)",
          "dash": "solid",
          "shape": "linear",
          "width": 1.3
         },
         "marker": {
          "size": 2,
          "symbol": "circle"
         },
         "mode": "markers",
         "name": "C",
         "text": "",
         "type": "scatter",
         "x": [
          -0.3109228800255749,
          -0.04435791625087433,
          1.7716348098062678,
          -1.0493683586255418,
          -1.0665903685316402,
          -2.1025631429841405,
          -0.6807417862389978,
          2.1985027264371224,
          0.37810087766951334,
          -0.4295934909667167,
          -2.248244371078392,
          -2.5053560497137632,
          1.2684156502861,
          0.08331658102783852,
          0.526696105998118,
          -0.6292095935193119,
          -0.5997967808433086,
          -0.6155486266727146,
          1.7045365486016097,
          -0.601276888450068,
          1.697470537334648,
          2.2923861989070438,
          0.9326249326398058,
          0.8606227390308568,
          -2.9236403720092268,
          1.29483800200945,
          -0.06975011636905842,
          0.05784498824832419,
          0.033853479502720905,
          0.47923115681408285,
          -0.26440242528641617,
          -0.27192490638944206,
          -1.1415874270423094,
          0.6436896480429837,
          0.25105546655016564,
          -1.3079938557342605,
          2.566764924527969,
          -2.352051142170725,
          -1.73121853372614,
          0.3404280647245284,
          -0.17969459631954798,
          0.48568232569143815,
          0.6580903990951771,
          2.2051409347483992,
          -0.12447187882099256,
          -0.6355468578198471,
          -0.6142097326154164,
          -2.024364478787583,
          0.42494805926035933,
          1.0480357114558718,
          -0.08419009931661706,
          0.5074685421083154,
          0.4898698527698281,
          1.0118081401720047,
          -1.1301003497409974,
          -0.22247145696906556,
          0.4608177907472395,
          -1.0094761182944447,
          1.1478773360752896,
          -0.19942338900064682,
          -1.1590343864074402,
          -0.1633156306915748,
          0.1114996264531976,
          -0.48171246278907404,
          -0.09821576955187183,
          -0.9153602480036214,
          -0.3767664489496155,
          0.1704138161909583,
          -0.9230168538832264,
          -0.3552117161642221,
          -0.4912177194348223,
          0.9095078130176419,
          1.93481636583586,
          0.34869020123610384,
          0.9326565933399767,
          -0.08316365835824382,
          -0.7692480688080877,
          -1.4060621920236365,
          -0.006246553266562083,
          -1.0639936316386083,
          -1.0088943985948773,
          -1.0354001402401753,
          0.49586925050720415,
          0.21183219244548893,
          0.42208101257324177,
          -1.1807023153770395,
          0.5838435124984659,
          0.7716715564675956,
          -0.6868763790279935,
          -0.47315146040381595,
          0.641453091864015,
          0.18828492231164531,
          -0.5924417282086342,
          1.3256727398800516,
          -1.33197914578505,
          -0.0823222228388583,
          1.2781846487773636,
          2.667224411053259,
          2.0550003848740976,
          -1.0883916290653706
         ],
         "xaxis": "x12",
         "y": [
          -0.13075131036378393,
          -1.9766351382901388,
          2.359391483239348,
          0.332484562167801,
          1.9319128619571195,
          0.029124217949669882,
          -1.2844804097392815,
          -0.11539417465904929,
          -1.3902268237907565,
          -0.09177603626710525,
          -0.8959786694349934,
          0.6698909601613622,
          -0.5994535595042667,
          -1.4904652814956088,
          0.2596883000180945,
          0.2572737195516556,
          1.0484326385043803,
          9.636717248655658e-05,
          0.5192536189064421,
          0.6750978849511353,
          -0.6975100357555095,
          0.670467924562605,
          -0.32525342029309684,
          -0.7094220074205353,
          -0.7846501670210279,
          -1.0497873074734148,
          0.9247265800134937,
          0.5845643963129014,
          -0.45701168432168066,
          0.9545084832232573,
          1.4628229979357623,
          0.5722746269224713,
          -0.15504026772791643,
          -0.9514694023767296,
          -0.2941305882283108,
          0.9862806641164041,
          0.13929622387572363,
          0.7775837270608291,
          -0.516609318358424,
          -0.39921259289083977,
          0.8080185091614575,
          -0.14534015305333706,
          1.3158888719970208,
          -0.23992344546267205,
          1.1685567724854657,
          -0.3838409258449429,
          -0.2894555882388486,
          0.5239914462186199,
          1.384322441112758,
          0.38421690190088065,
          -0.17673392841986954,
          -0.7932137243798739,
          2.5118540947351025,
          0.6580468624387785,
          0.5808602432029525,
          -0.9709368714502858,
          1.860500579975986,
          0.7826981017385283,
          -0.0971289080929145,
          -0.05018858733969054,
          -0.8834422072711728,
          0.5037128006816742,
          -0.8144218848061271,
          -1.3229859402766706,
          -0.1637166795202983,
          -0.47748121300006424,
          0.03167390038804507,
          0.6910256142660218,
          -0.09838815524689949,
          -1.2688672757238648,
          -0.15814379703148304,
          -0.06388280711787181,
          -0.7894621848690133,
          0.8613594196284226,
          -0.7676034719999096,
          0.02644945606272413,
          0.050890485901894926,
          1.0899999646133016,
          -0.9055937990155126,
          0.6476545188698527,
          0.7977593877036964,
          0.1928323093903488,
          -0.24670858490897626,
          2.351376125771722,
          -0.5979936231981169,
          1.5965238869623473,
          0.783464554736259,
          -0.19023386325965286,
          0.5948103546485063,
          0.08454108319684282,
          0.5443866679573024,
          -1.6946496660709542,
          1.0500811624643263,
          1.5100126114675998,
          -0.7328994274505252,
          0.7456327774664977,
          -0.5505202892794008,
          0.04057429676737818,
          0.15155736191078095,
          0.17471303242791603
         ],
         "yaxis": "y12"
        },
        {
         "line": {
          "color": "rgba(128, 128, 128, 1.0)",
          "dash": "solid",
          "shape": "linear",
          "width": 1.3
         },
         "marker": {
          "size": 2,
          "symbol": "circle"
         },
         "mode": "markers",
         "name": "D",
         "text": "",
         "type": "scatter",
         "x": [
          -1.1840365621651945,
          -1.8381134858425232,
          -0.7277279334148866,
          -0.028971296517589097,
          0.825450382839014,
          -0.5614608633274173,
          -0.6603089317004062,
          1.6725527210902709,
          -0.2968938241848866,
          -0.7455791661784459,
          -0.9725191265715754,
          -0.17464149117399802,
          0.04597974569488585,
          -0.902823009779421,
          0.6600421623207664,
          -0.1373628365003551,
          -0.19933540675238912,
          2.232844506603289,
          -0.5866449656845658,
          -0.44827422430998215,
          -0.8126261620742526,
          0.3152056930303498,
          -1.5326742515335599,
          -1.3136876285306804,
          0.7465963870088331,
          1.3642850738121695,
          0.6227848343777126,
          0.9740940144969882,
          -0.03274610543656052,
          -0.23648932796707953,
          -0.5207684786746272,
          0.8150690070383287,
          0.8675613689644536,
          0.4620135634840239,
          -0.7926717247669486,
          0.049196575117251874,
          -1.0081977206190973,
          -0.19006178333019064,
          0.16938736014080316,
          1.6216816922631585,
          0.48642387377101337,
          0.6425010555936774,
          -1.63468048016266,
          -1.0470236308252987,
          0.3242329374347403,
          0.0943239920247155,
          0.3577150372212665,
          0.9236731892573657,
          1.6110323640649022,
          -0.042561925631995866,
          -0.43485544242184443,
          -0.8494618434253626,
          -0.8286206654583846,
          0.5324068271400587,
          0.44911904243558154,
          -0.37408960381593065,
          2.286830918685426,
          0.8056634189729108,
          0.611806492535484,
          1.3483873907369872,
          0.8586206478746982,
          -1.864926079553018,
          0.5198523571964471,
          -0.5137922851909704,
          -0.14859213220638998,
          -0.8434697432455353,
          -0.43125185207336814,
          0.32798193925352487,
          -0.9610454413972249,
          0.46050655291944365,
          -0.722804354638819,
          -1.245109552366151,
          -0.10064611244150451,
          0.8032841842806812,
          -1.1676378568872408,
          -2.512415133958864,
          -2.036925165214611,
          0.4414699595223629,
          -2.1978416072993685,
          0.3433106234260381,
          -0.2886576812286424,
          0.3427460539289989,
          0.5997642732764263,
          2.110771985511631,
          -0.6557430487299993,
          -1.172584879204941,
          0.5906194577721403,
          0.4863798984476543,
          -0.5647382607184777,
          -1.636502180160153,
          1.1318533611412398,
          0.346456706099411,
          -0.5009745761701883,
          1.2237802234261634,
          0.7943402042622165,
          0.46825175886511367,
          0.30669243561811416,
          0.6219140841086478,
          -1.5046859448603147,
          -0.5373240621441666
         ],
         "xaxis": "x13",
         "y": [
          -0.3109228800255749,
          -0.04435791625087433,
          1.7716348098062678,
          -1.0493683586255418,
          -1.0665903685316402,
          -2.1025631429841405,
          -0.6807417862389978,
          2.1985027264371224,
          0.37810087766951334,
          -0.4295934909667167,
          -2.248244371078392,
          -2.5053560497137632,
          1.2684156502861,
          0.08331658102783852,
          0.526696105998118,
          -0.6292095935193119,
          -0.5997967808433086,
          -0.6155486266727146,
          1.7045365486016097,
          -0.601276888450068,
          1.697470537334648,
          2.2923861989070438,
          0.9326249326398058,
          0.8606227390308568,
          -2.9236403720092268,
          1.29483800200945,
          -0.06975011636905842,
          0.05784498824832419,
          0.033853479502720905,
          0.47923115681408285,
          -0.26440242528641617,
          -0.27192490638944206,
          -1.1415874270423094,
          0.6436896480429837,
          0.25105546655016564,
          -1.3079938557342605,
          2.566764924527969,
          -2.352051142170725,
          -1.73121853372614,
          0.3404280647245284,
          -0.17969459631954798,
          0.48568232569143815,
          0.6580903990951771,
          2.2051409347483992,
          -0.12447187882099256,
          -0.6355468578198471,
          -0.6142097326154164,
          -2.024364478787583,
          0.42494805926035933,
          1.0480357114558718,
          -0.08419009931661706,
          0.5074685421083154,
          0.4898698527698281,
          1.0118081401720047,
          -1.1301003497409974,
          -0.22247145696906556,
          0.4608177907472395,
          -1.0094761182944447,
          1.1478773360752896,
          -0.19942338900064682,
          -1.1590343864074402,
          -0.1633156306915748,
          0.1114996264531976,
          -0.48171246278907404,
          -0.09821576955187183,
          -0.9153602480036214,
          -0.3767664489496155,
          0.1704138161909583,
          -0.9230168538832264,
          -0.3552117161642221,
          -0.4912177194348223,
          0.9095078130176419,
          1.93481636583586,
          0.34869020123610384,
          0.9326565933399767,
          -0.08316365835824382,
          -0.7692480688080877,
          -1.4060621920236365,
          -0.006246553266562083,
          -1.0639936316386083,
          -1.0088943985948773,
          -1.0354001402401753,
          0.49586925050720415,
          0.21183219244548893,
          0.42208101257324177,
          -1.1807023153770395,
          0.5838435124984659,
          0.7716715564675956,
          -0.6868763790279935,
          -0.47315146040381595,
          0.641453091864015,
          0.18828492231164531,
          -0.5924417282086342,
          1.3256727398800516,
          -1.33197914578505,
          -0.0823222228388583,
          1.2781846487773636,
          2.667224411053259,
          2.0550003848740976,
          -1.0883916290653706
         ],
         "yaxis": "y13"
        },
        {
         "line": {
          "color": "rgba(128, 128, 128, 1.0)",
          "dash": "solid",
          "shape": "linear",
          "width": 1.3
         },
         "marker": {
          "size": 2,
          "symbol": "circle"
         },
         "mode": "markers",
         "name": "D",
         "text": "",
         "type": "scatter",
         "x": [
          0.7748574018350498,
          -0.8491056720735701,
          0.6914611085875526,
          1.1752875372815135,
          0.4162742573571235,
          -0.6952221903678409,
          0.7908201017015961,
          -0.39968184016567027,
          -0.4226151861377561,
          -0.16105722437957612,
          -0.9753539757949506,
          0.5977643273494854,
          -0.8888430599435827,
          0.4494305636804583,
          0.20609210531358196,
          -0.49022300526966706,
          -1.1886750583700814,
          0.2385127198502449,
          1.05249011826461,
          0.4034854022152594,
          -0.0479351953311653,
          0.5285875801575323,
          -0.8975425504391127,
          -0.9332949613409988,
          0.7145846867253706,
          -1.2754180312058925,
          -0.33935108820751164,
          -0.34572951265255847,
          0.8402196474654661,
          1.8579077941247726,
          -0.10545501116095234,
          -0.43029645225787383,
          -1.471009145551944,
          0.018313033612988895,
          0.05863378120340704,
          -0.7481251383861267,
          1.2739284752793545,
          -1.2688830632305381,
          0.04863904155004324,
          0.6590964872389021,
          1.6738927361115674,
          1.1447265427849844,
          0.26804703844199823,
          0.6146962222473003,
          0.8815348744267175,
          0.4152753764475723,
          -1.3748803282110544,
          -0.8555156955454922,
          1.0716946029249914,
          -0.18854674519334236,
          1.6767333881177955,
          0.3250252134387557,
          1.752760184188171,
          0.8348678395347147,
          -0.030014862454295552,
          1.3650079773832526,
          0.5128929565450878,
          0.1773698200047356,
          -0.4971404989716503,
          0.21478254702547728,
          -0.7480145706490767,
          0.5397806554794098,
          -0.5270300252772776,
          0.25976914331856615,
          -0.34787617938088616,
          -1.441248767668745,
          -1.5978719846155973,
          1.8760190283758935,
          2.058786169419131,
          0.04416637128786382,
          -0.11990218115432498,
          -0.32346234697218584,
          0.7587833672465661,
          0.1764232013077506,
          2.3271774971821166,
          -0.025870405639904837,
          -0.29898147778189804,
          0.45503789748310974,
          -0.3557650151783652,
          -0.3476159607705035,
          0.05314676086246436,
          -1.2068805594060426,
          -1.218095609914161,
          -0.605536020423741,
          -0.5639854925951856,
          0.5292292854352497,
          0.5224444059168056,
          -0.34012701139348117,
          0.3409887608709333,
          0.3034569426427565,
          0.02050058661276885,
          0.06559131836346563,
          0.16276827346155767,
          -1.7289045833130687,
          -1.2926726553484278,
          0.3706707209524533,
          -1.1632329413595424,
          -0.8424734722469165,
          -1.3825350305370303,
          0.557764978680726
         ],
         "xaxis": "x14",
         "y": [
          -0.3109228800255749,
          -0.04435791625087433,
          1.7716348098062678,
          -1.0493683586255418,
          -1.0665903685316402,
          -2.1025631429841405,
          -0.6807417862389978,
          2.1985027264371224,
          0.37810087766951334,
          -0.4295934909667167,
          -2.248244371078392,
          -2.5053560497137632,
          1.2684156502861,
          0.08331658102783852,
          0.526696105998118,
          -0.6292095935193119,
          -0.5997967808433086,
          -0.6155486266727146,
          1.7045365486016097,
          -0.601276888450068,
          1.697470537334648,
          2.2923861989070438,
          0.9326249326398058,
          0.8606227390308568,
          -2.9236403720092268,
          1.29483800200945,
          -0.06975011636905842,
          0.05784498824832419,
          0.033853479502720905,
          0.47923115681408285,
          -0.26440242528641617,
          -0.27192490638944206,
          -1.1415874270423094,
          0.6436896480429837,
          0.25105546655016564,
          -1.3079938557342605,
          2.566764924527969,
          -2.352051142170725,
          -1.73121853372614,
          0.3404280647245284,
          -0.17969459631954798,
          0.48568232569143815,
          0.6580903990951771,
          2.2051409347483992,
          -0.12447187882099256,
          -0.6355468578198471,
          -0.6142097326154164,
          -2.024364478787583,
          0.42494805926035933,
          1.0480357114558718,
          -0.08419009931661706,
          0.5074685421083154,
          0.4898698527698281,
          1.0118081401720047,
          -1.1301003497409974,
          -0.22247145696906556,
          0.4608177907472395,
          -1.0094761182944447,
          1.1478773360752896,
          -0.19942338900064682,
          -1.1590343864074402,
          -0.1633156306915748,
          0.1114996264531976,
          -0.48171246278907404,
          -0.09821576955187183,
          -0.9153602480036214,
          -0.3767664489496155,
          0.1704138161909583,
          -0.9230168538832264,
          -0.3552117161642221,
          -0.4912177194348223,
          0.9095078130176419,
          1.93481636583586,
          0.34869020123610384,
          0.9326565933399767,
          -0.08316365835824382,
          -0.7692480688080877,
          -1.4060621920236365,
          -0.006246553266562083,
          -1.0639936316386083,
          -1.0088943985948773,
          -1.0354001402401753,
          0.49586925050720415,
          0.21183219244548893,
          0.42208101257324177,
          -1.1807023153770395,
          0.5838435124984659,
          0.7716715564675956,
          -0.6868763790279935,
          -0.47315146040381595,
          0.641453091864015,
          0.18828492231164531,
          -0.5924417282086342,
          1.3256727398800516,
          -1.33197914578505,
          -0.0823222228388583,
          1.2781846487773636,
          2.667224411053259,
          2.0550003848740976,
          -1.0883916290653706
         ],
         "yaxis": "y14"
        },
        {
         "line": {
          "color": "rgba(128, 128, 128, 1.0)",
          "dash": "solid",
          "shape": "linear",
          "width": 1.3
         },
         "marker": {
          "size": 2,
          "symbol": "circle"
         },
         "mode": "markers",
         "name": "D",
         "text": "",
         "type": "scatter",
         "x": [
          -0.13075131036378393,
          -1.9766351382901388,
          2.359391483239348,
          0.332484562167801,
          1.9319128619571195,
          0.029124217949669882,
          -1.2844804097392815,
          -0.11539417465904929,
          -1.3902268237907565,
          -0.09177603626710525,
          -0.8959786694349934,
          0.6698909601613622,
          -0.5994535595042667,
          -1.4904652814956088,
          0.2596883000180945,
          0.2572737195516556,
          1.0484326385043803,
          9.636717248655658e-05,
          0.5192536189064421,
          0.6750978849511353,
          -0.6975100357555095,
          0.670467924562605,
          -0.32525342029309684,
          -0.7094220074205353,
          -0.7846501670210279,
          -1.0497873074734148,
          0.9247265800134937,
          0.5845643963129014,
          -0.45701168432168066,
          0.9545084832232573,
          1.4628229979357623,
          0.5722746269224713,
          -0.15504026772791643,
          -0.9514694023767296,
          -0.2941305882283108,
          0.9862806641164041,
          0.13929622387572363,
          0.7775837270608291,
          -0.516609318358424,
          -0.39921259289083977,
          0.8080185091614575,
          -0.14534015305333706,
          1.3158888719970208,
          -0.23992344546267205,
          1.1685567724854657,
          -0.3838409258449429,
          -0.2894555882388486,
          0.5239914462186199,
          1.384322441112758,
          0.38421690190088065,
          -0.17673392841986954,
          -0.7932137243798739,
          2.5118540947351025,
          0.6580468624387785,
          0.5808602432029525,
          -0.9709368714502858,
          1.860500579975986,
          0.7826981017385283,
          -0.0971289080929145,
          -0.05018858733969054,
          -0.8834422072711728,
          0.5037128006816742,
          -0.8144218848061271,
          -1.3229859402766706,
          -0.1637166795202983,
          -0.47748121300006424,
          0.03167390038804507,
          0.6910256142660218,
          -0.09838815524689949,
          -1.2688672757238648,
          -0.15814379703148304,
          -0.06388280711787181,
          -0.7894621848690133,
          0.8613594196284226,
          -0.7676034719999096,
          0.02644945606272413,
          0.050890485901894926,
          1.0899999646133016,
          -0.9055937990155126,
          0.6476545188698527,
          0.7977593877036964,
          0.1928323093903488,
          -0.24670858490897626,
          2.351376125771722,
          -0.5979936231981169,
          1.5965238869623473,
          0.783464554736259,
          -0.19023386325965286,
          0.5948103546485063,
          0.08454108319684282,
          0.5443866679573024,
          -1.6946496660709542,
          1.0500811624643263,
          1.5100126114675998,
          -0.7328994274505252,
          0.7456327774664977,
          -0.5505202892794008,
          0.04057429676737818,
          0.15155736191078095,
          0.17471303242791603
         ],
         "xaxis": "x15",
         "y": [
          -0.3109228800255749,
          -0.04435791625087433,
          1.7716348098062678,
          -1.0493683586255418,
          -1.0665903685316402,
          -2.1025631429841405,
          -0.6807417862389978,
          2.1985027264371224,
          0.37810087766951334,
          -0.4295934909667167,
          -2.248244371078392,
          -2.5053560497137632,
          1.2684156502861,
          0.08331658102783852,
          0.526696105998118,
          -0.6292095935193119,
          -0.5997967808433086,
          -0.6155486266727146,
          1.7045365486016097,
          -0.601276888450068,
          1.697470537334648,
          2.2923861989070438,
          0.9326249326398058,
          0.8606227390308568,
          -2.9236403720092268,
          1.29483800200945,
          -0.06975011636905842,
          0.05784498824832419,
          0.033853479502720905,
          0.47923115681408285,
          -0.26440242528641617,
          -0.27192490638944206,
          -1.1415874270423094,
          0.6436896480429837,
          0.25105546655016564,
          -1.3079938557342605,
          2.566764924527969,
          -2.352051142170725,
          -1.73121853372614,
          0.3404280647245284,
          -0.17969459631954798,
          0.48568232569143815,
          0.6580903990951771,
          2.2051409347483992,
          -0.12447187882099256,
          -0.6355468578198471,
          -0.6142097326154164,
          -2.024364478787583,
          0.42494805926035933,
          1.0480357114558718,
          -0.08419009931661706,
          0.5074685421083154,
          0.4898698527698281,
          1.0118081401720047,
          -1.1301003497409974,
          -0.22247145696906556,
          0.4608177907472395,
          -1.0094761182944447,
          1.1478773360752896,
          -0.19942338900064682,
          -1.1590343864074402,
          -0.1633156306915748,
          0.1114996264531976,
          -0.48171246278907404,
          -0.09821576955187183,
          -0.9153602480036214,
          -0.3767664489496155,
          0.1704138161909583,
          -0.9230168538832264,
          -0.3552117161642221,
          -0.4912177194348223,
          0.9095078130176419,
          1.93481636583586,
          0.34869020123610384,
          0.9326565933399767,
          -0.08316365835824382,
          -0.7692480688080877,
          -1.4060621920236365,
          -0.006246553266562083,
          -1.0639936316386083,
          -1.0088943985948773,
          -1.0354001402401753,
          0.49586925050720415,
          0.21183219244548893,
          0.42208101257324177,
          -1.1807023153770395,
          0.5838435124984659,
          0.7716715564675956,
          -0.6868763790279935,
          -0.47315146040381595,
          0.641453091864015,
          0.18828492231164531,
          -0.5924417282086342,
          1.3256727398800516,
          -1.33197914578505,
          -0.0823222228388583,
          1.2781846487773636,
          2.667224411053259,
          2.0550003848740976,
          -1.0883916290653706
         ],
         "yaxis": "y15"
        },
        {
         "histfunc": "count",
         "histnorm": "",
         "marker": {
          "color": "rgba(128, 0, 128, 1.0)",
          "line": {
           "color": "#4D5663",
           "width": 1.3
          }
         },
         "name": "D",
         "nbinsx": 10,
         "opacity": 0.8,
         "orientation": "v",
         "type": "histogram",
         "x": [
          -0.3109228800255749,
          -0.04435791625087433,
          1.7716348098062678,
          -1.0493683586255418,
          -1.0665903685316402,
          -2.1025631429841405,
          -0.6807417862389978,
          2.1985027264371224,
          0.37810087766951334,
          -0.4295934909667167,
          -2.248244371078392,
          -2.5053560497137632,
          1.2684156502861,
          0.08331658102783852,
          0.526696105998118,
          -0.6292095935193119,
          -0.5997967808433086,
          -0.6155486266727146,
          1.7045365486016097,
          -0.601276888450068,
          1.697470537334648,
          2.2923861989070438,
          0.9326249326398058,
          0.8606227390308568,
          -2.9236403720092268,
          1.29483800200945,
          -0.06975011636905842,
          0.05784498824832419,
          0.033853479502720905,
          0.47923115681408285,
          -0.26440242528641617,
          -0.27192490638944206,
          -1.1415874270423094,
          0.6436896480429837,
          0.25105546655016564,
          -1.3079938557342605,
          2.566764924527969,
          -2.352051142170725,
          -1.73121853372614,
          0.3404280647245284,
          -0.17969459631954798,
          0.48568232569143815,
          0.6580903990951771,
          2.2051409347483992,
          -0.12447187882099256,
          -0.6355468578198471,
          -0.6142097326154164,
          -2.024364478787583,
          0.42494805926035933,
          1.0480357114558718,
          -0.08419009931661706,
          0.5074685421083154,
          0.4898698527698281,
          1.0118081401720047,
          -1.1301003497409974,
          -0.22247145696906556,
          0.4608177907472395,
          -1.0094761182944447,
          1.1478773360752896,
          -0.19942338900064682,
          -1.1590343864074402,
          -0.1633156306915748,
          0.1114996264531976,
          -0.48171246278907404,
          -0.09821576955187183,
          -0.9153602480036214,
          -0.3767664489496155,
          0.1704138161909583,
          -0.9230168538832264,
          -0.3552117161642221,
          -0.4912177194348223,
          0.9095078130176419,
          1.93481636583586,
          0.34869020123610384,
          0.9326565933399767,
          -0.08316365835824382,
          -0.7692480688080877,
          -1.4060621920236365,
          -0.006246553266562083,
          -1.0639936316386083,
          -1.0088943985948773,
          -1.0354001402401753,
          0.49586925050720415,
          0.21183219244548893,
          0.42208101257324177,
          -1.1807023153770395,
          0.5838435124984659,
          0.7716715564675956,
          -0.6868763790279935,
          -0.47315146040381595,
          0.641453091864015,
          0.18828492231164531,
          -0.5924417282086342,
          1.3256727398800516,
          -1.33197914578505,
          -0.0823222228388583,
          1.2781846487773636,
          2.667224411053259,
          2.0550003848740976,
          -1.0883916290653706
         ],
         "xaxis": "x16",
         "yaxis": "y16"
        }
       ],
       "layout": {
        "bargap": 0.02,
        "legend": {
         "bgcolor": "#F5F6F9",
         "font": {
          "color": "#4D5663"
         }
        },
        "paper_bgcolor": "#F5F6F9",
        "plot_bgcolor": "#F5F6F9",
        "showlegend": false,
        "template": {
         "data": {
          "bar": [
           {
            "error_x": {
             "color": "#2a3f5f"
            },
            "error_y": {
             "color": "#2a3f5f"
            },
            "marker": {
             "line": {
              "color": "#E5ECF6",
              "width": 0.5
             }
            },
            "type": "bar"
           }
          ],
          "barpolar": [
           {
            "marker": {
             "line": {
              "color": "#E5ECF6",
              "width": 0.5
             }
            },
            "type": "barpolar"
           }
          ],
          "carpet": [
           {
            "aaxis": {
             "endlinecolor": "#2a3f5f",
             "gridcolor": "white",
             "linecolor": "white",
             "minorgridcolor": "white",
             "startlinecolor": "#2a3f5f"
            },
            "baxis": {
             "endlinecolor": "#2a3f5f",
             "gridcolor": "white",
             "linecolor": "white",
             "minorgridcolor": "white",
             "startlinecolor": "#2a3f5f"
            },
            "type": "carpet"
           }
          ],
          "choropleth": [
           {
            "colorbar": {
             "outlinewidth": 0,
             "ticks": ""
            },
            "type": "choropleth"
           }
          ],
          "contour": [
           {
            "colorbar": {
             "outlinewidth": 0,
             "ticks": ""
            },
            "colorscale": [
             [
              0,
              "#0d0887"
             ],
             [
              0.1111111111111111,
              "#46039f"
             ],
             [
              0.2222222222222222,
              "#7201a8"
             ],
             [
              0.3333333333333333,
              "#9c179e"
             ],
             [
              0.4444444444444444,
              "#bd3786"
             ],
             [
              0.5555555555555556,
              "#d8576b"
             ],
             [
              0.6666666666666666,
              "#ed7953"
             ],
             [
              0.7777777777777778,
              "#fb9f3a"
             ],
             [
              0.8888888888888888,
              "#fdca26"
             ],
             [
              1,
              "#f0f921"
             ]
            ],
            "type": "contour"
           }
          ],
          "contourcarpet": [
           {
            "colorbar": {
             "outlinewidth": 0,
             "ticks": ""
            },
            "type": "contourcarpet"
           }
          ],
          "heatmap": [
           {
            "colorbar": {
             "outlinewidth": 0,
             "ticks": ""
            },
            "colorscale": [
             [
              0,
              "#0d0887"
             ],
             [
              0.1111111111111111,
              "#46039f"
             ],
             [
              0.2222222222222222,
              "#7201a8"
             ],
             [
              0.3333333333333333,
              "#9c179e"
             ],
             [
              0.4444444444444444,
              "#bd3786"
             ],
             [
              0.5555555555555556,
              "#d8576b"
             ],
             [
              0.6666666666666666,
              "#ed7953"
             ],
             [
              0.7777777777777778,
              "#fb9f3a"
             ],
             [
              0.8888888888888888,
              "#fdca26"
             ],
             [
              1,
              "#f0f921"
             ]
            ],
            "type": "heatmap"
           }
          ],
          "heatmapgl": [
           {
            "colorbar": {
             "outlinewidth": 0,
             "ticks": ""
            },
            "colorscale": [
             [
              0,
              "#0d0887"
             ],
             [
              0.1111111111111111,
              "#46039f"
             ],
             [
              0.2222222222222222,
              "#7201a8"
             ],
             [
              0.3333333333333333,
              "#9c179e"
             ],
             [
              0.4444444444444444,
              "#bd3786"
             ],
             [
              0.5555555555555556,
              "#d8576b"
             ],
             [
              0.6666666666666666,
              "#ed7953"
             ],
             [
              0.7777777777777778,
              "#fb9f3a"
             ],
             [
              0.8888888888888888,
              "#fdca26"
             ],
             [
              1,
              "#f0f921"
             ]
            ],
            "type": "heatmapgl"
           }
          ],
          "histogram": [
           {
            "marker": {
             "colorbar": {
              "outlinewidth": 0,
              "ticks": ""
             }
            },
            "type": "histogram"
           }
          ],
          "histogram2d": [
           {
            "colorbar": {
             "outlinewidth": 0,
             "ticks": ""
            },
            "colorscale": [
             [
              0,
              "#0d0887"
             ],
             [
              0.1111111111111111,
              "#46039f"
             ],
             [
              0.2222222222222222,
              "#7201a8"
             ],
             [
              0.3333333333333333,
              "#9c179e"
             ],
             [
              0.4444444444444444,
              "#bd3786"
             ],
             [
              0.5555555555555556,
              "#d8576b"
             ],
             [
              0.6666666666666666,
              "#ed7953"
             ],
             [
              0.7777777777777778,
              "#fb9f3a"
             ],
             [
              0.8888888888888888,
              "#fdca26"
             ],
             [
              1,
              "#f0f921"
             ]
            ],
            "type": "histogram2d"
           }
          ],
          "histogram2dcontour": [
           {
            "colorbar": {
             "outlinewidth": 0,
             "ticks": ""
            },
            "colorscale": [
             [
              0,
              "#0d0887"
             ],
             [
              0.1111111111111111,
              "#46039f"
             ],
             [
              0.2222222222222222,
              "#7201a8"
             ],
             [
              0.3333333333333333,
              "#9c179e"
             ],
             [
              0.4444444444444444,
              "#bd3786"
             ],
             [
              0.5555555555555556,
              "#d8576b"
             ],
             [
              0.6666666666666666,
              "#ed7953"
             ],
             [
              0.7777777777777778,
              "#fb9f3a"
             ],
             [
              0.8888888888888888,
              "#fdca26"
             ],
             [
              1,
              "#f0f921"
             ]
            ],
            "type": "histogram2dcontour"
           }
          ],
          "mesh3d": [
           {
            "colorbar": {
             "outlinewidth": 0,
             "ticks": ""
            },
            "type": "mesh3d"
           }
          ],
          "parcoords": [
           {
            "line": {
             "colorbar": {
              "outlinewidth": 0,
              "ticks": ""
             }
            },
            "type": "parcoords"
           }
          ],
          "pie": [
           {
            "automargin": true,
            "type": "pie"
           }
          ],
          "scatter": [
           {
            "marker": {
             "colorbar": {
              "outlinewidth": 0,
              "ticks": ""
             }
            },
            "type": "scatter"
           }
          ],
          "scatter3d": [
           {
            "line": {
             "colorbar": {
              "outlinewidth": 0,
              "ticks": ""
             }
            },
            "marker": {
             "colorbar": {
              "outlinewidth": 0,
              "ticks": ""
             }
            },
            "type": "scatter3d"
           }
          ],
          "scattercarpet": [
           {
            "marker": {
             "colorbar": {
              "outlinewidth": 0,
              "ticks": ""
             }
            },
            "type": "scattercarpet"
           }
          ],
          "scattergeo": [
           {
            "marker": {
             "colorbar": {
              "outlinewidth": 0,
              "ticks": ""
             }
            },
            "type": "scattergeo"
           }
          ],
          "scattergl": [
           {
            "marker": {
             "colorbar": {
              "outlinewidth": 0,
              "ticks": ""
             }
            },
            "type": "scattergl"
           }
          ],
          "scattermapbox": [
           {
            "marker": {
             "colorbar": {
              "outlinewidth": 0,
              "ticks": ""
             }
            },
            "type": "scattermapbox"
           }
          ],
          "scatterpolar": [
           {
            "marker": {
             "colorbar": {
              "outlinewidth": 0,
              "ticks": ""
             }
            },
            "type": "scatterpolar"
           }
          ],
          "scatterpolargl": [
           {
            "marker": {
             "colorbar": {
              "outlinewidth": 0,
              "ticks": ""
             }
            },
            "type": "scatterpolargl"
           }
          ],
          "scatterternary": [
           {
            "marker": {
             "colorbar": {
              "outlinewidth": 0,
              "ticks": ""
             }
            },
            "type": "scatterternary"
           }
          ],
          "surface": [
           {
            "colorbar": {
             "outlinewidth": 0,
             "ticks": ""
            },
            "colorscale": [
             [
              0,
              "#0d0887"
             ],
             [
              0.1111111111111111,
              "#46039f"
             ],
             [
              0.2222222222222222,
              "#7201a8"
             ],
             [
              0.3333333333333333,
              "#9c179e"
             ],
             [
              0.4444444444444444,
              "#bd3786"
             ],
             [
              0.5555555555555556,
              "#d8576b"
             ],
             [
              0.6666666666666666,
              "#ed7953"
             ],
             [
              0.7777777777777778,
              "#fb9f3a"
             ],
             [
              0.8888888888888888,
              "#fdca26"
             ],
             [
              1,
              "#f0f921"
             ]
            ],
            "type": "surface"
           }
          ],
          "table": [
           {
            "cells": {
             "fill": {
              "color": "#EBF0F8"
             },
             "line": {
              "color": "white"
             }
            },
            "header": {
             "fill": {
              "color": "#C8D4E3"
             },
             "line": {
              "color": "white"
             }
            },
            "type": "table"
           }
          ]
         },
         "layout": {
          "annotationdefaults": {
           "arrowcolor": "#2a3f5f",
           "arrowhead": 0,
           "arrowwidth": 1
          },
          "coloraxis": {
           "colorbar": {
            "outlinewidth": 0,
            "ticks": ""
           }
          },
          "colorscale": {
           "diverging": [
            [
             0,
             "#8e0152"
            ],
            [
             0.1,
             "#c51b7d"
            ],
            [
             0.2,
             "#de77ae"
            ],
            [
             0.3,
             "#f1b6da"
            ],
            [
             0.4,
             "#fde0ef"
            ],
            [
             0.5,
             "#f7f7f7"
            ],
            [
             0.6,
             "#e6f5d0"
            ],
            [
             0.7,
             "#b8e186"
            ],
            [
             0.8,
             "#7fbc41"
            ],
            [
             0.9,
             "#4d9221"
            ],
            [
             1,
             "#276419"
            ]
           ],
           "sequential": [
            [
             0,
             "#0d0887"
            ],
            [
             0.1111111111111111,
             "#46039f"
            ],
            [
             0.2222222222222222,
             "#7201a8"
            ],
            [
             0.3333333333333333,
             "#9c179e"
            ],
            [
             0.4444444444444444,
             "#bd3786"
            ],
            [
             0.5555555555555556,
             "#d8576b"
            ],
            [
             0.6666666666666666,
             "#ed7953"
            ],
            [
             0.7777777777777778,
             "#fb9f3a"
            ],
            [
             0.8888888888888888,
             "#fdca26"
            ],
            [
             1,
             "#f0f921"
            ]
           ],
           "sequentialminus": [
            [
             0,
             "#0d0887"
            ],
            [
             0.1111111111111111,
             "#46039f"
            ],
            [
             0.2222222222222222,
             "#7201a8"
            ],
            [
             0.3333333333333333,
             "#9c179e"
            ],
            [
             0.4444444444444444,
             "#bd3786"
            ],
            [
             0.5555555555555556,
             "#d8576b"
            ],
            [
             0.6666666666666666,
             "#ed7953"
            ],
            [
             0.7777777777777778,
             "#fb9f3a"
            ],
            [
             0.8888888888888888,
             "#fdca26"
            ],
            [
             1,
             "#f0f921"
            ]
           ]
          },
          "colorway": [
           "#636efa",
           "#EF553B",
           "#00cc96",
           "#ab63fa",
           "#FFA15A",
           "#19d3f3",
           "#FF6692",
           "#B6E880",
           "#FF97FF",
           "#FECB52"
          ],
          "font": {
           "color": "#2a3f5f"
          },
          "geo": {
           "bgcolor": "white",
           "lakecolor": "white",
           "landcolor": "#E5ECF6",
           "showlakes": true,
           "showland": true,
           "subunitcolor": "white"
          },
          "hoverlabel": {
           "align": "left"
          },
          "hovermode": "closest",
          "mapbox": {
           "style": "light"
          },
          "paper_bgcolor": "white",
          "plot_bgcolor": "#E5ECF6",
          "polar": {
           "angularaxis": {
            "gridcolor": "white",
            "linecolor": "white",
            "ticks": ""
           },
           "bgcolor": "#E5ECF6",
           "radialaxis": {
            "gridcolor": "white",
            "linecolor": "white",
            "ticks": ""
           }
          },
          "scene": {
           "xaxis": {
            "backgroundcolor": "#E5ECF6",
            "gridcolor": "white",
            "gridwidth": 2,
            "linecolor": "white",
            "showbackground": true,
            "ticks": "",
            "zerolinecolor": "white"
           },
           "yaxis": {
            "backgroundcolor": "#E5ECF6",
            "gridcolor": "white",
            "gridwidth": 2,
            "linecolor": "white",
            "showbackground": true,
            "ticks": "",
            "zerolinecolor": "white"
           },
           "zaxis": {
            "backgroundcolor": "#E5ECF6",
            "gridcolor": "white",
            "gridwidth": 2,
            "linecolor": "white",
            "showbackground": true,
            "ticks": "",
            "zerolinecolor": "white"
           }
          },
          "shapedefaults": {
           "line": {
            "color": "#2a3f5f"
           }
          },
          "ternary": {
           "aaxis": {
            "gridcolor": "white",
            "linecolor": "white",
            "ticks": ""
           },
           "baxis": {
            "gridcolor": "white",
            "linecolor": "white",
            "ticks": ""
           },
           "bgcolor": "#E5ECF6",
           "caxis": {
            "gridcolor": "white",
            "linecolor": "white",
            "ticks": ""
           }
          },
          "title": {
           "x": 0.05
          },
          "xaxis": {
           "automargin": true,
           "gridcolor": "white",
           "linecolor": "white",
           "ticks": "",
           "title": {
            "standoff": 15
           },
           "zerolinecolor": "white",
           "zerolinewidth": 2
          },
          "yaxis": {
           "automargin": true,
           "gridcolor": "white",
           "linecolor": "white",
           "ticks": "",
           "title": {
            "standoff": 15
           },
           "zerolinecolor": "white",
           "zerolinewidth": 2
          }
         }
        },
        "title": {
         "font": {
          "color": "#4D5663"
         }
        },
        "xaxis": {
         "anchor": "y",
         "domain": [
          0,
          0.2125
         ],
         "gridcolor": "#E1E5ED",
         "showgrid": false,
         "tickfont": {
          "color": "#4D5663"
         },
         "title": {
          "font": {
           "color": "#4D5663"
          },
          "text": ""
         },
         "zerolinecolor": "#E1E5ED"
        },
        "xaxis10": {
         "anchor": "y10",
         "domain": [
          0.2625,
          0.475
         ],
         "gridcolor": "#E1E5ED",
         "showgrid": false,
         "tickfont": {
          "color": "#4D5663"
         },
         "title": {
          "font": {
           "color": "#4D5663"
          },
          "text": ""
         },
         "zerolinecolor": "#E1E5ED"
        },
        "xaxis11": {
         "anchor": "y11",
         "domain": [
          0.525,
          0.7375
         ],
         "gridcolor": "#E1E5ED",
         "showgrid": false,
         "tickfont": {
          "color": "#4D5663"
         },
         "title": {
          "font": {
           "color": "#4D5663"
          },
          "text": ""
         },
         "zerolinecolor": "#E1E5ED"
        },
        "xaxis12": {
         "anchor": "y12",
         "domain": [
          0.7875,
          1
         ],
         "gridcolor": "#E1E5ED",
         "showgrid": false,
         "tickfont": {
          "color": "#4D5663"
         },
         "title": {
          "font": {
           "color": "#4D5663"
          },
          "text": ""
         },
         "zerolinecolor": "#E1E5ED"
        },
        "xaxis13": {
         "anchor": "y13",
         "domain": [
          0,
          0.2125
         ],
         "gridcolor": "#E1E5ED",
         "showgrid": false,
         "tickfont": {
          "color": "#4D5663"
         },
         "title": {
          "font": {
           "color": "#4D5663"
          },
          "text": ""
         },
         "zerolinecolor": "#E1E5ED"
        },
        "xaxis14": {
         "anchor": "y14",
         "domain": [
          0.2625,
          0.475
         ],
         "gridcolor": "#E1E5ED",
         "showgrid": false,
         "tickfont": {
          "color": "#4D5663"
         },
         "title": {
          "font": {
           "color": "#4D5663"
          },
          "text": ""
         },
         "zerolinecolor": "#E1E5ED"
        },
        "xaxis15": {
         "anchor": "y15",
         "domain": [
          0.525,
          0.7375
         ],
         "gridcolor": "#E1E5ED",
         "showgrid": false,
         "tickfont": {
          "color": "#4D5663"
         },
         "title": {
          "font": {
           "color": "#4D5663"
          },
          "text": ""
         },
         "zerolinecolor": "#E1E5ED"
        },
        "xaxis16": {
         "anchor": "y16",
         "domain": [
          0.7875,
          1
         ],
         "gridcolor": "#E1E5ED",
         "showgrid": false,
         "tickfont": {
          "color": "#4D5663"
         },
         "title": {
          "font": {
           "color": "#4D5663"
          },
          "text": ""
         },
         "zerolinecolor": "#E1E5ED"
        },
        "xaxis2": {
         "anchor": "y2",
         "domain": [
          0.2625,
          0.475
         ],
         "gridcolor": "#E1E5ED",
         "showgrid": false,
         "tickfont": {
          "color": "#4D5663"
         },
         "title": {
          "font": {
           "color": "#4D5663"
          },
          "text": ""
         },
         "zerolinecolor": "#E1E5ED"
        },
        "xaxis3": {
         "anchor": "y3",
         "domain": [
          0.525,
          0.7375
         ],
         "gridcolor": "#E1E5ED",
         "showgrid": false,
         "tickfont": {
          "color": "#4D5663"
         },
         "title": {
          "font": {
           "color": "#4D5663"
          },
          "text": ""
         },
         "zerolinecolor": "#E1E5ED"
        },
        "xaxis4": {
         "anchor": "y4",
         "domain": [
          0.7875,
          1
         ],
         "gridcolor": "#E1E5ED",
         "showgrid": false,
         "tickfont": {
          "color": "#4D5663"
         },
         "title": {
          "font": {
           "color": "#4D5663"
          },
          "text": ""
         },
         "zerolinecolor": "#E1E5ED"
        },
        "xaxis5": {
         "anchor": "y5",
         "domain": [
          0,
          0.2125
         ],
         "gridcolor": "#E1E5ED",
         "showgrid": false,
         "tickfont": {
          "color": "#4D5663"
         },
         "title": {
          "font": {
           "color": "#4D5663"
          },
          "text": ""
         },
         "zerolinecolor": "#E1E5ED"
        },
        "xaxis6": {
         "anchor": "y6",
         "domain": [
          0.2625,
          0.475
         ],
         "gridcolor": "#E1E5ED",
         "showgrid": false,
         "tickfont": {
          "color": "#4D5663"
         },
         "title": {
          "font": {
           "color": "#4D5663"
          },
          "text": ""
         },
         "zerolinecolor": "#E1E5ED"
        },
        "xaxis7": {
         "anchor": "y7",
         "domain": [
          0.525,
          0.7375
         ],
         "gridcolor": "#E1E5ED",
         "showgrid": false,
         "tickfont": {
          "color": "#4D5663"
         },
         "title": {
          "font": {
           "color": "#4D5663"
          },
          "text": ""
         },
         "zerolinecolor": "#E1E5ED"
        },
        "xaxis8": {
         "anchor": "y8",
         "domain": [
          0.7875,
          1
         ],
         "gridcolor": "#E1E5ED",
         "showgrid": false,
         "tickfont": {
          "color": "#4D5663"
         },
         "title": {
          "font": {
           "color": "#4D5663"
          },
          "text": ""
         },
         "zerolinecolor": "#E1E5ED"
        },
        "xaxis9": {
         "anchor": "y9",
         "domain": [
          0,
          0.2125
         ],
         "gridcolor": "#E1E5ED",
         "showgrid": false,
         "tickfont": {
          "color": "#4D5663"
         },
         "title": {
          "font": {
           "color": "#4D5663"
          },
          "text": ""
         },
         "zerolinecolor": "#E1E5ED"
        },
        "yaxis": {
         "anchor": "x",
         "domain": [
          0.8025,
          1
         ],
         "gridcolor": "#E1E5ED",
         "showgrid": false,
         "tickfont": {
          "color": "#4D5663"
         },
         "title": {
          "font": {
           "color": "#4D5663"
          },
          "text": ""
         },
         "zerolinecolor": "#E1E5ED"
        },
        "yaxis10": {
         "anchor": "x10",
         "domain": [
          0.2675,
          0.465
         ],
         "gridcolor": "#E1E5ED",
         "showgrid": false,
         "tickfont": {
          "color": "#4D5663"
         },
         "title": {
          "font": {
           "color": "#4D5663"
          },
          "text": ""
         },
         "zerolinecolor": "#E1E5ED"
        },
        "yaxis11": {
         "anchor": "x11",
         "domain": [
          0.2675,
          0.465
         ],
         "gridcolor": "#E1E5ED",
         "showgrid": false,
         "tickfont": {
          "color": "#4D5663"
         },
         "title": {
          "font": {
           "color": "#4D5663"
          },
          "text": ""
         },
         "zerolinecolor": "#E1E5ED"
        },
        "yaxis12": {
         "anchor": "x12",
         "domain": [
          0.2675,
          0.465
         ],
         "gridcolor": "#E1E5ED",
         "showgrid": false,
         "tickfont": {
          "color": "#4D5663"
         },
         "title": {
          "font": {
           "color": "#4D5663"
          },
          "text": ""
         },
         "zerolinecolor": "#E1E5ED"
        },
        "yaxis13": {
         "anchor": "x13",
         "domain": [
          0,
          0.1975
         ],
         "gridcolor": "#E1E5ED",
         "showgrid": false,
         "tickfont": {
          "color": "#4D5663"
         },
         "title": {
          "font": {
           "color": "#4D5663"
          },
          "text": ""
         },
         "zerolinecolor": "#E1E5ED"
        },
        "yaxis14": {
         "anchor": "x14",
         "domain": [
          0,
          0.1975
         ],
         "gridcolor": "#E1E5ED",
         "showgrid": false,
         "tickfont": {
          "color": "#4D5663"
         },
         "title": {
          "font": {
           "color": "#4D5663"
          },
          "text": ""
         },
         "zerolinecolor": "#E1E5ED"
        },
        "yaxis15": {
         "anchor": "x15",
         "domain": [
          0,
          0.1975
         ],
         "gridcolor": "#E1E5ED",
         "showgrid": false,
         "tickfont": {
          "color": "#4D5663"
         },
         "title": {
          "font": {
           "color": "#4D5663"
          },
          "text": ""
         },
         "zerolinecolor": "#E1E5ED"
        },
        "yaxis16": {
         "anchor": "x16",
         "domain": [
          0,
          0.1975
         ],
         "gridcolor": "#E1E5ED",
         "showgrid": false,
         "tickfont": {
          "color": "#4D5663"
         },
         "title": {
          "font": {
           "color": "#4D5663"
          },
          "text": ""
         },
         "zerolinecolor": "#E1E5ED"
        },
        "yaxis2": {
         "anchor": "x2",
         "domain": [
          0.8025,
          1
         ],
         "gridcolor": "#E1E5ED",
         "showgrid": false,
         "tickfont": {
          "color": "#4D5663"
         },
         "title": {
          "font": {
           "color": "#4D5663"
          },
          "text": ""
         },
         "zerolinecolor": "#E1E5ED"
        },
        "yaxis3": {
         "anchor": "x3",
         "domain": [
          0.8025,
          1
         ],
         "gridcolor": "#E1E5ED",
         "showgrid": false,
         "tickfont": {
          "color": "#4D5663"
         },
         "title": {
          "font": {
           "color": "#4D5663"
          },
          "text": ""
         },
         "zerolinecolor": "#E1E5ED"
        },
        "yaxis4": {
         "anchor": "x4",
         "domain": [
          0.8025,
          1
         ],
         "gridcolor": "#E1E5ED",
         "showgrid": false,
         "tickfont": {
          "color": "#4D5663"
         },
         "title": {
          "font": {
           "color": "#4D5663"
          },
          "text": ""
         },
         "zerolinecolor": "#E1E5ED"
        },
        "yaxis5": {
         "anchor": "x5",
         "domain": [
          0.535,
          0.7325
         ],
         "gridcolor": "#E1E5ED",
         "showgrid": false,
         "tickfont": {
          "color": "#4D5663"
         },
         "title": {
          "font": {
           "color": "#4D5663"
          },
          "text": ""
         },
         "zerolinecolor": "#E1E5ED"
        },
        "yaxis6": {
         "anchor": "x6",
         "domain": [
          0.535,
          0.7325
         ],
         "gridcolor": "#E1E5ED",
         "showgrid": false,
         "tickfont": {
          "color": "#4D5663"
         },
         "title": {
          "font": {
           "color": "#4D5663"
          },
          "text": ""
         },
         "zerolinecolor": "#E1E5ED"
        },
        "yaxis7": {
         "anchor": "x7",
         "domain": [
          0.535,
          0.7325
         ],
         "gridcolor": "#E1E5ED",
         "showgrid": false,
         "tickfont": {
          "color": "#4D5663"
         },
         "title": {
          "font": {
           "color": "#4D5663"
          },
          "text": ""
         },
         "zerolinecolor": "#E1E5ED"
        },
        "yaxis8": {
         "anchor": "x8",
         "domain": [
          0.535,
          0.7325
         ],
         "gridcolor": "#E1E5ED",
         "showgrid": false,
         "tickfont": {
          "color": "#4D5663"
         },
         "title": {
          "font": {
           "color": "#4D5663"
          },
          "text": ""
         },
         "zerolinecolor": "#E1E5ED"
        },
        "yaxis9": {
         "anchor": "x9",
         "domain": [
          0.2675,
          0.465
         ],
         "gridcolor": "#E1E5ED",
         "showgrid": false,
         "tickfont": {
          "color": "#4D5663"
         },
         "title": {
          "font": {
           "color": "#4D5663"
          },
          "text": ""
         },
         "zerolinecolor": "#E1E5ED"
        }
       }
      },
      "text/html": [
       "<div>\n",
       "        \n",
       "        \n",
       "            <div id=\"462ff5f1-9fce-4d87-a5ce-74806e488386\" class=\"plotly-graph-div\" style=\"height:525px; width:100%;\"></div>\n",
       "            <script type=\"text/javascript\">\n",
       "                require([\"plotly\"], function(Plotly) {\n",
       "                    window.PLOTLYENV=window.PLOTLYENV || {};\n",
       "                    window.PLOTLYENV.BASE_URL='https://plot.ly';\n",
       "                    \n",
       "                if (document.getElementById(\"462ff5f1-9fce-4d87-a5ce-74806e488386\")) {\n",
       "                    Plotly.newPlot(\n",
       "                        '462ff5f1-9fce-4d87-a5ce-74806e488386',\n",
       "                        [{\"histfunc\": \"count\", \"histnorm\": \"\", \"marker\": {\"color\": \"rgba(255, 153, 51, 1.0)\", \"line\": {\"color\": \"#4D5663\", \"width\": 1.3}}, \"name\": \"A\", \"nbinsx\": 10, \"opacity\": 0.8, \"orientation\": \"v\", \"type\": \"histogram\", \"x\": [-1.1840365621651945, -1.8381134858425232, -0.7277279334148866, -0.028971296517589097, 0.825450382839014, -0.5614608633274173, -0.6603089317004062, 1.6725527210902709, -0.2968938241848866, -0.7455791661784459, -0.9725191265715754, -0.17464149117399802, 0.04597974569488585, -0.902823009779421, 0.6600421623207664, -0.1373628365003551, -0.19933540675238912, 2.232844506603289, -0.5866449656845658, -0.44827422430998215, -0.8126261620742526, 0.3152056930303498, -1.5326742515335599, -1.3136876285306804, 0.7465963870088331, 1.3642850738121695, 0.6227848343777126, 0.9740940144969882, -0.03274610543656052, -0.23648932796707953, -0.5207684786746272, 0.8150690070383287, 0.8675613689644536, 0.4620135634840239, -0.7926717247669486, 0.049196575117251874, -1.0081977206190973, -0.19006178333019064, 0.16938736014080316, 1.6216816922631585, 0.48642387377101337, 0.6425010555936774, -1.63468048016266, -1.0470236308252987, 0.3242329374347403, 0.0943239920247155, 0.3577150372212665, 0.9236731892573657, 1.6110323640649022, -0.042561925631995866, -0.43485544242184443, -0.8494618434253626, -0.8286206654583846, 0.5324068271400587, 0.44911904243558154, -0.37408960381593065, 2.286830918685426, 0.8056634189729108, 0.611806492535484, 1.3483873907369872, 0.8586206478746982, -1.864926079553018, 0.5198523571964471, -0.5137922851909704, -0.14859213220638998, -0.8434697432455353, -0.43125185207336814, 0.32798193925352487, -0.9610454413972249, 0.46050655291944365, -0.722804354638819, -1.245109552366151, -0.10064611244150451, 0.8032841842806812, -1.1676378568872408, -2.512415133958864, -2.036925165214611, 0.4414699595223629, -2.1978416072993685, 0.3433106234260381, -0.2886576812286424, 0.3427460539289989, 0.5997642732764263, 2.110771985511631, -0.6557430487299993, -1.172584879204941, 0.5906194577721403, 0.4863798984476543, -0.5647382607184777, -1.636502180160153, 1.1318533611412398, 0.346456706099411, -0.5009745761701883, 1.2237802234261634, 0.7943402042622165, 0.46825175886511367, 0.30669243561811416, 0.6219140841086478, -1.5046859448603147, -0.5373240621441666], \"xaxis\": \"x\", \"yaxis\": \"y\"}, {\"line\": {\"color\": \"rgba(128, 128, 128, 1.0)\", \"dash\": \"solid\", \"shape\": \"linear\", \"width\": 1.3}, \"marker\": {\"size\": 2, \"symbol\": \"circle\"}, \"mode\": \"markers\", \"name\": \"A\", \"text\": \"\", \"type\": \"scatter\", \"x\": [0.7748574018350498, -0.8491056720735701, 0.6914611085875526, 1.1752875372815135, 0.4162742573571235, -0.6952221903678409, 0.7908201017015961, -0.39968184016567027, -0.4226151861377561, -0.16105722437957612, -0.9753539757949506, 0.5977643273494854, -0.8888430599435827, 0.4494305636804583, 0.20609210531358196, -0.49022300526966706, -1.1886750583700814, 0.2385127198502449, 1.05249011826461, 0.4034854022152594, -0.0479351953311653, 0.5285875801575323, -0.8975425504391127, -0.9332949613409988, 0.7145846867253706, -1.2754180312058925, -0.33935108820751164, -0.34572951265255847, 0.8402196474654661, 1.8579077941247726, -0.10545501116095234, -0.43029645225787383, -1.471009145551944, 0.018313033612988895, 0.05863378120340704, -0.7481251383861267, 1.2739284752793545, -1.2688830632305381, 0.04863904155004324, 0.6590964872389021, 1.6738927361115674, 1.1447265427849844, 0.26804703844199823, 0.6146962222473003, 0.8815348744267175, 0.4152753764475723, -1.3748803282110544, -0.8555156955454922, 1.0716946029249914, -0.18854674519334236, 1.6767333881177955, 0.3250252134387557, 1.752760184188171, 0.8348678395347147, -0.030014862454295552, 1.3650079773832526, 0.5128929565450878, 0.1773698200047356, -0.4971404989716503, 0.21478254702547728, -0.7480145706490767, 0.5397806554794098, -0.5270300252772776, 0.25976914331856615, -0.34787617938088616, -1.441248767668745, -1.5978719846155973, 1.8760190283758935, 2.058786169419131, 0.04416637128786382, -0.11990218115432498, -0.32346234697218584, 0.7587833672465661, 0.1764232013077506, 2.3271774971821166, -0.025870405639904837, -0.29898147778189804, 0.45503789748310974, -0.3557650151783652, -0.3476159607705035, 0.05314676086246436, -1.2068805594060426, -1.218095609914161, -0.605536020423741, -0.5639854925951856, 0.5292292854352497, 0.5224444059168056, -0.34012701139348117, 0.3409887608709333, 0.3034569426427565, 0.02050058661276885, 0.06559131836346563, 0.16276827346155767, -1.7289045833130687, -1.2926726553484278, 0.3706707209524533, -1.1632329413595424, -0.8424734722469165, -1.3825350305370303, 0.557764978680726], \"xaxis\": \"x2\", \"y\": [-1.1840365621651945, -1.8381134858425232, -0.7277279334148866, -0.028971296517589097, 0.825450382839014, -0.5614608633274173, -0.6603089317004062, 1.6725527210902709, -0.2968938241848866, -0.7455791661784459, -0.9725191265715754, -0.17464149117399802, 0.04597974569488585, -0.902823009779421, 0.6600421623207664, -0.1373628365003551, -0.19933540675238912, 2.232844506603289, -0.5866449656845658, -0.44827422430998215, -0.8126261620742526, 0.3152056930303498, -1.5326742515335599, -1.3136876285306804, 0.7465963870088331, 1.3642850738121695, 0.6227848343777126, 0.9740940144969882, -0.03274610543656052, -0.23648932796707953, -0.5207684786746272, 0.8150690070383287, 0.8675613689644536, 0.4620135634840239, -0.7926717247669486, 0.049196575117251874, -1.0081977206190973, -0.19006178333019064, 0.16938736014080316, 1.6216816922631585, 0.48642387377101337, 0.6425010555936774, -1.63468048016266, -1.0470236308252987, 0.3242329374347403, 0.0943239920247155, 0.3577150372212665, 0.9236731892573657, 1.6110323640649022, -0.042561925631995866, -0.43485544242184443, -0.8494618434253626, -0.8286206654583846, 0.5324068271400587, 0.44911904243558154, -0.37408960381593065, 2.286830918685426, 0.8056634189729108, 0.611806492535484, 1.3483873907369872, 0.8586206478746982, -1.864926079553018, 0.5198523571964471, -0.5137922851909704, -0.14859213220638998, -0.8434697432455353, -0.43125185207336814, 0.32798193925352487, -0.9610454413972249, 0.46050655291944365, -0.722804354638819, -1.245109552366151, -0.10064611244150451, 0.8032841842806812, -1.1676378568872408, -2.512415133958864, -2.036925165214611, 0.4414699595223629, -2.1978416072993685, 0.3433106234260381, -0.2886576812286424, 0.3427460539289989, 0.5997642732764263, 2.110771985511631, -0.6557430487299993, -1.172584879204941, 0.5906194577721403, 0.4863798984476543, -0.5647382607184777, -1.636502180160153, 1.1318533611412398, 0.346456706099411, -0.5009745761701883, 1.2237802234261634, 0.7943402042622165, 0.46825175886511367, 0.30669243561811416, 0.6219140841086478, -1.5046859448603147, -0.5373240621441666], \"yaxis\": \"y2\"}, {\"line\": {\"color\": \"rgba(128, 128, 128, 1.0)\", \"dash\": \"solid\", \"shape\": \"linear\", \"width\": 1.3}, \"marker\": {\"size\": 2, \"symbol\": \"circle\"}, \"mode\": \"markers\", \"name\": \"A\", \"text\": \"\", \"type\": \"scatter\", \"x\": [-0.13075131036378393, -1.9766351382901388, 2.359391483239348, 0.332484562167801, 1.9319128619571195, 0.029124217949669882, -1.2844804097392815, -0.11539417465904929, -1.3902268237907565, -0.09177603626710525, -0.8959786694349934, 0.6698909601613622, -0.5994535595042667, -1.4904652814956088, 0.2596883000180945, 0.2572737195516556, 1.0484326385043803, 9.636717248655658e-05, 0.5192536189064421, 0.6750978849511353, -0.6975100357555095, 0.670467924562605, -0.32525342029309684, -0.7094220074205353, -0.7846501670210279, -1.0497873074734148, 0.9247265800134937, 0.5845643963129014, -0.45701168432168066, 0.9545084832232573, 1.4628229979357623, 0.5722746269224713, -0.15504026772791643, -0.9514694023767296, -0.2941305882283108, 0.9862806641164041, 0.13929622387572363, 0.7775837270608291, -0.516609318358424, -0.39921259289083977, 0.8080185091614575, -0.14534015305333706, 1.3158888719970208, -0.23992344546267205, 1.1685567724854657, -0.3838409258449429, -0.2894555882388486, 0.5239914462186199, 1.384322441112758, 0.38421690190088065, -0.17673392841986954, -0.7932137243798739, 2.5118540947351025, 0.6580468624387785, 0.5808602432029525, -0.9709368714502858, 1.860500579975986, 0.7826981017385283, -0.0971289080929145, -0.05018858733969054, -0.8834422072711728, 0.5037128006816742, -0.8144218848061271, -1.3229859402766706, -0.1637166795202983, -0.47748121300006424, 0.03167390038804507, 0.6910256142660218, -0.09838815524689949, -1.2688672757238648, -0.15814379703148304, -0.06388280711787181, -0.7894621848690133, 0.8613594196284226, -0.7676034719999096, 0.02644945606272413, 0.050890485901894926, 1.0899999646133016, -0.9055937990155126, 0.6476545188698527, 0.7977593877036964, 0.1928323093903488, -0.24670858490897626, 2.351376125771722, -0.5979936231981169, 1.5965238869623473, 0.783464554736259, -0.19023386325965286, 0.5948103546485063, 0.08454108319684282, 0.5443866679573024, -1.6946496660709542, 1.0500811624643263, 1.5100126114675998, -0.7328994274505252, 0.7456327774664977, -0.5505202892794008, 0.04057429676737818, 0.15155736191078095, 0.17471303242791603], \"xaxis\": \"x3\", \"y\": [-1.1840365621651945, -1.8381134858425232, -0.7277279334148866, -0.028971296517589097, 0.825450382839014, -0.5614608633274173, -0.6603089317004062, 1.6725527210902709, -0.2968938241848866, -0.7455791661784459, -0.9725191265715754, -0.17464149117399802, 0.04597974569488585, -0.902823009779421, 0.6600421623207664, -0.1373628365003551, -0.19933540675238912, 2.232844506603289, -0.5866449656845658, -0.44827422430998215, -0.8126261620742526, 0.3152056930303498, -1.5326742515335599, -1.3136876285306804, 0.7465963870088331, 1.3642850738121695, 0.6227848343777126, 0.9740940144969882, -0.03274610543656052, -0.23648932796707953, -0.5207684786746272, 0.8150690070383287, 0.8675613689644536, 0.4620135634840239, -0.7926717247669486, 0.049196575117251874, -1.0081977206190973, -0.19006178333019064, 0.16938736014080316, 1.6216816922631585, 0.48642387377101337, 0.6425010555936774, -1.63468048016266, -1.0470236308252987, 0.3242329374347403, 0.0943239920247155, 0.3577150372212665, 0.9236731892573657, 1.6110323640649022, -0.042561925631995866, -0.43485544242184443, -0.8494618434253626, -0.8286206654583846, 0.5324068271400587, 0.44911904243558154, -0.37408960381593065, 2.286830918685426, 0.8056634189729108, 0.611806492535484, 1.3483873907369872, 0.8586206478746982, -1.864926079553018, 0.5198523571964471, -0.5137922851909704, -0.14859213220638998, -0.8434697432455353, -0.43125185207336814, 0.32798193925352487, -0.9610454413972249, 0.46050655291944365, -0.722804354638819, -1.245109552366151, -0.10064611244150451, 0.8032841842806812, -1.1676378568872408, -2.512415133958864, -2.036925165214611, 0.4414699595223629, -2.1978416072993685, 0.3433106234260381, -0.2886576812286424, 0.3427460539289989, 0.5997642732764263, 2.110771985511631, -0.6557430487299993, -1.172584879204941, 0.5906194577721403, 0.4863798984476543, -0.5647382607184777, -1.636502180160153, 1.1318533611412398, 0.346456706099411, -0.5009745761701883, 1.2237802234261634, 0.7943402042622165, 0.46825175886511367, 0.30669243561811416, 0.6219140841086478, -1.5046859448603147, -0.5373240621441666], \"yaxis\": \"y3\"}, {\"line\": {\"color\": \"rgba(128, 128, 128, 1.0)\", \"dash\": \"solid\", \"shape\": \"linear\", \"width\": 1.3}, \"marker\": {\"size\": 2, \"symbol\": \"circle\"}, \"mode\": \"markers\", \"name\": \"A\", \"text\": \"\", \"type\": \"scatter\", \"x\": [-0.3109228800255749, -0.04435791625087433, 1.7716348098062678, -1.0493683586255418, -1.0665903685316402, -2.1025631429841405, -0.6807417862389978, 2.1985027264371224, 0.37810087766951334, -0.4295934909667167, -2.248244371078392, -2.5053560497137632, 1.2684156502861, 0.08331658102783852, 0.526696105998118, -0.6292095935193119, -0.5997967808433086, -0.6155486266727146, 1.7045365486016097, -0.601276888450068, 1.697470537334648, 2.2923861989070438, 0.9326249326398058, 0.8606227390308568, -2.9236403720092268, 1.29483800200945, -0.06975011636905842, 0.05784498824832419, 0.033853479502720905, 0.47923115681408285, -0.26440242528641617, -0.27192490638944206, -1.1415874270423094, 0.6436896480429837, 0.25105546655016564, -1.3079938557342605, 2.566764924527969, -2.352051142170725, -1.73121853372614, 0.3404280647245284, -0.17969459631954798, 0.48568232569143815, 0.6580903990951771, 2.2051409347483992, -0.12447187882099256, -0.6355468578198471, -0.6142097326154164, -2.024364478787583, 0.42494805926035933, 1.0480357114558718, -0.08419009931661706, 0.5074685421083154, 0.4898698527698281, 1.0118081401720047, -1.1301003497409974, -0.22247145696906556, 0.4608177907472395, -1.0094761182944447, 1.1478773360752896, -0.19942338900064682, -1.1590343864074402, -0.1633156306915748, 0.1114996264531976, -0.48171246278907404, -0.09821576955187183, -0.9153602480036214, -0.3767664489496155, 0.1704138161909583, -0.9230168538832264, -0.3552117161642221, -0.4912177194348223, 0.9095078130176419, 1.93481636583586, 0.34869020123610384, 0.9326565933399767, -0.08316365835824382, -0.7692480688080877, -1.4060621920236365, -0.006246553266562083, -1.0639936316386083, -1.0088943985948773, -1.0354001402401753, 0.49586925050720415, 0.21183219244548893, 0.42208101257324177, -1.1807023153770395, 0.5838435124984659, 0.7716715564675956, -0.6868763790279935, -0.47315146040381595, 0.641453091864015, 0.18828492231164531, -0.5924417282086342, 1.3256727398800516, -1.33197914578505, -0.0823222228388583, 1.2781846487773636, 2.667224411053259, 2.0550003848740976, -1.0883916290653706], \"xaxis\": \"x4\", \"y\": [-1.1840365621651945, -1.8381134858425232, -0.7277279334148866, -0.028971296517589097, 0.825450382839014, -0.5614608633274173, -0.6603089317004062, 1.6725527210902709, -0.2968938241848866, -0.7455791661784459, -0.9725191265715754, -0.17464149117399802, 0.04597974569488585, -0.902823009779421, 0.6600421623207664, -0.1373628365003551, -0.19933540675238912, 2.232844506603289, -0.5866449656845658, -0.44827422430998215, -0.8126261620742526, 0.3152056930303498, -1.5326742515335599, -1.3136876285306804, 0.7465963870088331, 1.3642850738121695, 0.6227848343777126, 0.9740940144969882, -0.03274610543656052, -0.23648932796707953, -0.5207684786746272, 0.8150690070383287, 0.8675613689644536, 0.4620135634840239, -0.7926717247669486, 0.049196575117251874, -1.0081977206190973, -0.19006178333019064, 0.16938736014080316, 1.6216816922631585, 0.48642387377101337, 0.6425010555936774, -1.63468048016266, -1.0470236308252987, 0.3242329374347403, 0.0943239920247155, 0.3577150372212665, 0.9236731892573657, 1.6110323640649022, -0.042561925631995866, -0.43485544242184443, -0.8494618434253626, -0.8286206654583846, 0.5324068271400587, 0.44911904243558154, -0.37408960381593065, 2.286830918685426, 0.8056634189729108, 0.611806492535484, 1.3483873907369872, 0.8586206478746982, -1.864926079553018, 0.5198523571964471, -0.5137922851909704, -0.14859213220638998, -0.8434697432455353, -0.43125185207336814, 0.32798193925352487, -0.9610454413972249, 0.46050655291944365, -0.722804354638819, -1.245109552366151, -0.10064611244150451, 0.8032841842806812, -1.1676378568872408, -2.512415133958864, -2.036925165214611, 0.4414699595223629, -2.1978416072993685, 0.3433106234260381, -0.2886576812286424, 0.3427460539289989, 0.5997642732764263, 2.110771985511631, -0.6557430487299993, -1.172584879204941, 0.5906194577721403, 0.4863798984476543, -0.5647382607184777, -1.636502180160153, 1.1318533611412398, 0.346456706099411, -0.5009745761701883, 1.2237802234261634, 0.7943402042622165, 0.46825175886511367, 0.30669243561811416, 0.6219140841086478, -1.5046859448603147, -0.5373240621441666], \"yaxis\": \"y4\"}, {\"line\": {\"color\": \"rgba(128, 128, 128, 1.0)\", \"dash\": \"solid\", \"shape\": \"linear\", \"width\": 1.3}, \"marker\": {\"size\": 2, \"symbol\": \"circle\"}, \"mode\": \"markers\", \"name\": \"B\", \"text\": \"\", \"type\": \"scatter\", \"x\": [-1.1840365621651945, -1.8381134858425232, -0.7277279334148866, -0.028971296517589097, 0.825450382839014, -0.5614608633274173, -0.6603089317004062, 1.6725527210902709, -0.2968938241848866, -0.7455791661784459, -0.9725191265715754, -0.17464149117399802, 0.04597974569488585, -0.902823009779421, 0.6600421623207664, -0.1373628365003551, -0.19933540675238912, 2.232844506603289, -0.5866449656845658, -0.44827422430998215, -0.8126261620742526, 0.3152056930303498, -1.5326742515335599, -1.3136876285306804, 0.7465963870088331, 1.3642850738121695, 0.6227848343777126, 0.9740940144969882, -0.03274610543656052, -0.23648932796707953, -0.5207684786746272, 0.8150690070383287, 0.8675613689644536, 0.4620135634840239, -0.7926717247669486, 0.049196575117251874, -1.0081977206190973, -0.19006178333019064, 0.16938736014080316, 1.6216816922631585, 0.48642387377101337, 0.6425010555936774, -1.63468048016266, -1.0470236308252987, 0.3242329374347403, 0.0943239920247155, 0.3577150372212665, 0.9236731892573657, 1.6110323640649022, -0.042561925631995866, -0.43485544242184443, -0.8494618434253626, -0.8286206654583846, 0.5324068271400587, 0.44911904243558154, -0.37408960381593065, 2.286830918685426, 0.8056634189729108, 0.611806492535484, 1.3483873907369872, 0.8586206478746982, -1.864926079553018, 0.5198523571964471, -0.5137922851909704, -0.14859213220638998, -0.8434697432455353, -0.43125185207336814, 0.32798193925352487, -0.9610454413972249, 0.46050655291944365, -0.722804354638819, -1.245109552366151, -0.10064611244150451, 0.8032841842806812, -1.1676378568872408, -2.512415133958864, -2.036925165214611, 0.4414699595223629, -2.1978416072993685, 0.3433106234260381, -0.2886576812286424, 0.3427460539289989, 0.5997642732764263, 2.110771985511631, -0.6557430487299993, -1.172584879204941, 0.5906194577721403, 0.4863798984476543, -0.5647382607184777, -1.636502180160153, 1.1318533611412398, 0.346456706099411, -0.5009745761701883, 1.2237802234261634, 0.7943402042622165, 0.46825175886511367, 0.30669243561811416, 0.6219140841086478, -1.5046859448603147, -0.5373240621441666], \"xaxis\": \"x5\", \"y\": [0.7748574018350498, -0.8491056720735701, 0.6914611085875526, 1.1752875372815135, 0.4162742573571235, -0.6952221903678409, 0.7908201017015961, -0.39968184016567027, -0.4226151861377561, -0.16105722437957612, -0.9753539757949506, 0.5977643273494854, -0.8888430599435827, 0.4494305636804583, 0.20609210531358196, -0.49022300526966706, -1.1886750583700814, 0.2385127198502449, 1.05249011826461, 0.4034854022152594, -0.0479351953311653, 0.5285875801575323, -0.8975425504391127, -0.9332949613409988, 0.7145846867253706, -1.2754180312058925, -0.33935108820751164, -0.34572951265255847, 0.8402196474654661, 1.8579077941247726, -0.10545501116095234, -0.43029645225787383, -1.471009145551944, 0.018313033612988895, 0.05863378120340704, -0.7481251383861267, 1.2739284752793545, -1.2688830632305381, 0.04863904155004324, 0.6590964872389021, 1.6738927361115674, 1.1447265427849844, 0.26804703844199823, 0.6146962222473003, 0.8815348744267175, 0.4152753764475723, -1.3748803282110544, -0.8555156955454922, 1.0716946029249914, -0.18854674519334236, 1.6767333881177955, 0.3250252134387557, 1.752760184188171, 0.8348678395347147, -0.030014862454295552, 1.3650079773832526, 0.5128929565450878, 0.1773698200047356, -0.4971404989716503, 0.21478254702547728, -0.7480145706490767, 0.5397806554794098, -0.5270300252772776, 0.25976914331856615, -0.34787617938088616, -1.441248767668745, -1.5978719846155973, 1.8760190283758935, 2.058786169419131, 0.04416637128786382, -0.11990218115432498, -0.32346234697218584, 0.7587833672465661, 0.1764232013077506, 2.3271774971821166, -0.025870405639904837, -0.29898147778189804, 0.45503789748310974, -0.3557650151783652, -0.3476159607705035, 0.05314676086246436, -1.2068805594060426, -1.218095609914161, -0.605536020423741, -0.5639854925951856, 0.5292292854352497, 0.5224444059168056, -0.34012701139348117, 0.3409887608709333, 0.3034569426427565, 0.02050058661276885, 0.06559131836346563, 0.16276827346155767, -1.7289045833130687, -1.2926726553484278, 0.3706707209524533, -1.1632329413595424, -0.8424734722469165, -1.3825350305370303, 0.557764978680726], \"yaxis\": \"y5\"}, {\"histfunc\": \"count\", \"histnorm\": \"\", \"marker\": {\"color\": \"rgba(55, 128, 191, 1.0)\", \"line\": {\"color\": \"#4D5663\", \"width\": 1.3}}, \"name\": \"B\", \"nbinsx\": 10, \"opacity\": 0.8, \"orientation\": \"v\", \"type\": \"histogram\", \"x\": [0.7748574018350498, -0.8491056720735701, 0.6914611085875526, 1.1752875372815135, 0.4162742573571235, -0.6952221903678409, 0.7908201017015961, -0.39968184016567027, -0.4226151861377561, -0.16105722437957612, -0.9753539757949506, 0.5977643273494854, -0.8888430599435827, 0.4494305636804583, 0.20609210531358196, -0.49022300526966706, -1.1886750583700814, 0.2385127198502449, 1.05249011826461, 0.4034854022152594, -0.0479351953311653, 0.5285875801575323, -0.8975425504391127, -0.9332949613409988, 0.7145846867253706, -1.2754180312058925, -0.33935108820751164, -0.34572951265255847, 0.8402196474654661, 1.8579077941247726, -0.10545501116095234, -0.43029645225787383, -1.471009145551944, 0.018313033612988895, 0.05863378120340704, -0.7481251383861267, 1.2739284752793545, -1.2688830632305381, 0.04863904155004324, 0.6590964872389021, 1.6738927361115674, 1.1447265427849844, 0.26804703844199823, 0.6146962222473003, 0.8815348744267175, 0.4152753764475723, -1.3748803282110544, -0.8555156955454922, 1.0716946029249914, -0.18854674519334236, 1.6767333881177955, 0.3250252134387557, 1.752760184188171, 0.8348678395347147, -0.030014862454295552, 1.3650079773832526, 0.5128929565450878, 0.1773698200047356, -0.4971404989716503, 0.21478254702547728, -0.7480145706490767, 0.5397806554794098, -0.5270300252772776, 0.25976914331856615, -0.34787617938088616, -1.441248767668745, -1.5978719846155973, 1.8760190283758935, 2.058786169419131, 0.04416637128786382, -0.11990218115432498, -0.32346234697218584, 0.7587833672465661, 0.1764232013077506, 2.3271774971821166, -0.025870405639904837, -0.29898147778189804, 0.45503789748310974, -0.3557650151783652, -0.3476159607705035, 0.05314676086246436, -1.2068805594060426, -1.218095609914161, -0.605536020423741, -0.5639854925951856, 0.5292292854352497, 0.5224444059168056, -0.34012701139348117, 0.3409887608709333, 0.3034569426427565, 0.02050058661276885, 0.06559131836346563, 0.16276827346155767, -1.7289045833130687, -1.2926726553484278, 0.3706707209524533, -1.1632329413595424, -0.8424734722469165, -1.3825350305370303, 0.557764978680726], \"xaxis\": \"x6\", \"yaxis\": \"y6\"}, {\"line\": {\"color\": \"rgba(128, 128, 128, 1.0)\", \"dash\": \"solid\", \"shape\": \"linear\", \"width\": 1.3}, \"marker\": {\"size\": 2, \"symbol\": \"circle\"}, \"mode\": \"markers\", \"name\": \"B\", \"text\": \"\", \"type\": \"scatter\", \"x\": [-0.13075131036378393, -1.9766351382901388, 2.359391483239348, 0.332484562167801, 1.9319128619571195, 0.029124217949669882, -1.2844804097392815, -0.11539417465904929, -1.3902268237907565, -0.09177603626710525, -0.8959786694349934, 0.6698909601613622, -0.5994535595042667, -1.4904652814956088, 0.2596883000180945, 0.2572737195516556, 1.0484326385043803, 9.636717248655658e-05, 0.5192536189064421, 0.6750978849511353, -0.6975100357555095, 0.670467924562605, -0.32525342029309684, -0.7094220074205353, -0.7846501670210279, -1.0497873074734148, 0.9247265800134937, 0.5845643963129014, -0.45701168432168066, 0.9545084832232573, 1.4628229979357623, 0.5722746269224713, -0.15504026772791643, -0.9514694023767296, -0.2941305882283108, 0.9862806641164041, 0.13929622387572363, 0.7775837270608291, -0.516609318358424, -0.39921259289083977, 0.8080185091614575, -0.14534015305333706, 1.3158888719970208, -0.23992344546267205, 1.1685567724854657, -0.3838409258449429, -0.2894555882388486, 0.5239914462186199, 1.384322441112758, 0.38421690190088065, -0.17673392841986954, -0.7932137243798739, 2.5118540947351025, 0.6580468624387785, 0.5808602432029525, -0.9709368714502858, 1.860500579975986, 0.7826981017385283, -0.0971289080929145, -0.05018858733969054, -0.8834422072711728, 0.5037128006816742, -0.8144218848061271, -1.3229859402766706, -0.1637166795202983, -0.47748121300006424, 0.03167390038804507, 0.6910256142660218, -0.09838815524689949, -1.2688672757238648, -0.15814379703148304, -0.06388280711787181, -0.7894621848690133, 0.8613594196284226, -0.7676034719999096, 0.02644945606272413, 0.050890485901894926, 1.0899999646133016, -0.9055937990155126, 0.6476545188698527, 0.7977593877036964, 0.1928323093903488, -0.24670858490897626, 2.351376125771722, -0.5979936231981169, 1.5965238869623473, 0.783464554736259, -0.19023386325965286, 0.5948103546485063, 0.08454108319684282, 0.5443866679573024, -1.6946496660709542, 1.0500811624643263, 1.5100126114675998, -0.7328994274505252, 0.7456327774664977, -0.5505202892794008, 0.04057429676737818, 0.15155736191078095, 0.17471303242791603], \"xaxis\": \"x7\", \"y\": [0.7748574018350498, -0.8491056720735701, 0.6914611085875526, 1.1752875372815135, 0.4162742573571235, -0.6952221903678409, 0.7908201017015961, -0.39968184016567027, -0.4226151861377561, -0.16105722437957612, -0.9753539757949506, 0.5977643273494854, -0.8888430599435827, 0.4494305636804583, 0.20609210531358196, -0.49022300526966706, -1.1886750583700814, 0.2385127198502449, 1.05249011826461, 0.4034854022152594, -0.0479351953311653, 0.5285875801575323, -0.8975425504391127, -0.9332949613409988, 0.7145846867253706, -1.2754180312058925, -0.33935108820751164, -0.34572951265255847, 0.8402196474654661, 1.8579077941247726, -0.10545501116095234, -0.43029645225787383, -1.471009145551944, 0.018313033612988895, 0.05863378120340704, -0.7481251383861267, 1.2739284752793545, -1.2688830632305381, 0.04863904155004324, 0.6590964872389021, 1.6738927361115674, 1.1447265427849844, 0.26804703844199823, 0.6146962222473003, 0.8815348744267175, 0.4152753764475723, -1.3748803282110544, -0.8555156955454922, 1.0716946029249914, -0.18854674519334236, 1.6767333881177955, 0.3250252134387557, 1.752760184188171, 0.8348678395347147, -0.030014862454295552, 1.3650079773832526, 0.5128929565450878, 0.1773698200047356, -0.4971404989716503, 0.21478254702547728, -0.7480145706490767, 0.5397806554794098, -0.5270300252772776, 0.25976914331856615, -0.34787617938088616, -1.441248767668745, -1.5978719846155973, 1.8760190283758935, 2.058786169419131, 0.04416637128786382, -0.11990218115432498, -0.32346234697218584, 0.7587833672465661, 0.1764232013077506, 2.3271774971821166, -0.025870405639904837, -0.29898147778189804, 0.45503789748310974, -0.3557650151783652, -0.3476159607705035, 0.05314676086246436, -1.2068805594060426, -1.218095609914161, -0.605536020423741, -0.5639854925951856, 0.5292292854352497, 0.5224444059168056, -0.34012701139348117, 0.3409887608709333, 0.3034569426427565, 0.02050058661276885, 0.06559131836346563, 0.16276827346155767, -1.7289045833130687, -1.2926726553484278, 0.3706707209524533, -1.1632329413595424, -0.8424734722469165, -1.3825350305370303, 0.557764978680726], \"yaxis\": \"y7\"}, {\"line\": {\"color\": \"rgba(128, 128, 128, 1.0)\", \"dash\": \"solid\", \"shape\": \"linear\", \"width\": 1.3}, \"marker\": {\"size\": 2, \"symbol\": \"circle\"}, \"mode\": \"markers\", \"name\": \"B\", \"text\": \"\", \"type\": \"scatter\", \"x\": [-0.3109228800255749, -0.04435791625087433, 1.7716348098062678, -1.0493683586255418, -1.0665903685316402, -2.1025631429841405, -0.6807417862389978, 2.1985027264371224, 0.37810087766951334, -0.4295934909667167, -2.248244371078392, -2.5053560497137632, 1.2684156502861, 0.08331658102783852, 0.526696105998118, -0.6292095935193119, -0.5997967808433086, -0.6155486266727146, 1.7045365486016097, -0.601276888450068, 1.697470537334648, 2.2923861989070438, 0.9326249326398058, 0.8606227390308568, -2.9236403720092268, 1.29483800200945, -0.06975011636905842, 0.05784498824832419, 0.033853479502720905, 0.47923115681408285, -0.26440242528641617, -0.27192490638944206, -1.1415874270423094, 0.6436896480429837, 0.25105546655016564, -1.3079938557342605, 2.566764924527969, -2.352051142170725, -1.73121853372614, 0.3404280647245284, -0.17969459631954798, 0.48568232569143815, 0.6580903990951771, 2.2051409347483992, -0.12447187882099256, -0.6355468578198471, -0.6142097326154164, -2.024364478787583, 0.42494805926035933, 1.0480357114558718, -0.08419009931661706, 0.5074685421083154, 0.4898698527698281, 1.0118081401720047, -1.1301003497409974, -0.22247145696906556, 0.4608177907472395, -1.0094761182944447, 1.1478773360752896, -0.19942338900064682, -1.1590343864074402, -0.1633156306915748, 0.1114996264531976, -0.48171246278907404, -0.09821576955187183, -0.9153602480036214, -0.3767664489496155, 0.1704138161909583, -0.9230168538832264, -0.3552117161642221, -0.4912177194348223, 0.9095078130176419, 1.93481636583586, 0.34869020123610384, 0.9326565933399767, -0.08316365835824382, -0.7692480688080877, -1.4060621920236365, -0.006246553266562083, -1.0639936316386083, -1.0088943985948773, -1.0354001402401753, 0.49586925050720415, 0.21183219244548893, 0.42208101257324177, -1.1807023153770395, 0.5838435124984659, 0.7716715564675956, -0.6868763790279935, -0.47315146040381595, 0.641453091864015, 0.18828492231164531, -0.5924417282086342, 1.3256727398800516, -1.33197914578505, -0.0823222228388583, 1.2781846487773636, 2.667224411053259, 2.0550003848740976, -1.0883916290653706], \"xaxis\": \"x8\", \"y\": [0.7748574018350498, -0.8491056720735701, 0.6914611085875526, 1.1752875372815135, 0.4162742573571235, -0.6952221903678409, 0.7908201017015961, -0.39968184016567027, -0.4226151861377561, -0.16105722437957612, -0.9753539757949506, 0.5977643273494854, -0.8888430599435827, 0.4494305636804583, 0.20609210531358196, -0.49022300526966706, -1.1886750583700814, 0.2385127198502449, 1.05249011826461, 0.4034854022152594, -0.0479351953311653, 0.5285875801575323, -0.8975425504391127, -0.9332949613409988, 0.7145846867253706, -1.2754180312058925, -0.33935108820751164, -0.34572951265255847, 0.8402196474654661, 1.8579077941247726, -0.10545501116095234, -0.43029645225787383, -1.471009145551944, 0.018313033612988895, 0.05863378120340704, -0.7481251383861267, 1.2739284752793545, -1.2688830632305381, 0.04863904155004324, 0.6590964872389021, 1.6738927361115674, 1.1447265427849844, 0.26804703844199823, 0.6146962222473003, 0.8815348744267175, 0.4152753764475723, -1.3748803282110544, -0.8555156955454922, 1.0716946029249914, -0.18854674519334236, 1.6767333881177955, 0.3250252134387557, 1.752760184188171, 0.8348678395347147, -0.030014862454295552, 1.3650079773832526, 0.5128929565450878, 0.1773698200047356, -0.4971404989716503, 0.21478254702547728, -0.7480145706490767, 0.5397806554794098, -0.5270300252772776, 0.25976914331856615, -0.34787617938088616, -1.441248767668745, -1.5978719846155973, 1.8760190283758935, 2.058786169419131, 0.04416637128786382, -0.11990218115432498, -0.32346234697218584, 0.7587833672465661, 0.1764232013077506, 2.3271774971821166, -0.025870405639904837, -0.29898147778189804, 0.45503789748310974, -0.3557650151783652, -0.3476159607705035, 0.05314676086246436, -1.2068805594060426, -1.218095609914161, -0.605536020423741, -0.5639854925951856, 0.5292292854352497, 0.5224444059168056, -0.34012701139348117, 0.3409887608709333, 0.3034569426427565, 0.02050058661276885, 0.06559131836346563, 0.16276827346155767, -1.7289045833130687, -1.2926726553484278, 0.3706707209524533, -1.1632329413595424, -0.8424734722469165, -1.3825350305370303, 0.557764978680726], \"yaxis\": \"y8\"}, {\"line\": {\"color\": \"rgba(128, 128, 128, 1.0)\", \"dash\": \"solid\", \"shape\": \"linear\", \"width\": 1.3}, \"marker\": {\"size\": 2, \"symbol\": \"circle\"}, \"mode\": \"markers\", \"name\": \"C\", \"text\": \"\", \"type\": \"scatter\", \"x\": [-1.1840365621651945, -1.8381134858425232, -0.7277279334148866, -0.028971296517589097, 0.825450382839014, -0.5614608633274173, -0.6603089317004062, 1.6725527210902709, -0.2968938241848866, -0.7455791661784459, -0.9725191265715754, -0.17464149117399802, 0.04597974569488585, -0.902823009779421, 0.6600421623207664, -0.1373628365003551, -0.19933540675238912, 2.232844506603289, -0.5866449656845658, -0.44827422430998215, -0.8126261620742526, 0.3152056930303498, -1.5326742515335599, -1.3136876285306804, 0.7465963870088331, 1.3642850738121695, 0.6227848343777126, 0.9740940144969882, -0.03274610543656052, -0.23648932796707953, -0.5207684786746272, 0.8150690070383287, 0.8675613689644536, 0.4620135634840239, -0.7926717247669486, 0.049196575117251874, -1.0081977206190973, -0.19006178333019064, 0.16938736014080316, 1.6216816922631585, 0.48642387377101337, 0.6425010555936774, -1.63468048016266, -1.0470236308252987, 0.3242329374347403, 0.0943239920247155, 0.3577150372212665, 0.9236731892573657, 1.6110323640649022, -0.042561925631995866, -0.43485544242184443, -0.8494618434253626, -0.8286206654583846, 0.5324068271400587, 0.44911904243558154, -0.37408960381593065, 2.286830918685426, 0.8056634189729108, 0.611806492535484, 1.3483873907369872, 0.8586206478746982, -1.864926079553018, 0.5198523571964471, -0.5137922851909704, -0.14859213220638998, -0.8434697432455353, -0.43125185207336814, 0.32798193925352487, -0.9610454413972249, 0.46050655291944365, -0.722804354638819, -1.245109552366151, -0.10064611244150451, 0.8032841842806812, -1.1676378568872408, -2.512415133958864, -2.036925165214611, 0.4414699595223629, -2.1978416072993685, 0.3433106234260381, -0.2886576812286424, 0.3427460539289989, 0.5997642732764263, 2.110771985511631, -0.6557430487299993, -1.172584879204941, 0.5906194577721403, 0.4863798984476543, -0.5647382607184777, -1.636502180160153, 1.1318533611412398, 0.346456706099411, -0.5009745761701883, 1.2237802234261634, 0.7943402042622165, 0.46825175886511367, 0.30669243561811416, 0.6219140841086478, -1.5046859448603147, -0.5373240621441666], \"xaxis\": \"x9\", \"y\": [-0.13075131036378393, -1.9766351382901388, 2.359391483239348, 0.332484562167801, 1.9319128619571195, 0.029124217949669882, -1.2844804097392815, -0.11539417465904929, -1.3902268237907565, -0.09177603626710525, -0.8959786694349934, 0.6698909601613622, -0.5994535595042667, -1.4904652814956088, 0.2596883000180945, 0.2572737195516556, 1.0484326385043803, 9.636717248655658e-05, 0.5192536189064421, 0.6750978849511353, -0.6975100357555095, 0.670467924562605, -0.32525342029309684, -0.7094220074205353, -0.7846501670210279, -1.0497873074734148, 0.9247265800134937, 0.5845643963129014, -0.45701168432168066, 0.9545084832232573, 1.4628229979357623, 0.5722746269224713, -0.15504026772791643, -0.9514694023767296, -0.2941305882283108, 0.9862806641164041, 0.13929622387572363, 0.7775837270608291, -0.516609318358424, -0.39921259289083977, 0.8080185091614575, -0.14534015305333706, 1.3158888719970208, -0.23992344546267205, 1.1685567724854657, -0.3838409258449429, -0.2894555882388486, 0.5239914462186199, 1.384322441112758, 0.38421690190088065, -0.17673392841986954, -0.7932137243798739, 2.5118540947351025, 0.6580468624387785, 0.5808602432029525, -0.9709368714502858, 1.860500579975986, 0.7826981017385283, -0.0971289080929145, -0.05018858733969054, -0.8834422072711728, 0.5037128006816742, -0.8144218848061271, -1.3229859402766706, -0.1637166795202983, -0.47748121300006424, 0.03167390038804507, 0.6910256142660218, -0.09838815524689949, -1.2688672757238648, -0.15814379703148304, -0.06388280711787181, -0.7894621848690133, 0.8613594196284226, -0.7676034719999096, 0.02644945606272413, 0.050890485901894926, 1.0899999646133016, -0.9055937990155126, 0.6476545188698527, 0.7977593877036964, 0.1928323093903488, -0.24670858490897626, 2.351376125771722, -0.5979936231981169, 1.5965238869623473, 0.783464554736259, -0.19023386325965286, 0.5948103546485063, 0.08454108319684282, 0.5443866679573024, -1.6946496660709542, 1.0500811624643263, 1.5100126114675998, -0.7328994274505252, 0.7456327774664977, -0.5505202892794008, 0.04057429676737818, 0.15155736191078095, 0.17471303242791603], \"yaxis\": \"y9\"}, {\"line\": {\"color\": \"rgba(128, 128, 128, 1.0)\", \"dash\": \"solid\", \"shape\": \"linear\", \"width\": 1.3}, \"marker\": {\"size\": 2, \"symbol\": \"circle\"}, \"mode\": \"markers\", \"name\": \"C\", \"text\": \"\", \"type\": \"scatter\", \"x\": [0.7748574018350498, -0.8491056720735701, 0.6914611085875526, 1.1752875372815135, 0.4162742573571235, -0.6952221903678409, 0.7908201017015961, -0.39968184016567027, -0.4226151861377561, -0.16105722437957612, -0.9753539757949506, 0.5977643273494854, -0.8888430599435827, 0.4494305636804583, 0.20609210531358196, -0.49022300526966706, -1.1886750583700814, 0.2385127198502449, 1.05249011826461, 0.4034854022152594, -0.0479351953311653, 0.5285875801575323, -0.8975425504391127, -0.9332949613409988, 0.7145846867253706, -1.2754180312058925, -0.33935108820751164, -0.34572951265255847, 0.8402196474654661, 1.8579077941247726, -0.10545501116095234, -0.43029645225787383, -1.471009145551944, 0.018313033612988895, 0.05863378120340704, -0.7481251383861267, 1.2739284752793545, -1.2688830632305381, 0.04863904155004324, 0.6590964872389021, 1.6738927361115674, 1.1447265427849844, 0.26804703844199823, 0.6146962222473003, 0.8815348744267175, 0.4152753764475723, -1.3748803282110544, -0.8555156955454922, 1.0716946029249914, -0.18854674519334236, 1.6767333881177955, 0.3250252134387557, 1.752760184188171, 0.8348678395347147, -0.030014862454295552, 1.3650079773832526, 0.5128929565450878, 0.1773698200047356, -0.4971404989716503, 0.21478254702547728, -0.7480145706490767, 0.5397806554794098, -0.5270300252772776, 0.25976914331856615, -0.34787617938088616, -1.441248767668745, -1.5978719846155973, 1.8760190283758935, 2.058786169419131, 0.04416637128786382, -0.11990218115432498, -0.32346234697218584, 0.7587833672465661, 0.1764232013077506, 2.3271774971821166, -0.025870405639904837, -0.29898147778189804, 0.45503789748310974, -0.3557650151783652, -0.3476159607705035, 0.05314676086246436, -1.2068805594060426, -1.218095609914161, -0.605536020423741, -0.5639854925951856, 0.5292292854352497, 0.5224444059168056, -0.34012701139348117, 0.3409887608709333, 0.3034569426427565, 0.02050058661276885, 0.06559131836346563, 0.16276827346155767, -1.7289045833130687, -1.2926726553484278, 0.3706707209524533, -1.1632329413595424, -0.8424734722469165, -1.3825350305370303, 0.557764978680726], \"xaxis\": \"x10\", \"y\": [-0.13075131036378393, -1.9766351382901388, 2.359391483239348, 0.332484562167801, 1.9319128619571195, 0.029124217949669882, -1.2844804097392815, -0.11539417465904929, -1.3902268237907565, -0.09177603626710525, -0.8959786694349934, 0.6698909601613622, -0.5994535595042667, -1.4904652814956088, 0.2596883000180945, 0.2572737195516556, 1.0484326385043803, 9.636717248655658e-05, 0.5192536189064421, 0.6750978849511353, -0.6975100357555095, 0.670467924562605, -0.32525342029309684, -0.7094220074205353, -0.7846501670210279, -1.0497873074734148, 0.9247265800134937, 0.5845643963129014, -0.45701168432168066, 0.9545084832232573, 1.4628229979357623, 0.5722746269224713, -0.15504026772791643, -0.9514694023767296, -0.2941305882283108, 0.9862806641164041, 0.13929622387572363, 0.7775837270608291, -0.516609318358424, -0.39921259289083977, 0.8080185091614575, -0.14534015305333706, 1.3158888719970208, -0.23992344546267205, 1.1685567724854657, -0.3838409258449429, -0.2894555882388486, 0.5239914462186199, 1.384322441112758, 0.38421690190088065, -0.17673392841986954, -0.7932137243798739, 2.5118540947351025, 0.6580468624387785, 0.5808602432029525, -0.9709368714502858, 1.860500579975986, 0.7826981017385283, -0.0971289080929145, -0.05018858733969054, -0.8834422072711728, 0.5037128006816742, -0.8144218848061271, -1.3229859402766706, -0.1637166795202983, -0.47748121300006424, 0.03167390038804507, 0.6910256142660218, -0.09838815524689949, -1.2688672757238648, -0.15814379703148304, -0.06388280711787181, -0.7894621848690133, 0.8613594196284226, -0.7676034719999096, 0.02644945606272413, 0.050890485901894926, 1.0899999646133016, -0.9055937990155126, 0.6476545188698527, 0.7977593877036964, 0.1928323093903488, -0.24670858490897626, 2.351376125771722, -0.5979936231981169, 1.5965238869623473, 0.783464554736259, -0.19023386325965286, 0.5948103546485063, 0.08454108319684282, 0.5443866679573024, -1.6946496660709542, 1.0500811624643263, 1.5100126114675998, -0.7328994274505252, 0.7456327774664977, -0.5505202892794008, 0.04057429676737818, 0.15155736191078095, 0.17471303242791603], \"yaxis\": \"y10\"}, {\"histfunc\": \"count\", \"histnorm\": \"\", \"marker\": {\"color\": \"rgba(50, 171, 96, 1.0)\", \"line\": {\"color\": \"#4D5663\", \"width\": 1.3}}, \"name\": \"C\", \"nbinsx\": 10, \"opacity\": 0.8, \"orientation\": \"v\", \"type\": \"histogram\", \"x\": [-0.13075131036378393, -1.9766351382901388, 2.359391483239348, 0.332484562167801, 1.9319128619571195, 0.029124217949669882, -1.2844804097392815, -0.11539417465904929, -1.3902268237907565, -0.09177603626710525, -0.8959786694349934, 0.6698909601613622, -0.5994535595042667, -1.4904652814956088, 0.2596883000180945, 0.2572737195516556, 1.0484326385043803, 9.636717248655658e-05, 0.5192536189064421, 0.6750978849511353, -0.6975100357555095, 0.670467924562605, -0.32525342029309684, -0.7094220074205353, -0.7846501670210279, -1.0497873074734148, 0.9247265800134937, 0.5845643963129014, -0.45701168432168066, 0.9545084832232573, 1.4628229979357623, 0.5722746269224713, -0.15504026772791643, -0.9514694023767296, -0.2941305882283108, 0.9862806641164041, 0.13929622387572363, 0.7775837270608291, -0.516609318358424, -0.39921259289083977, 0.8080185091614575, -0.14534015305333706, 1.3158888719970208, -0.23992344546267205, 1.1685567724854657, -0.3838409258449429, -0.2894555882388486, 0.5239914462186199, 1.384322441112758, 0.38421690190088065, -0.17673392841986954, -0.7932137243798739, 2.5118540947351025, 0.6580468624387785, 0.5808602432029525, -0.9709368714502858, 1.860500579975986, 0.7826981017385283, -0.0971289080929145, -0.05018858733969054, -0.8834422072711728, 0.5037128006816742, -0.8144218848061271, -1.3229859402766706, -0.1637166795202983, -0.47748121300006424, 0.03167390038804507, 0.6910256142660218, -0.09838815524689949, -1.2688672757238648, -0.15814379703148304, -0.06388280711787181, -0.7894621848690133, 0.8613594196284226, -0.7676034719999096, 0.02644945606272413, 0.050890485901894926, 1.0899999646133016, -0.9055937990155126, 0.6476545188698527, 0.7977593877036964, 0.1928323093903488, -0.24670858490897626, 2.351376125771722, -0.5979936231981169, 1.5965238869623473, 0.783464554736259, -0.19023386325965286, 0.5948103546485063, 0.08454108319684282, 0.5443866679573024, -1.6946496660709542, 1.0500811624643263, 1.5100126114675998, -0.7328994274505252, 0.7456327774664977, -0.5505202892794008, 0.04057429676737818, 0.15155736191078095, 0.17471303242791603], \"xaxis\": \"x11\", \"yaxis\": \"y11\"}, {\"line\": {\"color\": \"rgba(128, 128, 128, 1.0)\", \"dash\": \"solid\", \"shape\": \"linear\", \"width\": 1.3}, \"marker\": {\"size\": 2, \"symbol\": \"circle\"}, \"mode\": \"markers\", \"name\": \"C\", \"text\": \"\", \"type\": \"scatter\", \"x\": [-0.3109228800255749, -0.04435791625087433, 1.7716348098062678, -1.0493683586255418, -1.0665903685316402, -2.1025631429841405, -0.6807417862389978, 2.1985027264371224, 0.37810087766951334, -0.4295934909667167, -2.248244371078392, -2.5053560497137632, 1.2684156502861, 0.08331658102783852, 0.526696105998118, -0.6292095935193119, -0.5997967808433086, -0.6155486266727146, 1.7045365486016097, -0.601276888450068, 1.697470537334648, 2.2923861989070438, 0.9326249326398058, 0.8606227390308568, -2.9236403720092268, 1.29483800200945, -0.06975011636905842, 0.05784498824832419, 0.033853479502720905, 0.47923115681408285, -0.26440242528641617, -0.27192490638944206, -1.1415874270423094, 0.6436896480429837, 0.25105546655016564, -1.3079938557342605, 2.566764924527969, -2.352051142170725, -1.73121853372614, 0.3404280647245284, -0.17969459631954798, 0.48568232569143815, 0.6580903990951771, 2.2051409347483992, -0.12447187882099256, -0.6355468578198471, -0.6142097326154164, -2.024364478787583, 0.42494805926035933, 1.0480357114558718, -0.08419009931661706, 0.5074685421083154, 0.4898698527698281, 1.0118081401720047, -1.1301003497409974, -0.22247145696906556, 0.4608177907472395, -1.0094761182944447, 1.1478773360752896, -0.19942338900064682, -1.1590343864074402, -0.1633156306915748, 0.1114996264531976, -0.48171246278907404, -0.09821576955187183, -0.9153602480036214, -0.3767664489496155, 0.1704138161909583, -0.9230168538832264, -0.3552117161642221, -0.4912177194348223, 0.9095078130176419, 1.93481636583586, 0.34869020123610384, 0.9326565933399767, -0.08316365835824382, -0.7692480688080877, -1.4060621920236365, -0.006246553266562083, -1.0639936316386083, -1.0088943985948773, -1.0354001402401753, 0.49586925050720415, 0.21183219244548893, 0.42208101257324177, -1.1807023153770395, 0.5838435124984659, 0.7716715564675956, -0.6868763790279935, -0.47315146040381595, 0.641453091864015, 0.18828492231164531, -0.5924417282086342, 1.3256727398800516, -1.33197914578505, -0.0823222228388583, 1.2781846487773636, 2.667224411053259, 2.0550003848740976, -1.0883916290653706], \"xaxis\": \"x12\", \"y\": [-0.13075131036378393, -1.9766351382901388, 2.359391483239348, 0.332484562167801, 1.9319128619571195, 0.029124217949669882, -1.2844804097392815, -0.11539417465904929, -1.3902268237907565, -0.09177603626710525, -0.8959786694349934, 0.6698909601613622, -0.5994535595042667, -1.4904652814956088, 0.2596883000180945, 0.2572737195516556, 1.0484326385043803, 9.636717248655658e-05, 0.5192536189064421, 0.6750978849511353, -0.6975100357555095, 0.670467924562605, -0.32525342029309684, -0.7094220074205353, -0.7846501670210279, -1.0497873074734148, 0.9247265800134937, 0.5845643963129014, -0.45701168432168066, 0.9545084832232573, 1.4628229979357623, 0.5722746269224713, -0.15504026772791643, -0.9514694023767296, -0.2941305882283108, 0.9862806641164041, 0.13929622387572363, 0.7775837270608291, -0.516609318358424, -0.39921259289083977, 0.8080185091614575, -0.14534015305333706, 1.3158888719970208, -0.23992344546267205, 1.1685567724854657, -0.3838409258449429, -0.2894555882388486, 0.5239914462186199, 1.384322441112758, 0.38421690190088065, -0.17673392841986954, -0.7932137243798739, 2.5118540947351025, 0.6580468624387785, 0.5808602432029525, -0.9709368714502858, 1.860500579975986, 0.7826981017385283, -0.0971289080929145, -0.05018858733969054, -0.8834422072711728, 0.5037128006816742, -0.8144218848061271, -1.3229859402766706, -0.1637166795202983, -0.47748121300006424, 0.03167390038804507, 0.6910256142660218, -0.09838815524689949, -1.2688672757238648, -0.15814379703148304, -0.06388280711787181, -0.7894621848690133, 0.8613594196284226, -0.7676034719999096, 0.02644945606272413, 0.050890485901894926, 1.0899999646133016, -0.9055937990155126, 0.6476545188698527, 0.7977593877036964, 0.1928323093903488, -0.24670858490897626, 2.351376125771722, -0.5979936231981169, 1.5965238869623473, 0.783464554736259, -0.19023386325965286, 0.5948103546485063, 0.08454108319684282, 0.5443866679573024, -1.6946496660709542, 1.0500811624643263, 1.5100126114675998, -0.7328994274505252, 0.7456327774664977, -0.5505202892794008, 0.04057429676737818, 0.15155736191078095, 0.17471303242791603], \"yaxis\": \"y12\"}, {\"line\": {\"color\": \"rgba(128, 128, 128, 1.0)\", \"dash\": \"solid\", \"shape\": \"linear\", \"width\": 1.3}, \"marker\": {\"size\": 2, \"symbol\": \"circle\"}, \"mode\": \"markers\", \"name\": \"D\", \"text\": \"\", \"type\": \"scatter\", \"x\": [-1.1840365621651945, -1.8381134858425232, -0.7277279334148866, -0.028971296517589097, 0.825450382839014, -0.5614608633274173, -0.6603089317004062, 1.6725527210902709, -0.2968938241848866, -0.7455791661784459, -0.9725191265715754, -0.17464149117399802, 0.04597974569488585, -0.902823009779421, 0.6600421623207664, -0.1373628365003551, -0.19933540675238912, 2.232844506603289, -0.5866449656845658, -0.44827422430998215, -0.8126261620742526, 0.3152056930303498, -1.5326742515335599, -1.3136876285306804, 0.7465963870088331, 1.3642850738121695, 0.6227848343777126, 0.9740940144969882, -0.03274610543656052, -0.23648932796707953, -0.5207684786746272, 0.8150690070383287, 0.8675613689644536, 0.4620135634840239, -0.7926717247669486, 0.049196575117251874, -1.0081977206190973, -0.19006178333019064, 0.16938736014080316, 1.6216816922631585, 0.48642387377101337, 0.6425010555936774, -1.63468048016266, -1.0470236308252987, 0.3242329374347403, 0.0943239920247155, 0.3577150372212665, 0.9236731892573657, 1.6110323640649022, -0.042561925631995866, -0.43485544242184443, -0.8494618434253626, -0.8286206654583846, 0.5324068271400587, 0.44911904243558154, -0.37408960381593065, 2.286830918685426, 0.8056634189729108, 0.611806492535484, 1.3483873907369872, 0.8586206478746982, -1.864926079553018, 0.5198523571964471, -0.5137922851909704, -0.14859213220638998, -0.8434697432455353, -0.43125185207336814, 0.32798193925352487, -0.9610454413972249, 0.46050655291944365, -0.722804354638819, -1.245109552366151, -0.10064611244150451, 0.8032841842806812, -1.1676378568872408, -2.512415133958864, -2.036925165214611, 0.4414699595223629, -2.1978416072993685, 0.3433106234260381, -0.2886576812286424, 0.3427460539289989, 0.5997642732764263, 2.110771985511631, -0.6557430487299993, -1.172584879204941, 0.5906194577721403, 0.4863798984476543, -0.5647382607184777, -1.636502180160153, 1.1318533611412398, 0.346456706099411, -0.5009745761701883, 1.2237802234261634, 0.7943402042622165, 0.46825175886511367, 0.30669243561811416, 0.6219140841086478, -1.5046859448603147, -0.5373240621441666], \"xaxis\": \"x13\", \"y\": [-0.3109228800255749, -0.04435791625087433, 1.7716348098062678, -1.0493683586255418, -1.0665903685316402, -2.1025631429841405, -0.6807417862389978, 2.1985027264371224, 0.37810087766951334, -0.4295934909667167, -2.248244371078392, -2.5053560497137632, 1.2684156502861, 0.08331658102783852, 0.526696105998118, -0.6292095935193119, -0.5997967808433086, -0.6155486266727146, 1.7045365486016097, -0.601276888450068, 1.697470537334648, 2.2923861989070438, 0.9326249326398058, 0.8606227390308568, -2.9236403720092268, 1.29483800200945, -0.06975011636905842, 0.05784498824832419, 0.033853479502720905, 0.47923115681408285, -0.26440242528641617, -0.27192490638944206, -1.1415874270423094, 0.6436896480429837, 0.25105546655016564, -1.3079938557342605, 2.566764924527969, -2.352051142170725, -1.73121853372614, 0.3404280647245284, -0.17969459631954798, 0.48568232569143815, 0.6580903990951771, 2.2051409347483992, -0.12447187882099256, -0.6355468578198471, -0.6142097326154164, -2.024364478787583, 0.42494805926035933, 1.0480357114558718, -0.08419009931661706, 0.5074685421083154, 0.4898698527698281, 1.0118081401720047, -1.1301003497409974, -0.22247145696906556, 0.4608177907472395, -1.0094761182944447, 1.1478773360752896, -0.19942338900064682, -1.1590343864074402, -0.1633156306915748, 0.1114996264531976, -0.48171246278907404, -0.09821576955187183, -0.9153602480036214, -0.3767664489496155, 0.1704138161909583, -0.9230168538832264, -0.3552117161642221, -0.4912177194348223, 0.9095078130176419, 1.93481636583586, 0.34869020123610384, 0.9326565933399767, -0.08316365835824382, -0.7692480688080877, -1.4060621920236365, -0.006246553266562083, -1.0639936316386083, -1.0088943985948773, -1.0354001402401753, 0.49586925050720415, 0.21183219244548893, 0.42208101257324177, -1.1807023153770395, 0.5838435124984659, 0.7716715564675956, -0.6868763790279935, -0.47315146040381595, 0.641453091864015, 0.18828492231164531, -0.5924417282086342, 1.3256727398800516, -1.33197914578505, -0.0823222228388583, 1.2781846487773636, 2.667224411053259, 2.0550003848740976, -1.0883916290653706], \"yaxis\": \"y13\"}, {\"line\": {\"color\": \"rgba(128, 128, 128, 1.0)\", \"dash\": \"solid\", \"shape\": \"linear\", \"width\": 1.3}, \"marker\": {\"size\": 2, \"symbol\": \"circle\"}, \"mode\": \"markers\", \"name\": \"D\", \"text\": \"\", \"type\": \"scatter\", \"x\": [0.7748574018350498, -0.8491056720735701, 0.6914611085875526, 1.1752875372815135, 0.4162742573571235, -0.6952221903678409, 0.7908201017015961, -0.39968184016567027, -0.4226151861377561, -0.16105722437957612, -0.9753539757949506, 0.5977643273494854, -0.8888430599435827, 0.4494305636804583, 0.20609210531358196, -0.49022300526966706, -1.1886750583700814, 0.2385127198502449, 1.05249011826461, 0.4034854022152594, -0.0479351953311653, 0.5285875801575323, -0.8975425504391127, -0.9332949613409988, 0.7145846867253706, -1.2754180312058925, -0.33935108820751164, -0.34572951265255847, 0.8402196474654661, 1.8579077941247726, -0.10545501116095234, -0.43029645225787383, -1.471009145551944, 0.018313033612988895, 0.05863378120340704, -0.7481251383861267, 1.2739284752793545, -1.2688830632305381, 0.04863904155004324, 0.6590964872389021, 1.6738927361115674, 1.1447265427849844, 0.26804703844199823, 0.6146962222473003, 0.8815348744267175, 0.4152753764475723, -1.3748803282110544, -0.8555156955454922, 1.0716946029249914, -0.18854674519334236, 1.6767333881177955, 0.3250252134387557, 1.752760184188171, 0.8348678395347147, -0.030014862454295552, 1.3650079773832526, 0.5128929565450878, 0.1773698200047356, -0.4971404989716503, 0.21478254702547728, -0.7480145706490767, 0.5397806554794098, -0.5270300252772776, 0.25976914331856615, -0.34787617938088616, -1.441248767668745, -1.5978719846155973, 1.8760190283758935, 2.058786169419131, 0.04416637128786382, -0.11990218115432498, -0.32346234697218584, 0.7587833672465661, 0.1764232013077506, 2.3271774971821166, -0.025870405639904837, -0.29898147778189804, 0.45503789748310974, -0.3557650151783652, -0.3476159607705035, 0.05314676086246436, -1.2068805594060426, -1.218095609914161, -0.605536020423741, -0.5639854925951856, 0.5292292854352497, 0.5224444059168056, -0.34012701139348117, 0.3409887608709333, 0.3034569426427565, 0.02050058661276885, 0.06559131836346563, 0.16276827346155767, -1.7289045833130687, -1.2926726553484278, 0.3706707209524533, -1.1632329413595424, -0.8424734722469165, -1.3825350305370303, 0.557764978680726], \"xaxis\": \"x14\", \"y\": [-0.3109228800255749, -0.04435791625087433, 1.7716348098062678, -1.0493683586255418, -1.0665903685316402, -2.1025631429841405, -0.6807417862389978, 2.1985027264371224, 0.37810087766951334, -0.4295934909667167, -2.248244371078392, -2.5053560497137632, 1.2684156502861, 0.08331658102783852, 0.526696105998118, -0.6292095935193119, -0.5997967808433086, -0.6155486266727146, 1.7045365486016097, -0.601276888450068, 1.697470537334648, 2.2923861989070438, 0.9326249326398058, 0.8606227390308568, -2.9236403720092268, 1.29483800200945, -0.06975011636905842, 0.05784498824832419, 0.033853479502720905, 0.47923115681408285, -0.26440242528641617, -0.27192490638944206, -1.1415874270423094, 0.6436896480429837, 0.25105546655016564, -1.3079938557342605, 2.566764924527969, -2.352051142170725, -1.73121853372614, 0.3404280647245284, -0.17969459631954798, 0.48568232569143815, 0.6580903990951771, 2.2051409347483992, -0.12447187882099256, -0.6355468578198471, -0.6142097326154164, -2.024364478787583, 0.42494805926035933, 1.0480357114558718, -0.08419009931661706, 0.5074685421083154, 0.4898698527698281, 1.0118081401720047, -1.1301003497409974, -0.22247145696906556, 0.4608177907472395, -1.0094761182944447, 1.1478773360752896, -0.19942338900064682, -1.1590343864074402, -0.1633156306915748, 0.1114996264531976, -0.48171246278907404, -0.09821576955187183, -0.9153602480036214, -0.3767664489496155, 0.1704138161909583, -0.9230168538832264, -0.3552117161642221, -0.4912177194348223, 0.9095078130176419, 1.93481636583586, 0.34869020123610384, 0.9326565933399767, -0.08316365835824382, -0.7692480688080877, -1.4060621920236365, -0.006246553266562083, -1.0639936316386083, -1.0088943985948773, -1.0354001402401753, 0.49586925050720415, 0.21183219244548893, 0.42208101257324177, -1.1807023153770395, 0.5838435124984659, 0.7716715564675956, -0.6868763790279935, -0.47315146040381595, 0.641453091864015, 0.18828492231164531, -0.5924417282086342, 1.3256727398800516, -1.33197914578505, -0.0823222228388583, 1.2781846487773636, 2.667224411053259, 2.0550003848740976, -1.0883916290653706], \"yaxis\": \"y14\"}, {\"line\": {\"color\": \"rgba(128, 128, 128, 1.0)\", \"dash\": \"solid\", \"shape\": \"linear\", \"width\": 1.3}, \"marker\": {\"size\": 2, \"symbol\": \"circle\"}, \"mode\": \"markers\", \"name\": \"D\", \"text\": \"\", \"type\": \"scatter\", \"x\": [-0.13075131036378393, -1.9766351382901388, 2.359391483239348, 0.332484562167801, 1.9319128619571195, 0.029124217949669882, -1.2844804097392815, -0.11539417465904929, -1.3902268237907565, -0.09177603626710525, -0.8959786694349934, 0.6698909601613622, -0.5994535595042667, -1.4904652814956088, 0.2596883000180945, 0.2572737195516556, 1.0484326385043803, 9.636717248655658e-05, 0.5192536189064421, 0.6750978849511353, -0.6975100357555095, 0.670467924562605, -0.32525342029309684, -0.7094220074205353, -0.7846501670210279, -1.0497873074734148, 0.9247265800134937, 0.5845643963129014, -0.45701168432168066, 0.9545084832232573, 1.4628229979357623, 0.5722746269224713, -0.15504026772791643, -0.9514694023767296, -0.2941305882283108, 0.9862806641164041, 0.13929622387572363, 0.7775837270608291, -0.516609318358424, -0.39921259289083977, 0.8080185091614575, -0.14534015305333706, 1.3158888719970208, -0.23992344546267205, 1.1685567724854657, -0.3838409258449429, -0.2894555882388486, 0.5239914462186199, 1.384322441112758, 0.38421690190088065, -0.17673392841986954, -0.7932137243798739, 2.5118540947351025, 0.6580468624387785, 0.5808602432029525, -0.9709368714502858, 1.860500579975986, 0.7826981017385283, -0.0971289080929145, -0.05018858733969054, -0.8834422072711728, 0.5037128006816742, -0.8144218848061271, -1.3229859402766706, -0.1637166795202983, -0.47748121300006424, 0.03167390038804507, 0.6910256142660218, -0.09838815524689949, -1.2688672757238648, -0.15814379703148304, -0.06388280711787181, -0.7894621848690133, 0.8613594196284226, -0.7676034719999096, 0.02644945606272413, 0.050890485901894926, 1.0899999646133016, -0.9055937990155126, 0.6476545188698527, 0.7977593877036964, 0.1928323093903488, -0.24670858490897626, 2.351376125771722, -0.5979936231981169, 1.5965238869623473, 0.783464554736259, -0.19023386325965286, 0.5948103546485063, 0.08454108319684282, 0.5443866679573024, -1.6946496660709542, 1.0500811624643263, 1.5100126114675998, -0.7328994274505252, 0.7456327774664977, -0.5505202892794008, 0.04057429676737818, 0.15155736191078095, 0.17471303242791603], \"xaxis\": \"x15\", \"y\": [-0.3109228800255749, -0.04435791625087433, 1.7716348098062678, -1.0493683586255418, -1.0665903685316402, -2.1025631429841405, -0.6807417862389978, 2.1985027264371224, 0.37810087766951334, -0.4295934909667167, -2.248244371078392, -2.5053560497137632, 1.2684156502861, 0.08331658102783852, 0.526696105998118, -0.6292095935193119, -0.5997967808433086, -0.6155486266727146, 1.7045365486016097, -0.601276888450068, 1.697470537334648, 2.2923861989070438, 0.9326249326398058, 0.8606227390308568, -2.9236403720092268, 1.29483800200945, -0.06975011636905842, 0.05784498824832419, 0.033853479502720905, 0.47923115681408285, -0.26440242528641617, -0.27192490638944206, -1.1415874270423094, 0.6436896480429837, 0.25105546655016564, -1.3079938557342605, 2.566764924527969, -2.352051142170725, -1.73121853372614, 0.3404280647245284, -0.17969459631954798, 0.48568232569143815, 0.6580903990951771, 2.2051409347483992, -0.12447187882099256, -0.6355468578198471, -0.6142097326154164, -2.024364478787583, 0.42494805926035933, 1.0480357114558718, -0.08419009931661706, 0.5074685421083154, 0.4898698527698281, 1.0118081401720047, -1.1301003497409974, -0.22247145696906556, 0.4608177907472395, -1.0094761182944447, 1.1478773360752896, -0.19942338900064682, -1.1590343864074402, -0.1633156306915748, 0.1114996264531976, -0.48171246278907404, -0.09821576955187183, -0.9153602480036214, -0.3767664489496155, 0.1704138161909583, -0.9230168538832264, -0.3552117161642221, -0.4912177194348223, 0.9095078130176419, 1.93481636583586, 0.34869020123610384, 0.9326565933399767, -0.08316365835824382, -0.7692480688080877, -1.4060621920236365, -0.006246553266562083, -1.0639936316386083, -1.0088943985948773, -1.0354001402401753, 0.49586925050720415, 0.21183219244548893, 0.42208101257324177, -1.1807023153770395, 0.5838435124984659, 0.7716715564675956, -0.6868763790279935, -0.47315146040381595, 0.641453091864015, 0.18828492231164531, -0.5924417282086342, 1.3256727398800516, -1.33197914578505, -0.0823222228388583, 1.2781846487773636, 2.667224411053259, 2.0550003848740976, -1.0883916290653706], \"yaxis\": \"y15\"}, {\"histfunc\": \"count\", \"histnorm\": \"\", \"marker\": {\"color\": \"rgba(128, 0, 128, 1.0)\", \"line\": {\"color\": \"#4D5663\", \"width\": 1.3}}, \"name\": \"D\", \"nbinsx\": 10, \"opacity\": 0.8, \"orientation\": \"v\", \"type\": \"histogram\", \"x\": [-0.3109228800255749, -0.04435791625087433, 1.7716348098062678, -1.0493683586255418, -1.0665903685316402, -2.1025631429841405, -0.6807417862389978, 2.1985027264371224, 0.37810087766951334, -0.4295934909667167, -2.248244371078392, -2.5053560497137632, 1.2684156502861, 0.08331658102783852, 0.526696105998118, -0.6292095935193119, -0.5997967808433086, -0.6155486266727146, 1.7045365486016097, -0.601276888450068, 1.697470537334648, 2.2923861989070438, 0.9326249326398058, 0.8606227390308568, -2.9236403720092268, 1.29483800200945, -0.06975011636905842, 0.05784498824832419, 0.033853479502720905, 0.47923115681408285, -0.26440242528641617, -0.27192490638944206, -1.1415874270423094, 0.6436896480429837, 0.25105546655016564, -1.3079938557342605, 2.566764924527969, -2.352051142170725, -1.73121853372614, 0.3404280647245284, -0.17969459631954798, 0.48568232569143815, 0.6580903990951771, 2.2051409347483992, -0.12447187882099256, -0.6355468578198471, -0.6142097326154164, -2.024364478787583, 0.42494805926035933, 1.0480357114558718, -0.08419009931661706, 0.5074685421083154, 0.4898698527698281, 1.0118081401720047, -1.1301003497409974, -0.22247145696906556, 0.4608177907472395, -1.0094761182944447, 1.1478773360752896, -0.19942338900064682, -1.1590343864074402, -0.1633156306915748, 0.1114996264531976, -0.48171246278907404, -0.09821576955187183, -0.9153602480036214, -0.3767664489496155, 0.1704138161909583, -0.9230168538832264, -0.3552117161642221, -0.4912177194348223, 0.9095078130176419, 1.93481636583586, 0.34869020123610384, 0.9326565933399767, -0.08316365835824382, -0.7692480688080877, -1.4060621920236365, -0.006246553266562083, -1.0639936316386083, -1.0088943985948773, -1.0354001402401753, 0.49586925050720415, 0.21183219244548893, 0.42208101257324177, -1.1807023153770395, 0.5838435124984659, 0.7716715564675956, -0.6868763790279935, -0.47315146040381595, 0.641453091864015, 0.18828492231164531, -0.5924417282086342, 1.3256727398800516, -1.33197914578505, -0.0823222228388583, 1.2781846487773636, 2.667224411053259, 2.0550003848740976, -1.0883916290653706], \"xaxis\": \"x16\", \"yaxis\": \"y16\"}],\n",
       "                        {\"bargap\": 0.02, \"legend\": {\"bgcolor\": \"#F5F6F9\", \"font\": {\"color\": \"#4D5663\"}}, \"paper_bgcolor\": \"#F5F6F9\", \"plot_bgcolor\": \"#F5F6F9\", \"showlegend\": false, \"template\": {\"data\": {\"bar\": [{\"error_x\": {\"color\": \"#2a3f5f\"}, \"error_y\": {\"color\": \"#2a3f5f\"}, \"marker\": {\"line\": {\"color\": \"#E5ECF6\", \"width\": 0.5}}, \"type\": \"bar\"}], \"barpolar\": [{\"marker\": {\"line\": {\"color\": \"#E5ECF6\", \"width\": 0.5}}, \"type\": \"barpolar\"}], \"carpet\": [{\"aaxis\": {\"endlinecolor\": \"#2a3f5f\", \"gridcolor\": \"white\", \"linecolor\": \"white\", \"minorgridcolor\": \"white\", \"startlinecolor\": \"#2a3f5f\"}, \"baxis\": {\"endlinecolor\": \"#2a3f5f\", \"gridcolor\": \"white\", \"linecolor\": \"white\", \"minorgridcolor\": \"white\", \"startlinecolor\": \"#2a3f5f\"}, \"type\": \"carpet\"}], \"choropleth\": [{\"colorbar\": {\"outlinewidth\": 0, \"ticks\": \"\"}, \"type\": \"choropleth\"}], \"contour\": [{\"colorbar\": {\"outlinewidth\": 0, \"ticks\": \"\"}, \"colorscale\": [[0.0, \"#0d0887\"], [0.1111111111111111, \"#46039f\"], [0.2222222222222222, \"#7201a8\"], [0.3333333333333333, \"#9c179e\"], [0.4444444444444444, \"#bd3786\"], [0.5555555555555556, \"#d8576b\"], [0.6666666666666666, \"#ed7953\"], [0.7777777777777778, \"#fb9f3a\"], [0.8888888888888888, \"#fdca26\"], [1.0, \"#f0f921\"]], \"type\": \"contour\"}], \"contourcarpet\": [{\"colorbar\": {\"outlinewidth\": 0, \"ticks\": \"\"}, \"type\": \"contourcarpet\"}], \"heatmap\": [{\"colorbar\": {\"outlinewidth\": 0, \"ticks\": \"\"}, \"colorscale\": [[0.0, \"#0d0887\"], [0.1111111111111111, \"#46039f\"], [0.2222222222222222, \"#7201a8\"], [0.3333333333333333, \"#9c179e\"], [0.4444444444444444, \"#bd3786\"], [0.5555555555555556, \"#d8576b\"], [0.6666666666666666, \"#ed7953\"], [0.7777777777777778, \"#fb9f3a\"], [0.8888888888888888, \"#fdca26\"], [1.0, \"#f0f921\"]], \"type\": \"heatmap\"}], \"heatmapgl\": [{\"colorbar\": {\"outlinewidth\": 0, \"ticks\": \"\"}, \"colorscale\": [[0.0, \"#0d0887\"], [0.1111111111111111, \"#46039f\"], [0.2222222222222222, \"#7201a8\"], [0.3333333333333333, \"#9c179e\"], [0.4444444444444444, \"#bd3786\"], [0.5555555555555556, \"#d8576b\"], [0.6666666666666666, \"#ed7953\"], [0.7777777777777778, \"#fb9f3a\"], [0.8888888888888888, \"#fdca26\"], [1.0, \"#f0f921\"]], \"type\": \"heatmapgl\"}], \"histogram\": [{\"marker\": {\"colorbar\": {\"outlinewidth\": 0, \"ticks\": \"\"}}, \"type\": \"histogram\"}], \"histogram2d\": [{\"colorbar\": {\"outlinewidth\": 0, \"ticks\": \"\"}, \"colorscale\": [[0.0, \"#0d0887\"], [0.1111111111111111, \"#46039f\"], [0.2222222222222222, \"#7201a8\"], [0.3333333333333333, \"#9c179e\"], [0.4444444444444444, \"#bd3786\"], [0.5555555555555556, \"#d8576b\"], [0.6666666666666666, \"#ed7953\"], [0.7777777777777778, \"#fb9f3a\"], [0.8888888888888888, \"#fdca26\"], [1.0, \"#f0f921\"]], \"type\": \"histogram2d\"}], \"histogram2dcontour\": [{\"colorbar\": {\"outlinewidth\": 0, \"ticks\": \"\"}, \"colorscale\": [[0.0, \"#0d0887\"], [0.1111111111111111, \"#46039f\"], [0.2222222222222222, \"#7201a8\"], [0.3333333333333333, \"#9c179e\"], [0.4444444444444444, \"#bd3786\"], [0.5555555555555556, \"#d8576b\"], [0.6666666666666666, \"#ed7953\"], [0.7777777777777778, \"#fb9f3a\"], [0.8888888888888888, \"#fdca26\"], [1.0, \"#f0f921\"]], \"type\": \"histogram2dcontour\"}], \"mesh3d\": [{\"colorbar\": {\"outlinewidth\": 0, \"ticks\": \"\"}, \"type\": \"mesh3d\"}], \"parcoords\": [{\"line\": {\"colorbar\": {\"outlinewidth\": 0, \"ticks\": \"\"}}, \"type\": \"parcoords\"}], \"pie\": [{\"automargin\": true, \"type\": \"pie\"}], \"scatter\": [{\"marker\": {\"colorbar\": {\"outlinewidth\": 0, \"ticks\": \"\"}}, \"type\": \"scatter\"}], \"scatter3d\": [{\"line\": {\"colorbar\": {\"outlinewidth\": 0, \"ticks\": \"\"}}, \"marker\": {\"colorbar\": {\"outlinewidth\": 0, \"ticks\": \"\"}}, \"type\": \"scatter3d\"}], \"scattercarpet\": [{\"marker\": {\"colorbar\": {\"outlinewidth\": 0, \"ticks\": \"\"}}, \"type\": \"scattercarpet\"}], \"scattergeo\": [{\"marker\": {\"colorbar\": {\"outlinewidth\": 0, \"ticks\": \"\"}}, \"type\": \"scattergeo\"}], \"scattergl\": [{\"marker\": {\"colorbar\": {\"outlinewidth\": 0, \"ticks\": \"\"}}, \"type\": \"scattergl\"}], \"scattermapbox\": [{\"marker\": {\"colorbar\": {\"outlinewidth\": 0, \"ticks\": \"\"}}, \"type\": \"scattermapbox\"}], \"scatterpolar\": [{\"marker\": {\"colorbar\": {\"outlinewidth\": 0, \"ticks\": \"\"}}, \"type\": \"scatterpolar\"}], \"scatterpolargl\": [{\"marker\": {\"colorbar\": {\"outlinewidth\": 0, \"ticks\": \"\"}}, \"type\": \"scatterpolargl\"}], \"scatterternary\": [{\"marker\": {\"colorbar\": {\"outlinewidth\": 0, \"ticks\": \"\"}}, \"type\": \"scatterternary\"}], \"surface\": [{\"colorbar\": {\"outlinewidth\": 0, \"ticks\": \"\"}, \"colorscale\": [[0.0, \"#0d0887\"], [0.1111111111111111, \"#46039f\"], [0.2222222222222222, \"#7201a8\"], [0.3333333333333333, \"#9c179e\"], [0.4444444444444444, \"#bd3786\"], [0.5555555555555556, \"#d8576b\"], [0.6666666666666666, \"#ed7953\"], [0.7777777777777778, \"#fb9f3a\"], [0.8888888888888888, \"#fdca26\"], [1.0, \"#f0f921\"]], \"type\": \"surface\"}], \"table\": [{\"cells\": {\"fill\": {\"color\": \"#EBF0F8\"}, \"line\": {\"color\": \"white\"}}, \"header\": {\"fill\": {\"color\": \"#C8D4E3\"}, \"line\": {\"color\": \"white\"}}, \"type\": \"table\"}]}, \"layout\": {\"annotationdefaults\": {\"arrowcolor\": \"#2a3f5f\", \"arrowhead\": 0, \"arrowwidth\": 1}, \"coloraxis\": {\"colorbar\": {\"outlinewidth\": 0, \"ticks\": \"\"}}, \"colorscale\": {\"diverging\": [[0, \"#8e0152\"], [0.1, \"#c51b7d\"], [0.2, \"#de77ae\"], [0.3, \"#f1b6da\"], [0.4, \"#fde0ef\"], [0.5, \"#f7f7f7\"], [0.6, \"#e6f5d0\"], [0.7, \"#b8e186\"], [0.8, \"#7fbc41\"], [0.9, \"#4d9221\"], [1, \"#276419\"]], \"sequential\": [[0.0, \"#0d0887\"], [0.1111111111111111, \"#46039f\"], [0.2222222222222222, \"#7201a8\"], [0.3333333333333333, \"#9c179e\"], [0.4444444444444444, \"#bd3786\"], [0.5555555555555556, \"#d8576b\"], [0.6666666666666666, \"#ed7953\"], [0.7777777777777778, \"#fb9f3a\"], [0.8888888888888888, \"#fdca26\"], [1.0, \"#f0f921\"]], \"sequentialminus\": [[0.0, \"#0d0887\"], [0.1111111111111111, \"#46039f\"], [0.2222222222222222, \"#7201a8\"], [0.3333333333333333, \"#9c179e\"], [0.4444444444444444, \"#bd3786\"], [0.5555555555555556, \"#d8576b\"], [0.6666666666666666, \"#ed7953\"], [0.7777777777777778, \"#fb9f3a\"], [0.8888888888888888, \"#fdca26\"], [1.0, \"#f0f921\"]]}, \"colorway\": [\"#636efa\", \"#EF553B\", \"#00cc96\", \"#ab63fa\", \"#FFA15A\", \"#19d3f3\", \"#FF6692\", \"#B6E880\", \"#FF97FF\", \"#FECB52\"], \"font\": {\"color\": \"#2a3f5f\"}, \"geo\": {\"bgcolor\": \"white\", \"lakecolor\": \"white\", \"landcolor\": \"#E5ECF6\", \"showlakes\": true, \"showland\": true, \"subunitcolor\": \"white\"}, \"hoverlabel\": {\"align\": \"left\"}, \"hovermode\": \"closest\", \"mapbox\": {\"style\": \"light\"}, \"paper_bgcolor\": \"white\", \"plot_bgcolor\": \"#E5ECF6\", \"polar\": {\"angularaxis\": {\"gridcolor\": \"white\", \"linecolor\": \"white\", \"ticks\": \"\"}, \"bgcolor\": \"#E5ECF6\", \"radialaxis\": {\"gridcolor\": \"white\", \"linecolor\": \"white\", \"ticks\": \"\"}}, \"scene\": {\"xaxis\": {\"backgroundcolor\": \"#E5ECF6\", \"gridcolor\": \"white\", \"gridwidth\": 2, \"linecolor\": \"white\", \"showbackground\": true, \"ticks\": \"\", \"zerolinecolor\": \"white\"}, \"yaxis\": {\"backgroundcolor\": \"#E5ECF6\", \"gridcolor\": \"white\", \"gridwidth\": 2, \"linecolor\": \"white\", \"showbackground\": true, \"ticks\": \"\", \"zerolinecolor\": \"white\"}, \"zaxis\": {\"backgroundcolor\": \"#E5ECF6\", \"gridcolor\": \"white\", \"gridwidth\": 2, \"linecolor\": \"white\", \"showbackground\": true, \"ticks\": \"\", \"zerolinecolor\": \"white\"}}, \"shapedefaults\": {\"line\": {\"color\": \"#2a3f5f\"}}, \"ternary\": {\"aaxis\": {\"gridcolor\": \"white\", \"linecolor\": \"white\", \"ticks\": \"\"}, \"baxis\": {\"gridcolor\": \"white\", \"linecolor\": \"white\", \"ticks\": \"\"}, \"bgcolor\": \"#E5ECF6\", \"caxis\": {\"gridcolor\": \"white\", \"linecolor\": \"white\", \"ticks\": \"\"}}, \"title\": {\"x\": 0.05}, \"xaxis\": {\"automargin\": true, \"gridcolor\": \"white\", \"linecolor\": \"white\", \"ticks\": \"\", \"title\": {\"standoff\": 15}, \"zerolinecolor\": \"white\", \"zerolinewidth\": 2}, \"yaxis\": {\"automargin\": true, \"gridcolor\": \"white\", \"linecolor\": \"white\", \"ticks\": \"\", \"title\": {\"standoff\": 15}, \"zerolinecolor\": \"white\", \"zerolinewidth\": 2}}}, \"title\": {\"font\": {\"color\": \"#4D5663\"}}, \"xaxis\": {\"anchor\": \"y\", \"domain\": [0.0, 0.2125], \"gridcolor\": \"#E1E5ED\", \"showgrid\": false, \"tickfont\": {\"color\": \"#4D5663\"}, \"title\": {\"font\": {\"color\": \"#4D5663\"}, \"text\": \"\"}, \"zerolinecolor\": \"#E1E5ED\"}, \"xaxis10\": {\"anchor\": \"y10\", \"domain\": [0.2625, 0.475], \"gridcolor\": \"#E1E5ED\", \"showgrid\": false, \"tickfont\": {\"color\": \"#4D5663\"}, \"title\": {\"font\": {\"color\": \"#4D5663\"}, \"text\": \"\"}, \"zerolinecolor\": \"#E1E5ED\"}, \"xaxis11\": {\"anchor\": \"y11\", \"domain\": [0.525, 0.7375], \"gridcolor\": \"#E1E5ED\", \"showgrid\": false, \"tickfont\": {\"color\": \"#4D5663\"}, \"title\": {\"font\": {\"color\": \"#4D5663\"}, \"text\": \"\"}, \"zerolinecolor\": \"#E1E5ED\"}, \"xaxis12\": {\"anchor\": \"y12\", \"domain\": [0.7875, 1.0], \"gridcolor\": \"#E1E5ED\", \"showgrid\": false, \"tickfont\": {\"color\": \"#4D5663\"}, \"title\": {\"font\": {\"color\": \"#4D5663\"}, \"text\": \"\"}, \"zerolinecolor\": \"#E1E5ED\"}, \"xaxis13\": {\"anchor\": \"y13\", \"domain\": [0.0, 0.2125], \"gridcolor\": \"#E1E5ED\", \"showgrid\": false, \"tickfont\": {\"color\": \"#4D5663\"}, \"title\": {\"font\": {\"color\": \"#4D5663\"}, \"text\": \"\"}, \"zerolinecolor\": \"#E1E5ED\"}, \"xaxis14\": {\"anchor\": \"y14\", \"domain\": [0.2625, 0.475], \"gridcolor\": \"#E1E5ED\", \"showgrid\": false, \"tickfont\": {\"color\": \"#4D5663\"}, \"title\": {\"font\": {\"color\": \"#4D5663\"}, \"text\": \"\"}, \"zerolinecolor\": \"#E1E5ED\"}, \"xaxis15\": {\"anchor\": \"y15\", \"domain\": [0.525, 0.7375], \"gridcolor\": \"#E1E5ED\", \"showgrid\": false, \"tickfont\": {\"color\": \"#4D5663\"}, \"title\": {\"font\": {\"color\": \"#4D5663\"}, \"text\": \"\"}, \"zerolinecolor\": \"#E1E5ED\"}, \"xaxis16\": {\"anchor\": \"y16\", \"domain\": [0.7875, 1.0], \"gridcolor\": \"#E1E5ED\", \"showgrid\": false, \"tickfont\": {\"color\": \"#4D5663\"}, \"title\": {\"font\": {\"color\": \"#4D5663\"}, \"text\": \"\"}, \"zerolinecolor\": \"#E1E5ED\"}, \"xaxis2\": {\"anchor\": \"y2\", \"domain\": [0.2625, 0.475], \"gridcolor\": \"#E1E5ED\", \"showgrid\": false, \"tickfont\": {\"color\": \"#4D5663\"}, \"title\": {\"font\": {\"color\": \"#4D5663\"}, \"text\": \"\"}, \"zerolinecolor\": \"#E1E5ED\"}, \"xaxis3\": {\"anchor\": \"y3\", \"domain\": [0.525, 0.7375], \"gridcolor\": \"#E1E5ED\", \"showgrid\": false, \"tickfont\": {\"color\": \"#4D5663\"}, \"title\": {\"font\": {\"color\": \"#4D5663\"}, \"text\": \"\"}, \"zerolinecolor\": \"#E1E5ED\"}, \"xaxis4\": {\"anchor\": \"y4\", \"domain\": [0.7875, 1.0], \"gridcolor\": \"#E1E5ED\", \"showgrid\": false, \"tickfont\": {\"color\": \"#4D5663\"}, \"title\": {\"font\": {\"color\": \"#4D5663\"}, \"text\": \"\"}, \"zerolinecolor\": \"#E1E5ED\"}, \"xaxis5\": {\"anchor\": \"y5\", \"domain\": [0.0, 0.2125], \"gridcolor\": \"#E1E5ED\", \"showgrid\": false, \"tickfont\": {\"color\": \"#4D5663\"}, \"title\": {\"font\": {\"color\": \"#4D5663\"}, \"text\": \"\"}, \"zerolinecolor\": \"#E1E5ED\"}, \"xaxis6\": {\"anchor\": \"y6\", \"domain\": [0.2625, 0.475], \"gridcolor\": \"#E1E5ED\", \"showgrid\": false, \"tickfont\": {\"color\": \"#4D5663\"}, \"title\": {\"font\": {\"color\": \"#4D5663\"}, \"text\": \"\"}, \"zerolinecolor\": \"#E1E5ED\"}, \"xaxis7\": {\"anchor\": \"y7\", \"domain\": [0.525, 0.7375], \"gridcolor\": \"#E1E5ED\", \"showgrid\": false, \"tickfont\": {\"color\": \"#4D5663\"}, \"title\": {\"font\": {\"color\": \"#4D5663\"}, \"text\": \"\"}, \"zerolinecolor\": \"#E1E5ED\"}, \"xaxis8\": {\"anchor\": \"y8\", \"domain\": [0.7875, 1.0], \"gridcolor\": \"#E1E5ED\", \"showgrid\": false, \"tickfont\": {\"color\": \"#4D5663\"}, \"title\": {\"font\": {\"color\": \"#4D5663\"}, \"text\": \"\"}, \"zerolinecolor\": \"#E1E5ED\"}, \"xaxis9\": {\"anchor\": \"y9\", \"domain\": [0.0, 0.2125], \"gridcolor\": \"#E1E5ED\", \"showgrid\": false, \"tickfont\": {\"color\": \"#4D5663\"}, \"title\": {\"font\": {\"color\": \"#4D5663\"}, \"text\": \"\"}, \"zerolinecolor\": \"#E1E5ED\"}, \"yaxis\": {\"anchor\": \"x\", \"domain\": [0.8025, 1.0], \"gridcolor\": \"#E1E5ED\", \"showgrid\": false, \"tickfont\": {\"color\": \"#4D5663\"}, \"title\": {\"font\": {\"color\": \"#4D5663\"}, \"text\": \"\"}, \"zerolinecolor\": \"#E1E5ED\"}, \"yaxis10\": {\"anchor\": \"x10\", \"domain\": [0.2675, 0.465], \"gridcolor\": \"#E1E5ED\", \"showgrid\": false, \"tickfont\": {\"color\": \"#4D5663\"}, \"title\": {\"font\": {\"color\": \"#4D5663\"}, \"text\": \"\"}, \"zerolinecolor\": \"#E1E5ED\"}, \"yaxis11\": {\"anchor\": \"x11\", \"domain\": [0.2675, 0.465], \"gridcolor\": \"#E1E5ED\", \"showgrid\": false, \"tickfont\": {\"color\": \"#4D5663\"}, \"title\": {\"font\": {\"color\": \"#4D5663\"}, \"text\": \"\"}, \"zerolinecolor\": \"#E1E5ED\"}, \"yaxis12\": {\"anchor\": \"x12\", \"domain\": [0.2675, 0.465], \"gridcolor\": \"#E1E5ED\", \"showgrid\": false, \"tickfont\": {\"color\": \"#4D5663\"}, \"title\": {\"font\": {\"color\": \"#4D5663\"}, \"text\": \"\"}, \"zerolinecolor\": \"#E1E5ED\"}, \"yaxis13\": {\"anchor\": \"x13\", \"domain\": [0.0, 0.1975], \"gridcolor\": \"#E1E5ED\", \"showgrid\": false, \"tickfont\": {\"color\": \"#4D5663\"}, \"title\": {\"font\": {\"color\": \"#4D5663\"}, \"text\": \"\"}, \"zerolinecolor\": \"#E1E5ED\"}, \"yaxis14\": {\"anchor\": \"x14\", \"domain\": [0.0, 0.1975], \"gridcolor\": \"#E1E5ED\", \"showgrid\": false, \"tickfont\": {\"color\": \"#4D5663\"}, \"title\": {\"font\": {\"color\": \"#4D5663\"}, \"text\": \"\"}, \"zerolinecolor\": \"#E1E5ED\"}, \"yaxis15\": {\"anchor\": \"x15\", \"domain\": [0.0, 0.1975], \"gridcolor\": \"#E1E5ED\", \"showgrid\": false, \"tickfont\": {\"color\": \"#4D5663\"}, \"title\": {\"font\": {\"color\": \"#4D5663\"}, \"text\": \"\"}, \"zerolinecolor\": \"#E1E5ED\"}, \"yaxis16\": {\"anchor\": \"x16\", \"domain\": [0.0, 0.1975], \"gridcolor\": \"#E1E5ED\", \"showgrid\": false, \"tickfont\": {\"color\": \"#4D5663\"}, \"title\": {\"font\": {\"color\": \"#4D5663\"}, \"text\": \"\"}, \"zerolinecolor\": \"#E1E5ED\"}, \"yaxis2\": {\"anchor\": \"x2\", \"domain\": [0.8025, 1.0], \"gridcolor\": \"#E1E5ED\", \"showgrid\": false, \"tickfont\": {\"color\": \"#4D5663\"}, \"title\": {\"font\": {\"color\": \"#4D5663\"}, \"text\": \"\"}, \"zerolinecolor\": \"#E1E5ED\"}, \"yaxis3\": {\"anchor\": \"x3\", \"domain\": [0.8025, 1.0], \"gridcolor\": \"#E1E5ED\", \"showgrid\": false, \"tickfont\": {\"color\": \"#4D5663\"}, \"title\": {\"font\": {\"color\": \"#4D5663\"}, \"text\": \"\"}, \"zerolinecolor\": \"#E1E5ED\"}, \"yaxis4\": {\"anchor\": \"x4\", \"domain\": [0.8025, 1.0], \"gridcolor\": \"#E1E5ED\", \"showgrid\": false, \"tickfont\": {\"color\": \"#4D5663\"}, \"title\": {\"font\": {\"color\": \"#4D5663\"}, \"text\": \"\"}, \"zerolinecolor\": \"#E1E5ED\"}, \"yaxis5\": {\"anchor\": \"x5\", \"domain\": [0.535, 0.7325], \"gridcolor\": \"#E1E5ED\", \"showgrid\": false, \"tickfont\": {\"color\": \"#4D5663\"}, \"title\": {\"font\": {\"color\": \"#4D5663\"}, \"text\": \"\"}, \"zerolinecolor\": \"#E1E5ED\"}, \"yaxis6\": {\"anchor\": \"x6\", \"domain\": [0.535, 0.7325], \"gridcolor\": \"#E1E5ED\", \"showgrid\": false, \"tickfont\": {\"color\": \"#4D5663\"}, \"title\": {\"font\": {\"color\": \"#4D5663\"}, \"text\": \"\"}, \"zerolinecolor\": \"#E1E5ED\"}, \"yaxis7\": {\"anchor\": \"x7\", \"domain\": [0.535, 0.7325], \"gridcolor\": \"#E1E5ED\", \"showgrid\": false, \"tickfont\": {\"color\": \"#4D5663\"}, \"title\": {\"font\": {\"color\": \"#4D5663\"}, \"text\": \"\"}, \"zerolinecolor\": \"#E1E5ED\"}, \"yaxis8\": {\"anchor\": \"x8\", \"domain\": [0.535, 0.7325], \"gridcolor\": \"#E1E5ED\", \"showgrid\": false, \"tickfont\": {\"color\": \"#4D5663\"}, \"title\": {\"font\": {\"color\": \"#4D5663\"}, \"text\": \"\"}, \"zerolinecolor\": \"#E1E5ED\"}, \"yaxis9\": {\"anchor\": \"x9\", \"domain\": [0.2675, 0.465], \"gridcolor\": \"#E1E5ED\", \"showgrid\": false, \"tickfont\": {\"color\": \"#4D5663\"}, \"title\": {\"font\": {\"color\": \"#4D5663\"}, \"text\": \"\"}, \"zerolinecolor\": \"#E1E5ED\"}},\n",
       "                        {\"showLink\": true, \"linkText\": \"Export to plot.ly\", \"plotlyServerURL\": \"https://plot.ly\", \"responsive\": true}\n",
       "                    ).then(function(){\n",
       "                            \n",
       "var gd = document.getElementById('462ff5f1-9fce-4d87-a5ce-74806e488386');\n",
       "var x = new MutationObserver(function (mutations, observer) {{\n",
       "        var display = window.getComputedStyle(gd).display;\n",
       "        if (!display || display === 'none') {{\n",
       "            console.log([gd, 'removed!']);\n",
       "            Plotly.purge(gd);\n",
       "            observer.disconnect();\n",
       "        }}\n",
       "}});\n",
       "\n",
       "// Listen for the removal of the full notebook cells\n",
       "var notebookContainer = gd.closest('#notebook-container');\n",
       "if (notebookContainer) {{\n",
       "    x.observe(notebookContainer, {childList: true});\n",
       "}}\n",
       "\n",
       "// Listen for the clearing of the current output cell\n",
       "var outputEl = gd.closest('.output');\n",
       "if (outputEl) {{\n",
       "    x.observe(outputEl, {childList: true});\n",
       "}}\n",
       "\n",
       "                        })\n",
       "                };\n",
       "                });\n",
       "            </script>\n",
       "        </div>"
      ]
     },
     "metadata": {},
     "output_type": "display_data"
    }
   ],
   "source": [
    "df.scatter_matrix()"
   ]
  },
  {
   "cell_type": "markdown",
   "metadata": {
    "collapsed": true
   },
   "source": [
    "# Great Job!"
   ]
  }
 ],
 "metadata": {
  "kernelspec": {
   "display_name": "Python 3",
   "language": "python",
   "name": "python3"
  },
  "language_info": {
   "codemirror_mode": {
    "name": "ipython",
    "version": 3
   },
   "file_extension": ".py",
   "mimetype": "text/x-python",
   "name": "python",
   "nbconvert_exporter": "python",
   "pygments_lexer": "ipython3",
   "version": "3.7.4"
  }
 },
 "nbformat": 4,
 "nbformat_minor": 1
}
